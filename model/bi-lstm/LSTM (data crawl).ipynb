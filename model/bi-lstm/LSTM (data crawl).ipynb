{
  "nbformat": 4,
  "nbformat_minor": 0,
  "metadata": {
    "colab": {
      "provenance": [],
      "gpuType": "T4",
      "collapsed_sections": [
        "IYfGAKVW5-j7"
      ]
    },
    "kernelspec": {
      "name": "python3",
      "display_name": "Python 3"
    },
    "language_info": {
      "name": "python"
    },
    "accelerator": "GPU"
  },
  "cells": [
    {
      "cell_type": "code",
      "execution_count": 145,
      "metadata": {
        "colab": {
          "base_uri": "https://localhost:8080/"
        },
        "id": "Gh5yxgtzWh7u",
        "outputId": "826dc9c8-cecd-49d8-f480-fdb2c8a2c0e2"
      },
      "outputs": [
        {
          "output_type": "stream",
          "name": "stdout",
          "text": [
            "Drive already mounted at /content/drive; to attempt to forcibly remount, call drive.mount(\"/content/drive\", force_remount=True).\n"
          ]
        }
      ],
      "source": [
        "from google.colab import drive\n",
        "drive.mount('/content/drive')"
      ]
    },
    {
      "cell_type": "code",
      "source": [
        "%cd /content/drive/MyDrive/project/"
      ],
      "metadata": {
        "colab": {
          "base_uri": "https://localhost:8080/"
        },
        "id": "cL3tX2dhlsd-",
        "outputId": "084eb67f-19f0-4c41-94c9-278b286454bb"
      },
      "execution_count": 146,
      "outputs": [
        {
          "output_type": "stream",
          "name": "stdout",
          "text": [
            "/content/drive/MyDrive/project\n"
          ]
        }
      ]
    },
    {
      "cell_type": "markdown",
      "source": [
        "## Import thư viện"
      ],
      "metadata": {
        "id": "wKuo1Hxee1QJ"
      }
    },
    {
      "cell_type": "code",
      "source": [
        "import re\n",
        "import torch\n",
        "import string\n",
        "import random\n",
        "import numpy as np\n",
        "import pandas as pd\n",
        "import torch.nn as nn\n",
        "import torch.nn.functional as F\n",
        "import torch.optim as optim\n",
        "from nltk.corpus import stopwords\n",
        "from collections import Counter\n",
        "import seaborn as sns\n",
        "from tqdm import tqdm\n",
        "import matplotlib.pyplot as plt\n",
        "from torch.utils.data import TensorDataset, DataLoader\n",
        "from sklearn.model_selection import train_test_split\n",
        "from sklearn.utils import resample"
      ],
      "metadata": {
        "id": "38PYlurnWvOm"
      },
      "execution_count": 3,
      "outputs": []
    },
    {
      "cell_type": "markdown",
      "source": [
        "## Biến toàn cục"
      ],
      "metadata": {
        "id": "l5A0ao9wfHa-"
      }
    },
    {
      "cell_type": "code",
      "source": [
        "if torch.cuda.is_available():\n",
        "    device = torch.device('cuda')\n",
        "else:\n",
        "    device = torch.device('cpu')\n",
        "\n",
        "print(device)"
      ],
      "metadata": {
        "colab": {
          "base_uri": "https://localhost:8080/"
        },
        "id": "MIFUecRefRW-",
        "outputId": "8b0521e6-b383-4230-cab9-8fc0b35cb8b9"
      },
      "execution_count": 4,
      "outputs": [
        {
          "output_type": "stream",
          "name": "stdout",
          "text": [
            "cuda\n"
          ]
        }
      ]
    },
    {
      "cell_type": "markdown",
      "source": [
        "## Xử lý dữ liệu"
      ],
      "metadata": {
        "id": "t--IvfNQfhUt"
      }
    },
    {
      "cell_type": "markdown",
      "source": [
        "### Phân tích"
      ],
      "metadata": {
        "id": "hWgik_XwDw59"
      }
    },
    {
      "cell_type": "code",
      "source": [
        "df = pd.read_csv('data/train_data.csv')\n",
        "df_test = pd.read_csv('data/test_data.csv')\n",
        "print(df.head(5))\n",
        "print(df_test.head(5))"
      ],
      "metadata": {
        "colab": {
          "base_uri": "https://localhost:8080/"
        },
        "id": "uK1vyFmOWvF-",
        "outputId": "a6918a3c-9eb4-4f55-e860-9d79133be542"
      },
      "execution_count": 5,
      "outputs": [
        {
          "output_type": "stream",
          "name": "stdout",
          "text": [
            "                                             comment sentiment\n",
            "0                                         really sad  negative\n",
            "1  Plot twist: Jarrid was working together with t...   neutral\n",
            "2  i think it was wrong delivery man automaticall...  negative\n",
            "3            FUCK CNN....THE FAKE NEWS NETWORK !!!!!  negative\n",
            "4                       Surely you mean 8$ left over   neutral\n",
            "                                             comment sentiment\n",
            "0  A bit of kindness could have saved them a ton ...  negative\n",
            "1  Excellent! An opportunity for people to preten...  negative\n",
            "2  The social justice stupidity is ruining all so...  negative\n",
            "3  My father always told me &quot;if you don&#39;...  negative\n",
            "4  I love pizza n I love people so yeah fuck them...  negative\n"
          ]
        }
      ]
    },
    {
      "cell_type": "code",
      "source": [
        "df.info()"
      ],
      "metadata": {
        "colab": {
          "base_uri": "https://localhost:8080/"
        },
        "id": "rHyiCAA8WvDW",
        "outputId": "27cbd4c8-f261-425e-f99b-8a3ecb12684f"
      },
      "execution_count": 6,
      "outputs": [
        {
          "output_type": "stream",
          "name": "stdout",
          "text": [
            "<class 'pandas.core.frame.DataFrame'>\n",
            "RangeIndex: 61992 entries, 0 to 61991\n",
            "Data columns (total 2 columns):\n",
            " #   Column     Non-Null Count  Dtype \n",
            "---  ------     --------------  ----- \n",
            " 0   comment    61992 non-null  object\n",
            " 1   sentiment  61992 non-null  object\n",
            "dtypes: object(2)\n",
            "memory usage: 968.8+ KB\n"
          ]
        }
      ]
    },
    {
      "cell_type": "code",
      "source": [
        "df.describe()"
      ],
      "metadata": {
        "colab": {
          "base_uri": "https://localhost:8080/",
          "height": 175
        },
        "id": "4NbDzjoTgn1P",
        "outputId": "cace684b-7b60-4a09-fb45-6f3f6d0898b9"
      },
      "execution_count": 7,
      "outputs": [
        {
          "output_type": "execute_result",
          "data": {
            "text/plain": [
              "               comment sentiment\n",
              "count            61992     61992\n",
              "unique           59832         3\n",
              "top     Oh my goodness  negative\n",
              "freq               182     30858"
            ],
            "text/html": [
              "\n",
              "  <div id=\"df-d6fa91be-d417-4883-ae52-a91c1921478b\" class=\"colab-df-container\">\n",
              "    <div>\n",
              "<style scoped>\n",
              "    .dataframe tbody tr th:only-of-type {\n",
              "        vertical-align: middle;\n",
              "    }\n",
              "\n",
              "    .dataframe tbody tr th {\n",
              "        vertical-align: top;\n",
              "    }\n",
              "\n",
              "    .dataframe thead th {\n",
              "        text-align: right;\n",
              "    }\n",
              "</style>\n",
              "<table border=\"1\" class=\"dataframe\">\n",
              "  <thead>\n",
              "    <tr style=\"text-align: right;\">\n",
              "      <th></th>\n",
              "      <th>comment</th>\n",
              "      <th>sentiment</th>\n",
              "    </tr>\n",
              "  </thead>\n",
              "  <tbody>\n",
              "    <tr>\n",
              "      <th>count</th>\n",
              "      <td>61992</td>\n",
              "      <td>61992</td>\n",
              "    </tr>\n",
              "    <tr>\n",
              "      <th>unique</th>\n",
              "      <td>59832</td>\n",
              "      <td>3</td>\n",
              "    </tr>\n",
              "    <tr>\n",
              "      <th>top</th>\n",
              "      <td>Oh my goodness</td>\n",
              "      <td>negative</td>\n",
              "    </tr>\n",
              "    <tr>\n",
              "      <th>freq</th>\n",
              "      <td>182</td>\n",
              "      <td>30858</td>\n",
              "    </tr>\n",
              "  </tbody>\n",
              "</table>\n",
              "</div>\n",
              "    <div class=\"colab-df-buttons\">\n",
              "\n",
              "  <div class=\"colab-df-container\">\n",
              "    <button class=\"colab-df-convert\" onclick=\"convertToInteractive('df-d6fa91be-d417-4883-ae52-a91c1921478b')\"\n",
              "            title=\"Convert this dataframe to an interactive table.\"\n",
              "            style=\"display:none;\">\n",
              "\n",
              "  <svg xmlns=\"http://www.w3.org/2000/svg\" height=\"24px\" viewBox=\"0 -960 960 960\">\n",
              "    <path d=\"M120-120v-720h720v720H120Zm60-500h600v-160H180v160Zm220 220h160v-160H400v160Zm0 220h160v-160H400v160ZM180-400h160v-160H180v160Zm440 0h160v-160H620v160ZM180-180h160v-160H180v160Zm440 0h160v-160H620v160Z\"/>\n",
              "  </svg>\n",
              "    </button>\n",
              "\n",
              "  <style>\n",
              "    .colab-df-container {\n",
              "      display:flex;\n",
              "      gap: 12px;\n",
              "    }\n",
              "\n",
              "    .colab-df-convert {\n",
              "      background-color: #E8F0FE;\n",
              "      border: none;\n",
              "      border-radius: 50%;\n",
              "      cursor: pointer;\n",
              "      display: none;\n",
              "      fill: #1967D2;\n",
              "      height: 32px;\n",
              "      padding: 0 0 0 0;\n",
              "      width: 32px;\n",
              "    }\n",
              "\n",
              "    .colab-df-convert:hover {\n",
              "      background-color: #E2EBFA;\n",
              "      box-shadow: 0px 1px 2px rgba(60, 64, 67, 0.3), 0px 1px 3px 1px rgba(60, 64, 67, 0.15);\n",
              "      fill: #174EA6;\n",
              "    }\n",
              "\n",
              "    .colab-df-buttons div {\n",
              "      margin-bottom: 4px;\n",
              "    }\n",
              "\n",
              "    [theme=dark] .colab-df-convert {\n",
              "      background-color: #3B4455;\n",
              "      fill: #D2E3FC;\n",
              "    }\n",
              "\n",
              "    [theme=dark] .colab-df-convert:hover {\n",
              "      background-color: #434B5C;\n",
              "      box-shadow: 0px 1px 3px 1px rgba(0, 0, 0, 0.15);\n",
              "      filter: drop-shadow(0px 1px 2px rgba(0, 0, 0, 0.3));\n",
              "      fill: #FFFFFF;\n",
              "    }\n",
              "  </style>\n",
              "\n",
              "    <script>\n",
              "      const buttonEl =\n",
              "        document.querySelector('#df-d6fa91be-d417-4883-ae52-a91c1921478b button.colab-df-convert');\n",
              "      buttonEl.style.display =\n",
              "        google.colab.kernel.accessAllowed ? 'block' : 'none';\n",
              "\n",
              "      async function convertToInteractive(key) {\n",
              "        const element = document.querySelector('#df-d6fa91be-d417-4883-ae52-a91c1921478b');\n",
              "        const dataTable =\n",
              "          await google.colab.kernel.invokeFunction('convertToInteractive',\n",
              "                                                    [key], {});\n",
              "        if (!dataTable) return;\n",
              "\n",
              "        const docLinkHtml = 'Like what you see? Visit the ' +\n",
              "          '<a target=\"_blank\" href=https://colab.research.google.com/notebooks/data_table.ipynb>data table notebook</a>'\n",
              "          + ' to learn more about interactive tables.';\n",
              "        element.innerHTML = '';\n",
              "        dataTable['output_type'] = 'display_data';\n",
              "        await google.colab.output.renderOutput(dataTable, element);\n",
              "        const docLink = document.createElement('div');\n",
              "        docLink.innerHTML = docLinkHtml;\n",
              "        element.appendChild(docLink);\n",
              "      }\n",
              "    </script>\n",
              "  </div>\n",
              "\n",
              "\n",
              "<div id=\"df-cc151914-36ba-4bd7-be28-179ada680f3c\">\n",
              "  <button class=\"colab-df-quickchart\" onclick=\"quickchart('df-cc151914-36ba-4bd7-be28-179ada680f3c')\"\n",
              "            title=\"Suggest charts\"\n",
              "            style=\"display:none;\">\n",
              "\n",
              "<svg xmlns=\"http://www.w3.org/2000/svg\" height=\"24px\"viewBox=\"0 0 24 24\"\n",
              "     width=\"24px\">\n",
              "    <g>\n",
              "        <path d=\"M19 3H5c-1.1 0-2 .9-2 2v14c0 1.1.9 2 2 2h14c1.1 0 2-.9 2-2V5c0-1.1-.9-2-2-2zM9 17H7v-7h2v7zm4 0h-2V7h2v10zm4 0h-2v-4h2v4z\"/>\n",
              "    </g>\n",
              "</svg>\n",
              "  </button>\n",
              "\n",
              "<style>\n",
              "  .colab-df-quickchart {\n",
              "      --bg-color: #E8F0FE;\n",
              "      --fill-color: #1967D2;\n",
              "      --hover-bg-color: #E2EBFA;\n",
              "      --hover-fill-color: #174EA6;\n",
              "      --disabled-fill-color: #AAA;\n",
              "      --disabled-bg-color: #DDD;\n",
              "  }\n",
              "\n",
              "  [theme=dark] .colab-df-quickchart {\n",
              "      --bg-color: #3B4455;\n",
              "      --fill-color: #D2E3FC;\n",
              "      --hover-bg-color: #434B5C;\n",
              "      --hover-fill-color: #FFFFFF;\n",
              "      --disabled-bg-color: #3B4455;\n",
              "      --disabled-fill-color: #666;\n",
              "  }\n",
              "\n",
              "  .colab-df-quickchart {\n",
              "    background-color: var(--bg-color);\n",
              "    border: none;\n",
              "    border-radius: 50%;\n",
              "    cursor: pointer;\n",
              "    display: none;\n",
              "    fill: var(--fill-color);\n",
              "    height: 32px;\n",
              "    padding: 0;\n",
              "    width: 32px;\n",
              "  }\n",
              "\n",
              "  .colab-df-quickchart:hover {\n",
              "    background-color: var(--hover-bg-color);\n",
              "    box-shadow: 0 1px 2px rgba(60, 64, 67, 0.3), 0 1px 3px 1px rgba(60, 64, 67, 0.15);\n",
              "    fill: var(--button-hover-fill-color);\n",
              "  }\n",
              "\n",
              "  .colab-df-quickchart-complete:disabled,\n",
              "  .colab-df-quickchart-complete:disabled:hover {\n",
              "    background-color: var(--disabled-bg-color);\n",
              "    fill: var(--disabled-fill-color);\n",
              "    box-shadow: none;\n",
              "  }\n",
              "\n",
              "  .colab-df-spinner {\n",
              "    border: 2px solid var(--fill-color);\n",
              "    border-color: transparent;\n",
              "    border-bottom-color: var(--fill-color);\n",
              "    animation:\n",
              "      spin 1s steps(1) infinite;\n",
              "  }\n",
              "\n",
              "  @keyframes spin {\n",
              "    0% {\n",
              "      border-color: transparent;\n",
              "      border-bottom-color: var(--fill-color);\n",
              "      border-left-color: var(--fill-color);\n",
              "    }\n",
              "    20% {\n",
              "      border-color: transparent;\n",
              "      border-left-color: var(--fill-color);\n",
              "      border-top-color: var(--fill-color);\n",
              "    }\n",
              "    30% {\n",
              "      border-color: transparent;\n",
              "      border-left-color: var(--fill-color);\n",
              "      border-top-color: var(--fill-color);\n",
              "      border-right-color: var(--fill-color);\n",
              "    }\n",
              "    40% {\n",
              "      border-color: transparent;\n",
              "      border-right-color: var(--fill-color);\n",
              "      border-top-color: var(--fill-color);\n",
              "    }\n",
              "    60% {\n",
              "      border-color: transparent;\n",
              "      border-right-color: var(--fill-color);\n",
              "    }\n",
              "    80% {\n",
              "      border-color: transparent;\n",
              "      border-right-color: var(--fill-color);\n",
              "      border-bottom-color: var(--fill-color);\n",
              "    }\n",
              "    90% {\n",
              "      border-color: transparent;\n",
              "      border-bottom-color: var(--fill-color);\n",
              "    }\n",
              "  }\n",
              "</style>\n",
              "\n",
              "  <script>\n",
              "    async function quickchart(key) {\n",
              "      const quickchartButtonEl =\n",
              "        document.querySelector('#' + key + ' button');\n",
              "      quickchartButtonEl.disabled = true;  // To prevent multiple clicks.\n",
              "      quickchartButtonEl.classList.add('colab-df-spinner');\n",
              "      try {\n",
              "        const charts = await google.colab.kernel.invokeFunction(\n",
              "            'suggestCharts', [key], {});\n",
              "      } catch (error) {\n",
              "        console.error('Error during call to suggestCharts:', error);\n",
              "      }\n",
              "      quickchartButtonEl.classList.remove('colab-df-spinner');\n",
              "      quickchartButtonEl.classList.add('colab-df-quickchart-complete');\n",
              "    }\n",
              "    (() => {\n",
              "      let quickchartButtonEl =\n",
              "        document.querySelector('#df-cc151914-36ba-4bd7-be28-179ada680f3c button');\n",
              "      quickchartButtonEl.style.display =\n",
              "        google.colab.kernel.accessAllowed ? 'block' : 'none';\n",
              "    })();\n",
              "  </script>\n",
              "</div>\n",
              "\n",
              "    </div>\n",
              "  </div>\n"
            ],
            "application/vnd.google.colaboratory.intrinsic+json": {
              "type": "dataframe",
              "summary": "{\n  \"name\": \"df\",\n  \"rows\": 4,\n  \"fields\": [\n    {\n      \"column\": \"comment\",\n      \"properties\": {\n        \"dtype\": \"string\",\n        \"num_unique_values\": 4,\n        \"samples\": [\n          59832,\n          \"182\",\n          \"61992\"\n        ],\n        \"semantic_type\": \"\",\n        \"description\": \"\"\n      }\n    },\n    {\n      \"column\": \"sentiment\",\n      \"properties\": {\n        \"dtype\": \"string\",\n        \"num_unique_values\": 4,\n        \"samples\": [\n          3,\n          \"30858\",\n          \"61992\"\n        ],\n        \"semantic_type\": \"\",\n        \"description\": \"\"\n      }\n    }\n  ]\n}"
            }
          },
          "metadata": {},
          "execution_count": 7
        }
      ]
    },
    {
      "cell_type": "code",
      "source": [
        "df['sentiment'].value_counts()"
      ],
      "metadata": {
        "colab": {
          "base_uri": "https://localhost:8080/",
          "height": 209
        },
        "id": "dGvrvTeOhA_2",
        "outputId": "c19a2442-e4ab-4e9c-c56d-86779768755c"
      },
      "execution_count": 8,
      "outputs": [
        {
          "output_type": "execute_result",
          "data": {
            "text/plain": [
              "sentiment\n",
              "negative    30858\n",
              "neutral     19708\n",
              "positive    11426\n",
              "Name: count, dtype: int64"
            ],
            "text/html": [
              "<div>\n",
              "<style scoped>\n",
              "    .dataframe tbody tr th:only-of-type {\n",
              "        vertical-align: middle;\n",
              "    }\n",
              "\n",
              "    .dataframe tbody tr th {\n",
              "        vertical-align: top;\n",
              "    }\n",
              "\n",
              "    .dataframe thead th {\n",
              "        text-align: right;\n",
              "    }\n",
              "</style>\n",
              "<table border=\"1\" class=\"dataframe\">\n",
              "  <thead>\n",
              "    <tr style=\"text-align: right;\">\n",
              "      <th></th>\n",
              "      <th>count</th>\n",
              "    </tr>\n",
              "    <tr>\n",
              "      <th>sentiment</th>\n",
              "      <th></th>\n",
              "    </tr>\n",
              "  </thead>\n",
              "  <tbody>\n",
              "    <tr>\n",
              "      <th>negative</th>\n",
              "      <td>30858</td>\n",
              "    </tr>\n",
              "    <tr>\n",
              "      <th>neutral</th>\n",
              "      <td>19708</td>\n",
              "    </tr>\n",
              "    <tr>\n",
              "      <th>positive</th>\n",
              "      <td>11426</td>\n",
              "    </tr>\n",
              "  </tbody>\n",
              "</table>\n",
              "</div><br><label><b>dtype:</b> int64</label>"
            ]
          },
          "metadata": {},
          "execution_count": 8
        }
      ]
    },
    {
      "cell_type": "code",
      "source": [
        "df['word_count'] = df['comment'].str.split().apply(len)"
      ],
      "metadata": {
        "id": "WOI4pjCf0nJt"
      },
      "execution_count": 9,
      "outputs": []
    },
    {
      "cell_type": "code",
      "source": [
        "print(\"min: \", df['word_count'].min())\n",
        "print(\"max: \", df['word_count'].max())\n",
        "print(\"mean: \", df['word_count'].mean())\n",
        "print(\"median: \", df['word_count'].median())\n",
        "print(\"std: \", df['word_count'].std())"
      ],
      "metadata": {
        "colab": {
          "base_uri": "https://localhost:8080/"
        },
        "id": "xWaOKE9w2PdV",
        "outputId": "266139ef-10bc-4742-ff81-530c16d199d3"
      },
      "execution_count": 10,
      "outputs": [
        {
          "output_type": "stream",
          "name": "stdout",
          "text": [
            "min:  1\n",
            "max:  1485\n",
            "mean:  18.371241450509743\n",
            "median:  11.0\n",
            "std:  28.0331108797632\n"
          ]
        }
      ]
    },
    {
      "cell_type": "code",
      "source": [
        "plt.figure(figsize=(8, 5))\n",
        "plt.hist(df['word_count'], bins=20, color='skyblue', edgecolor='black')\n",
        "plt.grid(axis='y', linestyle='--', alpha=0.7)\n",
        "plt.show()"
      ],
      "metadata": {
        "colab": {
          "base_uri": "https://localhost:8080/",
          "height": 445
        },
        "id": "RIF5sj5Xh6Fo",
        "outputId": "37965cd4-5838-4620-9e30-62436c941d37"
      },
      "execution_count": 11,
      "outputs": [
        {
          "output_type": "display_data",
          "data": {
            "text/plain": [
              "<Figure size 800x500 with 1 Axes>"
            ],
            "image/png": "[encoded data removed]"
          },
          "metadata": {}
        }
      ]
    },
    {
      "cell_type": "code",
      "source": [
        "# df.drop(columns=['word_count'], inplace=True)"
      ],
      "metadata": {
        "id": "MLrXIcS3lxfi"
      },
      "execution_count": 12,
      "outputs": []
    },
    {
      "cell_type": "markdown",
      "source": [
        "### Tiền xử lý dữ liệu"
      ],
      "metadata": {
        "id": "-j1IXnoIpssA"
      }
    },
    {
      "cell_type": "code",
      "source": [
        "df = df[df['sentiment'].isin([\"negative\", \"positive\", \"neutral\"])]\n",
        "df['sentiment'].value_counts()"
      ],
      "metadata": {
        "colab": {
          "base_uri": "https://localhost:8080/",
          "height": 209
        },
        "id": "Uecp0-wHpzCq",
        "outputId": "8e91b283-5611-469d-ff16-9819e76378ce"
      },
      "execution_count": 13,
      "outputs": [
        {
          "output_type": "execute_result",
          "data": {
            "text/plain": [
              "sentiment\n",
              "negative    30858\n",
              "neutral     19708\n",
              "positive    11426\n",
              "Name: count, dtype: int64"
            ],
            "text/html": [
              "<div>\n",
              "<style scoped>\n",
              "    .dataframe tbody tr th:only-of-type {\n",
              "        vertical-align: middle;\n",
              "    }\n",
              "\n",
              "    .dataframe tbody tr th {\n",
              "        vertical-align: top;\n",
              "    }\n",
              "\n",
              "    .dataframe thead th {\n",
              "        text-align: right;\n",
              "    }\n",
              "</style>\n",
              "<table border=\"1\" class=\"dataframe\">\n",
              "  <thead>\n",
              "    <tr style=\"text-align: right;\">\n",
              "      <th></th>\n",
              "      <th>count</th>\n",
              "    </tr>\n",
              "    <tr>\n",
              "      <th>sentiment</th>\n",
              "      <th></th>\n",
              "    </tr>\n",
              "  </thead>\n",
              "  <tbody>\n",
              "    <tr>\n",
              "      <th>negative</th>\n",
              "      <td>30858</td>\n",
              "    </tr>\n",
              "    <tr>\n",
              "      <th>neutral</th>\n",
              "      <td>19708</td>\n",
              "    </tr>\n",
              "    <tr>\n",
              "      <th>positive</th>\n",
              "      <td>11426</td>\n",
              "    </tr>\n",
              "  </tbody>\n",
              "</table>\n",
              "</div><br><label><b>dtype:</b> int64</label>"
            ]
          },
          "metadata": {},
          "execution_count": 13
        }
      ]
    },
    {
      "cell_type": "code",
      "source": [
        "import nltk\n",
        "nltk.download('punkt_tab')\n",
        "nltk.download('stopwords')"
      ],
      "metadata": {
        "colab": {
          "base_uri": "https://localhost:8080/"
        },
        "id": "0pt-y-50Kkm_",
        "outputId": "1b2da621-5758-420d-dec2-bfb5e2275f1b"
      },
      "execution_count": 14,
      "outputs": [
        {
          "output_type": "stream",
          "name": "stderr",
          "text": [
            "[nltk_data] Downloading package punkt_tab to /root/nltk_data...\n",
            "[nltk_data]   Package punkt_tab is already up-to-date!\n",
            "[nltk_data] Downloading package stopwords to /root/nltk_data...\n",
            "[nltk_data]   Package stopwords is already up-to-date!\n"
          ]
        },
        {
          "output_type": "execute_result",
          "data": {
            "text/plain": [
              "True"
            ]
          },
          "metadata": {},
          "execution_count": 14
        }
      ]
    },
    {
      "cell_type": "code",
      "source": [
        "from nltk import word_tokenize\n",
        "from nltk.stem import PorterStemmer\n",
        "from nltk.corpus import stopwords\n",
        "\n",
        "ps = PorterStemmer()\n",
        "stop_word = set(stopwords.words(\"english\"))\n",
        "\n",
        "def preprocess_text(text):\n",
        "    text = text.lower()\n",
        "    text = re.sub(r'https?://\\S+', '', text)\n",
        "    text = re.sub(r'<[^>]+>', '', text)\n",
        "    text = ' '.join([word for word in text.split() if word not in stop_word])\n",
        "    text = ' '.join(ps.stem(word) for word in word_tokenize(text))\n",
        "    text = re.sub(r\"[^\\w\\s]\", '', text)\n",
        "    text = re.sub(r\"\\d\", '', text)\n",
        "    return text\n",
        "\n",
        "df[\"comment\"] = df[\"comment\"].apply(preprocess_text)\n",
        "df_test[\"comment\"] = df_test[\"comment\"].apply(preprocess_text)\n",
        "\n",
        "df.head()\n"
      ],
      "metadata": {
        "colab": {
          "base_uri": "https://localhost:8080/",
          "height": 206
        },
        "id": "shZhb3VSEBGC",
        "outputId": "1216f61d-5497-48d5-e7bb-ee3512ee1034"
      },
      "execution_count": 15,
      "outputs": [
        {
          "output_type": "execute_result",
          "data": {
            "text/plain": [
              "                                             comment sentiment  word_count\n",
              "0                                         realli sad  negative           2\n",
              "1  plot twist  jarrid work togeth dealership  mak...   neutral          18\n",
              "2  think wrong deliveri man automat think tip  wa...  negative          20\n",
              "3               fuck cnn  the fake news network       negative           6\n",
              "4                                   sure mean   left   neutral           6"
            ],
            "text/html": [
              "\n",
              "  <div id=\"df-8345b7ee-e3ab-4ec6-b078-ae52139f8a8b\" class=\"colab-df-container\">\n",
              "    <div>\n",
              "<style scoped>\n",
              "    .dataframe tbody tr th:only-of-type {\n",
              "        vertical-align: middle;\n",
              "    }\n",
              "\n",
              "    .dataframe tbody tr th {\n",
              "        vertical-align: top;\n",
              "    }\n",
              "\n",
              "    .dataframe thead th {\n",
              "        text-align: right;\n",
              "    }\n",
              "</style>\n",
              "<table border=\"1\" class=\"dataframe\">\n",
              "  <thead>\n",
              "    <tr style=\"text-align: right;\">\n",
              "      <th></th>\n",
              "      <th>comment</th>\n",
              "      <th>sentiment</th>\n",
              "      <th>word_count</th>\n",
              "    </tr>\n",
              "  </thead>\n",
              "  <tbody>\n",
              "    <tr>\n",
              "      <th>0</th>\n",
              "      <td>realli sad</td>\n",
              "      <td>negative</td>\n",
              "      <td>2</td>\n",
              "    </tr>\n",
              "    <tr>\n",
              "      <th>1</th>\n",
              "      <td>plot twist  jarrid work togeth dealership  mak...</td>\n",
              "      <td>neutral</td>\n",
              "      <td>18</td>\n",
              "    </tr>\n",
              "    <tr>\n",
              "      <th>2</th>\n",
              "      <td>think wrong deliveri man automat think tip  wa...</td>\n",
              "      <td>negative</td>\n",
              "      <td>20</td>\n",
              "    </tr>\n",
              "    <tr>\n",
              "      <th>3</th>\n",
              "      <td>fuck cnn  the fake news network</td>\n",
              "      <td>negative</td>\n",
              "      <td>6</td>\n",
              "    </tr>\n",
              "    <tr>\n",
              "      <th>4</th>\n",
              "      <td>sure mean   left</td>\n",
              "      <td>neutral</td>\n",
              "      <td>6</td>\n",
              "    </tr>\n",
              "  </tbody>\n",
              "</table>\n",
              "</div>\n",
              "    <div class=\"colab-df-buttons\">\n",
              "\n",
              "  <div class=\"colab-df-container\">\n",
              "    <button class=\"colab-df-convert\" onclick=\"convertToInteractive('df-8345b7ee-e3ab-4ec6-b078-ae52139f8a8b')\"\n",
              "            title=\"Convert this dataframe to an interactive table.\"\n",
              "            style=\"display:none;\">\n",
              "\n",
              "  <svg xmlns=\"http://www.w3.org/2000/svg\" height=\"24px\" viewBox=\"0 -960 960 960\">\n",
              "    <path d=\"M120-120v-720h720v720H120Zm60-500h600v-160H180v160Zm220 220h160v-160H400v160Zm0 220h160v-160H400v160ZM180-400h160v-160H180v160Zm440 0h160v-160H620v160ZM180-180h160v-160H180v160Zm440 0h160v-160H620v160Z\"/>\n",
              "  </svg>\n",
              "    </button>\n",
              "\n",
              "  <style>\n",
              "    .colab-df-container {\n",
              "      display:flex;\n",
              "      gap: 12px;\n",
              "    }\n",
              "\n",
              "    .colab-df-convert {\n",
              "      background-color: #E8F0FE;\n",
              "      border: none;\n",
              "      border-radius: 50%;\n",
              "      cursor: pointer;\n",
              "      display: none;\n",
              "      fill: #1967D2;\n",
              "      height: 32px;\n",
              "      padding: 0 0 0 0;\n",
              "      width: 32px;\n",
              "    }\n",
              "\n",
              "    .colab-df-convert:hover {\n",
              "      background-color: #E2EBFA;\n",
              "      box-shadow: 0px 1px 2px rgba(60, 64, 67, 0.3), 0px 1px 3px 1px rgba(60, 64, 67, 0.15);\n",
              "      fill: #174EA6;\n",
              "    }\n",
              "\n",
              "    .colab-df-buttons div {\n",
              "      margin-bottom: 4px;\n",
              "    }\n",
              "\n",
              "    [theme=dark] .colab-df-convert {\n",
              "      background-color: #3B4455;\n",
              "      fill: #D2E3FC;\n",
              "    }\n",
              "\n",
              "    [theme=dark] .colab-df-convert:hover {\n",
              "      background-color: #434B5C;\n",
              "      box-shadow: 0px 1px 3px 1px rgba(0, 0, 0, 0.15);\n",
              "      filter: drop-shadow(0px 1px 2px rgba(0, 0, 0, 0.3));\n",
              "      fill: #FFFFFF;\n",
              "    }\n",
              "  </style>\n",
              "\n",
              "    <script>\n",
              "      const buttonEl =\n",
              "        document.querySelector('#df-8345b7ee-e3ab-4ec6-b078-ae52139f8a8b button.colab-df-convert');\n",
              "      buttonEl.style.display =\n",
              "        google.colab.kernel.accessAllowed ? 'block' : 'none';\n",
              "\n",
              "      async function convertToInteractive(key) {\n",
              "        const element = document.querySelector('#df-8345b7ee-e3ab-4ec6-b078-ae52139f8a8b');\n",
              "        const dataTable =\n",
              "          await google.colab.kernel.invokeFunction('convertToInteractive',\n",
              "                                                    [key], {});\n",
              "        if (!dataTable) return;\n",
              "\n",
              "        const docLinkHtml = 'Like what you see? Visit the ' +\n",
              "          '<a target=\"_blank\" href=https://colab.research.google.com/notebooks/data_table.ipynb>data table notebook</a>'\n",
              "          + ' to learn more about interactive tables.';\n",
              "        element.innerHTML = '';\n",
              "        dataTable['output_type'] = 'display_data';\n",
              "        await google.colab.output.renderOutput(dataTable, element);\n",
              "        const docLink = document.createElement('div');\n",
              "        docLink.innerHTML = docLinkHtml;\n",
              "        element.appendChild(docLink);\n",
              "      }\n",
              "    </script>\n",
              "  </div>\n",
              "\n",
              "\n",
              "<div id=\"df-a4b679fe-6845-49e7-85e6-bda4e15bdc21\">\n",
              "  <button class=\"colab-df-quickchart\" onclick=\"quickchart('df-a4b679fe-6845-49e7-85e6-bda4e15bdc21')\"\n",
              "            title=\"Suggest charts\"\n",
              "            style=\"display:none;\">\n",
              "\n",
              "<svg xmlns=\"http://www.w3.org/2000/svg\" height=\"24px\"viewBox=\"0 0 24 24\"\n",
              "     width=\"24px\">\n",
              "    <g>\n",
              "        <path d=\"M19 3H5c-1.1 0-2 .9-2 2v14c0 1.1.9 2 2 2h14c1.1 0 2-.9 2-2V5c0-1.1-.9-2-2-2zM9 17H7v-7h2v7zm4 0h-2V7h2v10zm4 0h-2v-4h2v4z\"/>\n",
              "    </g>\n",
              "</svg>\n",
              "  </button>\n",
              "\n",
              "<style>\n",
              "  .colab-df-quickchart {\n",
              "      --bg-color: #E8F0FE;\n",
              "      --fill-color: #1967D2;\n",
              "      --hover-bg-color: #E2EBFA;\n",
              "      --hover-fill-color: #174EA6;\n",
              "      --disabled-fill-color: #AAA;\n",
              "      --disabled-bg-color: #DDD;\n",
              "  }\n",
              "\n",
              "  [theme=dark] .colab-df-quickchart {\n",
              "      --bg-color: #3B4455;\n",
              "      --fill-color: #D2E3FC;\n",
              "      --hover-bg-color: #434B5C;\n",
              "      --hover-fill-color: #FFFFFF;\n",
              "      --disabled-bg-color: #3B4455;\n",
              "      --disabled-fill-color: #666;\n",
              "  }\n",
              "\n",
              "  .colab-df-quickchart {\n",
              "    background-color: var(--bg-color);\n",
              "    border: none;\n",
              "    border-radius: 50%;\n",
              "    cursor: pointer;\n",
              "    display: none;\n",
              "    fill: var(--fill-color);\n",
              "    height: 32px;\n",
              "    padding: 0;\n",
              "    width: 32px;\n",
              "  }\n",
              "\n",
              "  .colab-df-quickchart:hover {\n",
              "    background-color: var(--hover-bg-color);\n",
              "    box-shadow: 0 1px 2px rgba(60, 64, 67, 0.3), 0 1px 3px 1px rgba(60, 64, 67, 0.15);\n",
              "    fill: var(--button-hover-fill-color);\n",
              "  }\n",
              "\n",
              "  .colab-df-quickchart-complete:disabled,\n",
              "  .colab-df-quickchart-complete:disabled:hover {\n",
              "    background-color: var(--disabled-bg-color);\n",
              "    fill: var(--disabled-fill-color);\n",
              "    box-shadow: none;\n",
              "  }\n",
              "\n",
              "  .colab-df-spinner {\n",
              "    border: 2px solid var(--fill-color);\n",
              "    border-color: transparent;\n",
              "    border-bottom-color: var(--fill-color);\n",
              "    animation:\n",
              "      spin 1s steps(1) infinite;\n",
              "  }\n",
              "\n",
              "  @keyframes spin {\n",
              "    0% {\n",
              "      border-color: transparent;\n",
              "      border-bottom-color: var(--fill-color);\n",
              "      border-left-color: var(--fill-color);\n",
              "    }\n",
              "    20% {\n",
              "      border-color: transparent;\n",
              "      border-left-color: var(--fill-color);\n",
              "      border-top-color: var(--fill-color);\n",
              "    }\n",
              "    30% {\n",
              "      border-color: transparent;\n",
              "      border-left-color: var(--fill-color);\n",
              "      border-top-color: var(--fill-color);\n",
              "      border-right-color: var(--fill-color);\n",
              "    }\n",
              "    40% {\n",
              "      border-color: transparent;\n",
              "      border-right-color: var(--fill-color);\n",
              "      border-top-color: var(--fill-color);\n",
              "    }\n",
              "    60% {\n",
              "      border-color: transparent;\n",
              "      border-right-color: var(--fill-color);\n",
              "    }\n",
              "    80% {\n",
              "      border-color: transparent;\n",
              "      border-right-color: var(--fill-color);\n",
              "      border-bottom-color: var(--fill-color);\n",
              "    }\n",
              "    90% {\n",
              "      border-color: transparent;\n",
              "      border-bottom-color: var(--fill-color);\n",
              "    }\n",
              "  }\n",
              "</style>\n",
              "\n",
              "  <script>\n",
              "    async function quickchart(key) {\n",
              "      const quickchartButtonEl =\n",
              "        document.querySelector('#' + key + ' button');\n",
              "      quickchartButtonEl.disabled = true;  // To prevent multiple clicks.\n",
              "      quickchartButtonEl.classList.add('colab-df-spinner');\n",
              "      try {\n",
              "        const charts = await google.colab.kernel.invokeFunction(\n",
              "            'suggestCharts', [key], {});\n",
              "      } catch (error) {\n",
              "        console.error('Error during call to suggestCharts:', error);\n",
              "      }\n",
              "      quickchartButtonEl.classList.remove('colab-df-spinner');\n",
              "      quickchartButtonEl.classList.add('colab-df-quickchart-complete');\n",
              "    }\n",
              "    (() => {\n",
              "      let quickchartButtonEl =\n",
              "        document.querySelector('#df-a4b679fe-6845-49e7-85e6-bda4e15bdc21 button');\n",
              "      quickchartButtonEl.style.display =\n",
              "        google.colab.kernel.accessAllowed ? 'block' : 'none';\n",
              "    })();\n",
              "  </script>\n",
              "</div>\n",
              "\n",
              "    </div>\n",
              "  </div>\n"
            ],
            "application/vnd.google.colaboratory.intrinsic+json": {
              "type": "dataframe",
              "variable_name": "df",
              "summary": "{\n  \"name\": \"df\",\n  \"rows\": 61992,\n  \"fields\": [\n    {\n      \"column\": \"comment\",\n      \"properties\": {\n        \"dtype\": \"string\",\n        \"num_unique_values\": 57455,\n        \"samples\": [\n          \"black dude racist\",\n          \"know car sale peopl lowest peopl earth \",\n          \"lesson  alway keep camera around whenev are \"\n        ],\n        \"semantic_type\": \"\",\n        \"description\": \"\"\n      }\n    },\n    {\n      \"column\": \"sentiment\",\n      \"properties\": {\n        \"dtype\": \"category\",\n        \"num_unique_values\": 3,\n        \"samples\": [\n          \"negative\",\n          \"neutral\",\n          \"positive\"\n        ],\n        \"semantic_type\": \"\",\n        \"description\": \"\"\n      }\n    },\n    {\n      \"column\": \"word_count\",\n      \"properties\": {\n        \"dtype\": \"number\",\n        \"std\": 28,\n        \"min\": 1,\n        \"max\": 1485,\n        \"num_unique_values\": 319,\n        \"samples\": [\n          31,\n          169,\n          28\n        ],\n        \"semantic_type\": \"\",\n        \"description\": \"\"\n      }\n    }\n  ]\n}"
            }
          },
          "metadata": {},
          "execution_count": 15
        }
      ]
    },
    {
      "cell_type": "code",
      "source": [
        "from collections import Counter\n",
        "corpus = [word for text in df['comment'] for word in text.split()]\n",
        "count_words = Counter(corpus)\n",
        "sorted_words = count_words.most_common(2000)"
      ],
      "metadata": {
        "id": "HOgUxddPPfCZ"
      },
      "execution_count": 19,
      "outputs": []
    },
    {
      "cell_type": "code",
      "source": [
        "import matplotlib.pyplot as plt\n",
        "keys = []\n",
        "values = []\n",
        "for key, value in sorted_words[:20]:\n",
        "    keys.append(key)\n",
        "    values.append(value)\n",
        "\n",
        "plt.figure(figsize=(12, 5))\n",
        "plt.bar(keys, values)\n",
        "plt.title('Top 20 most common words', size=15)\n",
        "plt.show()"
      ],
      "metadata": {
        "colab": {
          "base_uri": "https://localhost:8080/",
          "height": 393
        },
        "id": "AiWSLBSwQKha",
        "outputId": "799bff3e-1716-4fc7-f4d5-17c03015916a"
      },
      "execution_count": 20,
      "outputs": [
        {
          "output_type": "display_data",
          "data": {
            "text/plain": [
              "<Figure size 1200x500 with 1 Axes>"
            ],
            "image/png": "[encoded data removed]"
          },
          "metadata": {}
        }
      ]
    },
    {
      "cell_type": "code",
      "source": [
        "# Tách dữ liệu theo nhãn\n",
        "negative_samples = df[df['sentiment'] == 'negative']\n",
        "neutral_samples = df[df['sentiment'] == 'neutral']\n",
        "positive_samples = df[df['sentiment'] == 'positive']\n",
        "\n",
        "# Lấy mẫu lại (undersample) cho các nhãn lớn hơn\n",
        "negative_downsampled = resample(negative_samples,\n",
        "                                replace=False,    # Không thay thế\n",
        "                                n_samples=len(positive_samples),  # Bằng số lượng nhỏ nhất\n",
        "                                random_state=42)\n",
        "\n",
        "neutral_downsampled = resample(neutral_samples,\n",
        "                               replace=False,\n",
        "                               n_samples=len(positive_samples),\n",
        "                               random_state=42)\n",
        "\n",
        "# Kết hợp lại\n",
        "df = pd.concat([negative_downsampled, neutral_downsampled, positive_samples])"
      ],
      "metadata": {
        "id": "9-BnNwdopy_G"
      },
      "execution_count": 21,
      "outputs": []
    },
    {
      "cell_type": "code",
      "source": [
        "df['sentiment'].value_counts()"
      ],
      "metadata": {
        "colab": {
          "base_uri": "https://localhost:8080/",
          "height": 209
        },
        "id": "OlqZSzODpy8b",
        "outputId": "cfaed5ff-2171-4b4d-9fc1-1d22ebeec76c"
      },
      "execution_count": 22,
      "outputs": [
        {
          "output_type": "execute_result",
          "data": {
            "text/plain": [
              "sentiment\n",
              "negative    11426\n",
              "neutral     11426\n",
              "positive    11426\n",
              "Name: count, dtype: int64"
            ],
            "text/html": [
              "<div>\n",
              "<style scoped>\n",
              "    .dataframe tbody tr th:only-of-type {\n",
              "        vertical-align: middle;\n",
              "    }\n",
              "\n",
              "    .dataframe tbody tr th {\n",
              "        vertical-align: top;\n",
              "    }\n",
              "\n",
              "    .dataframe thead th {\n",
              "        text-align: right;\n",
              "    }\n",
              "</style>\n",
              "<table border=\"1\" class=\"dataframe\">\n",
              "  <thead>\n",
              "    <tr style=\"text-align: right;\">\n",
              "      <th></th>\n",
              "      <th>count</th>\n",
              "    </tr>\n",
              "    <tr>\n",
              "      <th>sentiment</th>\n",
              "      <th></th>\n",
              "    </tr>\n",
              "  </thead>\n",
              "  <tbody>\n",
              "    <tr>\n",
              "      <th>negative</th>\n",
              "      <td>11426</td>\n",
              "    </tr>\n",
              "    <tr>\n",
              "      <th>neutral</th>\n",
              "      <td>11426</td>\n",
              "    </tr>\n",
              "    <tr>\n",
              "      <th>positive</th>\n",
              "      <td>11426</td>\n",
              "    </tr>\n",
              "  </tbody>\n",
              "</table>\n",
              "</div><br><label><b>dtype:</b> int64</label>"
            ]
          },
          "metadata": {},
          "execution_count": 22
        }
      ]
    },
    {
      "cell_type": "code",
      "source": [
        "print(\"min: \", df['word_count'].min())\n",
        "print(\"max: \", df['word_count'].max())\n",
        "print(\"mean: \", df['word_count'].mean())\n",
        "print(\"median: \", df['word_count'].median())\n",
        "print(\"std: \", df['word_count'].std())"
      ],
      "metadata": {
        "colab": {
          "base_uri": "https://localhost:8080/"
        },
        "id": "O457cTaypy5m",
        "outputId": "72a901fd-1996-4eed-9a39-c7cdfedf7036"
      },
      "execution_count": 23,
      "outputs": [
        {
          "output_type": "stream",
          "name": "stdout",
          "text": [
            "min:  1\n",
            "max:  1139\n",
            "mean:  17.507555866736684\n",
            "median:  11.0\n",
            "std:  27.522555731369863\n"
          ]
        }
      ]
    },
    {
      "cell_type": "code",
      "source": [
        "plt.figure(figsize=(8, 5))\n",
        "plt.hist(df['word_count'], bins=100, color='skyblue', edgecolor='black')\n",
        "plt.grid(axis='y', linestyle='--', alpha=0.7)\n",
        "plt.show()"
      ],
      "metadata": {
        "colab": {
          "base_uri": "https://localhost:8080/",
          "height": 445
        },
        "id": "Csu0ijms69Fy",
        "outputId": "8408008d-19fd-41a4-c2e3-85779521fadb"
      },
      "execution_count": 24,
      "outputs": [
        {
          "output_type": "display_data",
          "data": {
            "text/plain": [
              "<Figure size 800x500 with 1 Axes>"
            ],
            "image/png": "[encoded data removed]"
          },
          "metadata": {}
        }
      ]
    },
    {
      "cell_type": "code",
      "source": [
        "vocab_to_int = {w:i+1 for i, (w,c) in enumerate(sorted_words)}\n",
        "\n",
        "reviews_int = []\n",
        "for text in df['comment']:\n",
        "    r = [vocab_to_int[word] for word in text.split() if word in vocab_to_int]\n",
        "    reviews_int.append(r)\n",
        "\n",
        "reviews_int_test = []\n",
        "for text in df_test['comment']:\n",
        "    r = [vocab_to_int[word] for word in text.split() if word in vocab_to_int]\n",
        "    reviews_int_test.append(r)\n",
        "\n",
        "print(reviews_int[0])\n",
        "print(reviews_int_test[0])\n",
        "print(vocab_to_int)\n",
        "print(len(reviews_int_test))"
      ],
      "metadata": {
        "colab": {
          "base_uri": "https://localhost:8080/"
        },
        "id": "tPVaDIAJQKe1",
        "outputId": "35dfab3a-cd4d-4ac4-d0b4-7521b93f4212"
      },
      "execution_count": 48,
      "outputs": [
        {
          "output_type": "stream",
          "name": "stdout",
          "text": [
            "[30, 3, 609, 33, 598, 41, 81]\n",
            "[465, 114, 88, 482, 1956, 683, 48]\n",
            "{'pizza': 1, 's': 2, 't': 3, 'peopl': 4, 'good': 5, 'guy': 6, 'like': 7, 'quot': 8, 'tip': 9, 'get': 10, 'chang': 11, 'it': 12, 'i': 13, 'car': 14, 'look': 15, 'deliveri': 16, 'one': 17, 'life': 18, 'video': 19, 'give': 20, 'would': 21, 'man': 22, 'judg': 23, 'that': 24, 'back': 25, 'love': 26, 'make': 27, 'got': 28, 'know': 29, 'don': 30, 'want': 31, 'dollar': 32, 'internet': 33, 'hope': 34, 'oh': 35, 'time': 36, 'go': 37, 'say': 38, 'm': 39, 'see': 40, 'fuck': 41, 'use': 42, 'think': 43, 'a': 44, 'way': 45, 'bill': 46, 'href': 47, 'money': 48, 'right': 49, 'never': 50, 'lol': 51, 'work': 52, 'cri': 53, 'you': 54, 'god': 55, 'school': 56, 'bad': 57, 'even': 58, 'busi': 59, 'need': 60, 'thing': 61, 'job': 62, 'person': 63, 'gave': 64, 'realli': 65, 'cnn': 66, 'alway': 67, 'year': 68, 'he': 69, 'day': 70, 'said': 71, 'someon': 72, 'still': 73, 'end': 74, 'lot': 75, 'place': 76, 'him': 77, 'nice': 78, 'happen': 79, 'didn': 80, 'shit': 81, 'treat': 82, 'karma': 83, 'world': 84, 've': 85, 'two': 86, 'well': 87, 'could': 88, 'math': 89, 'made': 90, 'come': 91, 'call': 92, 'driver': 93, 'live': 94, 'feel': 95, 'better': 96, 'news': 97, 'stori': 98, 'friend': 99, 'us': 100, 'ass': 101, 'fire': 102, 'kid': 103, 'keep': 104, 'deliv': 105, 're': 106, 'take': 107, 'wow': 108, 'everyon': 109, 'best': 110, 'thi': 111, 'wrong': 112, 'justic': 113, 'kind': 114, 'someth': 115, 'ask': 116, 'watch': 117, 'mean': 118, 'order': 119, 'ever': 120, 'much': 121, 'can': 122, 'moment': 123, 'employe': 124, 'amp': 125, 'food': 126, 'pay': 127, 'let': 128, 'great': 129, 'sad': 130, 'human': 131, 'sale': 132, 'turn': 133, 'deserv': 134, 'hand': 135, 'show': 136, 'u': 137, 'anyon': 138, 'tri': 139, 'left': 140, 'put': 141, 'now': 142, 'becom': 143, 'respect': 144, 'total': 145, 'comment': 146, 'they': 147, 'custom': 148, 'around': 149, 'there': 150, 'post': 151, 'real': 152, 'rememb': 153, 'na': 154, 'actual': 155, 'old': 156, 'extra': 157, 'f': 158, 'also': 159, 'thank': 160, 'wonder': 161, 'what': 162, 'dealership': 163, 'buck': 164, 'talk': 165, 'differ': 166, 'everi': 167, 'went': 168, 'thought': 169, 'close': 170, 'happi': 171, 'sure': 172, 'glad': 173, 'assum': 174, 'tell': 175, 'd': 176, 'me': 177, 'mani': 178, 'woman': 179, 'expect': 180, 'recommend': 181, 'first': 182, 'given': 183, 'hard': 184, 'heart': 185, 'r': 186, 'auto': 187, 'help': 188, 'youtub': 189, 'nasti': 190, 'probabl': 191, 'follow': 192, 'damn': 193, 'power': 194, 'them': 195, 'sometim': 196, 'she': 197, 'leav': 198, 'start': 199, 'imagin': 200, 'realiz': 201, 'doesn': 202, 'owner': 203, 'bless': 204, 'wait': 205, 'dont': 206, 'disgust': 207, 'middl': 208, 'new': 209, 'bitch': 210, 'asshol': 211, 'though': 212, 'believ': 213, 'rude': 214, 'act': 215, 'seem': 216, 'gon': 217, 'crimin': 218, 'll': 219, 'report': 220, 'situat': 221, 'must': 222, 'dude': 223, 'ladi': 224, 'five': 225, 'els': 226, 'black': 227, 'mayb': 228, 'compani': 229, 'wasn': 230, 'second': 231, 'littl': 232, 'wish': 233, 'the': 234, 'donat': 235, 'beauti': 236, 'sorri': 237, 'cheap': 238, 'lmao': 239, 'all': 240, 'hate': 241, 'here': 242, 'mess': 243, 'bunch': 244, 'stupid': 245, 'seen': 246, 'isn': 247, 'done': 248, 'face': 249, 'reason': 250, 'shame': 251, 'understand': 252, 'big': 253, 'anyth': 254, 'whole': 255, 'sell': 256, 'buy': 257, 'find': 258, 'is': 259, 'jesu': 260, 'sinc': 261, 'other': 262, 'servic': 263, 'rais': 264, 'bring': 265, 'law': 266, 'poor': 267, 'noth': 268, 'care': 269, 'anoth': 270, 'tear': 271, 'away': 272, 'again': 273, 'nicest': 274, 'im': 275, 'smile': 276, 'part': 277, 'choic': 278, 'crime': 279, 'review': 280, 'insult': 281, 'enough': 282, 'word': 283, 'wouldn': 284, 'up': 285, 'ye': 286, 'without': 287, 'do': 288, 'hell': 289, 'paid': 290, 'took': 291, 'instead': 292, 'side': 293, 'case': 294, 'may': 295, 'america': 296, 'name': 297, 'came': 298, 'awesom': 299, 'american': 300, 'fake': 301, 'fact': 302, 'next': 303, 'serv': 304, 'pleas': 305, 'later': 306, 'knew': 307, 'releas': 308, 'wtf': 309, 'jail': 310, 'goe': 311, 'ago': 312, 'emot': 313, 'over': 314, 'girl': 315, 'funni': 316, 'yeah': 317, 'dealer': 318, 'remind': 319, 'we': 320, 'meme': 321, 'so': 322, 'ok': 323, 'foot': 324, 'not': 325, 'amaz': 326, 'cost': 327, 'drive': 328, 'least': 329, 'last': 330, 'togeth': 331, 'walk': 332, 'learn': 333, 'too': 334, 'path': 335, 'pretti': 336, 'bet': 337, 'caus': 338, 'point': 339, 'mistak': 340, 'out': 341, 'nobodi': 342, 'long': 343, 'guess': 344, 'stop': 345, 'k': 346, 'felt': 347, 'return': 348, 'tho': 349, 'matter': 350, 'hit': 351, 'saw': 352, 'told': 353, 'chanc': 354, 'her': 355, 'sweet': 356, 'meet': 357, 'camera': 358, 'recogn': 359, 'amount': 360, 'eat': 361, 'be': 362, 'idiot': 363, 'top': 364, 'everyth': 365, 'free': 366, 'and': 367, 'haha': 368, 'white': 369, 'posit': 370, 'sens': 371, 'polic': 372, 'apolog': 373, 'blue': 374, 'lost': 375, 'anyway': 376, 'salesman': 377, 'eye': 378, 'might': 379, 'full': 380, 'manag': 381, 'offic': 382, 'voic': 383, 'shouldn': 384, 'true': 385, 'worst': 386, 'laugh': 387, 'chees': 388, 'stand': 389, 'deal': 390, 'omg': 391, 'cash': 392, 'fund': 393, 'high': 394, 'embarrass': 395, 'break': 396, 'question': 397, 'alreadi': 398, 'play': 399, 'worker': 400, 'piec': 401, 'footag': 402, 'salesmen': 403, 'past': 404, 'bulli': 405, 'social': 406, 'sentenc': 407, 'becam': 408, 'support': 409, 'today': 410, 'surpris': 411, 'seven': 412, 'famili': 413, 'small': 414, 'societi': 415, 'crap': 416, 'but': 417, 'cool': 418, 'x': 419, 'cultur': 420, 'wan': 421, 'especi': 422, 'shut': 423, 'ppl': 424, 'handl': 425, 'prison': 426, 'public': 427, 'less': 428, 'scumbag': 429, 'down': 430, 'media': 431, 'hey': 432, 'liter': 433, 'women': 434, 'twenti': 435, 'either': 436, 'realis': 437, 'touch': 438, 'men': 439, 'countri': 440, 'disrespect': 441, 'horribl': 442, 'absolut': 443, 'boy': 444, 'usual': 445, 'futur': 446, 'luck': 447, 'door': 448, 'problem': 449, 'read': 450, 'mouth': 451, 'unless': 452, 'miss': 453, 'shitti': 454, 'gross': 455, 'hear': 456, 'no': 457, 'lead': 458, 'lesson': 459, 'shirt': 460, 'system': 461, 'move': 462, 'brought': 463, 'check': 464, 'bit': 465, 'gener': 466, 'worth': 467, 'court': 468, 'interest': 469, 'sir': 470, 'dumb': 471, 'notic': 472, 'kinda': 473, 'honest': 474, 'crazi': 475, 'type': 476, 'state': 477, 'abl': 478, 'die': 479, 'yet': 480, 'in': 481, 'save': 482, 'run': 483, 'hahaha': 484, 'scum': 485, 'class': 486, 'rest': 487, 'updat': 488, 'set': 489, 'lose': 490, 'stuff': 491, 'suppos': 492, 'n': 493, 'late': 494, 'final': 495, 'shop': 496, 'childhood': 497, 'femal': 498, 'whi': 499, 'charg': 500, 'decis': 501, 'for': 502, 'almost': 503, 'count': 504, 'didnt': 505, 'terribl': 506, 'shot': 507, 'low': 508, 'regret': 509, 'tough': 510, 'suck': 511, 'caught': 512, 'trump': 513, 'mind': 514, 'simpl': 515, 'trust': 516, 'ta': 517, 'vehicl': 518, 'wage': 519, 'attitud': 520, 'perfect': 521, 'couldn': 522, 'sin': 523, 'far': 524, 'complet': 525, 'exampl': 526, 'cours': 527, 'hero': 528, 'wors': 529, 'ga': 530, 'cant': 531, 'sound': 532, 'yelp': 533, 'home': 534, 'lie': 535, 'who': 536, 'import': 537, 'decid': 538, 'slice': 539, 'insid': 540, 'kick': 541, 'profession': 542, 'sit': 543, 'trash': 544, 'did': 545, 'ha': 546, 'on': 547, 'upload': 548, 'memori': 549, 'begin': 550, 'are': 551, 'hold': 552, 'then': 553, 'broke': 554, 'lord': 555, 'equal': 556, 'everybodi': 557, 'classmat': 558, 'normal': 559, 'price': 560, 'punish': 561, 'offer': 562, 'head': 563, 'okay': 564, 'jerk': 565, 'afford': 566, 'agre': 567, 'pick': 568, 'pray': 569, 'faith': 570, 'definit': 571, 'forget': 572, 'wa': 573, 'gone': 574, 'bro': 575, 'leak': 576, 'reaction': 577, 'stay': 578, 'self': 579, 'hurt': 580, 'month': 581, 'win': 582, 'behind': 583, 'aw': 584, 'ur': 585, 'includ': 586, 'speak': 587, 'massachusett': 588, 'number': 589, 'threaten': 590, 'behavior': 591, 'group': 592, 'entir': 593, 'basic': 594, 'loser': 595, 'decent': 596, 'moral': 597, 'off': 598, 'reveng': 599, 'y': 600, 'destroy': 601, 'restaur': 602, 'realiti': 603, 'common': 604, 'educ': 605, 'cancel': 606, 'holi': 607, 'found': 608, 'piss': 609, 'kept': 610, 'minut': 611, 'sold': 612, 'won': 613, 'christ': 614, 'onlin': 615, 'whatev': 616, 'crush': 617, 'commun': 618, 'bbc': 619, 'typic': 620, 'aren': 621, 'singl': 622, 'receiv': 623, 'hous': 624, 'record': 625, 'ya': 626, 'rule': 627, 'open': 628, 'complain': 629, 'fail': 630, 'exactli': 631, 'forc': 632, 'action': 633, 'correct': 634, 'choos': 635, 'should': 636, 'deep': 637, 'plu': 638, 'front': 639, 'earth': 640, 'clip': 641, 'share': 642, 'age': 643, 'heard': 644, 'explain': 645, 'truli': 646, 'ignor': 647, 'folk': 648, 'fault': 649, 'enjoy': 650, 'honestli': 651, 'bag': 652, 'lucki': 653, 'ruin': 654, 'often': 655, 'store': 656, 'polit': 657, 'sauc': 658, 'born': 659, 'to': 660, 'section': 661, 'easi': 662, 'allah': 663, 'fine': 664, 'room': 665, 'allow': 666, 'xd': 667, 'exist': 668, 'vid': 669, 'mad': 670, 'recognis': 671, 'pass': 672, 'serious': 673, 'fair': 674, 'asham': 675, 'experi': 676, 'chip': 677, 'secur': 678, 'young': 679, 'anybodi': 680, 'legend': 681, 'dick': 682, 'pain': 683, 'due': 684, 'evil': 685, 'etc': 686, 'circumst': 687, 'opportun': 688, 'confus': 689, 'rather': 690, 'b': 691, 'met': 692, 'former': 693, 'screw': 694, 'cover': 695, 'somebodi': 696, 'boss': 697, 'fun': 698, 'son': 699, 'defend': 700, 'jare': 701, 'hot': 702, 'movi': 703, 'mr': 704, 'exact': 705, 'garbag': 706, 'hungri': 707, 'weren': 708, 'hole': 709, 'obvious': 710, 'proud': 711, 'line': 712, 'how': 713, 'commit': 714, 'minimum': 715, 'desk': 716, 'wake': 717, 'consid': 718, 'gofundm': 719, 'em': 720, 'children': 721, 'cuz': 722, 'quit': 723, 'innoc': 724, 'restor': 725, 'af': 726, 'whoever': 727, 'with': 728, 'cute': 729, 'million': 730, 'anymor': 731, 'mention': 732, 'steal': 733, 'straight': 734, 'page': 735, 'grow': 736, 'card': 737, 'genuin': 738, 'thousand': 739, 'usa': 740, 'bruh': 741, 'clearli': 742, 'shock': 743, 'step': 744, 'humbl': 745, 'issu': 746, 'level': 747, 'prove': 748, 'feed': 749, 'kill': 750, 'soul': 751, 'scummi': 752, 'cop': 753, 'hat': 754, 'coupl': 755, 'satisfi': 756, 'incid': 757, 'weird': 758, 'algorithm': 759, 'hour': 760, 'rip': 761, 'fat': 762, 'booth': 763, 'success': 764, 'blame': 765, 'toward': 766, 'night': 767, 'lazi': 768, 'half': 769, 'heartbreak': 770, 'account': 771, 'fight': 772, 'entitl': 773, 'throw': 774, 'more': 775, 'figur': 776, 'appreci': 777, 'alon': 778, 'idea': 779, 'accept': 780, 'hilari': 781, 'special': 782, 'arrest': 783, 'simpli': 784, 'onc': 785, 'known': 786, 'industri': 787, 'truth': 788, 'troubl': 789, 'if': 790, 'child': 791, 'fuckin': 792, 'smh': 793, 'drop': 794, 'soon': 795, 'parent': 796, 'taken': 797, 'howev': 798, 'cold': 799, 'pull': 800, 'town': 801, 'hi': 802, 'note': 803, 'add': 804, 'death': 805, 'joke': 806, 'phone': 807, 'where': 808, 'minu': 809, 'themselv': 810, 'cent': 811, 'yo': 812, 'staff': 813, 'abus': 814, 'expens': 815, 'short': 816, 'colleg': 817, 'masshol': 818, 'lmfao': 819, 'hug': 820, 'moron': 821, 'victim': 822, 'ugli': 823, 'ain': 824, 'possibl': 825, 'charact': 826, 'jeann': 827, 'forgot': 828, 'beat': 829, 'fast': 830, 'pure': 831, 'channel': 832, 'forgiv': 833, 'involv': 834, 'york': 835, 'creat': 836, 'googl': 837, 'unsaf': 838, 'view': 839, 'excus': 840, 'respons': 841, 'reunion': 842, 'twist': 843, 'viral': 844, 'answer': 845, 'wast': 846, 'forev': 847, 'brother': 848, 'parti': 849, 'pathet': 850, 'opinion': 851, 'father': 852, 'otherwis': 853, 'upset': 854, 'earn': 855, 'employ': 856, 'super': 857, 'haven': 858, 'waiter': 859, 'e': 860, 'star': 861, 'westport': 862, 'peac': 863, 'week': 864, 'relat': 865, 'trade': 866, 'repent': 867, 'petti': 868, 'sick': 869, 'meant': 870, 'convict': 871, 'light': 872, 'immedi': 873, 'carri': 874, 'mom': 875, 'drug': 876, 'babi': 877, 'rich': 878, 'huge': 879, 'will': 880, 'continu': 881, 'provid': 882, 'impact': 883, 'send': 884, 'stick': 885, 'bullshit': 886, 'refus': 887, 'arrog': 888, 'game': 889, 'biggest': 890, 'protect': 891, 'idk': 892, 'upon': 893, 'jarrid': 894, 'studi': 895, 'john': 896, 'hire': 897, 'remain': 898, 'merci': 899, 'chick': 900, 'scene': 901, 'yourself': 902, 'mate': 903, 'sent': 904, 'adult': 905, 'compass': 906, 'welcom': 907, 'ohh': 908, 'collect': 909, 'mother': 910, 'present': 911, 'th': 912, 'defect': 913, 'c': 914, 'shall': 915, 'instant': 916, 'student': 917, 'fee': 918, 'clear': 919, 'am': 920, 'bodi': 921, 'yr': 922, 'chose': 923, 'h': 924, 'w': 925, 'moo': 926, 'bastard': 927, 'split': 928, 'annoy': 929, 'demand': 930, 'from': 931, 'himself': 932, 'bought': 933, 'plot': 934, 'own': 935, 'ah': 936, 'teacher': 937, 'rate': 938, 'along': 939, 'ridicul': 940, 'plan': 941, 'mental': 942, 'base': 943, 'bite': 944, 'behav': 945, 'heaven': 946, 'reflect': 947, 'unit': 948, 'road': 949, 'react': 950, 'form': 951, 'outsid': 952, 'appar': 953, 'individu': 954, 'alot': 955, 'hang': 956, 'smart': 957, 'privileg': 958, 'citi': 959, 'longer': 960, 'outcom': 961, 'till': 962, 'govern': 963, 'karen': 964, 'cut': 965, 'address': 966, 'spit': 967, 'whether': 968, 'hahahaha': 969, 'crook': 970, 'area': 971, 'india': 972, 'strong': 973, 'seriou': 974, 'regardless': 975, 'owe': 976, 'wear': 977, 'listen': 978, 'direct': 979, 'worri': 980, 'wholesom': 981, 'inspir': 982, 'or': 983, 'encount': 984, 'stole': 985, 'btw': 986, 'revers': 987, 'except': 988, 'delici': 989, 'extrem': 990, 'control': 991, 'street': 992, 'none': 993, 'liber': 994, 'random': 995, 'practic': 996, 'racist': 997, 'warm': 998, 'l': 999, 'grade': 1000, 'quick': 1001, 'dream': 1002, 'incred': 1003, 'confirm': 1004, 'marri': 1005, 'box': 1006, 'heartwarm': 1007, 'cross': 1008, 'dead': 1009, 'shown': 1010, 'sign': 1011, 'doesnt': 1012, 'round': 1013, 'your': 1014, 'server': 1015, 'manner': 1016, 'humili': 1017, 'fellow': 1018, 'environ': 1019, 'palac': 1020, 'angel': 1021, 'curiou': 1022, 'conflict': 1023, 'rare': 1024, 'befor': 1025, 'domino': 1026, 'retard': 1027, 'standard': 1028, 'fall': 1029, 'pie': 1030, 'career': 1031, 'penni': 1032, 'accord': 1033, 'major': 1034, 'depend': 1035, 'natur': 1036, 'encourag': 1037, 'gotten': 1038, 'myself': 1039, 'everyday': 1040, 'search': 1041, 'neg': 1042, 'bottom': 1043, 'leftov': 1044, 'scam': 1045, 'reput': 1046, 'democrat': 1047, 'unfortun': 1048, 'badli': 1049, 'teach': 1050, 'threat': 1051, 'friendship': 1052, 'expos': 1053, 'sever': 1054, 'within': 1055, 'stood': 1056, 'isnt': 1057, 'result': 1058, 'date': 1059, 'fill': 1060, 'sort': 1061, 'appear': 1062, 'proof': 1063, 'ive': 1064, 'buddi': 1065, 'perman': 1066, 'slap': 1067, 'finest': 1068, 'tf': 1069, 'ad': 1070, 'dark': 1071, 'similar': 1072, 'licens': 1073, 'effect': 1074, 'brain': 1075, 'da': 1076, 'ground': 1077, 'of': 1078, 'pocket': 1079, 'affect': 1080, 'obviou': 1081, 'consequ': 1082, 'express': 1083, 'joy': 1084, 'planet': 1085, 'mass': 1086, 'broken': 1087, 'catch': 1088, 'water': 1089, 'wit': 1090, 'clean': 1091, 'claim': 1092, 'have': 1093, 'que': 1094, 'automat': 1095, 'requir': 1096, 'cruel': 1097, 'murder': 1098, 'three': 1099, 'angri': 1100, 'reach': 1101, 'grace': 1102, 'gt': 1103, 'footbal': 1104, 'salespeopl': 1105, 'purpos': 1106, 'just': 1107, 'skin': 1108, 'nation': 1109, 'qualiti': 1110, 'track': 1111, 'misunderstand': 1112, 'avoid': 1113, 'comput': 1114, 'local': 1115, 'tabl': 1116, 'chill': 1117, 'among': 1118, 'uno': 1119, 'somehow': 1120, 'bond': 1121, 'lt': 1122, 'certain': 1123, 'citizen': 1124, 'mine': 1125, 'devil': 1126, 'earli': 1127, 'legal': 1128, 'ex': 1129, 'bare': 1130, 'addict': 1131, 'attorney': 1132, 'alright': 1133, 'ma': 1134, 'freak': 1135, 'flash': 1136, 'near': 1137, 'tast': 1138, 'messag': 1139, 'after': 1140, 'st': 1141, 'intend': 1142, 'drove': 1143, 'safe': 1144, 'g': 1145, 'islam': 1146, 'undef': 1147, 'etern': 1148, 'burn': 1149, 'chair': 1150, 'lack': 1151, 'everywher': 1152, 'swear': 1153, 'origin': 1154, 'huh': 1155, 'network': 1156, 'logic': 1157, 'intent': 1158, 'yall': 1159, 'fool': 1160, 'somewher': 1161, 'awkward': 1162, 'judgement': 1163, 'difficult': 1164, 'guilti': 1165, 'democraci': 1166, 'motiv': 1167, 'doubt': 1168, 'flip': 1169, 'bs': 1170, 'douch': 1171, 'taught': 1172, 'lunch': 1173, 'roll': 1174, 'co': 1175, 'perhap': 1176, 'penalti': 1177, 'tax': 1178, 'ran': 1179, 'surviv': 1180, 'book': 1181, 'crappi': 1182, 'disappoint': 1183, 'wasnt': 1184, 'build': 1185, 'my': 1186, 'daili': 1187, 'spend': 1188, 'prais': 1189, 'fix': 1190, 'titl': 1191, 'univers': 1192, 'de': 1193, 'rob': 1194, 'aww': 1195, 'inde': 1196, 'impress': 1197, 'spoke': 1198, 'finish': 1199, 'throne': 1200, 'po': 1201, 'dumbass': 1202, 'rock': 1203, 'clown': 1204, 'ten': 1205, 'about': 1206, 'reveal': 1207, 'la': 1208, 'pop': 1209, 'greedi': 1210, 'film': 1211, 'recus': 1212, 'honor': 1213, 'led': 1214, 'lawyer': 1215, 'nowaday': 1216, 'meal': 1217, 'forward': 1218, 'struggl': 1219, 'yea': 1220, 'spirit': 1221, 'dad': 1222, 'yell': 1223, 'satan': 1224, 'aliv': 1225, 'brilliant': 1226, 'english': 1227, 'destini': 1228, 'tbh': 1229, 'racism': 1230, 'assumpt': 1231, 'doe': 1232, 'fucker': 1233, 'accus': 1234, 'attent': 1235, 'nah': 1236, 'strang': 1237, 'smug': 1238, 'hair': 1239, 'treatment': 1240, 'color': 1241, 'invest': 1242, 'complaint': 1243, 'unto': 1244, 'acknowledg': 1245, 'tipper': 1246, 'tomato': 1247, 'waitress': 1248, 'bigger': 1249, 'bc': 1250, 'valu': 1251, 'these': 1252, 'digniti': 1253, 'sake': 1254, 'impli': 1255, 'remors': 1256, 'insan': 1257, 'prick': 1258, 'suddenli': 1259, 'grab': 1260, 'narrat': 1261, 'proper': 1262, 'condit': 1263, 'although': 1264, 'grew': 1265, 'across': 1266, 'excel': 1267, 'cctv': 1268, 'fate': 1269, 'multipl': 1270, 'skill': 1271, 'necessari': 1272, 'harass': 1273, 'restitut': 1274, 'suffer': 1275, 'danger': 1276, 'despit': 1277, 'vote': 1278, 'hut': 1279, 'empathi': 1280, 'loud': 1281, 'loos': 1282, 'gold': 1283, 'atleast': 1284, 'o': 1285, 'sec': 1286, 'current': 1287, 'fit': 1288, 'certainli': 1289, 'wise': 1290, 'backfir': 1291, 'hello': 1292, 'held': 1293, 'tape': 1294, 'bail': 1295, 'keemstar': 1296, 'episod': 1297, 'ahol': 1298, 'knock': 1299, 'incom': 1300, 'mile': 1301, 'pitch': 1302, 'stuck': 1303, 'blood': 1304, 'wife': 1305, 'period': 1306, 'tomorrow': 1307, 'threw': 1308, 'twice': 1309, 'drink': 1310, 'non': 1311, 'whenev': 1312, 'argu': 1313, 'prepar': 1314, 'amen': 1315, 'trial': 1316, 'nd': 1317, 'link': 1318, 'kudo': 1319, 'creator': 1320, 'heal': 1321, 'glori': 1322, 'ball': 1323, 'weak': 1324, 'potenti': 1325, 'bald': 1326, 'favorit': 1327, 'behaviour': 1328, 'su': 1329, 'miser': 1330, 'mf': 1331, 'hundr': 1332, 'physic': 1333, 'consum': 1334, 'uk': 1335, 'trip': 1336, 'violenc': 1337, 'statu': 1338, 'dang': 1339, 'reunit': 1340, 'attack': 1341, 'click': 1342, 'shadi': 1343, 'event': 1344, 'product': 1345, 'classic': 1346, 'visit': 1347, 'thumbnail': 1348, 'smith': 1349, 'dababi': 1350, 'grown': 1351, 'decenc': 1352, 'locat': 1353, 'daughter': 1354, 'dislik': 1355, 'presid': 1356, 'challeng': 1357, 'bomb': 1358, 'dear': 1359, 'crack': 1360, 'credit': 1361, 'spot': 1362, 'larg': 1363, 'beyond': 1364, 'illeg': 1365, 'wouldnt': 1366, 'p': 1367, 'heck': 1368, 'access': 1369, 'team': 1370, 'tire': 1371, 'greatest': 1372, 'yt': 1373, 'third': 1374, 'unbeliev': 1375, 'sincer': 1376, 'readi': 1377, 'suggest': 1378, 'opposit': 1379, 'spent': 1380, 'edit': 1381, 'therefor': 1382, 'histori': 1383, 'red': 1384, 'inform': 1385, 'freedom': 1386, 'boycott': 1387, 'averag': 1388, 'stiff': 1389, 'stif': 1390, 'scare': 1391, 'cheapskat': 1392, 'asid': 1393, 'iron': 1394, 'orang': 1395, 'sh': 1396, 'park': 1397, 'four': 1398, 'guarante': 1399, 'payment': 1400, 'surveil': 1401, 'tv': 1402, 'correiro': 1403, 'finger': 1404, 'content': 1405, 'understood': 1406, 'fifti': 1407, 'neither': 1408, 'morn': 1409, 'unspecifi': 1410, 'onion': 1411, 'bankrupt': 1412, 'carma': 1413, 'thumb': 1414, 'savior': 1415, 'psychologist': 1416, 'both': 1417, 'fear': 1418, 'kingdom': 1419, 'compassion': 1420, 'same': 1421, 'dog': 1422, 'abil': 1423, 'were': 1424, 'at': 1425, 'becaus': 1426, 'um': 1427, 'ny': 1428, 'block': 1429, 'male': 1430, 'renew': 1431, 'reli': 1432, 'lower': 1433, 'easier': 1434, 'unfair': 1435, 'effort': 1436, 'douchebag': 1437, 'salari': 1438, 'train': 1439, 'righteou': 1440, 'deni': 1441, 'investig': 1442, 'bu': 1443, 'financi': 1444, 'uh': 1445, 'harder': 1446, 'cashier': 1447, 'dam': 1448, 'everytim': 1449, 'brave': 1450, 'pictur': 1451, 'quran': 1452, 'nautilu': 1453, 'prayer': 1454, 'languag': 1455, 'risk': 1456, 'plain': 1457, 'mostli': 1458, 'connect': 1459, 'hook': 1460, 'reward': 1461, 'recent': 1462, 'sleep': 1463, 'depress': 1464, 'essenti': 1465, 'separ': 1466, 'interact': 1467, 'bank': 1468, 'when': 1469, 'awww': 1470, 'cook': 1471, 'process': 1472, 'compens': 1473, 'sooo': 1474, 'push': 1475, 'perish': 1476, 'lowest': 1477, 'travel': 1478, 'bibl': 1479, 'ultim': 1480, 'guid': 1481, 'quickli': 1482, 'injustic': 1483, 'subscrib': 1484, 'as': 1485, 'gift': 1486, 'priceless': 1487, 'almighti': 1488, 'role': 1489, 'odd': 1490, 'health': 1491, 'eventu': 1492, 'offici': 1493, 'concern': 1494, 'been': 1495, 'spread': 1496, 'thief': 1497, 'option': 1498, 'grant': 1499, 'pig': 1500, 'shoe': 1501, 'justifi': 1502, 'lock': 1503, 'psycholog': 1504, 'ola': 1505, 'ngl': 1506, 'race': 1507, 'happili': 1508, 'fli': 1509, 'swagger': 1510, 'sharma': 1511, 'mirror': 1512, 'golden': 1513, 'journal': 1514, 'anim': 1515, 'younger': 1516, 'compar': 1517, 'prop': 1518, 'which': 1519, 'australia': 1520, 'king': 1521, 'write': 1522, 'soo': 1523, 'neighborhood': 1524, 'coincid': 1525, 'courtroom': 1526, 'attend': 1527, 'deed': 1528, 'contact': 1529, 'hahahahaha': 1530, 'hmm': 1531, 'creatur': 1532, 'dock': 1533, 'gang': 1534, 'feet': 1535, 'troll': 1536, 'unnecessari': 1537, 'dirti': 1538, 'buis': 1539, 'wat': 1540, '_': 1541, 'ill': 1542, 'promis': 1543, 'courtesi': 1544, 'yep': 1545, 'england': 1546, 'cowork': 1547, 'appli': 1548, 'instantli': 1549, 'attempt': 1550, 'saddest': 1551, 'smell': 1552, 'corrupt': 1553, 'europ': 1554, 'background': 1555, 'term': 1556, 'easili': 1557, 'bore': 1558, 'dat': 1559, 'some': 1560, 'loss': 1561, 'prophet': 1562, 'specif': 1563, 'calm': 1564, 'respond': 1565, 'illuminati': 1566, 'sister': 1567, 'rose': 1568, 'ars': 1569, 'boomer': 1570, 'scari': 1571, 'stranger': 1572, 'while': 1573, 'mistreat': 1574, 'harsh': 1575, 'air': 1576, 'drama': 1577, 'display': 1578, 'insur': 1579, 'surround': 1580, 'ban': 1581, 'assault': 1582, 'mysteri': 1583, 'mix': 1584, 'dime': 1585, 'percent': 1586, 'bust': 1587, 'calcul': 1588, 'rehabilit': 1589, 'behold': 1590, 'mob': 1591, 'legit': 1592, 'shift': 1593, 'coffe': 1594, 'lil': 1595, 'reddit': 1596, 'key': 1597, 'ironi': 1598, 'homeless': 1599, 'cam': 1600, 'toxic': 1601, 'size': 1602, 'transact': 1603, 'oper': 1604, 'higher': 1605, 'shout': 1606, 'degre': 1607, 'aint': 1608, 'husband': 1609, 'judgment': 1610, 'arthur': 1611, 'technic': 1612, 'classi': 1613, 'goodness': 1614, 'ahead': 1615, 'tasti': 1616, 'se': 1617, 'fantast': 1618, 'wont': 1619, 'thru': 1620, 'rough': 1621, 'sadli': 1622, 'greet': 1623, 'alleg': 1624, 'sweetest': 1625, 'corner': 1626, 'besid': 1627, 'their': 1628, 'hospit': 1629, 'smash': 1630, 'dump': 1631, 'copi': 1632, 'pack': 1633, 'admit': 1634, 'viewer': 1635, 'herself': 1636, 'strike': 1637, 'sudden': 1638, 'cunt': 1639, 'empti': 1640, 'friendli': 1641, 'ate': 1642, 'violat': 1643, 'dare': 1644, 'con': 1645, 'purchas': 1646, 'dinner': 1647, 'thrown': 1648, 'anywher': 1649, 'solv': 1650, 'suspect': 1651, 'shape': 1652, 'argument': 1653, 'facebook': 1654, 'test': 1655, 'by': 1656, 'burglari': 1657, 'member': 1658, 'vs': 1659, 'smirk': 1660, 'anytim': 1661, 'indian': 1662, 'woke': 1663, 'worship': 1664, 'journey': 1665, 'version': 1666, 'goosebump': 1667, 'bread': 1668, 'exchang': 1669, 'ego': 1670, 'sat': 1671, 'zero': 1672, 'punch': 1673, 'covid': 1674, 'speed': 1675, 'failur': 1676, 'east': 1677, 'basi': 1678, 'backlash': 1679, 'intern': 1680, 'dirt': 1681, 'flat': 1682, 'uber': 1683, 'imparti': 1684, 'disgrac': 1685, 'sum': 1686, 'id': 1687, 'poorli': 1688, 'nope': 1689, 'shoot': 1690, 'offend': 1691, 'hardli': 1692, 'belong': 1693, 'recognit': 1694, 'apart': 1695, 'regard': 1696, 'grate': 1697, 'main': 1698, 'pretend': 1699, 'elementari': 1700, 'accid': 1701, 'asf': 1702, 'min': 1703, 'spell': 1704, 'youth': 1705, 'awar': 1706, 'influenc': 1707, 'verbal': 1708, 'beg': 1709, 'cat': 1710, 'privat': 1711, 'people': 1712, 'appropri': 1713, 'six': 1714, 'war': 1715, 'circl': 1716, 'bar': 1717, 'underestim': 1718, 'bright': 1719, 'reform': 1720, 'yay': 1721, 'cmon': 1722, 'stage': 1723, 'shouldnt': 1724, 'schoolmat': 1725, 'meanwhil': 1726, 'monster': 1727, 'yuck': 1728, 'had': 1729, 'eight': 1730, 'belittl': 1731, 'mandatori': 1732, 'bother': 1733, 'resolv': 1734, 'ice': 1735, 'liar': 1736, 'corpor': 1737, 'gate': 1738, 'regular': 1739, 'aggress': 1740, 'fell': 1741, 'nearli': 1742, 'motherfuck': 1743, 'chines': 1744, 'glazer': 1745, 'curs': 1746, 'convers': 1747, 'highli': 1748, 'guilt': 1749, 'accident': 1750, 'wall': 1751, 'oof': 1752, 'describ': 1753, 'list': 1754, 'scream': 1755, 'religion': 1756, 'bravo': 1757, 'previou': 1758, 'minor': 1759, 'epic': 1760, 'refer': 1761, 'recov': 1762, 'land': 1763, 'request': 1764, 'reap': 1765, 'ear': 1766, 'remov': 1767, 'poetic': 1768, 'this': 1769, 'repli': 1770, 'rain': 1771, 'capit': 1772, 'afterward': 1773, 'salvat': 1774, 'ghost': 1775, 'favor': 1776, 'profit': 1777, 'screen': 1778, 'properli': 1779, 'dough': 1780, 'sympathi': 1781, 'anger': 1782, 'outta': 1783, 'shed': 1784, 'each': 1785, 'damag': 1786, 'suit': 1787, 'feminist': 1788, 'sinner': 1789, 'thug': 1790, 'floor': 1791, 'decad': 1792, 'redempt': 1793, 'north': 1794, 'joint': 1795, 'couldnt': 1796, 'wash': 1797, 'energi': 1798, 'smoke': 1799, 'perfectli': 1800, 'hatr': 1801, 'ummm': 1802, 'ahh': 1803, 'graduat': 1804, 'thier': 1805, 'counti': 1806, 'bia': 1807, 'dangl': 1808, 'divid': 1809, 'civil': 1810, 'spoken': 1811, 'topic': 1812, 'gestur': 1813, 'overreact': 1814, 'plz': 1815, 'silli': 1816, 'outrag': 1817, 'repres': 1818, 'imag': 1819, 'breath': 1820, 'bum': 1821, 'tend': 1822, 'v': 1823, 'interview': 1824, 'change': 1825, 'slow': 1826, 'file': 1827, 'worthi': 1828, 'duti': 1829, 'itself': 1830, 'reject': 1831, 'crave': 1832, 'station': 1833, 'inmat': 1834, 'constitut': 1835, 'admir': 1836, 'muhammad': 1837, 'advic': 1838, 'grand': 1839, 'volum': 1840, 'salut': 1841, 'messeng': 1842, 'skeleton': 1843, 'el': 1844, 'ohhh': 1845, 'everlast': 1846, 'nerv': 1847, 'entertain': 1848, 'commiss': 1849, 'older': 1850, 'butt': 1851, 'piti': 1852, 'bias': 1853, 'hide': 1854, 'focu': 1855, 'lemon': 1856, 'emerg': 1857, 'obey': 1858, 'fr': 1859, 'fallen': 1860, 'written': 1861, 'capabl': 1862, 'settlement': 1863, 'destin': 1864, 'tht': 1865, 'christma': 1866, 'coz': 1867, 'hardwork': 1868, 'sleazi': 1869, 'pepperoni': 1870, 'per': 1871, 'evid': 1872, 'famou': 1873, 'gentleman': 1874, 'actor': 1875, 'activ': 1876, 'client': 1877, 'fortun': 1878, 'websit': 1879, 'thou': 1880, 'blow': 1881, 'establish': 1882, 'fairli': 1883, 'plenti': 1884, 'perspect': 1885, 'author': 1886, 'yesterday': 1887, 'under': 1888, 'cheer': 1889, 'hood': 1890, 'buri': 1891, 'sourc': 1892, 'truck': 1893, 'hmmm': 1894, 'forgotten': 1895, 'viru': 1896, 'eachoth': 1897, 'achiev': 1898, 'therapist': 1899, 'girlfriend': 1900, 'lit': 1901, 'mindi': 1902, 'norwest': 1903, 'rise': 1904, 'pussi': 1905, 'trashi': 1906, 'initi': 1907, 'nastiest': 1908, 'geez': 1909, 'gratuiti': 1910, 'colour': 1911, 'repeat': 1912, 'noon': 1913, 'via': 1914, 'fuk': 1915, 'site': 1916, 'hidden': 1917, 'nose': 1918, 'anchor': 1919, 'theyr': 1920, 'prevent': 1921, 'burglar': 1922, 'stock': 1923, 'theft': 1924, 'broll': 1925, 'transform': 1926, 'mark': 1927, 'improv': 1928, 'omo': 1929, 'speech': 1930, 'dress': 1931, 'gather': 1932, 'foul': 1933, 'sack': 1934, 'lift': 1935, 'lmaoo': 1936, 'tha': 1937, 'hack': 1938, 'heavi': 1939, 'massiv': 1940, 'throughout': 1941, 'integr': 1942, 'bench': 1943, 'mon': 1944, 'accent': 1945, 'someday': 1946, 'join': 1947, 'develop': 1948, 'regist': 1949, 'paycheck': 1950, 'comfort': 1951, 'ff': 1952, 'favourit': 1953, 'smack': 1954, 'hasn': 1955, 'ton': 1956, 'hai': 1957, 'le': 1958, 'straighten': 1959, 'strength': 1960, 'juri': 1961, 'healey': 1962, 'ness': 1963, 'cheat': 1964, 'organ': 1965, 'become': 1966, 'cloth': 1967, 'command': 1968, 'artist': 1969, 'sub': 1970, 'ceo': 1971, 'translat': 1972, 'soooo': 1973, 'di': 1974, 'familiar': 1975, 'whose': 1976, 'cell': 1977, 'stronger': 1978, 'paus': 1979, 'context': 1980, 'flashback': 1981, 'nostalgia': 1982, 'preciou': 1983, 'flow': 1984, 'ahhh': 1985, 'ora': 1986, 'relationship': 1987, 'begotten': 1988, 'specifi': 1989, 'gay': 1990, 'bye': 1991, 'greasi': 1992, 'thin': 1993, 'sucker': 1994, 'nigga': 1995, 'fan': 1996, 'advantag': 1997, 'deliver': 1998, 'ck': 1999, 'iq': 2000}\n",
            "15498\n"
          ]
        }
      ]
    },
    {
      "cell_type": "code",
      "source": [
        "def Padding(review_int, seq_len):\n",
        "    '''\n",
        "    Return features of review_ints, where each review is padded with 0's or truncated to the input seq_length.\n",
        "    '''\n",
        "    features = np.zeros((len(review_int), seq_len), dtype = int)\n",
        "    for i, review in enumerate(review_int):\n",
        "        if len(review) <= seq_len:\n",
        "            zeros = list(np.zeros(seq_len - len(review)))\n",
        "            new = zeros + review\n",
        "        else:\n",
        "            new = review[: seq_len]\n",
        "        features[i, :] = np.array(new)\n",
        "\n",
        "    return features"
      ],
      "metadata": {
        "id": "TGYXLoj_QKZC"
      },
      "execution_count": 54,
      "outputs": []
    },
    {
      "cell_type": "code",
      "source": [
        "import numpy as np\n",
        "max_token_len = 30\n",
        "features = Padding(reviews_int, max_token_len)\n",
        "features_test = Padding(reviews_int_test, max_token_len)\n",
        "print(features[0, :])\n",
        "print(len(features))\n",
        "print(len(features_test))"
      ],
      "metadata": {
        "colab": {
          "base_uri": "https://localhost:8080/"
        },
        "id": "hqxigbwRQe2e",
        "outputId": "7a8c04e3-8e8b-49f9-f1bc-5d71e8fd0286"
      },
      "execution_count": 55,
      "outputs": [
        {
          "output_type": "stream",
          "name": "stdout",
          "text": [
            "[  0   0   0   0   0   0   0   0   0   0   0   0   0   0   0   0   0   0\n",
            "   0   0   0   0   0  30   3 609  33 598  41  81]\n",
            "34278\n",
            "15498\n"
          ]
        }
      ]
    },
    {
      "cell_type": "code",
      "source": [
        "from sklearn.model_selection import train_test_split\n",
        "\n",
        "X_train, X_valid, y_train, y_valid = train_test_split(features, df['sentiment'].to_numpy(),\n",
        "                                                        test_size=0.2, random_state=42,\n",
        "                                                        stratify=df['sentiment'])\n",
        "X_test = features_test\n",
        "y_test = df_test['sentiment'].to_numpy()"
      ],
      "metadata": {
        "id": "oSb6nyv2Qezm"
      },
      "execution_count": 56,
      "outputs": []
    },
    {
      "cell_type": "code",
      "source": [
        "print(X_train[:5])  # Xem 5 hàng đầu tiên của X_train\n",
        "print(y_train[:5])  # Xem 5 giá trị đầu tiên của y_train\n"
      ],
      "metadata": {
        "colab": {
          "base_uri": "https://localhost:8080/"
        },
        "id": "dHRyhuNqRrGD",
        "outputId": "f8bf6d91-1ed4-49ee-a7b2-8b979f8a6651"
      },
      "execution_count": 57,
      "outputs": [
        {
          "output_type": "stream",
          "name": "stdout",
          "text": [
            "[[ 620   42   14  403  429  147  219   10   14  256  287  464   58   11\n",
            "  1153  935  232  156  224   12  396   70  257  136  414   38    8 1485\n",
            "   259    8]\n",
            " [   0    0    0    0    0    0    0    0    0    0    0    0    0    0\n",
            "     0    0    0    0    0    0    0    0    0    0    0    0    0    0\n",
            "     0  123]\n",
            " [   0    0    0    0    0    0    0    0    0    0    0    0    0    0\n",
            "     0    0    0    0    0    0    0    0    0    0    0    0   66  386\n",
            "    41 1925]\n",
            " [   0    0    0    0    0    0    0    0    0    0    0    0    0    0\n",
            "     0    0    0    0    0    0    0    0    0    0    0    0 1799    1\n",
            "    15    5]\n",
            " [   0    0    0    0    0    0    0    0    0    0    0    0    0    0\n",
            "     0    0    0    0    0    0    0    0    0    0    0    0  221   27\n",
            "    22  218]]\n",
            "['negative' 'neutral' 'negative' 'positive' 'negative']\n"
          ]
        }
      ]
    },
    {
      "cell_type": "code",
      "source": [
        "from sklearn.preprocessing import LabelEncoder\n",
        "import numpy as np\n",
        "\n",
        "# Chuyển đổi y_train, y_test, y_valid thành số\n",
        "# ['negative', 'neutral', 'positive'] -> [0, 1, 2]\n",
        "label_encoder = LabelEncoder()\n",
        "y_train = label_encoder.fit_transform(y_train)\n",
        "y_valid = label_encoder.transform(y_valid)\n",
        "y_test = label_encoder.transform(y_test)"
      ],
      "metadata": {
        "id": "zoxFl7zOSDJ2"
      },
      "execution_count": 58,
      "outputs": []
    },
    {
      "cell_type": "code",
      "source": [
        "import torch\n",
        "from torch.utils.data import DataLoader, TensorDataset\n",
        "import torch.nn as nn\n",
        "# create tensor dataset\n",
        "train_data = TensorDataset(torch.from_numpy(X_train), torch.from_numpy(y_train))\n",
        "valid_data = TensorDataset(torch.from_numpy(X_valid), torch.from_numpy(y_valid))\n",
        "test_data = TensorDataset(torch.from_numpy(X_test), torch.from_numpy(y_test))\n",
        "\n",
        "# dataloaders\n",
        "batch_size = 50\n",
        "\n",
        "train_loader = DataLoader(train_data, shuffle=True, batch_size=batch_size)\n",
        "valid_loader = DataLoader(valid_data, shuffle=True, batch_size=batch_size)\n",
        "test_loader = DataLoader(test_data, shuffle=True, batch_size=batch_size)"
      ],
      "metadata": {
        "id": "VhtoZ3pPQew4"
      },
      "execution_count": 61,
      "outputs": []
    },
    {
      "cell_type": "markdown",
      "source": [
        "## Model"
      ],
      "metadata": {
        "id": "oFGhiNjyw6pY"
      }
    },
    {
      "cell_type": "markdown",
      "source": [
        "### Helper"
      ],
      "metadata": {
        "id": "wd2DJokWxsTe"
      }
    },
    {
      "cell_type": "code",
      "source": [
        "def set_seed(seed):\n",
        "    torch.manual_seed(seed)\n",
        "    torch.cuda.manual_seed(seed)\n",
        "    np.random.seed(seed)\n",
        "    random.seed(seed)\n",
        "    torch.backends.cudnn.deterministic = True\n",
        "    torch.backends.cudnn.benchmark = False\n",
        "\n",
        "def accuracy(predictions, labels):\n",
        "    _, preds = torch.max(predictions, 1)\n",
        "    correct = preds.eq(labels.view_as(preds)).sum()\n",
        "    acc = correct.float() / preds.shape[0]\n",
        "    return acc\n",
        "\n",
        "\n",
        "def calculate_accuracy(model, test_loader, device):\n",
        "    model.eval()  # Chuyển mô hình sang chế độ đánh giá (không tính gradient)\n",
        "\n",
        "    correct = 0\n",
        "    total = 0\n",
        "\n",
        "    with torch.no_grad():  # Tắt tính toán gradient để giảm bộ nhớ và tính toán\n",
        "        for inputs, labels in test_loader:\n",
        "            inputs, labels = inputs.to(device), labels.to(device)  # Đưa dữ liệu vào đúng thiết bị\n",
        "\n",
        "            # Khởi tạo trạng thái ẩn\n",
        "            hidden = model.init_hidden(inputs.size(0))\n",
        "            hidden = tuple([each.data for each in hidden])  # Đảm bảo trạng thái ẩn là tensor\n",
        "\n",
        "            # Dự đoán đầu ra từ mô hình\n",
        "            outputs, hidden = model(inputs, hidden)  # Truyền hidden vào mô hình\n",
        "\n",
        "            # Tính độ chính xác cho batch\n",
        "            _, predicted = torch.max(outputs, 1)\n",
        "            total += labels.size(0)\n",
        "            correct += (predicted == labels).sum().item()  # So sánh dự đoán và nhãn thực tế\n",
        "\n",
        "    accuracy = correct / total * 100  # Tính độ chính xác (%) của mô hình\n",
        "    return accuracy\n"
      ],
      "metadata": {
        "id": "bfyTlPmexyOt"
      },
      "execution_count": 87,
      "outputs": []
    },
    {
      "cell_type": "markdown",
      "source": [
        "#### Pretrain Embedding"
      ],
      "metadata": {
        "id": "VUV7m-MCxDDE"
      }
    },
    {
      "cell_type": "markdown",
      "source": [
        "##### GoogleNews-vectors-negative300-SLIM"
      ],
      "metadata": {
        "id": "HBZ4uwvx3tKT"
      }
    },
    {
      "cell_type": "code",
      "source": [
        "from gensim.models import KeyedVectors\n",
        "\n",
        "path_to_google_news = \"pre-trained/GoogleNews-vectors-negative300-SLIM.bin\"\n",
        "\n",
        "google_news_vectors = KeyedVectors.load_word2vec_format(path_to_google_news, binary=True)"
      ],
      "metadata": {
        "id": "bVhB8Us1xGwt"
      },
      "execution_count": 63,
      "outputs": []
    },
    {
      "cell_type": "code",
      "source": [
        "import numpy as np\n",
        "\n",
        "embedding_dim = 300  # GoogleNews vector size\n",
        "vocab_size = len(vocab_to_int) + 1\n",
        "\n",
        "# Khởi tạo ma trận embedding với giá trị ngẫu nhiên\n",
        "embedding_matrix = np.random.uniform(-0.01, 0.01, (vocab_size, embedding_dim))\n",
        "\n",
        "# Lấy embedding cho các từ trong từ điển của bạn\n",
        "for word, idx in vocab_to_int.items():\n",
        "    if word in google_news_vectors.key_to_index:\n",
        "        embedding_matrix[idx] = google_news_vectors[word]\n",
        "\n",
        "# Chuyển ma trận embedding thành tensor\n",
        "embedding_matrix = torch.tensor(embedding_matrix, dtype=torch.float32)"
      ],
      "metadata": {
        "id": "uFaeJVep4YRe"
      },
      "execution_count": 64,
      "outputs": []
    },
    {
      "cell_type": "markdown",
      "source": [
        "### LSTM"
      ],
      "metadata": {
        "id": "DwqTSKCQw9Fo"
      }
    },
    {
      "cell_type": "code",
      "source": [
        "class SentimentLSTM(nn.Module):\n",
        "    def __init__(self, vocab_size, output_size, embedding_dim, hidden_dim, n_layers, drop_prob=0.2):\n",
        "        super(SentimentLSTM, self).__init__()\n",
        "        self.output_size = output_size\n",
        "        self.n_layers = n_layers\n",
        "        self.hidden_dim = hidden_dim\n",
        "\n",
        "        self.embedding = nn.Embedding(vocab_size, embedding_dim)\n",
        "        self.lstm = nn.LSTM(embedding_dim, hidden_dim, n_layers,dropout=drop_prob, batch_first=True)\n",
        "\n",
        "        self.dropout = nn.Dropout(0.1)\n",
        "        self.fc = nn.Linear(hidden_dim, output_size)\n",
        "        self.softmax = nn.Softmax(dim=1)\n",
        "\n",
        "    def forward(self, x, hidden):\n",
        "        batch_size = x.size(0)\n",
        "        x = x.long()\n",
        "\n",
        "        embeds = self.embedding(x)\n",
        "        lstm_out, hidden = self.lstm(embeds, hidden)\n",
        "\n",
        "        lstm_out = lstm_out.contiguous().view(-1, self.hidden_dim)\n",
        "\n",
        "        out = self.dropout(lstm_out)\n",
        "        out = self.fc(out)\n",
        "\n",
        "        soft_out = self.softmax(out)\n",
        "        soft_out = soft_out.view(batch_size, -1, self.output_size)\n",
        "        soft_out = soft_out[:, -1]\n",
        "\n",
        "        return soft_out, hidden\n",
        "\n",
        "    def init_hidden(self, batch_size):\n",
        "        weight = next(self.parameters()).data\n",
        "        hidden = (weight.new(self.n_layers, batch_size, self.hidden_dim).zero_(),\n",
        "                  weight.new(self.n_layers, batch_size, self.hidden_dim).zero_())\n",
        "        return hidden"
      ],
      "metadata": {
        "id": "nmLNk_GcQem3"
      },
      "execution_count": 65,
      "outputs": []
    },
    {
      "cell_type": "code",
      "source": [
        "# Hyperparameters\n",
        "vocab_size = len(vocab_to_int) + 1\n",
        "output_size = 3  # 0, 1, 2\n",
        "embedding_dim = 64\n",
        "hidden_dim = 128\n",
        "n_layers = 2\n",
        "model = SentimentLSTM(vocab_size, output_size, embedding_dim, hidden_dim, n_layers, drop_prob=0.5)\n",
        "print(model)"
      ],
      "metadata": {
        "colab": {
          "base_uri": "https://localhost:8080/"
        },
        "id": "zTv6J3-RIlzc",
        "outputId": "cd85b0ed-83ae-4d7f-9948-c062eb6c9b43"
      },
      "execution_count": 66,
      "outputs": [
        {
          "output_type": "stream",
          "name": "stdout",
          "text": [
            "SentimentLSTM(\n",
            "  (embedding): Embedding(2001, 64)\n",
            "  (lstm): LSTM(64, 128, num_layers=2, batch_first=True, dropout=0.5)\n",
            "  (dropout): Dropout(p=0.1, inplace=False)\n",
            "  (fc): Linear(in_features=128, out_features=3, bias=True)\n",
            "  (softmax): Softmax(dim=1)\n",
            ")\n"
          ]
        }
      ]
    },
    {
      "cell_type": "code",
      "source": [
        "set_seed(42)\n",
        "model.to(device)\n",
        "\n",
        "epoch_tr_loss, epoch_vl_loss = [], []\n",
        "epoch_tr_acc, epoch_vl_acc = [], []\n",
        "\n",
        "# Hyperparameters\n",
        "epochs = 30\n",
        "lr = 0.001\n",
        "clip = 5  # gradient clipping\n",
        "\n",
        "criterion = nn.CrossEntropyLoss()\n",
        "optimizer = optim.Adam(model.parameters(), lr=lr)\n",
        "\n",
        "# Training loop\n",
        "for epoch in range(epochs):\n",
        "    train_losses = []\n",
        "    train_accs = []\n",
        "    model.train()\n",
        "\n",
        "    for inputs, labels in train_loader:\n",
        "        inputs, labels = inputs.to(device), labels.to(device)\n",
        "\n",
        "        # Khởi tạo trạng thái ẩn\n",
        "        h = model.init_hidden(inputs.size(0))\n",
        "        h = tuple([each.data for each in h])\n",
        "        model.zero_grad()\n",
        "\n",
        "        output, h = model(inputs, h)\n",
        "        loss = criterion(output, labels)\n",
        "        loss.backward()\n",
        "        nn.utils.clip_grad_norm_(model.parameters(), clip)\n",
        "        optimizer.step()\n",
        "\n",
        "        train_losses.append(loss.item())\n",
        "        train_accs.append(accuracy(output, labels).item())\n",
        "\n",
        "    val_losses = []\n",
        "    val_accs = []\n",
        "    model.eval()\n",
        "    with torch.no_grad():\n",
        "        for inputs, labels in valid_loader:\n",
        "            inputs, labels = inputs.to(device), labels.to(device)\n",
        "\n",
        "            # Khởi tạo trạng thái ẩn\n",
        "            val_h = model.init_hidden(inputs.size(0))\n",
        "            val_h = tuple([each.data for each in val_h])\n",
        "            output, val_h = model(inputs, val_h)\n",
        "            val_loss = criterion(output, labels)\n",
        "\n",
        "            val_losses.append(val_loss.item())\n",
        "            val_accs.append(accuracy(output, labels).item())\n",
        "\n",
        "    epoch_train_loss = np.mean(train_losses)\n",
        "    epoch_val_loss = np.mean(val_losses)\n",
        "    epoch_train_acc = np.mean(train_accs)\n",
        "    epoch_val_acc = np.mean(val_accs)\n",
        "\n",
        "    epoch_tr_loss.append(epoch_train_loss)\n",
        "    epoch_vl_loss.append(epoch_val_loss)\n",
        "    epoch_tr_acc.append(epoch_train_acc)\n",
        "    epoch_vl_acc.append(epoch_val_acc)\n",
        "\n",
        "    # Print training/validation statistics\n",
        "    print(f\"Epoch: {epoch+1}/{epochs}... \"\n",
        "          f\"Train Loss: {epoch_train_loss:.6f}... \"\n",
        "          f\"Val Loss: {epoch_val_loss:.6f}... \"\n",
        "          f\"Train Acc: {epoch_train_acc * 100:.2f}%... \"\n",
        "          f\"Val Acc: {epoch_val_acc * 100:.2f}%\")\n",
        "\n",
        "    torch.save(model.state_dict(), f\"weights/LSTM/weight_{epoch}.pth\")"
      ],
      "metadata": {
        "colab": {
          "base_uri": "https://localhost:8080/"
        },
        "id": "_mBAfOp0Q4RW",
        "outputId": "59156386-8bf6-48a2-f219-b28647d6de68"
      },
      "execution_count": 67,
      "outputs": [
        {
          "output_type": "stream",
          "name": "stdout",
          "text": [
            "Epoch: 1/30... Train Loss: 0.973495... Val Loss: 0.920403... Train Acc: 55.29%... Val Acc: 61.53%\n",
            "Epoch: 2/30... Train Loss: 0.879308... Val Loss: 0.874702... Train Acc: 66.07%... Val Acc: 66.40%\n",
            "Epoch: 3/30... Train Loss: 0.842629... Val Loss: 0.870324... Train Acc: 70.11%... Val Acc: 67.08%\n",
            "Epoch: 4/30... Train Loss: 0.821886... Val Loss: 0.862616... Train Acc: 72.31%... Val Acc: 68.02%\n",
            "Epoch: 5/30... Train Loss: 0.806888... Val Loss: 0.857931... Train Acc: 73.87%... Val Acc: 68.63%\n",
            "Epoch: 6/30... Train Loss: 0.794293... Val Loss: 0.850342... Train Acc: 75.30%... Val Acc: 69.24%\n",
            "Epoch: 7/30... Train Loss: 0.782257... Val Loss: 0.848300... Train Acc: 76.44%... Val Acc: 69.58%\n",
            "Epoch: 8/30... Train Loss: 0.773867... Val Loss: 0.845968... Train Acc: 77.34%... Val Acc: 69.87%\n",
            "Epoch: 9/30... Train Loss: 0.765729... Val Loss: 0.845020... Train Acc: 78.31%... Val Acc: 69.82%\n",
            "Epoch: 10/30... Train Loss: 0.760728... Val Loss: 0.847841... Train Acc: 78.84%... Val Acc: 69.72%\n",
            "Epoch: 11/30... Train Loss: 0.753173... Val Loss: 0.844674... Train Acc: 79.53%... Val Acc: 70.06%\n",
            "Epoch: 12/30... Train Loss: 0.743361... Val Loss: 0.845927... Train Acc: 80.62%... Val Acc: 69.92%\n",
            "Epoch: 13/30... Train Loss: 0.738797... Val Loss: 0.841801... Train Acc: 81.04%... Val Acc: 70.31%\n",
            "Epoch: 14/30... Train Loss: 0.736223... Val Loss: 0.844099... Train Acc: 81.30%... Val Acc: 70.15%\n",
            "Epoch: 15/30... Train Loss: 0.728006... Val Loss: 0.845721... Train Acc: 82.22%... Val Acc: 70.03%\n",
            "Epoch: 16/30... Train Loss: 0.726368... Val Loss: 0.842567... Train Acc: 82.28%... Val Acc: 70.38%\n",
            "Epoch: 17/30... Train Loss: 0.721873... Val Loss: 0.842899... Train Acc: 82.83%... Val Acc: 70.43%\n",
            "Epoch: 18/30... Train Loss: 0.716957... Val Loss: 0.843743... Train Acc: 83.34%... Val Acc: 70.26%\n",
            "Epoch: 19/30... Train Loss: 0.716529... Val Loss: 0.842576... Train Acc: 83.31%... Val Acc: 70.56%\n",
            "Epoch: 20/30... Train Loss: 0.710690... Val Loss: 0.841229... Train Acc: 84.00%... Val Acc: 70.66%\n",
            "Epoch: 21/30... Train Loss: 0.710411... Val Loss: 0.841275... Train Acc: 83.97%... Val Acc: 70.49%\n",
            "Epoch: 22/30... Train Loss: 0.704111... Val Loss: 0.840214... Train Acc: 84.61%... Val Acc: 70.89%\n",
            "Epoch: 23/30... Train Loss: 0.704967... Val Loss: 0.845540... Train Acc: 84.57%... Val Acc: 70.21%\n",
            "Epoch: 24/30... Train Loss: 0.700662... Val Loss: 0.841154... Train Acc: 84.99%... Val Acc: 70.59%\n",
            "Epoch: 25/30... Train Loss: 0.698951... Val Loss: 0.837995... Train Acc: 85.13%... Val Acc: 70.99%\n",
            "Epoch: 26/30... Train Loss: 0.696003... Val Loss: 0.840542... Train Acc: 85.41%... Val Acc: 70.73%\n",
            "Epoch: 27/30... Train Loss: 0.696583... Val Loss: 0.841796... Train Acc: 85.38%... Val Acc: 70.66%\n",
            "Epoch: 28/30... Train Loss: 0.696189... Val Loss: 0.841083... Train Acc: 85.34%... Val Acc: 70.65%\n",
            "Epoch: 29/30... Train Loss: 0.692928... Val Loss: 0.842124... Train Acc: 85.73%... Val Acc: 70.62%\n",
            "Epoch: 30/30... Train Loss: 0.688039... Val Loss: 0.843639... Train Acc: 86.25%... Val Acc: 70.44%\n"
          ]
        }
      ]
    },
    {
      "cell_type": "code",
      "source": [
        "fig = plt.figure(figsize=(10, 6))\n",
        "\n",
        "plt.subplot(1, 2, 1)\n",
        "plt.plot(epoch_tr_acc, label='Train Acc')\n",
        "plt.plot(epoch_vl_acc, label='Validation Acc')\n",
        "plt.title(\"Accuracy\")\n",
        "plt.legend()\n",
        "plt.grid()\n",
        "\n",
        "plt.subplot(1, 2, 2)\n",
        "plt.plot(epoch_tr_loss, label='Train loss')\n",
        "plt.plot(epoch_vl_loss, label='Validation loss')\n",
        "plt.title(\"Loss\")\n",
        "plt.legend()\n",
        "plt.grid()\n",
        "\n",
        "plt.show()"
      ],
      "metadata": {
        "id": "f1gz9DdNQ4Ou",
        "colab": {
          "base_uri": "https://localhost:8080/",
          "height": 536
        },
        "outputId": "cd23421c-da8f-4d7a-e836-56693f35c656"
      },
      "execution_count": 68,
      "outputs": [
        {
          "output_type": "display_data",
          "data": {
            "text/plain": [
              "<Figure size 1000x600 with 2 Axes>"
            ],
            "image/png": "[encoded data removed]"
          },
          "metadata": {}
        }
      ]
    },
    {
      "cell_type": "code",
      "source": [
        "# model.load_state_dict(torch.load('weights/LSTM/weight_{epoch}.pth'))"
      ],
      "metadata": {
        "id": "ZzeuzMKi4Az6"
      },
      "execution_count": null,
      "outputs": []
    },
    {
      "cell_type": "code",
      "source": [
        "calculate_accuracy(model, test_loader, device)"
      ],
      "metadata": {
        "colab": {
          "base_uri": "https://localhost:8080/"
        },
        "id": "D23j_WtXtoRt",
        "outputId": "88238cc8-8acf-4142-9665-b44e486601db"
      },
      "execution_count": 109,
      "outputs": [
        {
          "output_type": "execute_result",
          "data": {
            "text/plain": [
              "70.29294102464834"
            ]
          },
          "metadata": {},
          "execution_count": 109
        }
      ]
    },
    {
      "cell_type": "code",
      "source": [
        "def predict_text(text):\n",
        "        text = preprocess_text(text)\n",
        "        r = [[vocab_to_int[word] for word in text.split() if word in vocab_to_int]]\n",
        "        pad = Padding(r,30)\n",
        "        inputs = torch.tensor(pad).to(device)\n",
        "        batch_size = 1\n",
        "        h = model.init_hidden(batch_size)\n",
        "        h = tuple([each.data for each in h])\n",
        "        output, h = model(inputs, h)\n",
        "        return torch.argmax(output, dim=1).item()\n",
        "\n",
        "predict_text(\"i hate you\")"
      ],
      "metadata": {
        "colab": {
          "base_uri": "https://localhost:8080/"
        },
        "id": "5Fl8YqaisQgi",
        "outputId": "d2dccf5f-1f5c-4d68-90c3-0a6451e1bb54"
      },
      "execution_count": 108,
      "outputs": [
        {
          "output_type": "execute_result",
          "data": {
            "text/plain": [
              "0"
            ]
          },
          "metadata": {},
          "execution_count": 108
        }
      ]
    },
    {
      "cell_type": "markdown",
      "source": [
        "### LSTM + Pre-trained Embedding"
      ],
      "metadata": {
        "id": "ddh6tm724o79"
      }
    },
    {
      "cell_type": "code",
      "source": [
        "class SentimentLSTM(nn.Module):\n",
        "    def __init__(self, vocab_size, output_size, embedding_dim, hidden_dim, n_layers, drop_prob=0.2):\n",
        "        super(SentimentLSTM, self).__init__()\n",
        "        self.output_size = output_size\n",
        "        self.n_layers = n_layers\n",
        "        self.hidden_dim = hidden_dim\n",
        "\n",
        "        self.embedding = nn.Embedding(vocab_size, embedding_dim)\n",
        "        self.lstm = nn.LSTM(embedding_dim, hidden_dim, n_layers,dropout=drop_prob, batch_first=True)\n",
        "\n",
        "        self.dropout = nn.Dropout(0.1)\n",
        "        self.fc = nn.Linear(hidden_dim, output_size)\n",
        "        self.softmax = nn.Softmax(dim=1)\n",
        "\n",
        "    def forward(self, x, hidden):\n",
        "        batch_size = x.size(0)\n",
        "        x = x.long()\n",
        "\n",
        "        embeds = self.embedding(x)\n",
        "        lstm_out, hidden = self.lstm(embeds, hidden)\n",
        "\n",
        "        lstm_out = lstm_out.contiguous().view(-1, self.hidden_dim)\n",
        "\n",
        "        out = self.dropout(lstm_out)\n",
        "        out = self.fc(out)\n",
        "\n",
        "        soft_out = self.softmax(out)\n",
        "\n",
        "        soft_out = soft_out.view(batch_size, -1, self.output_size)\n",
        "        soft_out = soft_out[:, -1]\n",
        "\n",
        "        return soft_out, hidden\n",
        "\n",
        "    def init_hidden(self, batch_size):\n",
        "        weight = next(self.parameters()).data\n",
        "        hidden = (weight.new(self.n_layers, batch_size, self.hidden_dim).zero_(),\n",
        "                  weight.new(self.n_layers, batch_size, self.hidden_dim).zero_())\n",
        "        return hidden"
      ],
      "metadata": {
        "id": "1W4c3mf-Q4JZ"
      },
      "execution_count": 113,
      "outputs": []
    },
    {
      "cell_type": "code",
      "source": [
        "# Hyperparameters\n",
        "vocab_size = len(vocab_to_int) + 1\n",
        "output_size = 3\n",
        "embedding_dim = 300\n",
        "hidden_dim = 128\n",
        "n_layers = 2\n",
        "model = SentimentLSTM(vocab_size, output_size, embedding_dim, hidden_dim, n_layers, drop_prob=0.2)\n",
        "model.embedding = nn.Embedding.from_pretrained(embedding_matrix, freeze=True)  # freeze=True để giữ nguyên trọng số\n",
        "print(model)"
      ],
      "metadata": {
        "id": "1PlM1XtKQ-z1",
        "colab": {
          "base_uri": "https://localhost:8080/"
        },
        "outputId": "496e0a58-3130-4b17-95e2-e17f0faf1645"
      },
      "execution_count": 114,
      "outputs": [
        {
          "output_type": "stream",
          "name": "stdout",
          "text": [
            "SentimentLSTM(\n",
            "  (embedding): Embedding(2001, 300)\n",
            "  (lstm): LSTM(300, 128, num_layers=2, batch_first=True, dropout=0.2)\n",
            "  (dropout): Dropout(p=0.1, inplace=False)\n",
            "  (fc): Linear(in_features=128, out_features=3, bias=True)\n",
            "  (softmax): Softmax(dim=1)\n",
            ")\n"
          ]
        }
      ]
    },
    {
      "cell_type": "code",
      "source": [
        "set_seed(42)\n",
        "model.to(device)\n",
        "\n",
        "epoch_tr_loss, epoch_vl_loss = [], []\n",
        "epoch_tr_acc, epoch_vl_acc = [], []\n",
        "\n",
        "# Hyperparameters\n",
        "epochs = 30\n",
        "lr = 0.001\n",
        "clip = 5  # gradient clipping\n",
        "\n",
        "criterion = nn.CrossEntropyLoss()\n",
        "optimizer = optim.Adam(model.parameters(), lr=lr)\n",
        "\n",
        "# Training loop\n",
        "for epoch in range(epochs):\n",
        "    train_losses = []\n",
        "    train_accs = []\n",
        "    model.train()\n",
        "\n",
        "    for inputs, labels in train_loader:\n",
        "        inputs, labels = inputs.to(device), labels.to(device)\n",
        "\n",
        "        # Khởi tạo trạng thái ẩn\n",
        "        h = model.init_hidden(inputs.size(0))\n",
        "        h = tuple([each.data for each in h])\n",
        "        model.zero_grad()\n",
        "\n",
        "        output, h = model(inputs, h)\n",
        "        loss = criterion(output, labels)\n",
        "        loss.backward()\n",
        "        nn.utils.clip_grad_norm_(model.parameters(), clip)\n",
        "        optimizer.step()\n",
        "\n",
        "        train_losses.append(loss.item())\n",
        "        train_accs.append(accuracy(output, labels).item())\n",
        "\n",
        "    val_losses = []\n",
        "    val_accs = []\n",
        "    model.eval()\n",
        "    with torch.no_grad():\n",
        "        for inputs, labels in valid_loader:\n",
        "            inputs, labels = inputs.to(device), labels.to(device)\n",
        "\n",
        "            # Khởi tạo trạng thái ẩn\n",
        "            val_h = model.init_hidden(inputs.size(0))\n",
        "            val_h = tuple([each.data for each in val_h])\n",
        "            output, val_h = model(inputs, val_h)\n",
        "            val_loss = criterion(output, labels)\n",
        "\n",
        "            val_losses.append(val_loss.item())\n",
        "            val_accs.append(accuracy(output, labels).item())\n",
        "\n",
        "    epoch_train_loss = np.mean(train_losses)\n",
        "    epoch_val_loss = np.mean(val_losses)\n",
        "    epoch_train_acc = np.mean(train_accs)\n",
        "    epoch_val_acc = np.mean(val_accs)\n",
        "\n",
        "    epoch_tr_loss.append(epoch_train_loss)\n",
        "    epoch_vl_loss.append(epoch_val_loss)\n",
        "    epoch_tr_acc.append(epoch_train_acc)\n",
        "    epoch_vl_acc.append(epoch_val_acc)\n",
        "\n",
        "    # Print training/validation statistics\n",
        "    print(f\"Epoch: {epoch+1}/{epochs}... \"\n",
        "          f\"Train Loss: {epoch_train_loss:.6f}... \"\n",
        "          f\"Val Loss: {epoch_val_loss:.6f}... \"\n",
        "          f\"Train Acc: {epoch_train_acc * 100:.2f}%... \"\n",
        "          f\"Val Acc: {epoch_val_acc * 100:.2f}%\")\n",
        "\n",
        "    torch.save(model.state_dict(), f\"weights/LSTM_Pre-trained/weight_{epoch}.pth\")"
      ],
      "metadata": {
        "id": "eL_BnhrLQ-w2",
        "colab": {
          "base_uri": "https://localhost:8080/"
        },
        "outputId": "9e41c715-aa1a-45a6-9f0a-059cd5557167"
      },
      "execution_count": 115,
      "outputs": [
        {
          "output_type": "stream",
          "name": "stdout",
          "text": [
            "Epoch: 1/30... Train Loss: 0.961464... Val Loss: 0.965523... Train Acc: 56.78%... Val Acc: 57.43%\n",
            "Epoch: 2/30... Train Loss: 0.903009... Val Loss: 0.920197... Train Acc: 63.85%... Val Acc: 61.68%\n",
            "Epoch: 3/30... Train Loss: 0.883409... Val Loss: 0.894914... Train Acc: 65.83%... Val Acc: 64.51%\n",
            "Epoch: 4/30... Train Loss: 0.879407... Val Loss: 0.892789... Train Acc: 66.43%... Val Acc: 64.56%\n",
            "Epoch: 5/30... Train Loss: 0.868281... Val Loss: 0.884817... Train Acc: 67.49%... Val Acc: 65.56%\n",
            "Epoch: 6/30... Train Loss: 0.863647... Val Loss: 0.891792... Train Acc: 67.87%... Val Acc: 64.86%\n",
            "Epoch: 7/30... Train Loss: 0.859054... Val Loss: 0.885984... Train Acc: 68.38%... Val Acc: 65.35%\n",
            "Epoch: 8/30... Train Loss: 0.856127... Val Loss: 0.884673... Train Acc: 68.84%... Val Acc: 65.62%\n",
            "Epoch: 9/30... Train Loss: 0.851571... Val Loss: 0.890692... Train Acc: 69.17%... Val Acc: 65.07%\n",
            "Epoch: 10/30... Train Loss: 0.844497... Val Loss: 0.883202... Train Acc: 69.98%... Val Acc: 65.58%\n",
            "Epoch: 11/30... Train Loss: 0.842952... Val Loss: 0.876706... Train Acc: 70.18%... Val Acc: 66.18%\n",
            "Epoch: 12/30... Train Loss: 0.836107... Val Loss: 0.878317... Train Acc: 70.83%... Val Acc: 66.05%\n",
            "Epoch: 13/30... Train Loss: 0.837814... Val Loss: 0.879076... Train Acc: 70.72%... Val Acc: 66.56%\n",
            "Epoch: 14/30... Train Loss: 0.827886... Val Loss: 0.878012... Train Acc: 71.82%... Val Acc: 66.57%\n",
            "Epoch: 15/30... Train Loss: 0.821512... Val Loss: 0.873752... Train Acc: 72.48%... Val Acc: 66.69%\n",
            "Epoch: 16/30... Train Loss: 0.818214... Val Loss: 0.873488... Train Acc: 72.87%... Val Acc: 66.79%\n",
            "Epoch: 17/30... Train Loss: 0.811379... Val Loss: 0.877246... Train Acc: 73.55%... Val Acc: 66.60%\n",
            "Epoch: 18/30... Train Loss: 0.808426... Val Loss: 0.875855... Train Acc: 73.93%... Val Acc: 66.72%\n",
            "Epoch: 19/30... Train Loss: 0.804036... Val Loss: 0.878429... Train Acc: 74.37%... Val Acc: 66.62%\n",
            "Epoch: 20/30... Train Loss: 0.803001... Val Loss: 0.873051... Train Acc: 74.42%... Val Acc: 66.82%\n",
            "Epoch: 21/30... Train Loss: 0.795281... Val Loss: 0.872011... Train Acc: 75.27%... Val Acc: 67.13%\n",
            "Epoch: 22/30... Train Loss: 0.791178... Val Loss: 0.874916... Train Acc: 75.78%... Val Acc: 66.69%\n",
            "Epoch: 23/30... Train Loss: 0.788265... Val Loss: 0.874637... Train Acc: 76.05%... Val Acc: 66.92%\n",
            "Epoch: 24/30... Train Loss: 0.782920... Val Loss: 0.872573... Train Acc: 76.58%... Val Acc: 67.07%\n",
            "Epoch: 25/30... Train Loss: 0.780050... Val Loss: 0.879809... Train Acc: 76.89%... Val Acc: 66.42%\n",
            "Epoch: 26/30... Train Loss: 0.775254... Val Loss: 0.884001... Train Acc: 77.38%... Val Acc: 65.92%\n",
            "Epoch: 27/30... Train Loss: 0.773304... Val Loss: 0.874276... Train Acc: 77.59%... Val Acc: 67.04%\n",
            "Epoch: 28/30... Train Loss: 0.770471... Val Loss: 0.876300... Train Acc: 77.82%... Val Acc: 66.82%\n",
            "Epoch: 29/30... Train Loss: 0.765797... Val Loss: 0.876123... Train Acc: 78.41%... Val Acc: 66.88%\n",
            "Epoch: 30/30... Train Loss: 0.760161... Val Loss: 0.872120... Train Acc: 78.99%... Val Acc: 67.34%\n"
          ]
        }
      ]
    },
    {
      "cell_type": "code",
      "source": [
        "fig = plt.figure(figsize=(10, 6))\n",
        "\n",
        "plt.subplot(1, 2, 1)\n",
        "plt.plot(epoch_tr_acc, label='Train Acc')\n",
        "plt.plot(epoch_vl_acc, label='Validation Acc')\n",
        "plt.title(\"Accuracy\")\n",
        "plt.legend()\n",
        "plt.grid()\n",
        "\n",
        "plt.subplot(1, 2, 2)\n",
        "plt.plot(epoch_tr_loss, label='Train loss')\n",
        "plt.plot(epoch_vl_loss, label='Validation loss')\n",
        "plt.title(\"Loss\")\n",
        "plt.legend()\n",
        "plt.grid()\n",
        "\n",
        "plt.show()"
      ],
      "metadata": {
        "id": "rYiePGsgQ-uH",
        "colab": {
          "base_uri": "https://localhost:8080/",
          "height": 565
        },
        "outputId": "616d1ba7-945f-4cd9-f9ac-739dc84858a3"
      },
      "execution_count": 116,
      "outputs": [
        {
          "output_type": "display_data",
          "data": {
            "text/plain": [
              "<Figure size 1000x600 with 2 Axes>"
            ],
            "image/png": "[encoded data removed]"
          },
          "metadata": {}
        }
      ]
    },
    {
      "cell_type": "code",
      "source": [
        "model.load_state_dict(torch.load('weights/LSTM_Pre-trained/weight_29.pth'))"
      ],
      "metadata": {
        "colab": {
          "base_uri": "https://localhost:8080/"
        },
        "id": "TlSfGpjw3j_U",
        "outputId": "026baaa8-b1e4-413a-e315-4d1a065e5b4f"
      },
      "execution_count": 117,
      "outputs": [
        {
          "output_type": "stream",
          "name": "stderr",
          "text": [
            "<ipython-input-117-13e06fe2972b>:1: FutureWarning: You are using `torch.load` with `weights_only=False` (the current default value), which uses the default pickle module implicitly. It is possible to construct malicious pickle data which will execute arbitrary code during unpickling (See https://github.com/pytorch/pytorch/blob/main/SECURITY.md#untrusted-models for more details). In a future release, the default value for `weights_only` will be flipped to `True`. This limits the functions that could be executed during unpickling. Arbitrary objects will no longer be allowed to be loaded via this mode unless they are explicitly allowlisted by the user via `torch.serialization.add_safe_globals`. We recommend you start setting `weights_only=True` for any use case where you don't have full control of the loaded file. Please open an issue on GitHub for any issues related to this experimental feature.\n",
            "  model.load_state_dict(torch.load('weights/LSTM_Pre-trained/weight_29.pth'))\n"
          ]
        },
        {
          "output_type": "execute_result",
          "data": {
            "text/plain": [
              "<All keys matched successfully>"
            ]
          },
          "metadata": {},
          "execution_count": 117
        }
      ]
    },
    {
      "cell_type": "code",
      "source": [
        "calculate_accuracy(model, test_loader, device)"
      ],
      "metadata": {
        "colab": {
          "base_uri": "https://localhost:8080/"
        },
        "id": "ggZSSB9M3j8R",
        "outputId": "c67fc5ed-e29a-41df-d8a8-bbc7a814b442"
      },
      "execution_count": 118,
      "outputs": [
        {
          "output_type": "execute_result",
          "data": {
            "text/plain": [
              "68.55723319137952"
            ]
          },
          "metadata": {},
          "execution_count": 118
        }
      ]
    },
    {
      "cell_type": "code",
      "source": [
        "def predict_text(text):\n",
        "        text = preprocess_text(text)\n",
        "        r = [[vocab_to_int[word] for word in text.split() if word in vocab_to_int]]\n",
        "        pad = Padding(r,30)\n",
        "        inputs = torch.tensor(pad).to(device)\n",
        "        batch_size = 1\n",
        "        h = model.init_hidden(batch_size)\n",
        "        h = tuple([each.data for each in h])\n",
        "        output, h = model(inputs, h)\n",
        "        return torch.argmax(output, dim=1).item()\n",
        "\n",
        "predict_text(\"i love you\")"
      ],
      "metadata": {
        "colab": {
          "base_uri": "https://localhost:8080/"
        },
        "id": "eR9b8s3C4xec",
        "outputId": "09cb3ae1-b77e-4863-bea9-a5baacf419bd"
      },
      "execution_count": 119,
      "outputs": [
        {
          "output_type": "execute_result",
          "data": {
            "text/plain": [
              "2"
            ]
          },
          "metadata": {},
          "execution_count": 119
        }
      ]
    },
    {
      "cell_type": "markdown",
      "source": [
        "### Bidirectional LSTM"
      ],
      "metadata": {
        "id": "IYfGAKVW5-j7"
      }
    },
    {
      "cell_type": "code",
      "source": [
        "class SentimentLSTM(nn.Module):\n",
        "    def __init__(self, vocab_size, output_size, embedding_dim, hidden_dim, n_layers, drop_prob=0.2):\n",
        "        super(SentimentLSTM, self).__init__()\n",
        "        self.output_size = output_size\n",
        "        self.n_layers = n_layers\n",
        "        self.hidden_dim = hidden_dim\n",
        "\n",
        "        self.embedding = nn.Embedding(vocab_size, embedding_dim)\n",
        "        self.lstm = nn.LSTM(embedding_dim, hidden_dim, n_layers,dropout=drop_prob, batch_first=True, bidirectional=True)\n",
        "\n",
        "        self.dropout = nn.Dropout(0.1)\n",
        "        self.fc = nn.Linear(hidden_dim * 2, output_size)\n",
        "        self.softmax = nn.Softmax(dim=1)\n",
        "\n",
        "    def forward(self, x, hidden):\n",
        "        batch_size = x.size(0)\n",
        "        x = x.long()\n",
        "\n",
        "        embeds = self.embedding(x)\n",
        "        lstm_out, hidden = self.lstm(embeds, hidden)\n",
        "        lstm_out = lstm_out.contiguous().view(-1, self.hidden_dim * 2)\n",
        "\n",
        "        out = self.dropout(lstm_out)\n",
        "        out = self.fc(out)\n",
        "\n",
        "        soft_out = self.softmax(out)\n",
        "        soft_out = soft_out.view(batch_size, -1, self.output_size)\n",
        "        soft_out = soft_out[:, -1]\n",
        "\n",
        "        return soft_out, hidden\n",
        "\n",
        "    def init_hidden(self, batch_size):\n",
        "        weight = next(self.parameters()).data\n",
        "        hidden = (weight.new(self.n_layers * 2, batch_size, self.hidden_dim).zero_(),\n",
        "                  weight.new(self.n_layers * 2, batch_size, self.hidden_dim).zero_())\n",
        "        return hidden"
      ],
      "metadata": {
        "id": "kDV4Wzt5XTpU"
      },
      "execution_count": 128,
      "outputs": []
    },
    {
      "cell_type": "code",
      "source": [
        "# Hyperparameters\n",
        "vocab_size = len(vocab_to_int) + 1\n",
        "output_size = 3\n",
        "embedding_dim = 64\n",
        "hidden_dim = 128\n",
        "n_layers = 2\n",
        "model = SentimentLSTM(vocab_size, output_size, embedding_dim, hidden_dim, n_layers, drop_prob=0.5)\n",
        "print(model)"
      ],
      "metadata": {
        "colab": {
          "base_uri": "https://localhost:8080/"
        },
        "id": "s269d5PlXvdL",
        "outputId": "07bdb76b-0bea-48d6-aa8e-da1b405d7640"
      },
      "execution_count": 129,
      "outputs": [
        {
          "output_type": "stream",
          "name": "stdout",
          "text": [
            "SentimentLSTM(\n",
            "  (embedding): Embedding(2001, 64)\n",
            "  (lstm): LSTM(64, 128, num_layers=2, batch_first=True, dropout=0.5, bidirectional=True)\n",
            "  (dropout): Dropout(p=0.1, inplace=False)\n",
            "  (fc): Linear(in_features=256, out_features=3, bias=True)\n",
            "  (softmax): Softmax(dim=1)\n",
            ")\n"
          ]
        }
      ]
    },
    {
      "cell_type": "code",
      "source": [
        "set_seed(42)\n",
        "model.to(device)\n",
        "\n",
        "epoch_tr_loss, epoch_vl_loss = [], []\n",
        "epoch_tr_acc, epoch_vl_acc = [], []\n",
        "# Hyperparameters\n",
        "epochs = 50\n",
        "lr = 0.001\n",
        "clip = 5\n",
        "\n",
        "criterion = nn.CrossEntropyLoss()\n",
        "optimizer = optim.Adam(model.parameters(), lr=lr)\n",
        "\n",
        "# Training loop\n",
        "for epoch in range(epochs):\n",
        "    train_losses = []\n",
        "    train_accs = []\n",
        "    model.train()\n",
        "\n",
        "    for inputs, labels in train_loader:\n",
        "        inputs, labels = inputs.to(device), labels.to(device)\n",
        "\n",
        "        # Khởi tạo trạng thái ẩn\n",
        "        h = model.init_hidden(inputs.size(0))\n",
        "        h = tuple([each.data for each in h])\n",
        "        model.zero_grad()\n",
        "\n",
        "        output, h = model(inputs, h)\n",
        "        loss = criterion(output, labels)\n",
        "        loss.backward()\n",
        "        nn.utils.clip_grad_norm_(model.parameters(), clip)\n",
        "        optimizer.step()\n",
        "\n",
        "        train_losses.append(loss.item())\n",
        "        train_accs.append(accuracy(output, labels).item())\n",
        "\n",
        "    val_losses = []\n",
        "    val_accs = []\n",
        "    model.eval()\n",
        "    with torch.no_grad():\n",
        "        for inputs, labels in valid_loader:\n",
        "            inputs, labels = inputs.to(device), labels.to(device)\n",
        "\n",
        "            # Khởi tạo trạng thái ẩn\n",
        "            val_h = model.init_hidden(inputs.size(0))\n",
        "            val_h = tuple([each.data for each in val_h])\n",
        "            output, val_h = model(inputs, val_h)\n",
        "            val_loss = criterion(output, labels)\n",
        "\n",
        "            val_losses.append(val_loss.item())\n",
        "            val_accs.append(accuracy(output, labels).item())\n",
        "\n",
        "    epoch_train_loss = np.mean(train_losses)\n",
        "    epoch_val_loss = np.mean(val_losses)\n",
        "    epoch_train_acc = np.mean(train_accs)\n",
        "    epoch_val_acc = np.mean(val_accs)\n",
        "\n",
        "    epoch_tr_loss.append(epoch_train_loss)\n",
        "    epoch_vl_loss.append(epoch_val_loss)\n",
        "    epoch_tr_acc.append(epoch_train_acc)\n",
        "    epoch_vl_acc.append(epoch_val_acc)\n",
        "\n",
        "    # Print training/validation statistics\n",
        "    print(f\"Epoch: {epoch+1}/{epochs}... \"\n",
        "          f\"Train Loss: {epoch_train_loss:.6f}... \"\n",
        "          f\"Val Loss: {epoch_val_loss:.6f}... \"\n",
        "          f\"Train Acc: {epoch_train_acc * 100:.2f}%... \"\n",
        "          f\"Val Acc: {epoch_val_acc * 100:.2f}%\")\n",
        "\n",
        "    torch.save(model.state_dict(), f\"weights/biLSTM/weight_{epoch}.pth\")"
      ],
      "metadata": {
        "colab": {
          "base_uri": "https://localhost:8080/"
        },
        "id": "o8zyq8zGXTmi",
        "outputId": "a94cbfe1-41e7-4396-d127-d01d53317113"
      },
      "execution_count": 130,
      "outputs": [
        {
          "output_type": "stream",
          "name": "stdout",
          "text": [
            "Epoch: 1/50... Train Loss: 0.962043... Val Loss: 0.912730... Train Acc: 56.81%... Val Acc: 62.41%\n",
            "Epoch: 2/50... Train Loss: 0.877506... Val Loss: 0.899864... Train Acc: 66.40%... Val Acc: 63.85%\n",
            "Epoch: 3/50... Train Loss: 0.853280... Val Loss: 0.882999... Train Acc: 69.12%... Val Acc: 65.81%\n",
            "Epoch: 4/50... Train Loss: 0.831787... Val Loss: 0.864121... Train Acc: 71.41%... Val Acc: 68.00%\n",
            "Epoch: 5/50... Train Loss: 0.821867... Val Loss: 0.859702... Train Acc: 72.38%... Val Acc: 68.31%\n",
            "Epoch: 6/50... Train Loss: 0.803271... Val Loss: 0.860942... Train Acc: 74.32%... Val Acc: 68.18%\n",
            "Epoch: 7/50... Train Loss: 0.790129... Val Loss: 0.855824... Train Acc: 75.74%... Val Acc: 69.08%\n",
            "Epoch: 8/50... Train Loss: 0.782918... Val Loss: 0.854142... Train Acc: 76.43%... Val Acc: 68.96%\n",
            "Epoch: 9/50... Train Loss: 0.774227... Val Loss: 0.850061... Train Acc: 77.48%... Val Acc: 69.40%\n",
            "Epoch: 10/50... Train Loss: 0.765490... Val Loss: 0.845910... Train Acc: 78.35%... Val Acc: 70.08%\n",
            "Epoch: 11/50... Train Loss: 0.759137... Val Loss: 0.845625... Train Acc: 78.95%... Val Acc: 69.93%\n",
            "Epoch: 12/50... Train Loss: 0.750726... Val Loss: 0.846888... Train Acc: 79.86%... Val Acc: 69.83%\n",
            "Epoch: 13/50... Train Loss: 0.745350... Val Loss: 0.843475... Train Acc: 80.44%... Val Acc: 70.18%\n",
            "Epoch: 14/50... Train Loss: 0.739473... Val Loss: 0.844838... Train Acc: 81.04%... Val Acc: 70.14%\n",
            "Epoch: 15/50... Train Loss: 0.736041... Val Loss: 0.846508... Train Acc: 81.40%... Val Acc: 69.74%\n",
            "Epoch: 16/50... Train Loss: 0.733774... Val Loss: 0.837636... Train Acc: 81.50%... Val Acc: 70.97%\n",
            "Epoch: 17/50... Train Loss: 0.724679... Val Loss: 0.843652... Train Acc: 82.56%... Val Acc: 70.32%\n",
            "Epoch: 18/50... Train Loss: 0.722511... Val Loss: 0.841765... Train Acc: 82.75%... Val Acc: 70.44%\n",
            "Epoch: 19/50... Train Loss: 0.717415... Val Loss: 0.840623... Train Acc: 83.22%... Val Acc: 70.59%\n",
            "Epoch: 20/50... Train Loss: 0.715102... Val Loss: 0.837585... Train Acc: 83.53%... Val Acc: 70.93%\n",
            "Epoch: 21/50... Train Loss: 0.711449... Val Loss: 0.839619... Train Acc: 83.87%... Val Acc: 70.84%\n",
            "Epoch: 22/50... Train Loss: 0.707888... Val Loss: 0.837389... Train Acc: 84.29%... Val Acc: 71.02%\n",
            "Epoch: 23/50... Train Loss: 0.705827... Val Loss: 0.837650... Train Acc: 84.48%... Val Acc: 70.91%\n",
            "Epoch: 24/50... Train Loss: 0.701198... Val Loss: 0.839075... Train Acc: 84.93%... Val Acc: 70.86%\n",
            "Epoch: 25/50... Train Loss: 0.699570... Val Loss: 0.841405... Train Acc: 85.10%... Val Acc: 70.74%\n",
            "Epoch: 26/50... Train Loss: 0.699978... Val Loss: 0.839010... Train Acc: 85.06%... Val Acc: 70.89%\n",
            "Epoch: 27/50... Train Loss: 0.695979... Val Loss: 0.842436... Train Acc: 85.45%... Val Acc: 70.46%\n",
            "Epoch: 28/50... Train Loss: 0.693237... Val Loss: 0.836084... Train Acc: 85.70%... Val Acc: 71.15%\n",
            "Epoch: 29/50... Train Loss: 0.693391... Val Loss: 0.840317... Train Acc: 85.71%... Val Acc: 70.75%\n",
            "Epoch: 30/50... Train Loss: 0.689980... Val Loss: 0.843212... Train Acc: 86.03%... Val Acc: 70.53%\n",
            "Epoch: 31/50... Train Loss: 0.689839... Val Loss: 0.833214... Train Acc: 86.12%... Val Acc: 71.72%\n",
            "Epoch: 32/50... Train Loss: 0.687231... Val Loss: 0.837568... Train Acc: 86.37%... Val Acc: 71.05%\n",
            "Epoch: 33/50... Train Loss: 0.685463... Val Loss: 0.838306... Train Acc: 86.53%... Val Acc: 71.04%\n",
            "Epoch: 34/50... Train Loss: 0.685788... Val Loss: 0.843416... Train Acc: 86.49%... Val Acc: 70.34%\n",
            "Epoch: 35/50... Train Loss: 0.684618... Val Loss: 0.840545... Train Acc: 86.65%... Val Acc: 70.83%\n",
            "Epoch: 36/50... Train Loss: 0.682924... Val Loss: 0.843816... Train Acc: 86.79%... Val Acc: 70.57%\n",
            "Epoch: 37/50... Train Loss: 0.682706... Val Loss: 0.845774... Train Acc: 86.81%... Val Acc: 70.24%\n",
            "Epoch: 38/50... Train Loss: 0.680400... Val Loss: 0.840833... Train Acc: 87.06%... Val Acc: 70.77%\n",
            "Epoch: 39/50... Train Loss: 0.680630... Val Loss: 0.840257... Train Acc: 87.04%... Val Acc: 70.85%\n",
            "Epoch: 40/50... Train Loss: 0.679312... Val Loss: 0.836640... Train Acc: 87.16%... Val Acc: 71.27%\n",
            "Epoch: 41/50... Train Loss: 0.679215... Val Loss: 0.842332... Train Acc: 87.20%... Val Acc: 70.57%\n",
            "Epoch: 42/50... Train Loss: 0.676440... Val Loss: 0.837731... Train Acc: 87.42%... Val Acc: 71.14%\n",
            "Epoch: 43/50... Train Loss: 0.673393... Val Loss: 0.838531... Train Acc: 87.78%... Val Acc: 70.94%\n",
            "Epoch: 44/50... Train Loss: 0.674273... Val Loss: 0.838828... Train Acc: 87.67%... Val Acc: 70.99%\n",
            "Epoch: 45/50... Train Loss: 0.674363... Val Loss: 0.840439... Train Acc: 87.64%... Val Acc: 70.80%\n",
            "Epoch: 46/50... Train Loss: 0.673091... Val Loss: 0.843188... Train Acc: 87.80%... Val Acc: 70.56%\n",
            "Epoch: 47/50... Train Loss: 0.672533... Val Loss: 0.847044... Train Acc: 87.81%... Val Acc: 70.16%\n",
            "Epoch: 48/50... Train Loss: 0.672940... Val Loss: 0.847003... Train Acc: 87.78%... Val Acc: 70.11%\n",
            "Epoch: 49/50... Train Loss: 0.673255... Val Loss: 0.842887... Train Acc: 87.76%... Val Acc: 70.66%\n",
            "Epoch: 50/50... Train Loss: 0.670205... Val Loss: 0.837327... Train Acc: 88.07%... Val Acc: 71.11%\n"
          ]
        }
      ]
    },
    {
      "cell_type": "code",
      "source": [
        "fig = plt.figure(figsize=(10, 6))\n",
        "\n",
        "plt.subplot(1, 2, 1)\n",
        "plt.plot(epoch_tr_acc, label='Train Acc')\n",
        "plt.plot(epoch_vl_acc, label='Validation Acc')\n",
        "plt.title(\"Accuracy\")\n",
        "plt.legend()\n",
        "plt.grid()\n",
        "\n",
        "plt.subplot(1, 2, 2)\n",
        "plt.plot(epoch_tr_loss, label='Train loss')\n",
        "plt.plot(epoch_vl_loss, label='Validation loss')\n",
        "plt.title(\"Loss\")\n",
        "plt.legend()\n",
        "plt.grid()\n",
        "\n",
        "plt.show()"
      ],
      "metadata": {
        "id": "4j_yE6F6XTjq",
        "colab": {
          "base_uri": "https://localhost:8080/",
          "height": 538
        },
        "outputId": "64a53bc8-d258-4901-832c-77d83fb8e546"
      },
      "execution_count": 131,
      "outputs": [
        {
          "output_type": "display_data",
          "data": {
            "text/plain": [
              "<Figure size 1000x600 with 2 Axes>"
            ],
            "image/png": "[encoded data removed]"
          },
          "metadata": {}
        }
      ]
    },
    {
      "cell_type": "code",
      "source": [
        "# model.load_state_dict(torch.load('weights/biLSTM/weight_{epoch}.pth'))"
      ],
      "metadata": {
        "id": "OpXyHCkO-HRy"
      },
      "execution_count": null,
      "outputs": []
    },
    {
      "cell_type": "code",
      "source": [
        "calculate_accuracy(model, test_loader, device)"
      ],
      "metadata": {
        "colab": {
          "base_uri": "https://localhost:8080/"
        },
        "id": "DLHfeezr9aos",
        "outputId": "dc253bc4-2731-4a38-b458-1b31ff48c5bb"
      },
      "execution_count": 136,
      "outputs": [
        {
          "output_type": "execute_result",
          "data": {
            "text/plain": [
              "70.73170731707317"
            ]
          },
          "metadata": {},
          "execution_count": 136
        }
      ]
    },
    {
      "cell_type": "code",
      "source": [
        "def predict_text(text):\n",
        "        text = preprocess_text(text)\n",
        "        r = [[vocab_to_int[word] for word in text.split() if word in vocab_to_int]]\n",
        "        pad = Padding(r,30)\n",
        "        inputs = torch.tensor(pad).to(device)\n",
        "        batch_size = 1\n",
        "        h = model.init_hidden(batch_size)\n",
        "        h = tuple([each.data for each in h])\n",
        "        output, h = model(inputs, h)\n",
        "        return torch.argmax(output, dim=1).item()\n",
        "\n",
        "predict_text(\"i love you\")"
      ],
      "metadata": {
        "colab": {
          "base_uri": "https://localhost:8080/"
        },
        "id": "ApIDUbo19al1",
        "outputId": "8a383bf9-b147-47e3-ddd9-25b764a692c1"
      },
      "execution_count": 133,
      "outputs": [
        {
          "output_type": "execute_result",
          "data": {
            "text/plain": [
              "2"
            ]
          },
          "metadata": {},
          "execution_count": 133
        }
      ]
    },
    {
      "cell_type": "markdown",
      "source": [
        "### Bidirectional LSTM + Attension"
      ],
      "metadata": {
        "id": "oGWIYL1-6Dkr"
      }
    },
    {
      "cell_type": "code",
      "source": [
        "class AttentionLayer(nn.Module):\n",
        "    def __init__(self, hidden_dim):\n",
        "        super(AttentionLayer, self).__init__()\n",
        "        self.attention_weights = nn.Parameter(torch.randn(hidden_dim))\n",
        "\n",
        "    def forward(self, lstm_out):\n",
        "        attention_scores = torch.matmul(lstm_out, self.attention_weights)\n",
        "        attention_weights = torch.softmax(attention_scores, dim=1)\n",
        "        weighted_sum = torch.sum(attention_weights.unsqueeze(2) * lstm_out, dim=1)\n",
        "        return weighted_sum"
      ],
      "metadata": {
        "id": "RpnXD1PjfyUN"
      },
      "execution_count": 147,
      "outputs": []
    },
    {
      "cell_type": "code",
      "source": [
        "class SentimentLSTM(nn.Module):\n",
        "    def __init__(self, vocab_size, output_size, embedding_dim, hidden_dim, n_layers, drop_prob=0.2):\n",
        "        super(SentimentLSTM, self).__init__()\n",
        "        self.output_size = output_size\n",
        "        self.n_layers = n_layers\n",
        "        self.hidden_dim = hidden_dim\n",
        "\n",
        "        self.embedding = nn.Embedding(vocab_size, embedding_dim)\n",
        "        self.lstm = nn.LSTM(embedding_dim, hidden_dim, n_layers,dropout=drop_prob, batch_first=True, bidirectional=True)\n",
        "\n",
        "        self.attention = AttentionLayer(hidden_dim * 2)\n",
        "\n",
        "        self.dropout = nn.Dropout(0.1)\n",
        "        self.fc = nn.Linear(hidden_dim * 2, output_size)\n",
        "        self.softmax = nn.Softmax(dim=1)\n",
        "\n",
        "    def forward(self, x, hidden):\n",
        "        batch_size = x.size(0)\n",
        "        x = x.long()\n",
        "\n",
        "        embeds = self.embedding(x)\n",
        "        lstm_out, hidden = self.lstm(embeds, hidden)\n",
        "        lstm_out = self.attention(lstm_out)\n",
        "        lstm_out = lstm_out.contiguous().view(-1, self.hidden_dim * 2)\n",
        "\n",
        "        out = self.dropout(lstm_out)\n",
        "        out = self.fc(out)\n",
        "\n",
        "        soft_out = self.softmax(out)\n",
        "\n",
        "        soft_out = soft_out.view(batch_size, -1, self.output_size)\n",
        "        soft_out = soft_out[:, -1]\n",
        "\n",
        "        return soft_out, hidden\n",
        "\n",
        "    def init_hidden(self, batch_size):\n",
        "        weight = next(self.parameters()).data\n",
        "        hidden = (weight.new(self.n_layers * 2, batch_size, self.hidden_dim).zero_(),\n",
        "                  weight.new(self.n_layers * 2, batch_size, self.hidden_dim).zero_())\n",
        "        return hidden"
      ],
      "metadata": {
        "id": "hweDCIjhfD-7"
      },
      "execution_count": 148,
      "outputs": []
    },
    {
      "cell_type": "code",
      "source": [
        "# Hyperparameters\n",
        "vocab_size = len(vocab_to_int) + 1\n",
        "output_size = 3\n",
        "embedding_dim = 64\n",
        "hidden_dim = 128\n",
        "n_layers = 2\n",
        "model = SentimentLSTM(vocab_size, output_size, embedding_dim, hidden_dim, n_layers, drop_prob=0.5)\n",
        "print(model)"
      ],
      "metadata": {
        "colab": {
          "base_uri": "https://localhost:8080/"
        },
        "id": "95LJUFqffD78",
        "outputId": "95925bf7-8022-4863-8671-cb130f23d375"
      },
      "execution_count": 149,
      "outputs": [
        {
          "output_type": "stream",
          "name": "stdout",
          "text": [
            "SentimentLSTM(\n",
            "  (embedding): Embedding(2001, 64)\n",
            "  (lstm): LSTM(64, 128, num_layers=2, batch_first=True, dropout=0.5, bidirectional=True)\n",
            "  (attention): AttentionLayer()\n",
            "  (dropout): Dropout(p=0.1, inplace=False)\n",
            "  (fc): Linear(in_features=256, out_features=3, bias=True)\n",
            "  (softmax): Softmax(dim=1)\n",
            ")\n"
          ]
        }
      ]
    },
    {
      "cell_type": "code",
      "source": [
        "set_seed(42)\n",
        "model.to(device)\n",
        "\n",
        "epoch_tr_loss, epoch_vl_loss = [], []\n",
        "epoch_tr_acc, epoch_vl_acc = [], []\n",
        "\n",
        "# Hyperparameters\n",
        "epochs = 50\n",
        "lr = 0.001\n",
        "clip = 5\n",
        "\n",
        "criterion = nn.CrossEntropyLoss()\n",
        "optimizer = optim.Adam(model.parameters(), lr=lr)\n",
        "\n",
        "# Training loop\n",
        "for epoch in range(epochs):\n",
        "    train_losses = []\n",
        "    train_accs = []\n",
        "    model.train()\n",
        "\n",
        "    for inputs, labels in train_loader:\n",
        "        inputs, labels = inputs.to(device), labels.to(device)\n",
        "\n",
        "        # Khởi tạo trạng thái ẩn\n",
        "        h = model.init_hidden(inputs.size(0))\n",
        "        h = tuple([each.data for each in h])\n",
        "        model.zero_grad()\n",
        "\n",
        "        output, h = model(inputs, h)\n",
        "        loss = criterion(output, labels)\n",
        "        loss.backward()\n",
        "        nn.utils.clip_grad_norm_(model.parameters(), clip)\n",
        "        optimizer.step()\n",
        "\n",
        "        train_losses.append(loss.item())\n",
        "        train_accs.append(accuracy(output, labels).item())\n",
        "\n",
        "    val_losses = []\n",
        "    val_accs = []\n",
        "    model.eval()\n",
        "    with torch.no_grad():\n",
        "        for inputs, labels in valid_loader:\n",
        "            inputs, labels = inputs.to(device), labels.to(device)\n",
        "\n",
        "            # Khởi tạo trạng thái ẩn\n",
        "            val_h = model.init_hidden(inputs.size(0))\n",
        "            val_h = tuple([each.data for each in val_h])\n",
        "            output, val_h = model(inputs, val_h)\n",
        "            val_loss = criterion(output, labels)\n",
        "\n",
        "            val_losses.append(val_loss.item())\n",
        "            val_accs.append(accuracy(output, labels).item())\n",
        "\n",
        "    epoch_train_loss = np.mean(train_losses)\n",
        "    epoch_val_loss = np.mean(val_losses)\n",
        "    epoch_train_acc = np.mean(train_accs)\n",
        "    epoch_val_acc = np.mean(val_accs)\n",
        "\n",
        "    epoch_tr_loss.append(epoch_train_loss)\n",
        "    epoch_vl_loss.append(epoch_val_loss)\n",
        "    epoch_tr_acc.append(epoch_train_acc)\n",
        "    epoch_vl_acc.append(epoch_val_acc)\n",
        "\n",
        "    # Print training/validation statistics\n",
        "    print(f\"Epoch: {epoch+1}/{epochs}... \"\n",
        "          f\"Train Loss: {epoch_train_loss:.6f}... \"\n",
        "          f\"Val Loss: {epoch_val_loss:.6f}... \"\n",
        "          f\"Train Acc: {epoch_train_acc * 100:.2f}%... \"\n",
        "          f\"Val Acc: {epoch_val_acc * 100:.2f}%\")\n",
        "\n",
        "    torch.save(model.state_dict(), f\"weights/biLSTM_Attension/weight_{epoch}.pth\")\n"
      ],
      "metadata": {
        "colab": {
          "base_uri": "https://localhost:8080/"
        },
        "id": "_tNoDCKPfD3b",
        "outputId": "f34d0444-fab3-4088-da0e-51d1a0625264"
      },
      "execution_count": 150,
      "outputs": [
        {
          "output_type": "stream",
          "name": "stdout",
          "text": [
            "Epoch: 1/50... Train Loss: 0.984479... Val Loss: 0.929203... Train Acc: 53.90%... Val Acc: 60.32%\n",
            "Epoch: 2/50... Train Loss: 0.889611... Val Loss: 0.895608... Train Acc: 65.10%... Val Acc: 64.43%\n",
            "Epoch: 3/50... Train Loss: 0.855299... Val Loss: 0.874887... Train Acc: 68.76%... Val Acc: 66.39%\n",
            "Epoch: 4/50... Train Loss: 0.834887... Val Loss: 0.864153... Train Acc: 70.86%... Val Acc: 67.82%\n",
            "Epoch: 5/50... Train Loss: 0.827479... Val Loss: 0.869010... Train Acc: 71.85%... Val Acc: 67.27%\n",
            "Epoch: 6/50... Train Loss: 0.817553... Val Loss: 0.858809... Train Acc: 72.76%... Val Acc: 68.24%\n",
            "Epoch: 7/50... Train Loss: 0.805789... Val Loss: 0.851969... Train Acc: 74.00%... Val Acc: 69.18%\n",
            "Epoch: 8/50... Train Loss: 0.797624... Val Loss: 0.854214... Train Acc: 74.92%... Val Acc: 68.90%\n",
            "Epoch: 9/50... Train Loss: 0.793030... Val Loss: 0.847290... Train Acc: 75.32%... Val Acc: 69.53%\n",
            "Epoch: 10/50... Train Loss: 0.780277... Val Loss: 0.851320... Train Acc: 76.71%... Val Acc: 69.37%\n",
            "Epoch: 11/50... Train Loss: 0.773337... Val Loss: 0.845371... Train Acc: 77.48%... Val Acc: 69.89%\n",
            "Epoch: 12/50... Train Loss: 0.766413... Val Loss: 0.843881... Train Acc: 78.14%... Val Acc: 70.24%\n",
            "Epoch: 13/50... Train Loss: 0.760508... Val Loss: 0.845749... Train Acc: 78.81%... Val Acc: 69.97%\n",
            "Epoch: 14/50... Train Loss: 0.757754... Val Loss: 0.844097... Train Acc: 79.09%... Val Acc: 70.14%\n",
            "Epoch: 15/50... Train Loss: 0.752491... Val Loss: 0.842305... Train Acc: 79.64%... Val Acc: 70.53%\n",
            "Epoch: 16/50... Train Loss: 0.748664... Val Loss: 0.844612... Train Acc: 80.09%... Val Acc: 70.13%\n",
            "Epoch: 17/50... Train Loss: 0.742009... Val Loss: 0.844762... Train Acc: 80.72%... Val Acc: 70.29%\n",
            "Epoch: 18/50... Train Loss: 0.736406... Val Loss: 0.841935... Train Acc: 81.31%... Val Acc: 70.42%\n",
            "Epoch: 19/50... Train Loss: 0.732624... Val Loss: 0.841180... Train Acc: 81.72%... Val Acc: 70.60%\n",
            "Epoch: 20/50... Train Loss: 0.728452... Val Loss: 0.842233... Train Acc: 82.19%... Val Acc: 70.61%\n",
            "Epoch: 21/50... Train Loss: 0.726154... Val Loss: 0.844704... Train Acc: 82.39%... Val Acc: 70.23%\n",
            "Epoch: 22/50... Train Loss: 0.723493... Val Loss: 0.845233... Train Acc: 82.63%... Val Acc: 70.14%\n",
            "Epoch: 23/50... Train Loss: 0.721618... Val Loss: 0.843438... Train Acc: 82.87%... Val Acc: 70.35%\n",
            "Epoch: 24/50... Train Loss: 0.716163... Val Loss: 0.842149... Train Acc: 83.34%... Val Acc: 70.67%\n",
            "Epoch: 25/50... Train Loss: 0.712984... Val Loss: 0.845644... Train Acc: 83.69%... Val Acc: 70.18%\n",
            "Epoch: 26/50... Train Loss: 0.713785... Val Loss: 0.843696... Train Acc: 83.64%... Val Acc: 70.41%\n",
            "Epoch: 27/50... Train Loss: 0.710464... Val Loss: 0.843381... Train Acc: 83.97%... Val Acc: 70.35%\n",
            "Epoch: 28/50... Train Loss: 0.706328... Val Loss: 0.841016... Train Acc: 84.42%... Val Acc: 70.60%\n",
            "Epoch: 29/50... Train Loss: 0.705307... Val Loss: 0.842273... Train Acc: 84.47%... Val Acc: 70.44%\n",
            "Epoch: 30/50... Train Loss: 0.704535... Val Loss: 0.843998... Train Acc: 84.66%... Val Acc: 70.39%\n",
            "Epoch: 31/50... Train Loss: 0.702273... Val Loss: 0.839660... Train Acc: 84.79%... Val Acc: 70.79%\n",
            "Epoch: 32/50... Train Loss: 0.697277... Val Loss: 0.839898... Train Acc: 85.33%... Val Acc: 70.73%\n",
            "Epoch: 33/50... Train Loss: 0.695068... Val Loss: 0.840859... Train Acc: 85.55%... Val Acc: 70.77%\n",
            "Epoch: 34/50... Train Loss: 0.693775... Val Loss: 0.842527... Train Acc: 85.72%... Val Acc: 70.54%\n",
            "Epoch: 35/50... Train Loss: 0.695083... Val Loss: 0.846153... Train Acc: 85.51%... Val Acc: 70.21%\n",
            "Epoch: 36/50... Train Loss: 0.691046... Val Loss: 0.839266... Train Acc: 85.95%... Val Acc: 70.82%\n",
            "Epoch: 37/50... Train Loss: 0.690754... Val Loss: 0.845694... Train Acc: 85.99%... Val Acc: 70.29%\n",
            "Epoch: 38/50... Train Loss: 0.689074... Val Loss: 0.843834... Train Acc: 86.17%... Val Acc: 70.41%\n",
            "Epoch: 39/50... Train Loss: 0.692247... Val Loss: 0.839960... Train Acc: 85.87%... Val Acc: 70.84%\n",
            "Epoch: 40/50... Train Loss: 0.687946... Val Loss: 0.837788... Train Acc: 86.30%... Val Acc: 70.93%\n",
            "Epoch: 41/50... Train Loss: 0.685252... Val Loss: 0.840924... Train Acc: 86.57%... Val Acc: 70.70%\n",
            "Epoch: 42/50... Train Loss: 0.685939... Val Loss: 0.836455... Train Acc: 86.45%... Val Acc: 71.29%\n",
            "Epoch: 43/50... Train Loss: 0.684037... Val Loss: 0.837662... Train Acc: 86.66%... Val Acc: 70.94%\n",
            "Epoch: 44/50... Train Loss: 0.681666... Val Loss: 0.840257... Train Acc: 86.89%... Val Acc: 70.84%\n",
            "Epoch: 45/50... Train Loss: 0.678844... Val Loss: 0.841844... Train Acc: 87.20%... Val Acc: 70.51%\n",
            "Epoch: 46/50... Train Loss: 0.682170... Val Loss: 0.841730... Train Acc: 86.82%... Val Acc: 70.57%\n",
            "Epoch: 47/50... Train Loss: 0.677614... Val Loss: 0.842845... Train Acc: 87.28%... Val Acc: 70.62%\n",
            "Epoch: 48/50... Train Loss: 0.676670... Val Loss: 0.846720... Train Acc: 87.45%... Val Acc: 70.21%\n",
            "Epoch: 49/50... Train Loss: 0.678485... Val Loss: 0.848130... Train Acc: 87.24%... Val Acc: 69.89%\n",
            "Epoch: 50/50... Train Loss: 0.676547... Val Loss: 0.843505... Train Acc: 87.41%... Val Acc: 70.62%\n"
          ]
        }
      ]
    },
    {
      "cell_type": "code",
      "source": [
        "fig = plt.figure(figsize=(10, 6))\n",
        "\n",
        "plt.subplot(1, 2, 1)\n",
        "plt.plot(epoch_tr_acc, label='Train Acc')\n",
        "plt.plot(epoch_vl_acc, label='Validation Acc')\n",
        "plt.title(\"Accuracy\")\n",
        "plt.legend()\n",
        "plt.grid()\n",
        "\n",
        "plt.subplot(1, 2, 2)\n",
        "plt.plot(epoch_tr_loss, label='Train loss')\n",
        "plt.plot(epoch_vl_loss, label='Validation loss')\n",
        "plt.title(\"Loss\")\n",
        "plt.legend()\n",
        "plt.grid()\n",
        "\n",
        "plt.show()"
      ],
      "metadata": {
        "id": "89l6PeFEfDyl",
        "colab": {
          "base_uri": "https://localhost:8080/",
          "height": 538
        },
        "outputId": "27477b92-2fff-45b6-e17f-52d743d0368f"
      },
      "execution_count": 151,
      "outputs": [
        {
          "output_type": "display_data",
          "data": {
            "text/plain": [
              "<Figure size 1000x600 with 2 Axes>"
            ],
            "image/png": "[encoded data removed]"
          },
          "metadata": {}
        }
      ]
    },
    {
      "cell_type": "code",
      "source": [
        "# model.load_state_dict(torch.load('weights/biLSTM_Attension/weight_{epoch}.pth'))"
      ],
      "metadata": {
        "id": "xqB7A-FF-cKs"
      },
      "execution_count": 152,
      "outputs": []
    },
    {
      "cell_type": "code",
      "source": [
        "calculate_accuracy(model, test_loader, device)"
      ],
      "metadata": {
        "colab": {
          "base_uri": "https://localhost:8080/"
        },
        "id": "YHKcX4HW-cFf",
        "outputId": "0727188f-c405-481f-cab0-b8d6063e5f67"
      },
      "execution_count": 153,
      "outputs": [
        {
          "output_type": "execute_result",
          "data": {
            "text/plain": [
              "70.87366111756356"
            ]
          },
          "metadata": {},
          "execution_count": 153
        }
      ]
    },
    {
      "cell_type": "code",
      "source": [
        "def predict_text(text):\n",
        "        text = preprocess_text(text)\n",
        "        r = [[vocab_to_int[word] for word in text.split() if word in vocab_to_int]]\n",
        "        pad = Padding(r,30)\n",
        "        inputs = torch.tensor(pad).to(device)\n",
        "        batch_size = 1\n",
        "        h = model.init_hidden(batch_size)\n",
        "        h = tuple([each.data for each in h])\n",
        "        output, h = model(inputs, h)\n",
        "        return torch.argmax(output, dim=1).item()\n",
        "\n",
        "predict_text(\"i love you\")"
      ],
      "metadata": {
        "colab": {
          "base_uri": "https://localhost:8080/"
        },
        "id": "bWM1cPZchA0N",
        "outputId": "77a247b2-f575-460a-8d66-75c60aafb61e"
      },
      "execution_count": 154,
      "outputs": [
        {
          "output_type": "execute_result",
          "data": {
            "text/plain": [
              "2"
            ]
          },
          "metadata": {},
          "execution_count": 154
        }
      ]
    },
    {
      "cell_type": "markdown",
      "source": [
        "### Bidirectional LSTM + Attension + Pre-trained Embedding"
      ],
      "metadata": {
        "id": "JNLcL4yb6VZ8"
      }
    },
    {
      "cell_type": "code",
      "source": [
        "class AttentionLayer(nn.Module):\n",
        "    def __init__(self, hidden_dim):\n",
        "        super(AttentionLayer, self).__init__()\n",
        "        self.attention_weights = nn.Parameter(torch.randn(hidden_dim))\n",
        "\n",
        "    def forward(self, lstm_out):\n",
        "        attention_scores = torch.matmul(lstm_out, self.attention_weights)\n",
        "        attention_weights = torch.softmax(attention_scores, dim=1)\n",
        "        weighted_sum = torch.sum(attention_weights.unsqueeze(2) * lstm_out, dim=1)\n",
        "        return weighted_sum"
      ],
      "metadata": {
        "id": "jrRX8ECUfDmj"
      },
      "execution_count": 164,
      "outputs": []
    },
    {
      "cell_type": "code",
      "source": [
        "class SentimentLSTM(nn.Module):\n",
        "    def __init__(self, vocab_size, output_size, embedding_dim, hidden_dim, n_layers, drop_prob=0.2):\n",
        "        super(SentimentLSTM, self).__init__()\n",
        "        self.output_size = output_size\n",
        "        self.n_layers = n_layers\n",
        "        self.hidden_dim = hidden_dim\n",
        "\n",
        "        self.embedding = nn.Embedding(vocab_size, embedding_dim)\n",
        "        self.lstm = nn.LSTM(embedding_dim, hidden_dim, n_layers,dropout=drop_prob, batch_first=True, bidirectional=True)\n",
        "\n",
        "        self.attention = AttentionLayer(hidden_dim * 2)\n",
        "\n",
        "        self.dropout = nn.Dropout(0.1)\n",
        "        self.fc = nn.Linear(hidden_dim * 2, output_size)\n",
        "        self.softmax = nn.Softmax(dim=1)\n",
        "\n",
        "    def forward(self, x, hidden):\n",
        "        batch_size = x.size(0)\n",
        "        x = x.long()\n",
        "\n",
        "        embeds = self.embedding(x)\n",
        "        lstm_out, hidden = self.lstm(embeds, hidden)\n",
        "        lstm_out = self.attention(lstm_out)\n",
        "        lstm_out = lstm_out.contiguous().view(-1, self.hidden_dim * 2)\n",
        "\n",
        "        out = self.dropout(lstm_out)\n",
        "        out = self.fc(out)\n",
        "\n",
        "        soft_out = self.softmax(out)\n",
        "\n",
        "        soft_out = soft_out.view(batch_size, -1, self.output_size)\n",
        "        soft_out = soft_out[:, -1]\n",
        "\n",
        "        return soft_out, hidden\n",
        "\n",
        "    def init_hidden(self, batch_size):\n",
        "        weight = next(self.parameters()).data\n",
        "        hidden = (weight.new(self.n_layers * 2, batch_size, self.hidden_dim).zero_(),\n",
        "                  weight.new(self.n_layers * 2, batch_size, self.hidden_dim).zero_())\n",
        "        return hidden"
      ],
      "metadata": {
        "id": "NJXBUsQKfDjE"
      },
      "execution_count": 165,
      "outputs": []
    },
    {
      "cell_type": "code",
      "source": [
        "# Hyperparameters\n",
        "vocab_size = len(vocab_to_int) + 1\n",
        "output_size = 3\n",
        "embedding_dim = 300\n",
        "hidden_dim = 128\n",
        "n_layers = 2\n",
        "model = SentimentLSTM(vocab_size, output_size, embedding_dim, hidden_dim, n_layers, drop_prob=0.5)\n",
        "model.embedding = nn.Embedding.from_pretrained(embedding_matrix, freeze=True)  # freeze=True để giữ nguyên trọng số\n",
        "print(model)"
      ],
      "metadata": {
        "colab": {
          "base_uri": "https://localhost:8080/"
        },
        "id": "E7TcFS1PT3-M",
        "outputId": "3b99ec94-a804-45ce-e825-8aefb1c979c5"
      },
      "execution_count": 166,
      "outputs": [
        {
          "output_type": "stream",
          "name": "stdout",
          "text": [
            "SentimentLSTM(\n",
            "  (embedding): Embedding(2001, 300)\n",
            "  (lstm): LSTM(300, 128, num_layers=2, batch_first=True, dropout=0.5, bidirectional=True)\n",
            "  (attention): AttentionLayer()\n",
            "  (dropout): Dropout(p=0.1, inplace=False)\n",
            "  (fc): Linear(in_features=256, out_features=3, bias=True)\n",
            "  (softmax): Softmax(dim=1)\n",
            ")\n"
          ]
        }
      ]
    },
    {
      "cell_type": "code",
      "source": [
        "set_seed(42)\n",
        "model.to(device)\n",
        "\n",
        "epoch_tr_loss, epoch_vl_loss = [], []\n",
        "epoch_tr_acc, epoch_vl_acc = [], []\n",
        "\n",
        "# Hyperparameters\n",
        "epochs = 50\n",
        "lr = 0.001\n",
        "clip = 5\n",
        "\n",
        "criterion = nn.CrossEntropyLoss()\n",
        "optimizer = optim.Adam(model.parameters(), lr=lr)\n",
        "\n",
        "# Training loop\n",
        "for epoch in range(epochs):\n",
        "    train_losses = []\n",
        "    train_accs = []\n",
        "    model.train()\n",
        "\n",
        "    for inputs, labels in train_loader:\n",
        "        inputs, labels = inputs.to(device), labels.to(device)\n",
        "\n",
        "        # Khởi tạo trạng thái ẩn\n",
        "        h = model.init_hidden(inputs.size(0))\n",
        "        h = tuple([each.data for each in h])\n",
        "        model.zero_grad()\n",
        "\n",
        "        output, h = model(inputs, h)\n",
        "        loss = criterion(output, labels)\n",
        "        loss.backward()\n",
        "        nn.utils.clip_grad_norm_(model.parameters(), clip)\n",
        "        optimizer.step()\n",
        "\n",
        "        train_losses.append(loss.item())\n",
        "        train_accs.append(accuracy(output, labels).item())\n",
        "\n",
        "    val_losses = []\n",
        "    val_accs = []\n",
        "    model.eval()\n",
        "    with torch.no_grad():\n",
        "        for inputs, labels in valid_loader:\n",
        "            inputs, labels = inputs.to(device), labels.to(device)\n",
        "\n",
        "            # Khởi tạo trạng thái ẩn\n",
        "            val_h = model.init_hidden(inputs.size(0))\n",
        "            val_h = tuple([each.data for each in val_h])\n",
        "            output, val_h = model(inputs, val_h)\n",
        "            val_loss = criterion(output, labels)\n",
        "\n",
        "            val_losses.append(val_loss.item())\n",
        "            val_accs.append(accuracy(output, labels).item())\n",
        "\n",
        "    epoch_train_loss = np.mean(train_losses)\n",
        "    epoch_val_loss = np.mean(val_losses)\n",
        "    epoch_train_acc = np.mean(train_accs)\n",
        "    epoch_val_acc = np.mean(val_accs)\n",
        "\n",
        "    epoch_tr_loss.append(epoch_train_loss)\n",
        "    epoch_vl_loss.append(epoch_val_loss)\n",
        "    epoch_tr_acc.append(epoch_train_acc)\n",
        "    epoch_vl_acc.append(epoch_val_acc)\n",
        "\n",
        "    # Print training/validation statistics\n",
        "    print(f\"Epoch: {epoch+1}/{epochs}... \"\n",
        "          f\"Train Loss: {epoch_train_loss:.6f}... \"\n",
        "          f\"Val Loss: {epoch_val_loss:.6f}... \"\n",
        "          f\"Train Acc: {epoch_train_acc * 100:.2f}%... \"\n",
        "          f\"Val Acc: {epoch_val_acc * 100:.2f}%\")\n",
        "\n",
        "    torch.save(model.state_dict(), f\"weights/biLSTM_Attension_Pre-trained/weight_{epoch}.pth\")\n"
      ],
      "metadata": {
        "colab": {
          "base_uri": "https://localhost:8080/"
        },
        "id": "ynBZw5LcT7TC",
        "outputId": "16ad6553-8b75-422c-c723-5bd63e58f8cb"
      },
      "execution_count": 167,
      "outputs": [
        {
          "output_type": "stream",
          "name": "stdout",
          "text": [
            "Epoch: 1/50... Train Loss: 0.993344... Val Loss: 1.075463... Train Acc: 52.21%... Val Acc: 46.70%\n",
            "Epoch: 2/50... Train Loss: 0.930246... Val Loss: 0.949197... Train Acc: 61.12%... Val Acc: 59.34%\n",
            "Epoch: 3/50... Train Loss: 0.900361... Val Loss: 0.906756... Train Acc: 64.24%... Val Acc: 63.57%\n",
            "Epoch: 4/50... Train Loss: 0.889355... Val Loss: 0.910452... Train Acc: 65.21%... Val Acc: 62.70%\n",
            "Epoch: 5/50... Train Loss: 0.878375... Val Loss: 0.900715... Train Acc: 66.53%... Val Acc: 63.88%\n",
            "Epoch: 6/50... Train Loss: 0.873447... Val Loss: 0.887694... Train Acc: 66.86%... Val Acc: 65.55%\n",
            "Epoch: 7/50... Train Loss: 0.877378... Val Loss: 0.906589... Train Acc: 66.61%... Val Acc: 63.70%\n",
            "Epoch: 8/50... Train Loss: 0.872100... Val Loss: 0.889790... Train Acc: 67.10%... Val Acc: 65.00%\n",
            "Epoch: 9/50... Train Loss: 0.867450... Val Loss: 0.891147... Train Acc: 67.58%... Val Acc: 65.19%\n",
            "Epoch: 10/50... Train Loss: 0.858270... Val Loss: 0.912558... Train Acc: 68.58%... Val Acc: 62.91%\n",
            "Epoch: 11/50... Train Loss: 0.858910... Val Loss: 0.887138... Train Acc: 68.49%... Val Acc: 65.14%\n",
            "Epoch: 12/50... Train Loss: 0.849921... Val Loss: 0.882717... Train Acc: 69.24%... Val Acc: 65.64%\n",
            "Epoch: 13/50... Train Loss: 0.844370... Val Loss: 0.881393... Train Acc: 70.02%... Val Acc: 66.08%\n",
            "Epoch: 14/50... Train Loss: 0.841410... Val Loss: 0.879502... Train Acc: 70.36%... Val Acc: 66.25%\n",
            "Epoch: 15/50... Train Loss: 0.838383... Val Loss: 0.878674... Train Acc: 70.72%... Val Acc: 66.16%\n",
            "Epoch: 16/50... Train Loss: 0.836263... Val Loss: 0.875117... Train Acc: 70.82%... Val Acc: 66.58%\n",
            "Epoch: 17/50... Train Loss: 0.830369... Val Loss: 0.880090... Train Acc: 71.53%... Val Acc: 65.90%\n",
            "Epoch: 18/50... Train Loss: 0.825577... Val Loss: 0.873455... Train Acc: 72.01%... Val Acc: 66.84%\n",
            "Epoch: 19/50... Train Loss: 0.831771... Val Loss: 0.978527... Train Acc: 71.37%... Val Acc: 56.99%\n",
            "Epoch: 20/50... Train Loss: 0.830815... Val Loss: 0.872331... Train Acc: 71.46%... Val Acc: 66.79%\n",
            "Epoch: 21/50... Train Loss: 0.816920... Val Loss: 0.875314... Train Acc: 72.92%... Val Acc: 66.62%\n",
            "Epoch: 22/50... Train Loss: 0.813971... Val Loss: 0.870427... Train Acc: 73.21%... Val Acc: 67.04%\n",
            "Epoch: 23/50... Train Loss: 0.808707... Val Loss: 0.871495... Train Acc: 73.84%... Val Acc: 67.10%\n",
            "Epoch: 24/50... Train Loss: 0.805787... Val Loss: 0.867186... Train Acc: 74.09%... Val Acc: 67.65%\n",
            "Epoch: 25/50... Train Loss: 0.801631... Val Loss: 0.870564... Train Acc: 74.53%... Val Acc: 67.42%\n",
            "Epoch: 26/50... Train Loss: 0.798522... Val Loss: 0.875880... Train Acc: 74.85%... Val Acc: 66.63%\n",
            "Epoch: 27/50... Train Loss: 0.796975... Val Loss: 0.874060... Train Acc: 75.06%... Val Acc: 67.09%\n",
            "Epoch: 28/50... Train Loss: 0.792682... Val Loss: 0.864925... Train Acc: 75.54%... Val Acc: 67.92%\n",
            "Epoch: 29/50... Train Loss: 0.790199... Val Loss: 0.870607... Train Acc: 75.80%... Val Acc: 67.40%\n",
            "Epoch: 30/50... Train Loss: 0.787068... Val Loss: 0.871083... Train Acc: 76.09%... Val Acc: 67.27%\n",
            "Epoch: 31/50... Train Loss: 0.783942... Val Loss: 0.869167... Train Acc: 76.54%... Val Acc: 67.57%\n",
            "Epoch: 32/50... Train Loss: 0.783555... Val Loss: 0.874416... Train Acc: 76.53%... Val Acc: 66.90%\n",
            "Epoch: 33/50... Train Loss: 0.778340... Val Loss: 0.871139... Train Acc: 77.07%... Val Acc: 67.29%\n",
            "Epoch: 34/50... Train Loss: 0.776226... Val Loss: 0.881641... Train Acc: 77.26%... Val Acc: 65.79%\n",
            "Epoch: 35/50... Train Loss: 0.775385... Val Loss: 0.868211... Train Acc: 77.33%... Val Acc: 67.66%\n",
            "Epoch: 36/50... Train Loss: 0.774422... Val Loss: 0.869487... Train Acc: 77.38%... Val Acc: 67.49%\n",
            "Epoch: 37/50... Train Loss: 0.772490... Val Loss: 0.869044... Train Acc: 77.69%... Val Acc: 67.65%\n",
            "Epoch: 38/50... Train Loss: 0.766043... Val Loss: 0.870110... Train Acc: 78.32%... Val Acc: 67.32%\n",
            "Epoch: 39/50... Train Loss: 0.766680... Val Loss: 0.870190... Train Acc: 78.20%... Val Acc: 67.35%\n",
            "Epoch: 40/50... Train Loss: 0.764042... Val Loss: 0.865837... Train Acc: 78.54%... Val Acc: 67.88%\n",
            "Epoch: 41/50... Train Loss: 0.764217... Val Loss: 0.869106... Train Acc: 78.52%... Val Acc: 67.68%\n",
            "Epoch: 42/50... Train Loss: 0.761585... Val Loss: 0.869250... Train Acc: 78.81%... Val Acc: 67.72%\n",
            "Epoch: 43/50... Train Loss: 0.758343... Val Loss: 0.870717... Train Acc: 79.10%... Val Acc: 67.47%\n",
            "Epoch: 44/50... Train Loss: 0.755777... Val Loss: 0.869284... Train Acc: 79.37%... Val Acc: 67.70%\n",
            "Epoch: 45/50... Train Loss: 0.753837... Val Loss: 0.867908... Train Acc: 79.62%... Val Acc: 67.96%\n",
            "Epoch: 46/50... Train Loss: 0.754195... Val Loss: 0.870417... Train Acc: 79.53%... Val Acc: 67.63%\n",
            "Epoch: 47/50... Train Loss: 0.750283... Val Loss: 0.871512... Train Acc: 79.96%... Val Acc: 67.56%\n",
            "Epoch: 48/50... Train Loss: 0.750735... Val Loss: 0.870312... Train Acc: 79.91%... Val Acc: 67.70%\n",
            "Epoch: 49/50... Train Loss: 0.745671... Val Loss: 0.869054... Train Acc: 80.41%... Val Acc: 67.82%\n",
            "Epoch: 50/50... Train Loss: 0.747230... Val Loss: 0.865954... Train Acc: 80.28%... Val Acc: 67.91%\n"
          ]
        }
      ]
    },
    {
      "cell_type": "code",
      "source": [
        "fig = plt.figure(figsize=(10, 6))\n",
        "\n",
        "plt.subplot(1, 2, 1)\n",
        "plt.plot(epoch_tr_acc, label='Train Acc')\n",
        "plt.plot(epoch_vl_acc, label='Validation Acc')\n",
        "plt.title(\"Accuracy\")\n",
        "plt.legend()\n",
        "plt.grid()\n",
        "\n",
        "plt.subplot(1, 2, 2)\n",
        "plt.plot(epoch_tr_loss, label='Train loss')\n",
        "plt.plot(epoch_vl_loss, label='Validation loss')\n",
        "plt.title(\"Loss\")\n",
        "plt.legend()\n",
        "plt.grid()\n",
        "\n",
        "plt.show()"
      ],
      "metadata": {
        "colab": {
          "base_uri": "https://localhost:8080/",
          "height": 538
        },
        "id": "jMr7JoEdUvSm",
        "outputId": "894a952f-6e36-47e8-9119-b05b0df660cc"
      },
      "execution_count": 168,
      "outputs": [
        {
          "output_type": "display_data",
          "data": {
            "text/plain": [
              "<Figure size 1000x600 with 2 Axes>"
            ],
            "image/png": "[encoded data removed]"
          },
          "metadata": {}
        }
      ]
    },
    {
      "cell_type": "code",
      "source": [
        "# model.load_state_dict(torch.load('weights/biLSTM_Attension_Pre-trained/weight_{epoch}.pth'))"
      ],
      "metadata": {
        "id": "4N9jtYHmVlzB"
      },
      "execution_count": 169,
      "outputs": []
    },
    {
      "cell_type": "code",
      "source": [
        "calculate_accuracy(model, test_loader, device)"
      ],
      "metadata": {
        "colab": {
          "base_uri": "https://localhost:8080/"
        },
        "id": "jymg-YPx-nLk",
        "outputId": "e644bc03-9d50-480b-b43e-14a777dec68e"
      },
      "execution_count": 172,
      "outputs": [
        {
          "output_type": "execute_result",
          "data": {
            "text/plain": [
              "68.58304297328688"
            ]
          },
          "metadata": {},
          "execution_count": 172
        }
      ]
    },
    {
      "cell_type": "code",
      "source": [
        "def predict_text(text):\n",
        "        text = preprocess_text(text)\n",
        "        r = [[vocab_to_int[word] for word in text.split() if word in vocab_to_int]]\n",
        "        pad = Padding(r,30)\n",
        "        inputs = torch.tensor(pad).to(device)\n",
        "        batch_size = 1\n",
        "        h = model.init_hidden(batch_size)\n",
        "        h = tuple([each.data for each in h])\n",
        "        output, h = model(inputs, h)\n",
        "        return torch.argmax(output, dim=1).item()\n",
        "\n",
        "predict_text(\"i love you\")"
      ],
      "metadata": {
        "colab": {
          "base_uri": "https://localhost:8080/"
        },
        "id": "0Yo5JfKm-nIC",
        "outputId": "50ccf034-d209-4a31-d224-fc9baf01cdd5"
      },
      "execution_count": 171,
      "outputs": [
        {
          "output_type": "execute_result",
          "data": {
            "text/plain": [
              "2"
            ]
          },
          "metadata": {},
          "execution_count": 171
        }
      ]
    },
    {
      "cell_type": "code",
      "source": [],
      "metadata": {
        "id": "HCqI83wZBU9U"
      },
      "execution_count": null,
      "outputs": []
    }
  ]
}