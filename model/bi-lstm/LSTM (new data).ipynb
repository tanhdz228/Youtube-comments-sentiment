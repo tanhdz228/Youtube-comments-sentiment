{
  "nbformat": 4,
  "nbformat_minor": 0,
  "metadata": {
    "colab": {
      "provenance": [],
      "gpuType": "T4",
      "collapsed_sections": [
        "IYfGAKVW5-j7"
      ]
    },
    "kernelspec": {
      "name": "python3",
      "display_name": "Python 3"
    },
    "language_info": {
      "name": "python"
    },
    "accelerator": "GPU"
  },
  "cells": [
    {
      "cell_type": "code",
      "execution_count": 1,
      "metadata": {
        "colab": {
          "base_uri": "https://localhost:8080/"
        },
        "id": "Gh5yxgtzWh7u",
        "outputId": "7bea7c00-8315-4674-8260-4b9d7d49e7d1"
      },
      "outputs": [
        {
          "output_type": "stream",
          "name": "stdout",
          "text": [
            "Mounted at /content/drive\n"
          ]
        }
      ],
      "source": [
        "from google.colab import drive\n",
        "drive.mount('/content/drive')"
      ]
    },
    {
      "cell_type": "code",
      "source": [
        "%cd /content/drive/MyDrive/project/"
      ],
      "metadata": {
        "colab": {
          "base_uri": "https://localhost:8080/"
        },
        "id": "cL3tX2dhlsd-",
        "outputId": "c91aed07-71e7-4cc3-b809-a867681c48f7"
      },
      "execution_count": 2,
      "outputs": [
        {
          "output_type": "stream",
          "name": "stdout",
          "text": [
            "/content/drive/MyDrive/project\n"
          ]
        }
      ]
    },
    {
      "cell_type": "markdown",
      "source": [
        "## Import thư viện"
      ],
      "metadata": {
        "id": "wKuo1Hxee1QJ"
      }
    },
    {
      "cell_type": "code",
      "source": [
        "!pip install datasets"
      ],
      "metadata": {
        "colab": {
          "base_uri": "https://localhost:8080/"
        },
        "id": "VRhu-DnBOmDi",
        "outputId": "5a6b01ac-3307-4db6-f3a6-368475af41fc"
      },
      "execution_count": 3,
      "outputs": [
        {
          "output_type": "stream",
          "name": "stdout",
          "text": [
            "Collecting datasets\n",
            "  Downloading datasets-3.2.0-py3-none-any.whl.metadata (20 kB)\n",
            "Requirement already satisfied: filelock in /usr/local/lib/python3.10/dist-packages (from datasets) (3.16.1)\n",
            "Requirement already satisfied: numpy>=1.17 in /usr/local/lib/python3.10/dist-packages (from datasets) (1.26.4)\n",
            "Requirement already satisfied: pyarrow>=15.0.0 in /usr/local/lib/python3.10/dist-packages (from datasets) (17.0.0)\n",
            "Collecting dill<0.3.9,>=0.3.0 (from datasets)\n",
            "  Downloading dill-0.3.8-py3-none-any.whl.metadata (10 kB)\n",
            "Requirement already satisfied: pandas in /usr/local/lib/python3.10/dist-packages (from datasets) (2.2.2)\n",
            "Requirement already satisfied: requests>=2.32.2 in /usr/local/lib/python3.10/dist-packages (from datasets) (2.32.3)\n",
            "Requirement already satisfied: tqdm>=4.66.3 in /usr/local/lib/python3.10/dist-packages (from datasets) (4.66.6)\n",
            "Collecting xxhash (from datasets)\n",
            "  Downloading xxhash-3.5.0-cp310-cp310-manylinux_2_17_x86_64.manylinux2014_x86_64.whl.metadata (12 kB)\n",
            "Collecting multiprocess<0.70.17 (from datasets)\n",
            "  Downloading multiprocess-0.70.16-py310-none-any.whl.metadata (7.2 kB)\n",
            "Collecting fsspec<=2024.9.0,>=2023.1.0 (from fsspec[http]<=2024.9.0,>=2023.1.0->datasets)\n",
            "  Downloading fsspec-2024.9.0-py3-none-any.whl.metadata (11 kB)\n",
            "Requirement already satisfied: aiohttp in /usr/local/lib/python3.10/dist-packages (from datasets) (3.11.10)\n",
            "Requirement already satisfied: huggingface-hub>=0.23.0 in /usr/local/lib/python3.10/dist-packages (from datasets) (0.26.5)\n",
            "Requirement already satisfied: packaging in /usr/local/lib/python3.10/dist-packages (from datasets) (24.2)\n",
            "Requirement already satisfied: pyyaml>=5.1 in /usr/local/lib/python3.10/dist-packages (from datasets) (6.0.2)\n",
            "Requirement already satisfied: aiohappyeyeballs>=2.3.0 in /usr/local/lib/python3.10/dist-packages (from aiohttp->datasets) (2.4.4)\n",
            "Requirement already satisfied: aiosignal>=1.1.2 in /usr/local/lib/python3.10/dist-packages (from aiohttp->datasets) (1.3.1)\n",
            "Requirement already satisfied: async-timeout<6.0,>=4.0 in /usr/local/lib/python3.10/dist-packages (from aiohttp->datasets) (4.0.3)\n",
            "Requirement already satisfied: attrs>=17.3.0 in /usr/local/lib/python3.10/dist-packages (from aiohttp->datasets) (24.2.0)\n",
            "Requirement already satisfied: frozenlist>=1.1.1 in /usr/local/lib/python3.10/dist-packages (from aiohttp->datasets) (1.5.0)\n",
            "Requirement already satisfied: multidict<7.0,>=4.5 in /usr/local/lib/python3.10/dist-packages (from aiohttp->datasets) (6.1.0)\n",
            "Requirement already satisfied: propcache>=0.2.0 in /usr/local/lib/python3.10/dist-packages (from aiohttp->datasets) (0.2.1)\n",
            "Requirement already satisfied: yarl<2.0,>=1.17.0 in /usr/local/lib/python3.10/dist-packages (from aiohttp->datasets) (1.18.3)\n",
            "Requirement already satisfied: typing-extensions>=3.7.4.3 in /usr/local/lib/python3.10/dist-packages (from huggingface-hub>=0.23.0->datasets) (4.12.2)\n",
            "Requirement already satisfied: charset-normalizer<4,>=2 in /usr/local/lib/python3.10/dist-packages (from requests>=2.32.2->datasets) (3.4.0)\n",
            "Requirement already satisfied: idna<4,>=2.5 in /usr/local/lib/python3.10/dist-packages (from requests>=2.32.2->datasets) (3.10)\n",
            "Requirement already satisfied: urllib3<3,>=1.21.1 in /usr/local/lib/python3.10/dist-packages (from requests>=2.32.2->datasets) (2.2.3)\n",
            "Requirement already satisfied: certifi>=2017.4.17 in /usr/local/lib/python3.10/dist-packages (from requests>=2.32.2->datasets) (2024.8.30)\n",
            "Requirement already satisfied: python-dateutil>=2.8.2 in /usr/local/lib/python3.10/dist-packages (from pandas->datasets) (2.8.2)\n",
            "Requirement already satisfied: pytz>=2020.1 in /usr/local/lib/python3.10/dist-packages (from pandas->datasets) (2024.2)\n",
            "Requirement already satisfied: tzdata>=2022.7 in /usr/local/lib/python3.10/dist-packages (from pandas->datasets) (2024.2)\n",
            "Requirement already satisfied: six>=1.5 in /usr/local/lib/python3.10/dist-packages (from python-dateutil>=2.8.2->pandas->datasets) (1.17.0)\n",
            "Downloading datasets-3.2.0-py3-none-any.whl (480 kB)\n",
            "\u001b[2K   \u001b[90m━━━━━━━━━━━━━━━━━━━━━━━━━━━━━━━━━━━━━━━━\u001b[0m \u001b[32m480.6/480.6 kB\u001b[0m \u001b[31m30.5 MB/s\u001b[0m eta \u001b[36m0:00:00\u001b[0m\n",
            "\u001b[?25hDownloading dill-0.3.8-py3-none-any.whl (116 kB)\n",
            "\u001b[2K   \u001b[90m━━━━━━━━━━━━━━━━━━━━━━━━━━━━━━━━━━━━━━━━\u001b[0m \u001b[32m116.3/116.3 kB\u001b[0m \u001b[31m11.8 MB/s\u001b[0m eta \u001b[36m0:00:00\u001b[0m\n",
            "\u001b[?25hDownloading fsspec-2024.9.0-py3-none-any.whl (179 kB)\n",
            "\u001b[2K   \u001b[90m━━━━━━━━━━━━━━━━━━━━━━━━━━━━━━━━━━━━━━━━\u001b[0m \u001b[32m179.3/179.3 kB\u001b[0m \u001b[31m14.5 MB/s\u001b[0m eta \u001b[36m0:00:00\u001b[0m\n",
            "\u001b[?25hDownloading multiprocess-0.70.16-py310-none-any.whl (134 kB)\n",
            "\u001b[2K   \u001b[90m━━━━━━━━━━━━━━━━━━━━━━━━━━━━━━━━━━━━━━━━\u001b[0m \u001b[32m134.8/134.8 kB\u001b[0m \u001b[31m11.8 MB/s\u001b[0m eta \u001b[36m0:00:00\u001b[0m\n",
            "\u001b[?25hDownloading xxhash-3.5.0-cp310-cp310-manylinux_2_17_x86_64.manylinux2014_x86_64.whl (194 kB)\n",
            "\u001b[2K   \u001b[90m━━━━━━━━━━━━━━━━━━━━━━━━━━━━━━━━━━━━━━━━\u001b[0m \u001b[32m194.1/194.1 kB\u001b[0m \u001b[31m17.3 MB/s\u001b[0m eta \u001b[36m0:00:00\u001b[0m\n",
            "\u001b[?25hInstalling collected packages: xxhash, fsspec, dill, multiprocess, datasets\n",
            "  Attempting uninstall: fsspec\n",
            "    Found existing installation: fsspec 2024.10.0\n",
            "    Uninstalling fsspec-2024.10.0:\n",
            "      Successfully uninstalled fsspec-2024.10.0\n",
            "\u001b[31mERROR: pip's dependency resolver does not currently take into account all the packages that are installed. This behaviour is the source of the following dependency conflicts.\n",
            "gcsfs 2024.10.0 requires fsspec==2024.10.0, but you have fsspec 2024.9.0 which is incompatible.\u001b[0m\u001b[31m\n",
            "\u001b[0mSuccessfully installed datasets-3.2.0 dill-0.3.8 fsspec-2024.9.0 multiprocess-0.70.16 xxhash-3.5.0\n"
          ]
        }
      ]
    },
    {
      "cell_type": "code",
      "source": [
        "import re\n",
        "import torch\n",
        "import string\n",
        "import random\n",
        "import numpy as np\n",
        "import pandas as pd\n",
        "import torch.nn as nn\n",
        "import torch.nn.functional as F\n",
        "import torch.optim as optim\n",
        "from nltk.corpus import stopwords\n",
        "from collections import Counter\n",
        "import seaborn as sns\n",
        "from tqdm import tqdm\n",
        "import matplotlib.pyplot as plt\n",
        "from torch.utils.data import TensorDataset, DataLoader\n",
        "from sklearn.model_selection import train_test_split\n",
        "from sklearn.utils import resample\n",
        "from datasets import load_dataset"
      ],
      "metadata": {
        "id": "38PYlurnWvOm"
      },
      "execution_count": 4,
      "outputs": []
    },
    {
      "cell_type": "markdown",
      "source": [
        "## Biến toàn cục"
      ],
      "metadata": {
        "id": "l5A0ao9wfHa-"
      }
    },
    {
      "cell_type": "code",
      "source": [
        "if torch.cuda.is_available():\n",
        "    device = torch.device('cuda')\n",
        "else:\n",
        "    device = torch.device('cpu')\n",
        "\n",
        "print(device)"
      ],
      "metadata": {
        "colab": {
          "base_uri": "https://localhost:8080/"
        },
        "id": "MIFUecRefRW-",
        "outputId": "83caf009-54b6-44ac-a8a8-9a64442bd567"
      },
      "execution_count": 5,
      "outputs": [
        {
          "output_type": "stream",
          "name": "stdout",
          "text": [
            "cuda\n"
          ]
        }
      ]
    },
    {
      "cell_type": "markdown",
      "source": [
        "## Tải dữ liệu"
      ],
      "metadata": {
        "id": "7O4ahkZ6NH_U"
      }
    },
    {
      "cell_type": "code",
      "source": [
        "dataset = load_dataset('glue', 'sst2')\n",
        ""
      ],
      "metadata": {
        "id": "Zbc1LNeKNJ_a"
      },
      "execution_count": 31,
      "outputs": []
    },
    {
      "cell_type": "code",
      "source": [
        "print(dataset)"
      ],
      "metadata": {
        "colab": {
          "base_uri": "https://localhost:8080/"
        },
        "id": "H-0ohHAINJ76",
        "outputId": "e9154875-c858-497b-efff-da595546190a"
      },
      "execution_count": 32,
      "outputs": [
        {
          "output_type": "stream",
          "name": "stdout",
          "text": [
            "DatasetDict({\n",
            "    train: Dataset({\n",
            "        features: ['sentence', 'label', 'idx'],\n",
            "        num_rows: 67349\n",
            "    })\n",
            "    validation: Dataset({\n",
            "        features: ['sentence', 'label', 'idx'],\n",
            "        num_rows: 872\n",
            "    })\n",
            "    test: Dataset({\n",
            "        features: ['sentence', 'label', 'idx'],\n",
            "        num_rows: 1821\n",
            "    })\n",
            "})\n"
          ]
        }
      ]
    },
    {
      "cell_type": "markdown",
      "source": [
        "## Xử lý dữ liệu"
      ],
      "metadata": {
        "id": "t--IvfNQfhUt"
      }
    },
    {
      "cell_type": "markdown",
      "source": [
        "### Xử lý"
      ],
      "metadata": {
        "id": "t71HYcVKPt35"
      }
    },
    {
      "cell_type": "code",
      "source": [
        "df = dataset['train'].to_pandas()\n",
        "df_test = dataset['validation'].to_pandas()\n",
        "print(df.info())\n",
        "print(df_test.info())"
      ],
      "metadata": {
        "colab": {
          "base_uri": "https://localhost:8080/"
        },
        "id": "n6u2thTHPw8x",
        "outputId": "038617fa-6dbe-4dbd-a7fd-39edfb98ad83"
      },
      "execution_count": 33,
      "outputs": [
        {
          "output_type": "stream",
          "name": "stdout",
          "text": [
            "<class 'pandas.core.frame.DataFrame'>\n",
            "RangeIndex: 67349 entries, 0 to 67348\n",
            "Data columns (total 3 columns):\n",
            " #   Column    Non-Null Count  Dtype \n",
            "---  ------    --------------  ----- \n",
            " 0   sentence  67349 non-null  object\n",
            " 1   label     67349 non-null  int64 \n",
            " 2   idx       67349 non-null  int32 \n",
            "dtypes: int32(1), int64(1), object(1)\n",
            "memory usage: 1.3+ MB\n",
            "None\n",
            "<class 'pandas.core.frame.DataFrame'>\n",
            "RangeIndex: 872 entries, 0 to 871\n",
            "Data columns (total 3 columns):\n",
            " #   Column    Non-Null Count  Dtype \n",
            "---  ------    --------------  ----- \n",
            " 0   sentence  872 non-null    object\n",
            " 1   label     872 non-null    int64 \n",
            " 2   idx       872 non-null    int32 \n",
            "dtypes: int32(1), int64(1), object(1)\n",
            "memory usage: 17.2+ KB\n",
            "None\n"
          ]
        }
      ]
    },
    {
      "cell_type": "code",
      "source": [
        "df.rename(columns={\"sentence\": \"comment\", \"label\": \"sentiment\"}, inplace=True)\n",
        "df.drop('idx', axis=1, inplace=True)\n",
        "df_test.rename(columns={\"sentence\": \"comment\", \"label\": \"sentiment\"}, inplace=True)\n",
        "df_test.drop('idx', axis=1, inplace=True)"
      ],
      "metadata": {
        "id": "wdeq0JGnPwzJ"
      },
      "execution_count": 34,
      "outputs": []
    },
    {
      "cell_type": "code",
      "source": [
        "df.head()"
      ],
      "metadata": {
        "colab": {
          "base_uri": "https://localhost:8080/",
          "height": 206
        },
        "id": "2aV26YOkPwwb",
        "outputId": "7b38c135-d1dc-40b2-a1bb-d177499b95e7"
      },
      "execution_count": 35,
      "outputs": [
        {
          "output_type": "execute_result",
          "data": {
            "text/plain": [
              "                                             comment  sentiment\n",
              "0       hide new secretions from the parental units           0\n",
              "1               contains no wit , only labored gags           0\n",
              "2  that loves its characters and communicates som...          1\n",
              "3  remains utterly satisfied to remain the same t...          0\n",
              "4  on the worst revenge-of-the-nerds clichés the ...          0"
            ],
            "text/html": [
              "\n",
              "  <div id=\"df-344c8eb5-8c92-4ddb-82fe-ac5506424ffb\" class=\"colab-df-container\">\n",
              "    <div>\n",
              "<style scoped>\n",
              "    .dataframe tbody tr th:only-of-type {\n",
              "        vertical-align: middle;\n",
              "    }\n",
              "\n",
              "    .dataframe tbody tr th {\n",
              "        vertical-align: top;\n",
              "    }\n",
              "\n",
              "    .dataframe thead th {\n",
              "        text-align: right;\n",
              "    }\n",
              "</style>\n",
              "<table border=\"1\" class=\"dataframe\">\n",
              "  <thead>\n",
              "    <tr style=\"text-align: right;\">\n",
              "      <th></th>\n",
              "      <th>comment</th>\n",
              "      <th>sentiment</th>\n",
              "    </tr>\n",
              "  </thead>\n",
              "  <tbody>\n",
              "    <tr>\n",
              "      <th>0</th>\n",
              "      <td>hide new secretions from the parental units</td>\n",
              "      <td>0</td>\n",
              "    </tr>\n",
              "    <tr>\n",
              "      <th>1</th>\n",
              "      <td>contains no wit , only labored gags</td>\n",
              "      <td>0</td>\n",
              "    </tr>\n",
              "    <tr>\n",
              "      <th>2</th>\n",
              "      <td>that loves its characters and communicates som...</td>\n",
              "      <td>1</td>\n",
              "    </tr>\n",
              "    <tr>\n",
              "      <th>3</th>\n",
              "      <td>remains utterly satisfied to remain the same t...</td>\n",
              "      <td>0</td>\n",
              "    </tr>\n",
              "    <tr>\n",
              "      <th>4</th>\n",
              "      <td>on the worst revenge-of-the-nerds clichés the ...</td>\n",
              "      <td>0</td>\n",
              "    </tr>\n",
              "  </tbody>\n",
              "</table>\n",
              "</div>\n",
              "    <div class=\"colab-df-buttons\">\n",
              "\n",
              "  <div class=\"colab-df-container\">\n",
              "    <button class=\"colab-df-convert\" onclick=\"convertToInteractive('df-344c8eb5-8c92-4ddb-82fe-ac5506424ffb')\"\n",
              "            title=\"Convert this dataframe to an interactive table.\"\n",
              "            style=\"display:none;\">\n",
              "\n",
              "  <svg xmlns=\"http://www.w3.org/2000/svg\" height=\"24px\" viewBox=\"0 -960 960 960\">\n",
              "    <path d=\"M120-120v-720h720v720H120Zm60-500h600v-160H180v160Zm220 220h160v-160H400v160Zm0 220h160v-160H400v160ZM180-400h160v-160H180v160Zm440 0h160v-160H620v160ZM180-180h160v-160H180v160Zm440 0h160v-160H620v160Z\"/>\n",
              "  </svg>\n",
              "    </button>\n",
              "\n",
              "  <style>\n",
              "    .colab-df-container {\n",
              "      display:flex;\n",
              "      gap: 12px;\n",
              "    }\n",
              "\n",
              "    .colab-df-convert {\n",
              "      background-color: #E8F0FE;\n",
              "      border: none;\n",
              "      border-radius: 50%;\n",
              "      cursor: pointer;\n",
              "      display: none;\n",
              "      fill: #1967D2;\n",
              "      height: 32px;\n",
              "      padding: 0 0 0 0;\n",
              "      width: 32px;\n",
              "    }\n",
              "\n",
              "    .colab-df-convert:hover {\n",
              "      background-color: #E2EBFA;\n",
              "      box-shadow: 0px 1px 2px rgba(60, 64, 67, 0.3), 0px 1px 3px 1px rgba(60, 64, 67, 0.15);\n",
              "      fill: #174EA6;\n",
              "    }\n",
              "\n",
              "    .colab-df-buttons div {\n",
              "      margin-bottom: 4px;\n",
              "    }\n",
              "\n",
              "    [theme=dark] .colab-df-convert {\n",
              "      background-color: #3B4455;\n",
              "      fill: #D2E3FC;\n",
              "    }\n",
              "\n",
              "    [theme=dark] .colab-df-convert:hover {\n",
              "      background-color: #434B5C;\n",
              "      box-shadow: 0px 1px 3px 1px rgba(0, 0, 0, 0.15);\n",
              "      filter: drop-shadow(0px 1px 2px rgba(0, 0, 0, 0.3));\n",
              "      fill: #FFFFFF;\n",
              "    }\n",
              "  </style>\n",
              "\n",
              "    <script>\n",
              "      const buttonEl =\n",
              "        document.querySelector('#df-344c8eb5-8c92-4ddb-82fe-ac5506424ffb button.colab-df-convert');\n",
              "      buttonEl.style.display =\n",
              "        google.colab.kernel.accessAllowed ? 'block' : 'none';\n",
              "\n",
              "      async function convertToInteractive(key) {\n",
              "        const element = document.querySelector('#df-344c8eb5-8c92-4ddb-82fe-ac5506424ffb');\n",
              "        const dataTable =\n",
              "          await google.colab.kernel.invokeFunction('convertToInteractive',\n",
              "                                                    [key], {});\n",
              "        if (!dataTable) return;\n",
              "\n",
              "        const docLinkHtml = 'Like what you see? Visit the ' +\n",
              "          '<a target=\"_blank\" href=https://colab.research.google.com/notebooks/data_table.ipynb>data table notebook</a>'\n",
              "          + ' to learn more about interactive tables.';\n",
              "        element.innerHTML = '';\n",
              "        dataTable['output_type'] = 'display_data';\n",
              "        await google.colab.output.renderOutput(dataTable, element);\n",
              "        const docLink = document.createElement('div');\n",
              "        docLink.innerHTML = docLinkHtml;\n",
              "        element.appendChild(docLink);\n",
              "      }\n",
              "    </script>\n",
              "  </div>\n",
              "\n",
              "\n",
              "<div id=\"df-7e8e1cfb-f2eb-429b-8c0f-0d6a1f8fefc1\">\n",
              "  <button class=\"colab-df-quickchart\" onclick=\"quickchart('df-7e8e1cfb-f2eb-429b-8c0f-0d6a1f8fefc1')\"\n",
              "            title=\"Suggest charts\"\n",
              "            style=\"display:none;\">\n",
              "\n",
              "<svg xmlns=\"http://www.w3.org/2000/svg\" height=\"24px\"viewBox=\"0 0 24 24\"\n",
              "     width=\"24px\">\n",
              "    <g>\n",
              "        <path d=\"M19 3H5c-1.1 0-2 .9-2 2v14c0 1.1.9 2 2 2h14c1.1 0 2-.9 2-2V5c0-1.1-.9-2-2-2zM9 17H7v-7h2v7zm4 0h-2V7h2v10zm4 0h-2v-4h2v4z\"/>\n",
              "    </g>\n",
              "</svg>\n",
              "  </button>\n",
              "\n",
              "<style>\n",
              "  .colab-df-quickchart {\n",
              "      --bg-color: #E8F0FE;\n",
              "      --fill-color: #1967D2;\n",
              "      --hover-bg-color: #E2EBFA;\n",
              "      --hover-fill-color: #174EA6;\n",
              "      --disabled-fill-color: #AAA;\n",
              "      --disabled-bg-color: #DDD;\n",
              "  }\n",
              "\n",
              "  [theme=dark] .colab-df-quickchart {\n",
              "      --bg-color: #3B4455;\n",
              "      --fill-color: #D2E3FC;\n",
              "      --hover-bg-color: #434B5C;\n",
              "      --hover-fill-color: #FFFFFF;\n",
              "      --disabled-bg-color: #3B4455;\n",
              "      --disabled-fill-color: #666;\n",
              "  }\n",
              "\n",
              "  .colab-df-quickchart {\n",
              "    background-color: var(--bg-color);\n",
              "    border: none;\n",
              "    border-radius: 50%;\n",
              "    cursor: pointer;\n",
              "    display: none;\n",
              "    fill: var(--fill-color);\n",
              "    height: 32px;\n",
              "    padding: 0;\n",
              "    width: 32px;\n",
              "  }\n",
              "\n",
              "  .colab-df-quickchart:hover {\n",
              "    background-color: var(--hover-bg-color);\n",
              "    box-shadow: 0 1px 2px rgba(60, 64, 67, 0.3), 0 1px 3px 1px rgba(60, 64, 67, 0.15);\n",
              "    fill: var(--button-hover-fill-color);\n",
              "  }\n",
              "\n",
              "  .colab-df-quickchart-complete:disabled,\n",
              "  .colab-df-quickchart-complete:disabled:hover {\n",
              "    background-color: var(--disabled-bg-color);\n",
              "    fill: var(--disabled-fill-color);\n",
              "    box-shadow: none;\n",
              "  }\n",
              "\n",
              "  .colab-df-spinner {\n",
              "    border: 2px solid var(--fill-color);\n",
              "    border-color: transparent;\n",
              "    border-bottom-color: var(--fill-color);\n",
              "    animation:\n",
              "      spin 1s steps(1) infinite;\n",
              "  }\n",
              "\n",
              "  @keyframes spin {\n",
              "    0% {\n",
              "      border-color: transparent;\n",
              "      border-bottom-color: var(--fill-color);\n",
              "      border-left-color: var(--fill-color);\n",
              "    }\n",
              "    20% {\n",
              "      border-color: transparent;\n",
              "      border-left-color: var(--fill-color);\n",
              "      border-top-color: var(--fill-color);\n",
              "    }\n",
              "    30% {\n",
              "      border-color: transparent;\n",
              "      border-left-color: var(--fill-color);\n",
              "      border-top-color: var(--fill-color);\n",
              "      border-right-color: var(--fill-color);\n",
              "    }\n",
              "    40% {\n",
              "      border-color: transparent;\n",
              "      border-right-color: var(--fill-color);\n",
              "      border-top-color: var(--fill-color);\n",
              "    }\n",
              "    60% {\n",
              "      border-color: transparent;\n",
              "      border-right-color: var(--fill-color);\n",
              "    }\n",
              "    80% {\n",
              "      border-color: transparent;\n",
              "      border-right-color: var(--fill-color);\n",
              "      border-bottom-color: var(--fill-color);\n",
              "    }\n",
              "    90% {\n",
              "      border-color: transparent;\n",
              "      border-bottom-color: var(--fill-color);\n",
              "    }\n",
              "  }\n",
              "</style>\n",
              "\n",
              "  <script>\n",
              "    async function quickchart(key) {\n",
              "      const quickchartButtonEl =\n",
              "        document.querySelector('#' + key + ' button');\n",
              "      quickchartButtonEl.disabled = true;  // To prevent multiple clicks.\n",
              "      quickchartButtonEl.classList.add('colab-df-spinner');\n",
              "      try {\n",
              "        const charts = await google.colab.kernel.invokeFunction(\n",
              "            'suggestCharts', [key], {});\n",
              "      } catch (error) {\n",
              "        console.error('Error during call to suggestCharts:', error);\n",
              "      }\n",
              "      quickchartButtonEl.classList.remove('colab-df-spinner');\n",
              "      quickchartButtonEl.classList.add('colab-df-quickchart-complete');\n",
              "    }\n",
              "    (() => {\n",
              "      let quickchartButtonEl =\n",
              "        document.querySelector('#df-7e8e1cfb-f2eb-429b-8c0f-0d6a1f8fefc1 button');\n",
              "      quickchartButtonEl.style.display =\n",
              "        google.colab.kernel.accessAllowed ? 'block' : 'none';\n",
              "    })();\n",
              "  </script>\n",
              "</div>\n",
              "\n",
              "    </div>\n",
              "  </div>\n"
            ],
            "application/vnd.google.colaboratory.intrinsic+json": {
              "type": "dataframe",
              "variable_name": "df",
              "summary": "{\n  \"name\": \"df\",\n  \"rows\": 67349,\n  \"fields\": [\n    {\n      \"column\": \"comment\",\n      \"properties\": {\n        \"dtype\": \"string\",\n        \"num_unique_values\": 66978,\n        \"samples\": [\n          \"mr. day-lewis roars with leonine power \",\n          \"a fairly slow paced , almost humdrum approach to character development \",\n          \"it 's not very interesting . \"\n        ],\n        \"semantic_type\": \"\",\n        \"description\": \"\"\n      }\n    },\n    {\n      \"column\": \"sentiment\",\n      \"properties\": {\n        \"dtype\": \"number\",\n        \"std\": 0,\n        \"min\": 0,\n        \"max\": 1,\n        \"num_unique_values\": 2,\n        \"samples\": [\n          1,\n          0\n        ],\n        \"semantic_type\": \"\",\n        \"description\": \"\"\n      }\n    }\n  ]\n}"
            }
          },
          "metadata": {},
          "execution_count": 35
        }
      ]
    },
    {
      "cell_type": "code",
      "source": [
        "df_test.head()"
      ],
      "metadata": {
        "colab": {
          "base_uri": "https://localhost:8080/",
          "height": 206
        },
        "id": "sTgULhBmZCuB",
        "outputId": "0a00f510-55b6-457b-8449-b48c30c2df58"
      },
      "execution_count": 37,
      "outputs": [
        {
          "output_type": "execute_result",
          "data": {
            "text/plain": [
              "                                             comment  sentiment\n",
              "0    it 's a charming and often affecting journey .           1\n",
              "1                 unflinchingly bleak and desperate           0\n",
              "2  allows us to hope that nolan is poised to emba...          1\n",
              "3  the acting , costumes , music , cinematography...          1\n",
              "4                  it 's slow -- very , very slow .           0"
            ],
            "text/html": [
              "\n",
              "  <div id=\"df-6f89425e-279e-4740-8eef-69666e41217f\" class=\"colab-df-container\">\n",
              "    <div>\n",
              "<style scoped>\n",
              "    .dataframe tbody tr th:only-of-type {\n",
              "        vertical-align: middle;\n",
              "    }\n",
              "\n",
              "    .dataframe tbody tr th {\n",
              "        vertical-align: top;\n",
              "    }\n",
              "\n",
              "    .dataframe thead th {\n",
              "        text-align: right;\n",
              "    }\n",
              "</style>\n",
              "<table border=\"1\" class=\"dataframe\">\n",
              "  <thead>\n",
              "    <tr style=\"text-align: right;\">\n",
              "      <th></th>\n",
              "      <th>comment</th>\n",
              "      <th>sentiment</th>\n",
              "    </tr>\n",
              "  </thead>\n",
              "  <tbody>\n",
              "    <tr>\n",
              "      <th>0</th>\n",
              "      <td>it 's a charming and often affecting journey .</td>\n",
              "      <td>1</td>\n",
              "    </tr>\n",
              "    <tr>\n",
              "      <th>1</th>\n",
              "      <td>unflinchingly bleak and desperate</td>\n",
              "      <td>0</td>\n",
              "    </tr>\n",
              "    <tr>\n",
              "      <th>2</th>\n",
              "      <td>allows us to hope that nolan is poised to emba...</td>\n",
              "      <td>1</td>\n",
              "    </tr>\n",
              "    <tr>\n",
              "      <th>3</th>\n",
              "      <td>the acting , costumes , music , cinematography...</td>\n",
              "      <td>1</td>\n",
              "    </tr>\n",
              "    <tr>\n",
              "      <th>4</th>\n",
              "      <td>it 's slow -- very , very slow .</td>\n",
              "      <td>0</td>\n",
              "    </tr>\n",
              "  </tbody>\n",
              "</table>\n",
              "</div>\n",
              "    <div class=\"colab-df-buttons\">\n",
              "\n",
              "  <div class=\"colab-df-container\">\n",
              "    <button class=\"colab-df-convert\" onclick=\"convertToInteractive('df-6f89425e-279e-4740-8eef-69666e41217f')\"\n",
              "            title=\"Convert this dataframe to an interactive table.\"\n",
              "            style=\"display:none;\">\n",
              "\n",
              "  <svg xmlns=\"http://www.w3.org/2000/svg\" height=\"24px\" viewBox=\"0 -960 960 960\">\n",
              "    <path d=\"M120-120v-720h720v720H120Zm60-500h600v-160H180v160Zm220 220h160v-160H400v160Zm0 220h160v-160H400v160ZM180-400h160v-160H180v160Zm440 0h160v-160H620v160ZM180-180h160v-160H180v160Zm440 0h160v-160H620v160Z\"/>\n",
              "  </svg>\n",
              "    </button>\n",
              "\n",
              "  <style>\n",
              "    .colab-df-container {\n",
              "      display:flex;\n",
              "      gap: 12px;\n",
              "    }\n",
              "\n",
              "    .colab-df-convert {\n",
              "      background-color: #E8F0FE;\n",
              "      border: none;\n",
              "      border-radius: 50%;\n",
              "      cursor: pointer;\n",
              "      display: none;\n",
              "      fill: #1967D2;\n",
              "      height: 32px;\n",
              "      padding: 0 0 0 0;\n",
              "      width: 32px;\n",
              "    }\n",
              "\n",
              "    .colab-df-convert:hover {\n",
              "      background-color: #E2EBFA;\n",
              "      box-shadow: 0px 1px 2px rgba(60, 64, 67, 0.3), 0px 1px 3px 1px rgba(60, 64, 67, 0.15);\n",
              "      fill: #174EA6;\n",
              "    }\n",
              "\n",
              "    .colab-df-buttons div {\n",
              "      margin-bottom: 4px;\n",
              "    }\n",
              "\n",
              "    [theme=dark] .colab-df-convert {\n",
              "      background-color: #3B4455;\n",
              "      fill: #D2E3FC;\n",
              "    }\n",
              "\n",
              "    [theme=dark] .colab-df-convert:hover {\n",
              "      background-color: #434B5C;\n",
              "      box-shadow: 0px 1px 3px 1px rgba(0, 0, 0, 0.15);\n",
              "      filter: drop-shadow(0px 1px 2px rgba(0, 0, 0, 0.3));\n",
              "      fill: #FFFFFF;\n",
              "    }\n",
              "  </style>\n",
              "\n",
              "    <script>\n",
              "      const buttonEl =\n",
              "        document.querySelector('#df-6f89425e-279e-4740-8eef-69666e41217f button.colab-df-convert');\n",
              "      buttonEl.style.display =\n",
              "        google.colab.kernel.accessAllowed ? 'block' : 'none';\n",
              "\n",
              "      async function convertToInteractive(key) {\n",
              "        const element = document.querySelector('#df-6f89425e-279e-4740-8eef-69666e41217f');\n",
              "        const dataTable =\n",
              "          await google.colab.kernel.invokeFunction('convertToInteractive',\n",
              "                                                    [key], {});\n",
              "        if (!dataTable) return;\n",
              "\n",
              "        const docLinkHtml = 'Like what you see? Visit the ' +\n",
              "          '<a target=\"_blank\" href=https://colab.research.google.com/notebooks/data_table.ipynb>data table notebook</a>'\n",
              "          + ' to learn more about interactive tables.';\n",
              "        element.innerHTML = '';\n",
              "        dataTable['output_type'] = 'display_data';\n",
              "        await google.colab.output.renderOutput(dataTable, element);\n",
              "        const docLink = document.createElement('div');\n",
              "        docLink.innerHTML = docLinkHtml;\n",
              "        element.appendChild(docLink);\n",
              "      }\n",
              "    </script>\n",
              "  </div>\n",
              "\n",
              "\n",
              "<div id=\"df-d9fe3543-9f0c-4a58-9ae2-04140bf94189\">\n",
              "  <button class=\"colab-df-quickchart\" onclick=\"quickchart('df-d9fe3543-9f0c-4a58-9ae2-04140bf94189')\"\n",
              "            title=\"Suggest charts\"\n",
              "            style=\"display:none;\">\n",
              "\n",
              "<svg xmlns=\"http://www.w3.org/2000/svg\" height=\"24px\"viewBox=\"0 0 24 24\"\n",
              "     width=\"24px\">\n",
              "    <g>\n",
              "        <path d=\"M19 3H5c-1.1 0-2 .9-2 2v14c0 1.1.9 2 2 2h14c1.1 0 2-.9 2-2V5c0-1.1-.9-2-2-2zM9 17H7v-7h2v7zm4 0h-2V7h2v10zm4 0h-2v-4h2v4z\"/>\n",
              "    </g>\n",
              "</svg>\n",
              "  </button>\n",
              "\n",
              "<style>\n",
              "  .colab-df-quickchart {\n",
              "      --bg-color: #E8F0FE;\n",
              "      --fill-color: #1967D2;\n",
              "      --hover-bg-color: #E2EBFA;\n",
              "      --hover-fill-color: #174EA6;\n",
              "      --disabled-fill-color: #AAA;\n",
              "      --disabled-bg-color: #DDD;\n",
              "  }\n",
              "\n",
              "  [theme=dark] .colab-df-quickchart {\n",
              "      --bg-color: #3B4455;\n",
              "      --fill-color: #D2E3FC;\n",
              "      --hover-bg-color: #434B5C;\n",
              "      --hover-fill-color: #FFFFFF;\n",
              "      --disabled-bg-color: #3B4455;\n",
              "      --disabled-fill-color: #666;\n",
              "  }\n",
              "\n",
              "  .colab-df-quickchart {\n",
              "    background-color: var(--bg-color);\n",
              "    border: none;\n",
              "    border-radius: 50%;\n",
              "    cursor: pointer;\n",
              "    display: none;\n",
              "    fill: var(--fill-color);\n",
              "    height: 32px;\n",
              "    padding: 0;\n",
              "    width: 32px;\n",
              "  }\n",
              "\n",
              "  .colab-df-quickchart:hover {\n",
              "    background-color: var(--hover-bg-color);\n",
              "    box-shadow: 0 1px 2px rgba(60, 64, 67, 0.3), 0 1px 3px 1px rgba(60, 64, 67, 0.15);\n",
              "    fill: var(--button-hover-fill-color);\n",
              "  }\n",
              "\n",
              "  .colab-df-quickchart-complete:disabled,\n",
              "  .colab-df-quickchart-complete:disabled:hover {\n",
              "    background-color: var(--disabled-bg-color);\n",
              "    fill: var(--disabled-fill-color);\n",
              "    box-shadow: none;\n",
              "  }\n",
              "\n",
              "  .colab-df-spinner {\n",
              "    border: 2px solid var(--fill-color);\n",
              "    border-color: transparent;\n",
              "    border-bottom-color: var(--fill-color);\n",
              "    animation:\n",
              "      spin 1s steps(1) infinite;\n",
              "  }\n",
              "\n",
              "  @keyframes spin {\n",
              "    0% {\n",
              "      border-color: transparent;\n",
              "      border-bottom-color: var(--fill-color);\n",
              "      border-left-color: var(--fill-color);\n",
              "    }\n",
              "    20% {\n",
              "      border-color: transparent;\n",
              "      border-left-color: var(--fill-color);\n",
              "      border-top-color: var(--fill-color);\n",
              "    }\n",
              "    30% {\n",
              "      border-color: transparent;\n",
              "      border-left-color: var(--fill-color);\n",
              "      border-top-color: var(--fill-color);\n",
              "      border-right-color: var(--fill-color);\n",
              "    }\n",
              "    40% {\n",
              "      border-color: transparent;\n",
              "      border-right-color: var(--fill-color);\n",
              "      border-top-color: var(--fill-color);\n",
              "    }\n",
              "    60% {\n",
              "      border-color: transparent;\n",
              "      border-right-color: var(--fill-color);\n",
              "    }\n",
              "    80% {\n",
              "      border-color: transparent;\n",
              "      border-right-color: var(--fill-color);\n",
              "      border-bottom-color: var(--fill-color);\n",
              "    }\n",
              "    90% {\n",
              "      border-color: transparent;\n",
              "      border-bottom-color: var(--fill-color);\n",
              "    }\n",
              "  }\n",
              "</style>\n",
              "\n",
              "  <script>\n",
              "    async function quickchart(key) {\n",
              "      const quickchartButtonEl =\n",
              "        document.querySelector('#' + key + ' button');\n",
              "      quickchartButtonEl.disabled = true;  // To prevent multiple clicks.\n",
              "      quickchartButtonEl.classList.add('colab-df-spinner');\n",
              "      try {\n",
              "        const charts = await google.colab.kernel.invokeFunction(\n",
              "            'suggestCharts', [key], {});\n",
              "      } catch (error) {\n",
              "        console.error('Error during call to suggestCharts:', error);\n",
              "      }\n",
              "      quickchartButtonEl.classList.remove('colab-df-spinner');\n",
              "      quickchartButtonEl.classList.add('colab-df-quickchart-complete');\n",
              "    }\n",
              "    (() => {\n",
              "      let quickchartButtonEl =\n",
              "        document.querySelector('#df-d9fe3543-9f0c-4a58-9ae2-04140bf94189 button');\n",
              "      quickchartButtonEl.style.display =\n",
              "        google.colab.kernel.accessAllowed ? 'block' : 'none';\n",
              "    })();\n",
              "  </script>\n",
              "</div>\n",
              "\n",
              "    </div>\n",
              "  </div>\n"
            ],
            "application/vnd.google.colaboratory.intrinsic+json": {
              "type": "dataframe",
              "variable_name": "df_test",
              "summary": "{\n  \"name\": \"df_test\",\n  \"rows\": 872,\n  \"fields\": [\n    {\n      \"column\": \"comment\",\n      \"properties\": {\n        \"dtype\": \"string\",\n        \"num_unique_values\": 872,\n        \"samples\": [\n          \"it confirms fincher 's status as a film maker who artfully bends technical know-how to the service of psychological insight . \",\n          \"too much of it feels unfocused and underdeveloped . \",\n          \"a great ensemble cast ca n't lift this heartfelt enterprise out of the familiar . \"\n        ],\n        \"semantic_type\": \"\",\n        \"description\": \"\"\n      }\n    },\n    {\n      \"column\": \"sentiment\",\n      \"properties\": {\n        \"dtype\": \"number\",\n        \"std\": 0,\n        \"min\": 0,\n        \"max\": 1,\n        \"num_unique_values\": 2,\n        \"samples\": [\n          0,\n          1\n        ],\n        \"semantic_type\": \"\",\n        \"description\": \"\"\n      }\n    }\n  ]\n}"
            }
          },
          "metadata": {},
          "execution_count": 37
        }
      ]
    },
    {
      "cell_type": "markdown",
      "source": [
        "### Phân tích"
      ],
      "metadata": {
        "id": "hWgik_XwDw59"
      }
    },
    {
      "cell_type": "code",
      "source": [
        "df.info()"
      ],
      "metadata": {
        "colab": {
          "base_uri": "https://localhost:8080/"
        },
        "id": "rHyiCAA8WvDW",
        "outputId": "befe5c31-cebb-4e02-a3c5-6e7a2da0c223"
      },
      "execution_count": 38,
      "outputs": [
        {
          "output_type": "stream",
          "name": "stdout",
          "text": [
            "<class 'pandas.core.frame.DataFrame'>\n",
            "RangeIndex: 67349 entries, 0 to 67348\n",
            "Data columns (total 2 columns):\n",
            " #   Column     Non-Null Count  Dtype \n",
            "---  ------     --------------  ----- \n",
            " 0   comment    67349 non-null  object\n",
            " 1   sentiment  67349 non-null  int64 \n",
            "dtypes: int64(1), object(1)\n",
            "memory usage: 1.0+ MB\n"
          ]
        }
      ]
    },
    {
      "cell_type": "code",
      "source": [
        "df.describe()"
      ],
      "metadata": {
        "colab": {
          "base_uri": "https://localhost:8080/",
          "height": 300
        },
        "id": "4NbDzjoTgn1P",
        "outputId": "a6f01d72-bd5e-4b56-b6ca-de56ad2a777d"
      },
      "execution_count": 39,
      "outputs": [
        {
          "output_type": "execute_result",
          "data": {
            "text/plain": [
              "          sentiment\n",
              "count  67349.000000\n",
              "mean       0.557826\n",
              "std        0.496649\n",
              "min        0.000000\n",
              "25%        0.000000\n",
              "50%        1.000000\n",
              "75%        1.000000\n",
              "max        1.000000"
            ],
            "text/html": [
              "\n",
              "  <div id=\"df-1b446b18-825f-4590-b0f7-d01d86d206c4\" class=\"colab-df-container\">\n",
              "    <div>\n",
              "<style scoped>\n",
              "    .dataframe tbody tr th:only-of-type {\n",
              "        vertical-align: middle;\n",
              "    }\n",
              "\n",
              "    .dataframe tbody tr th {\n",
              "        vertical-align: top;\n",
              "    }\n",
              "\n",
              "    .dataframe thead th {\n",
              "        text-align: right;\n",
              "    }\n",
              "</style>\n",
              "<table border=\"1\" class=\"dataframe\">\n",
              "  <thead>\n",
              "    <tr style=\"text-align: right;\">\n",
              "      <th></th>\n",
              "      <th>sentiment</th>\n",
              "    </tr>\n",
              "  </thead>\n",
              "  <tbody>\n",
              "    <tr>\n",
              "      <th>count</th>\n",
              "      <td>67349.000000</td>\n",
              "    </tr>\n",
              "    <tr>\n",
              "      <th>mean</th>\n",
              "      <td>0.557826</td>\n",
              "    </tr>\n",
              "    <tr>\n",
              "      <th>std</th>\n",
              "      <td>0.496649</td>\n",
              "    </tr>\n",
              "    <tr>\n",
              "      <th>min</th>\n",
              "      <td>0.000000</td>\n",
              "    </tr>\n",
              "    <tr>\n",
              "      <th>25%</th>\n",
              "      <td>0.000000</td>\n",
              "    </tr>\n",
              "    <tr>\n",
              "      <th>50%</th>\n",
              "      <td>1.000000</td>\n",
              "    </tr>\n",
              "    <tr>\n",
              "      <th>75%</th>\n",
              "      <td>1.000000</td>\n",
              "    </tr>\n",
              "    <tr>\n",
              "      <th>max</th>\n",
              "      <td>1.000000</td>\n",
              "    </tr>\n",
              "  </tbody>\n",
              "</table>\n",
              "</div>\n",
              "    <div class=\"colab-df-buttons\">\n",
              "\n",
              "  <div class=\"colab-df-container\">\n",
              "    <button class=\"colab-df-convert\" onclick=\"convertToInteractive('df-1b446b18-825f-4590-b0f7-d01d86d206c4')\"\n",
              "            title=\"Convert this dataframe to an interactive table.\"\n",
              "            style=\"display:none;\">\n",
              "\n",
              "  <svg xmlns=\"http://www.w3.org/2000/svg\" height=\"24px\" viewBox=\"0 -960 960 960\">\n",
              "    <path d=\"M120-120v-720h720v720H120Zm60-500h600v-160H180v160Zm220 220h160v-160H400v160Zm0 220h160v-160H400v160ZM180-400h160v-160H180v160Zm440 0h160v-160H620v160ZM180-180h160v-160H180v160Zm440 0h160v-160H620v160Z\"/>\n",
              "  </svg>\n",
              "    </button>\n",
              "\n",
              "  <style>\n",
              "    .colab-df-container {\n",
              "      display:flex;\n",
              "      gap: 12px;\n",
              "    }\n",
              "\n",
              "    .colab-df-convert {\n",
              "      background-color: #E8F0FE;\n",
              "      border: none;\n",
              "      border-radius: 50%;\n",
              "      cursor: pointer;\n",
              "      display: none;\n",
              "      fill: #1967D2;\n",
              "      height: 32px;\n",
              "      padding: 0 0 0 0;\n",
              "      width: 32px;\n",
              "    }\n",
              "\n",
              "    .colab-df-convert:hover {\n",
              "      background-color: #E2EBFA;\n",
              "      box-shadow: 0px 1px 2px rgba(60, 64, 67, 0.3), 0px 1px 3px 1px rgba(60, 64, 67, 0.15);\n",
              "      fill: #174EA6;\n",
              "    }\n",
              "\n",
              "    .colab-df-buttons div {\n",
              "      margin-bottom: 4px;\n",
              "    }\n",
              "\n",
              "    [theme=dark] .colab-df-convert {\n",
              "      background-color: #3B4455;\n",
              "      fill: #D2E3FC;\n",
              "    }\n",
              "\n",
              "    [theme=dark] .colab-df-convert:hover {\n",
              "      background-color: #434B5C;\n",
              "      box-shadow: 0px 1px 3px 1px rgba(0, 0, 0, 0.15);\n",
              "      filter: drop-shadow(0px 1px 2px rgba(0, 0, 0, 0.3));\n",
              "      fill: #FFFFFF;\n",
              "    }\n",
              "  </style>\n",
              "\n",
              "    <script>\n",
              "      const buttonEl =\n",
              "        document.querySelector('#df-1b446b18-825f-4590-b0f7-d01d86d206c4 button.colab-df-convert');\n",
              "      buttonEl.style.display =\n",
              "        google.colab.kernel.accessAllowed ? 'block' : 'none';\n",
              "\n",
              "      async function convertToInteractive(key) {\n",
              "        const element = document.querySelector('#df-1b446b18-825f-4590-b0f7-d01d86d206c4');\n",
              "        const dataTable =\n",
              "          await google.colab.kernel.invokeFunction('convertToInteractive',\n",
              "                                                    [key], {});\n",
              "        if (!dataTable) return;\n",
              "\n",
              "        const docLinkHtml = 'Like what you see? Visit the ' +\n",
              "          '<a target=\"_blank\" href=https://colab.research.google.com/notebooks/data_table.ipynb>data table notebook</a>'\n",
              "          + ' to learn more about interactive tables.';\n",
              "        element.innerHTML = '';\n",
              "        dataTable['output_type'] = 'display_data';\n",
              "        await google.colab.output.renderOutput(dataTable, element);\n",
              "        const docLink = document.createElement('div');\n",
              "        docLink.innerHTML = docLinkHtml;\n",
              "        element.appendChild(docLink);\n",
              "      }\n",
              "    </script>\n",
              "  </div>\n",
              "\n",
              "\n",
              "<div id=\"df-03ed4819-52ef-4e1a-bc4b-5f271ad71636\">\n",
              "  <button class=\"colab-df-quickchart\" onclick=\"quickchart('df-03ed4819-52ef-4e1a-bc4b-5f271ad71636')\"\n",
              "            title=\"Suggest charts\"\n",
              "            style=\"display:none;\">\n",
              "\n",
              "<svg xmlns=\"http://www.w3.org/2000/svg\" height=\"24px\"viewBox=\"0 0 24 24\"\n",
              "     width=\"24px\">\n",
              "    <g>\n",
              "        <path d=\"M19 3H5c-1.1 0-2 .9-2 2v14c0 1.1.9 2 2 2h14c1.1 0 2-.9 2-2V5c0-1.1-.9-2-2-2zM9 17H7v-7h2v7zm4 0h-2V7h2v10zm4 0h-2v-4h2v4z\"/>\n",
              "    </g>\n",
              "</svg>\n",
              "  </button>\n",
              "\n",
              "<style>\n",
              "  .colab-df-quickchart {\n",
              "      --bg-color: #E8F0FE;\n",
              "      --fill-color: #1967D2;\n",
              "      --hover-bg-color: #E2EBFA;\n",
              "      --hover-fill-color: #174EA6;\n",
              "      --disabled-fill-color: #AAA;\n",
              "      --disabled-bg-color: #DDD;\n",
              "  }\n",
              "\n",
              "  [theme=dark] .colab-df-quickchart {\n",
              "      --bg-color: #3B4455;\n",
              "      --fill-color: #D2E3FC;\n",
              "      --hover-bg-color: #434B5C;\n",
              "      --hover-fill-color: #FFFFFF;\n",
              "      --disabled-bg-color: #3B4455;\n",
              "      --disabled-fill-color: #666;\n",
              "  }\n",
              "\n",
              "  .colab-df-quickchart {\n",
              "    background-color: var(--bg-color);\n",
              "    border: none;\n",
              "    border-radius: 50%;\n",
              "    cursor: pointer;\n",
              "    display: none;\n",
              "    fill: var(--fill-color);\n",
              "    height: 32px;\n",
              "    padding: 0;\n",
              "    width: 32px;\n",
              "  }\n",
              "\n",
              "  .colab-df-quickchart:hover {\n",
              "    background-color: var(--hover-bg-color);\n",
              "    box-shadow: 0 1px 2px rgba(60, 64, 67, 0.3), 0 1px 3px 1px rgba(60, 64, 67, 0.15);\n",
              "    fill: var(--button-hover-fill-color);\n",
              "  }\n",
              "\n",
              "  .colab-df-quickchart-complete:disabled,\n",
              "  .colab-df-quickchart-complete:disabled:hover {\n",
              "    background-color: var(--disabled-bg-color);\n",
              "    fill: var(--disabled-fill-color);\n",
              "    box-shadow: none;\n",
              "  }\n",
              "\n",
              "  .colab-df-spinner {\n",
              "    border: 2px solid var(--fill-color);\n",
              "    border-color: transparent;\n",
              "    border-bottom-color: var(--fill-color);\n",
              "    animation:\n",
              "      spin 1s steps(1) infinite;\n",
              "  }\n",
              "\n",
              "  @keyframes spin {\n",
              "    0% {\n",
              "      border-color: transparent;\n",
              "      border-bottom-color: var(--fill-color);\n",
              "      border-left-color: var(--fill-color);\n",
              "    }\n",
              "    20% {\n",
              "      border-color: transparent;\n",
              "      border-left-color: var(--fill-color);\n",
              "      border-top-color: var(--fill-color);\n",
              "    }\n",
              "    30% {\n",
              "      border-color: transparent;\n",
              "      border-left-color: var(--fill-color);\n",
              "      border-top-color: var(--fill-color);\n",
              "      border-right-color: var(--fill-color);\n",
              "    }\n",
              "    40% {\n",
              "      border-color: transparent;\n",
              "      border-right-color: var(--fill-color);\n",
              "      border-top-color: var(--fill-color);\n",
              "    }\n",
              "    60% {\n",
              "      border-color: transparent;\n",
              "      border-right-color: var(--fill-color);\n",
              "    }\n",
              "    80% {\n",
              "      border-color: transparent;\n",
              "      border-right-color: var(--fill-color);\n",
              "      border-bottom-color: var(--fill-color);\n",
              "    }\n",
              "    90% {\n",
              "      border-color: transparent;\n",
              "      border-bottom-color: var(--fill-color);\n",
              "    }\n",
              "  }\n",
              "</style>\n",
              "\n",
              "  <script>\n",
              "    async function quickchart(key) {\n",
              "      const quickchartButtonEl =\n",
              "        document.querySelector('#' + key + ' button');\n",
              "      quickchartButtonEl.disabled = true;  // To prevent multiple clicks.\n",
              "      quickchartButtonEl.classList.add('colab-df-spinner');\n",
              "      try {\n",
              "        const charts = await google.colab.kernel.invokeFunction(\n",
              "            'suggestCharts', [key], {});\n",
              "      } catch (error) {\n",
              "        console.error('Error during call to suggestCharts:', error);\n",
              "      }\n",
              "      quickchartButtonEl.classList.remove('colab-df-spinner');\n",
              "      quickchartButtonEl.classList.add('colab-df-quickchart-complete');\n",
              "    }\n",
              "    (() => {\n",
              "      let quickchartButtonEl =\n",
              "        document.querySelector('#df-03ed4819-52ef-4e1a-bc4b-5f271ad71636 button');\n",
              "      quickchartButtonEl.style.display =\n",
              "        google.colab.kernel.accessAllowed ? 'block' : 'none';\n",
              "    })();\n",
              "  </script>\n",
              "</div>\n",
              "\n",
              "    </div>\n",
              "  </div>\n"
            ],
            "application/vnd.google.colaboratory.intrinsic+json": {
              "type": "dataframe",
              "summary": "{\n  \"name\": \"df\",\n  \"rows\": 8,\n  \"fields\": [\n    {\n      \"column\": \"sentiment\",\n      \"properties\": {\n        \"dtype\": \"number\",\n        \"std\": 23811.262524818954,\n        \"min\": 0.0,\n        \"max\": 67349.0,\n        \"num_unique_values\": 5,\n        \"samples\": [\n          0.5578256544269403,\n          1.0,\n          0.4966486243843298\n        ],\n        \"semantic_type\": \"\",\n        \"description\": \"\"\n      }\n    }\n  ]\n}"
            }
          },
          "metadata": {},
          "execution_count": 39
        }
      ]
    },
    {
      "cell_type": "code",
      "source": [
        "df['sentiment'].value_counts()"
      ],
      "metadata": {
        "colab": {
          "base_uri": "https://localhost:8080/",
          "height": 178
        },
        "id": "dGvrvTeOhA_2",
        "outputId": "63a5a018-c50a-40de-f059-16c2e903f726"
      },
      "execution_count": 40,
      "outputs": [
        {
          "output_type": "execute_result",
          "data": {
            "text/plain": [
              "sentiment\n",
              "1    37569\n",
              "0    29780\n",
              "Name: count, dtype: int64"
            ],
            "text/html": [
              "<div>\n",
              "<style scoped>\n",
              "    .dataframe tbody tr th:only-of-type {\n",
              "        vertical-align: middle;\n",
              "    }\n",
              "\n",
              "    .dataframe tbody tr th {\n",
              "        vertical-align: top;\n",
              "    }\n",
              "\n",
              "    .dataframe thead th {\n",
              "        text-align: right;\n",
              "    }\n",
              "</style>\n",
              "<table border=\"1\" class=\"dataframe\">\n",
              "  <thead>\n",
              "    <tr style=\"text-align: right;\">\n",
              "      <th></th>\n",
              "      <th>count</th>\n",
              "    </tr>\n",
              "    <tr>\n",
              "      <th>sentiment</th>\n",
              "      <th></th>\n",
              "    </tr>\n",
              "  </thead>\n",
              "  <tbody>\n",
              "    <tr>\n",
              "      <th>1</th>\n",
              "      <td>37569</td>\n",
              "    </tr>\n",
              "    <tr>\n",
              "      <th>0</th>\n",
              "      <td>29780</td>\n",
              "    </tr>\n",
              "  </tbody>\n",
              "</table>\n",
              "</div><br><label><b>dtype:</b> int64</label>"
            ]
          },
          "metadata": {},
          "execution_count": 40
        }
      ]
    },
    {
      "cell_type": "code",
      "source": [
        "df['word_count'] = df['comment'].str.split().apply(len)"
      ],
      "metadata": {
        "id": "WOI4pjCf0nJt"
      },
      "execution_count": 41,
      "outputs": []
    },
    {
      "cell_type": "code",
      "source": [
        "print(\"min: \", df['word_count'].min())\n",
        "print(\"max: \", df['word_count'].max())\n",
        "print(\"mean: \", df['word_count'].mean())\n",
        "print(\"median: \", df['word_count'].median())\n",
        "print(\"std: \", df['word_count'].std())"
      ],
      "metadata": {
        "colab": {
          "base_uri": "https://localhost:8080/"
        },
        "id": "xWaOKE9w2PdV",
        "outputId": "5a11abc2-33e5-4775-cf0b-046137ccca5e"
      },
      "execution_count": 42,
      "outputs": [
        {
          "output_type": "stream",
          "name": "stdout",
          "text": [
            "min:  1\n",
            "max:  52\n",
            "mean:  9.409553222765\n",
            "median:  7.0\n",
            "std:  8.073806407501392\n"
          ]
        }
      ]
    },
    {
      "cell_type": "code",
      "source": [
        "plt.figure(figsize=(8, 5))\n",
        "plt.hist(df['word_count'], bins=20, color='skyblue', edgecolor='black')\n",
        "plt.grid(axis='y', linestyle='--', alpha=0.7)\n",
        "plt.show()"
      ],
      "metadata": {
        "colab": {
          "base_uri": "https://localhost:8080/",
          "height": 445
        },
        "id": "RIF5sj5Xh6Fo",
        "outputId": "82ca3364-551d-45e1-ad02-2de4ca1a67c0"
      },
      "execution_count": 43,
      "outputs": [
        {
          "output_type": "display_data",
          "data": {
            "text/plain": [
              "<Figure size 800x500 with 1 Axes>"
            ],
            "image/png": "[encoded data removed]"
          },
          "metadata": {}
        }
      ]
    },
    {
      "cell_type": "code",
      "source": [
        "# df.drop(columns=['word_count'], inplace=True)"
      ],
      "metadata": {
        "id": "MLrXIcS3lxfi"
      },
      "execution_count": 26,
      "outputs": []
    },
    {
      "cell_type": "markdown",
      "source": [
        "### Tiền xử lý dữ liệu"
      ],
      "metadata": {
        "id": "-j1IXnoIpssA"
      }
    },
    {
      "cell_type": "code",
      "source": [
        "# df = df[df['sentiment'].isin([\"negative\", \"positive\", \"neutral\"])]\n",
        "# df['sentiment'].value_counts()"
      ],
      "metadata": {
        "id": "Uecp0-wHpzCq"
      },
      "execution_count": 44,
      "outputs": []
    },
    {
      "cell_type": "code",
      "source": [
        "import nltk\n",
        "nltk.download('punkt_tab')\n",
        "nltk.download('stopwords')"
      ],
      "metadata": {
        "colab": {
          "base_uri": "https://localhost:8080/"
        },
        "id": "0pt-y-50Kkm_",
        "outputId": "fb830f2a-193c-434b-98b3-ac9c2cdfde67"
      },
      "execution_count": 45,
      "outputs": [
        {
          "output_type": "stream",
          "name": "stderr",
          "text": [
            "[nltk_data] Downloading package punkt_tab to /root/nltk_data...\n",
            "[nltk_data]   Package punkt_tab is already up-to-date!\n",
            "[nltk_data] Downloading package stopwords to /root/nltk_data...\n",
            "[nltk_data]   Package stopwords is already up-to-date!\n"
          ]
        },
        {
          "output_type": "execute_result",
          "data": {
            "text/plain": [
              "True"
            ]
          },
          "metadata": {},
          "execution_count": 45
        }
      ]
    },
    {
      "cell_type": "code",
      "source": [
        "from nltk import word_tokenize\n",
        "from nltk.stem import PorterStemmer\n",
        "from nltk.corpus import stopwords\n",
        "\n",
        "ps = PorterStemmer()\n",
        "stop_word = set(stopwords.words(\"english\"))\n",
        "\n",
        "def preprocess_text(text):\n",
        "    text = text.lower()\n",
        "    text = re.sub(r'https?://\\S+', '', text)\n",
        "    text = re.sub(r'<[^>]+>', '', text)\n",
        "    text = ' '.join([word for word in text.split() if word not in stop_word])\n",
        "    text = ' '.join(ps.stem(word) for word in word_tokenize(text))\n",
        "    text = re.sub(r\"[^\\w\\s]\", '', text)\n",
        "    text = re.sub(r\"\\d\", '', text)\n",
        "    return text\n",
        "\n",
        "df[\"comment\"] = df[\"comment\"].apply(preprocess_text)\n",
        "df_test[\"comment\"] = df_test[\"comment\"].apply(preprocess_text)\n",
        "\n",
        "df.head()\n"
      ],
      "metadata": {
        "colab": {
          "base_uri": "https://localhost:8080/",
          "height": 206
        },
        "id": "shZhb3VSEBGC",
        "outputId": "f08169c9-f85c-477d-cefc-bc345628dfa1"
      },
      "execution_count": 46,
      "outputs": [
        {
          "output_type": "execute_result",
          "data": {
            "text/plain": [
              "                                             comment  sentiment  word_count\n",
              "0                        hide new secret parent unit          0           7\n",
              "1                             contain wit  labor gag          0           7\n",
              "2  love charact commun someth rather beauti human...          1          12\n",
              "3           remain utterli satisfi remain throughout          0           8\n",
              "4  worst revengeofthenerd cliché filmmak could dredg          0          10"
            ],
            "text/html": [
              "\n",
              "  <div id=\"df-e9daa22a-7d21-4d4f-95ee-be69dfdd7e7a\" class=\"colab-df-container\">\n",
              "    <div>\n",
              "<style scoped>\n",
              "    .dataframe tbody tr th:only-of-type {\n",
              "        vertical-align: middle;\n",
              "    }\n",
              "\n",
              "    .dataframe tbody tr th {\n",
              "        vertical-align: top;\n",
              "    }\n",
              "\n",
              "    .dataframe thead th {\n",
              "        text-align: right;\n",
              "    }\n",
              "</style>\n",
              "<table border=\"1\" class=\"dataframe\">\n",
              "  <thead>\n",
              "    <tr style=\"text-align: right;\">\n",
              "      <th></th>\n",
              "      <th>comment</th>\n",
              "      <th>sentiment</th>\n",
              "      <th>word_count</th>\n",
              "    </tr>\n",
              "  </thead>\n",
              "  <tbody>\n",
              "    <tr>\n",
              "      <th>0</th>\n",
              "      <td>hide new secret parent unit</td>\n",
              "      <td>0</td>\n",
              "      <td>7</td>\n",
              "    </tr>\n",
              "    <tr>\n",
              "      <th>1</th>\n",
              "      <td>contain wit  labor gag</td>\n",
              "      <td>0</td>\n",
              "      <td>7</td>\n",
              "    </tr>\n",
              "    <tr>\n",
              "      <th>2</th>\n",
              "      <td>love charact commun someth rather beauti human...</td>\n",
              "      <td>1</td>\n",
              "      <td>12</td>\n",
              "    </tr>\n",
              "    <tr>\n",
              "      <th>3</th>\n",
              "      <td>remain utterli satisfi remain throughout</td>\n",
              "      <td>0</td>\n",
              "      <td>8</td>\n",
              "    </tr>\n",
              "    <tr>\n",
              "      <th>4</th>\n",
              "      <td>worst revengeofthenerd cliché filmmak could dredg</td>\n",
              "      <td>0</td>\n",
              "      <td>10</td>\n",
              "    </tr>\n",
              "  </tbody>\n",
              "</table>\n",
              "</div>\n",
              "    <div class=\"colab-df-buttons\">\n",
              "\n",
              "  <div class=\"colab-df-container\">\n",
              "    <button class=\"colab-df-convert\" onclick=\"convertToInteractive('df-e9daa22a-7d21-4d4f-95ee-be69dfdd7e7a')\"\n",
              "            title=\"Convert this dataframe to an interactive table.\"\n",
              "            style=\"display:none;\">\n",
              "\n",
              "  <svg xmlns=\"http://www.w3.org/2000/svg\" height=\"24px\" viewBox=\"0 -960 960 960\">\n",
              "    <path d=\"M120-120v-720h720v720H120Zm60-500h600v-160H180v160Zm220 220h160v-160H400v160Zm0 220h160v-160H400v160ZM180-400h160v-160H180v160Zm440 0h160v-160H620v160ZM180-180h160v-160H180v160Zm440 0h160v-160H620v160Z\"/>\n",
              "  </svg>\n",
              "    </button>\n",
              "\n",
              "  <style>\n",
              "    .colab-df-container {\n",
              "      display:flex;\n",
              "      gap: 12px;\n",
              "    }\n",
              "\n",
              "    .colab-df-convert {\n",
              "      background-color: #E8F0FE;\n",
              "      border: none;\n",
              "      border-radius: 50%;\n",
              "      cursor: pointer;\n",
              "      display: none;\n",
              "      fill: #1967D2;\n",
              "      height: 32px;\n",
              "      padding: 0 0 0 0;\n",
              "      width: 32px;\n",
              "    }\n",
              "\n",
              "    .colab-df-convert:hover {\n",
              "      background-color: #E2EBFA;\n",
              "      box-shadow: 0px 1px 2px rgba(60, 64, 67, 0.3), 0px 1px 3px 1px rgba(60, 64, 67, 0.15);\n",
              "      fill: #174EA6;\n",
              "    }\n",
              "\n",
              "    .colab-df-buttons div {\n",
              "      margin-bottom: 4px;\n",
              "    }\n",
              "\n",
              "    [theme=dark] .colab-df-convert {\n",
              "      background-color: #3B4455;\n",
              "      fill: #D2E3FC;\n",
              "    }\n",
              "\n",
              "    [theme=dark] .colab-df-convert:hover {\n",
              "      background-color: #434B5C;\n",
              "      box-shadow: 0px 1px 3px 1px rgba(0, 0, 0, 0.15);\n",
              "      filter: drop-shadow(0px 1px 2px rgba(0, 0, 0, 0.3));\n",
              "      fill: #FFFFFF;\n",
              "    }\n",
              "  </style>\n",
              "\n",
              "    <script>\n",
              "      const buttonEl =\n",
              "        document.querySelector('#df-e9daa22a-7d21-4d4f-95ee-be69dfdd7e7a button.colab-df-convert');\n",
              "      buttonEl.style.display =\n",
              "        google.colab.kernel.accessAllowed ? 'block' : 'none';\n",
              "\n",
              "      async function convertToInteractive(key) {\n",
              "        const element = document.querySelector('#df-e9daa22a-7d21-4d4f-95ee-be69dfdd7e7a');\n",
              "        const dataTable =\n",
              "          await google.colab.kernel.invokeFunction('convertToInteractive',\n",
              "                                                    [key], {});\n",
              "        if (!dataTable) return;\n",
              "\n",
              "        const docLinkHtml = 'Like what you see? Visit the ' +\n",
              "          '<a target=\"_blank\" href=https://colab.research.google.com/notebooks/data_table.ipynb>data table notebook</a>'\n",
              "          + ' to learn more about interactive tables.';\n",
              "        element.innerHTML = '';\n",
              "        dataTable['output_type'] = 'display_data';\n",
              "        await google.colab.output.renderOutput(dataTable, element);\n",
              "        const docLink = document.createElement('div');\n",
              "        docLink.innerHTML = docLinkHtml;\n",
              "        element.appendChild(docLink);\n",
              "      }\n",
              "    </script>\n",
              "  </div>\n",
              "\n",
              "\n",
              "<div id=\"df-bf5e97c8-8abd-4195-8545-7408c2828de5\">\n",
              "  <button class=\"colab-df-quickchart\" onclick=\"quickchart('df-bf5e97c8-8abd-4195-8545-7408c2828de5')\"\n",
              "            title=\"Suggest charts\"\n",
              "            style=\"display:none;\">\n",
              "\n",
              "<svg xmlns=\"http://www.w3.org/2000/svg\" height=\"24px\"viewBox=\"0 0 24 24\"\n",
              "     width=\"24px\">\n",
              "    <g>\n",
              "        <path d=\"M19 3H5c-1.1 0-2 .9-2 2v14c0 1.1.9 2 2 2h14c1.1 0 2-.9 2-2V5c0-1.1-.9-2-2-2zM9 17H7v-7h2v7zm4 0h-2V7h2v10zm4 0h-2v-4h2v4z\"/>\n",
              "    </g>\n",
              "</svg>\n",
              "  </button>\n",
              "\n",
              "<style>\n",
              "  .colab-df-quickchart {\n",
              "      --bg-color: #E8F0FE;\n",
              "      --fill-color: #1967D2;\n",
              "      --hover-bg-color: #E2EBFA;\n",
              "      --hover-fill-color: #174EA6;\n",
              "      --disabled-fill-color: #AAA;\n",
              "      --disabled-bg-color: #DDD;\n",
              "  }\n",
              "\n",
              "  [theme=dark] .colab-df-quickchart {\n",
              "      --bg-color: #3B4455;\n",
              "      --fill-color: #D2E3FC;\n",
              "      --hover-bg-color: #434B5C;\n",
              "      --hover-fill-color: #FFFFFF;\n",
              "      --disabled-bg-color: #3B4455;\n",
              "      --disabled-fill-color: #666;\n",
              "  }\n",
              "\n",
              "  .colab-df-quickchart {\n",
              "    background-color: var(--bg-color);\n",
              "    border: none;\n",
              "    border-radius: 50%;\n",
              "    cursor: pointer;\n",
              "    display: none;\n",
              "    fill: var(--fill-color);\n",
              "    height: 32px;\n",
              "    padding: 0;\n",
              "    width: 32px;\n",
              "  }\n",
              "\n",
              "  .colab-df-quickchart:hover {\n",
              "    background-color: var(--hover-bg-color);\n",
              "    box-shadow: 0 1px 2px rgba(60, 64, 67, 0.3), 0 1px 3px 1px rgba(60, 64, 67, 0.15);\n",
              "    fill: var(--button-hover-fill-color);\n",
              "  }\n",
              "\n",
              "  .colab-df-quickchart-complete:disabled,\n",
              "  .colab-df-quickchart-complete:disabled:hover {\n",
              "    background-color: var(--disabled-bg-color);\n",
              "    fill: var(--disabled-fill-color);\n",
              "    box-shadow: none;\n",
              "  }\n",
              "\n",
              "  .colab-df-spinner {\n",
              "    border: 2px solid var(--fill-color);\n",
              "    border-color: transparent;\n",
              "    border-bottom-color: var(--fill-color);\n",
              "    animation:\n",
              "      spin 1s steps(1) infinite;\n",
              "  }\n",
              "\n",
              "  @keyframes spin {\n",
              "    0% {\n",
              "      border-color: transparent;\n",
              "      border-bottom-color: var(--fill-color);\n",
              "      border-left-color: var(--fill-color);\n",
              "    }\n",
              "    20% {\n",
              "      border-color: transparent;\n",
              "      border-left-color: var(--fill-color);\n",
              "      border-top-color: var(--fill-color);\n",
              "    }\n",
              "    30% {\n",
              "      border-color: transparent;\n",
              "      border-left-color: var(--fill-color);\n",
              "      border-top-color: var(--fill-color);\n",
              "      border-right-color: var(--fill-color);\n",
              "    }\n",
              "    40% {\n",
              "      border-color: transparent;\n",
              "      border-right-color: var(--fill-color);\n",
              "      border-top-color: var(--fill-color);\n",
              "    }\n",
              "    60% {\n",
              "      border-color: transparent;\n",
              "      border-right-color: var(--fill-color);\n",
              "    }\n",
              "    80% {\n",
              "      border-color: transparent;\n",
              "      border-right-color: var(--fill-color);\n",
              "      border-bottom-color: var(--fill-color);\n",
              "    }\n",
              "    90% {\n",
              "      border-color: transparent;\n",
              "      border-bottom-color: var(--fill-color);\n",
              "    }\n",
              "  }\n",
              "</style>\n",
              "\n",
              "  <script>\n",
              "    async function quickchart(key) {\n",
              "      const quickchartButtonEl =\n",
              "        document.querySelector('#' + key + ' button');\n",
              "      quickchartButtonEl.disabled = true;  // To prevent multiple clicks.\n",
              "      quickchartButtonEl.classList.add('colab-df-spinner');\n",
              "      try {\n",
              "        const charts = await google.colab.kernel.invokeFunction(\n",
              "            'suggestCharts', [key], {});\n",
              "      } catch (error) {\n",
              "        console.error('Error during call to suggestCharts:', error);\n",
              "      }\n",
              "      quickchartButtonEl.classList.remove('colab-df-spinner');\n",
              "      quickchartButtonEl.classList.add('colab-df-quickchart-complete');\n",
              "    }\n",
              "    (() => {\n",
              "      let quickchartButtonEl =\n",
              "        document.querySelector('#df-bf5e97c8-8abd-4195-8545-7408c2828de5 button');\n",
              "      quickchartButtonEl.style.display =\n",
              "        google.colab.kernel.accessAllowed ? 'block' : 'none';\n",
              "    })();\n",
              "  </script>\n",
              "</div>\n",
              "\n",
              "    </div>\n",
              "  </div>\n"
            ],
            "application/vnd.google.colaboratory.intrinsic+json": {
              "type": "dataframe",
              "variable_name": "df",
              "summary": "{\n  \"name\": \"df\",\n  \"rows\": 67349,\n  \"fields\": [\n    {\n      \"column\": \"comment\",\n      \"properties\": {\n        \"dtype\": \"string\",\n        \"num_unique_values\": 51140,\n        \"samples\": [\n          \"neither incompet  incoher plain crap\",\n          \"audac\",\n          \"s real sens suspens \"\n        ],\n        \"semantic_type\": \"\",\n        \"description\": \"\"\n      }\n    },\n    {\n      \"column\": \"sentiment\",\n      \"properties\": {\n        \"dtype\": \"number\",\n        \"std\": 0,\n        \"min\": 0,\n        \"max\": 1,\n        \"num_unique_values\": 2,\n        \"samples\": [\n          1,\n          0\n        ],\n        \"semantic_type\": \"\",\n        \"description\": \"\"\n      }\n    },\n    {\n      \"column\": \"word_count\",\n      \"properties\": {\n        \"dtype\": \"number\",\n        \"std\": 8,\n        \"min\": 1,\n        \"max\": 52,\n        \"num_unique_values\": 52,\n        \"samples\": [\n          14,\n          40\n        ],\n        \"semantic_type\": \"\",\n        \"description\": \"\"\n      }\n    }\n  ]\n}"
            }
          },
          "metadata": {},
          "execution_count": 46
        }
      ]
    },
    {
      "cell_type": "code",
      "source": [
        "from collections import Counter\n",
        "corpus = [word for text in df['comment'] for word in text.split()]\n",
        "count_words = Counter(corpus)\n",
        "sorted_words = count_words.most_common(2000)"
      ],
      "metadata": {
        "id": "HOgUxddPPfCZ"
      },
      "execution_count": 47,
      "outputs": []
    },
    {
      "cell_type": "code",
      "source": [
        "import matplotlib.pyplot as plt\n",
        "keys = []\n",
        "values = []\n",
        "for key, value in sorted_words[:20]:\n",
        "    keys.append(key)\n",
        "    values.append(value)\n",
        "\n",
        "plt.figure(figsize=(12, 5))\n",
        "plt.bar(keys, values)\n",
        "plt.title('Top 20 most common words', size=15)\n",
        "plt.show()"
      ],
      "metadata": {
        "colab": {
          "base_uri": "https://localhost:8080/",
          "height": 393
        },
        "id": "AiWSLBSwQKha",
        "outputId": "6dbfff6a-0822-4103-a916-97163fdb851b"
      },
      "execution_count": 48,
      "outputs": [
        {
          "output_type": "display_data",
          "data": {
            "text/plain": [
              "<Figure size 1200x500 with 1 Axes>"
            ],
            "image/png": "[encoded data removed]"
          },
          "metadata": {}
        }
      ]
    },
    {
      "cell_type": "code",
      "source": [
        "# # Tách dữ liệu theo nhãn\n",
        "# negative_samples = df[df['sentiment'] == 'negative']\n",
        "# neutral_samples = df[df['sentiment'] == 'neutral']\n",
        "# positive_samples = df[df['sentiment'] == 'positive']\n",
        "\n",
        "# # Lấy mẫu lại (undersample) cho các nhãn lớn hơn\n",
        "# negative_downsampled = resample(negative_samples,\n",
        "#                                 replace=False,    # Không thay thế\n",
        "#                                 n_samples=len(positive_samples),  # Bằng số lượng nhỏ nhất\n",
        "#                                 random_state=42)\n",
        "\n",
        "# neutral_downsampled = resample(neutral_samples,\n",
        "#                                replace=False,\n",
        "#                                n_samples=len(positive_samples),\n",
        "#                                random_state=42)\n",
        "\n",
        "# # Kết hợp lại\n",
        "# df = pd.concat([negative_downsampled, neutral_downsampled, positive_samples])"
      ],
      "metadata": {
        "id": "9-BnNwdopy_G"
      },
      "execution_count": 49,
      "outputs": []
    },
    {
      "cell_type": "code",
      "source": [
        "df['sentiment'].value_counts()"
      ],
      "metadata": {
        "colab": {
          "base_uri": "https://localhost:8080/",
          "height": 178
        },
        "id": "OlqZSzODpy8b",
        "outputId": "72642d24-8748-4240-fe74-15554a780973"
      },
      "execution_count": 50,
      "outputs": [
        {
          "output_type": "execute_result",
          "data": {
            "text/plain": [
              "sentiment\n",
              "1    37569\n",
              "0    29780\n",
              "Name: count, dtype: int64"
            ],
            "text/html": [
              "<div>\n",
              "<style scoped>\n",
              "    .dataframe tbody tr th:only-of-type {\n",
              "        vertical-align: middle;\n",
              "    }\n",
              "\n",
              "    .dataframe tbody tr th {\n",
              "        vertical-align: top;\n",
              "    }\n",
              "\n",
              "    .dataframe thead th {\n",
              "        text-align: right;\n",
              "    }\n",
              "</style>\n",
              "<table border=\"1\" class=\"dataframe\">\n",
              "  <thead>\n",
              "    <tr style=\"text-align: right;\">\n",
              "      <th></th>\n",
              "      <th>count</th>\n",
              "    </tr>\n",
              "    <tr>\n",
              "      <th>sentiment</th>\n",
              "      <th></th>\n",
              "    </tr>\n",
              "  </thead>\n",
              "  <tbody>\n",
              "    <tr>\n",
              "      <th>1</th>\n",
              "      <td>37569</td>\n",
              "    </tr>\n",
              "    <tr>\n",
              "      <th>0</th>\n",
              "      <td>29780</td>\n",
              "    </tr>\n",
              "  </tbody>\n",
              "</table>\n",
              "</div><br><label><b>dtype:</b> int64</label>"
            ]
          },
          "metadata": {},
          "execution_count": 50
        }
      ]
    },
    {
      "cell_type": "code",
      "source": [
        "print(\"min: \", df['word_count'].min())\n",
        "print(\"max: \", df['word_count'].max())\n",
        "print(\"mean: \", df['word_count'].mean())\n",
        "print(\"median: \", df['word_count'].median())\n",
        "print(\"std: \", df['word_count'].std())"
      ],
      "metadata": {
        "colab": {
          "base_uri": "https://localhost:8080/"
        },
        "id": "O457cTaypy5m",
        "outputId": "7657c09d-3292-493c-a112-fc53e079a9d4"
      },
      "execution_count": 51,
      "outputs": [
        {
          "output_type": "stream",
          "name": "stdout",
          "text": [
            "min:  1\n",
            "max:  52\n",
            "mean:  9.409553222765\n",
            "median:  7.0\n",
            "std:  8.073806407501392\n"
          ]
        }
      ]
    },
    {
      "cell_type": "code",
      "source": [
        "plt.figure(figsize=(8, 5))\n",
        "plt.hist(df['word_count'], bins=100, color='skyblue', edgecolor='black')\n",
        "plt.grid(axis='y', linestyle='--', alpha=0.7)\n",
        "plt.show()"
      ],
      "metadata": {
        "colab": {
          "base_uri": "https://localhost:8080/",
          "height": 445
        },
        "id": "Csu0ijms69Fy",
        "outputId": "431ba5ee-c085-40ab-fb7c-0191cd68214f"
      },
      "execution_count": 52,
      "outputs": [
        {
          "output_type": "display_data",
          "data": {
            "text/plain": [
              "<Figure size 800x500 with 1 Axes>"
            ],
            "image/png": "[encoded data removed]"
          },
          "metadata": {}
        }
      ]
    },
    {
      "cell_type": "code",
      "source": [
        "vocab_to_int = {w:i+1 for i, (w,c) in enumerate(sorted_words)}\n",
        "\n",
        "reviews_int = []\n",
        "for text in df['comment']:\n",
        "    r = [vocab_to_int[word] for word in text.split() if word in vocab_to_int]\n",
        "    reviews_int.append(r)\n",
        "\n",
        "reviews_int_test = []\n",
        "for text in df_test['comment']:\n",
        "    r = [vocab_to_int[word] for word in text.split() if word in vocab_to_int]\n",
        "    reviews_int_test.append(r)\n",
        "\n",
        "print(reviews_int[0])\n",
        "print(reviews_int_test[0])\n",
        "print(vocab_to_int)\n",
        "print(len(reviews_int_test))"
      ],
      "metadata": {
        "colab": {
          "base_uri": "https://localhost:8080/"
        },
        "id": "tPVaDIAJQKe1",
        "outputId": "257fd7f2-b271-4e28-d96b-e7be036f0ff1"
      },
      "execution_count": 53,
      "outputs": [
        {
          "output_type": "stream",
          "name": "stdout",
          "text": [
            "[33, 965, 559]\n",
            "[1, 78, 87, 380, 591]\n",
            "{'s': 1, 'film': 2, 'movi': 3, 'nt': 4, 'one': 5, 'like': 6, 'make': 7, 'charact': 8, 'stori': 9, 'good': 10, 'time': 11, 'work': 12, 'comedi': 13, 'perform': 14, 'funni': 15, 'feel': 16, 'even': 17, 'way': 18, 'much': 19, 'love': 20, 'bad': 21, 'littl': 22, 'look': 23, 'entertain': 24, 'best': 25, 'life': 26, 'enough': 27, 'watch': 28, 'get': 29, 'humor': 30, 'act': 31, 'see': 32, 'new': 33, 'come': 34, 'interest': 35, 'us': 36, 'plot': 37, 'take': 38, 'audienc': 39, 'never': 40, 'someth': 41, 'seem': 42, 'director': 43, 'year': 44, 'action': 45, 'great': 46, 'well': 47, 'end': 48, 'emot': 49, 'enjoy': 50, 'would': 51, 'cast': 52, 'made': 53, 'beauti': 54, 'mani': 55, 'realli': 56, 'drama': 57, 'filmmak': 58, 'go': 59, 'thing': 60, 'sens': 61, 'give': 62, 'could': 63, 'visual': 64, 'minut': 65, 'better': 66, 'peopl': 67, 'fun': 68, 'actor': 69, 'direct': 70, 'everi': 71, 'two': 72, 'human': 73, 'without': 74, 'noth': 75, 'power': 76, 'intellig': 77, 'charm': 78, 'ever': 79, 'may': 80, 'long': 81, 'script': 82, 'heart': 83, 'real': 84, 'moment': 85, 'play': 86, 'often': 87, 'laugh': 88, 'still': 89, 'world': 90, 'screen': 91, 'pictur': 92, 'find': 93, 'also': 94, 'kind': 95, 'tri': 96, 'anoth': 97, 'idea': 98, 'move': 99, 'origin': 100, 'keep': 101, 'live': 102, 'lack': 103, 'scene': 104, 'hollywood': 105, 'imagin': 106, 're': 107, 'famili': 108, 'thriller': 109, 'dialogu': 110, 'first': 111, 'wonder': 112, 'piec': 113, 'big': 114, 'far': 115, 'tale': 116, 'turn': 117, 'becom': 118, 'might': 119, 'care': 120, 'talent': 121, 'less': 122, 'hard': 123, 'compel': 124, 'ultim': 125, 'star': 126, 'want': 127, 'show': 128, 'offer': 129, 'romant': 130, 'fascin': 131, 'touch': 132, 'sweet': 133, 'rather': 134, 'cinema': 135, 'know': 136, 'effect': 137, 'documentari': 138, 'gener': 139, 'almost': 140, 'materi': 141, 'music': 142, 'lot': 143, 'run': 144, 'seen': 145, 'worth': 146, 've': 147, 'delight': 148, 'art': 149, 'kid': 150, 'need': 151, 'think': 152, 'surpris': 153, 'quit': 154, 'leav': 155, 'hour': 156, 'american': 157, 'experi': 158, 'old': 159, 'back': 160, 'engag': 161, 'amus': 162, 'man': 163, 'subject': 164, 'point': 165, 'set': 166, 'right': 167, 'flick': 168, 'anim': 169, 'full': 170, 'believ': 171, 'comic': 172, 'place': 173, 'bore': 174, 'dull': 175, 'use': 176, 'style': 177, 'theater': 178, 'yet': 179, 'part': 180, 'clever': 181, 'special': 182, 'person': 183, 'young': 184, 'ca': 185, 'smart': 186, 'featur': 187, 'spirit': 188, 'manag': 189, 'creat': 190, 'anyth': 191, 'll': 192, 'worst': 193, 'cultur': 194, 'bit': 195, 'cinemat': 196, 'viewer': 197, 'least': 198, 'inspir': 199, 'rare': 200, 'pleasur': 201, 'remark': 202, 'predict': 203, 'pain': 204, 'histori': 205, 'actual': 206, 'dramat': 207, 'sometim': 208, 'though': 209, 'intrigu': 210, 'thought': 211, 'suspens': 212, 'dark': 213, 'genr': 214, 'day': 215, 'satisfi': 216, 'away': 217, 'impress': 218, 'wit': 219, 'war': 220, 'togeth': 221, 'put': 222, 'complet': 223, 'fan': 224, 'insight': 225, 'appeal': 226, 'silli': 227, 'face': 228, 'forc': 229, 'fresh': 230, 'narr': 231, 'clich': 232, 'short': 233, 'say': 234, 'women': 235, 'energi': 236, 'screenplay': 237, 'classic': 238, 'surprisingli': 239, 'adventur': 240, 'twist': 241, 'effort': 242, 'deliv': 243, 'pace': 244, 'bring': 245, 'level': 246, 'summer': 247, 'solid': 248, 'tell': 249, 'final': 250, 'anyon': 251, 'success': 252, 'perfect': 253, 'natur': 254, 'expect': 255, 'eye': 256, 'fail': 257, 'cliché': 258, 'fine': 259, 'attempt': 260, 'pretti': 261, 'wast': 262, 'hilari': 263, 'sentiment': 264, 'polit': 265, 'artist': 266, 'romanc': 267, 'around': 268, 'nearli': 269, 'light': 270, 'mind': 271, 'd': 272, 'shot': 273, 'tone': 274, 'titl': 275, 'simpli': 276, 'whose': 277, 'start': 278, 'strong': 279, 'reason': 280, 'genuin': 281, 'truli': 282, 'deepli': 283, 'goe': 284, 'sit': 285, 'prove': 286, 'horror': 287, 'quirki': 288, 'sad': 289, 'high': 290, 'nice': 291, 'last': 292, 'possibl': 293, 'rich': 294, 'whole': 295, 'alway': 296, 'view': 297, 'video': 298, 'passion': 299, 'joke': 300, 'color': 301, 'done': 302, 'portrait': 303, 'promis': 304, 'excit': 305, 'master': 306, 'true': 307, 'premis': 308, 'moral': 309, 'hope': 310, 'half': 311, 'three': 312, 'sinc': 313, 'win': 314, 'product': 315, 'call': 316, 'matter': 317, 'modern': 318, 'entir': 319, 'lead': 320, 'girl': 321, 'familiar': 322, 'contriv': 323, 'chang': 324, 'flat': 325, 'complex': 326, 'sequenc': 327, 'formula': 328, 'head': 329, 'project': 330, 'situat': 331, 'creativ': 332, 'studi': 333, 'seri': 334, 'deserv': 335, 'probabl': 336, 'convinc': 337, 'flaw': 338, 'line': 339, 'children': 340, 'everyon': 341, 'small': 342, 'usual': 343, 'psycholog': 344, 'imag': 345, 'sequel': 346, 'understand': 347, 'dumb': 348, 'sure': 349, 'exercis': 350, 'fall': 351, 'hold': 352, 'especi': 353, 'stuff': 354, 'help': 355, 'differ': 356, 'storytel': 357, 'invent': 358, 'happen': 359, 'past': 360, 'easi': 361, 'everyth': 362, 'strang': 363, 'mean': 364, 'adult': 365, 'achiev': 366, 'age': 367, 'instead': 368, 'remain': 369, 'honest': 370, 'detail': 371, 'bland': 372, 'attract': 373, 'captur': 374, 'intens': 375, 'role': 376, 'side': 377, 'tv': 378, 'wo': 379, 'affect': 380, 'alreadi': 381, 'histor': 382, 'recent': 383, 'terrif': 384, 'problem': 385, 'hit': 386, 'begin': 387, 'mysteri': 388, 'strike': 389, 'let': 390, 'excel': 391, 'present': 392, 'hand': 393, 'theme': 394, 'obviou': 395, 'written': 396, 'despit': 397, 'except': 398, 'mess': 399, 'messag': 400, 'dream': 401, 'provid': 402, 'french': 403, 'memor': 404, 'sound': 405, 'low': 406, 'reveal': 407, 'camera': 408, 'seriou': 409, 'woman': 410, 'serv': 411, 'insid': 412, 'crime': 413, 'opera': 414, 'slow': 415, 'soul': 416, 'edit': 417, 'imposs': 418, 'import': 419, 'ride': 420, 'gentl': 421, 'stupid': 422, 'fantasi': 423, 'hero': 424, 'ugli': 425, 'melodrama': 426, 'miss': 427, 'exploit': 428, 'game': 429, 'tragedi': 430, 'disappoint': 431, 'relationship': 432, 'amount': 433, 'skill': 434, 'satir': 435, 'credit': 436, 'execut': 437, 'qualiti': 438, 'cold': 439, 'write': 440, 'gorgeou': 441, 'welcom': 442, 'beyond': 443, 'mr': 444, 'allow': 445, 'left': 446, 'men': 447, 'word': 448, 'death': 449, 'grace': 450, 'guy': 451, 'grow': 452, 'm': 453, 'fill': 454, 'concept': 455, 'black': 456, 'mix': 457, 'extrem': 458, 'aw': 459, 'seat': 460, 'suffer': 461, 'book': 462, 'tire': 463, 'social': 464, 'sever': 465, 'earnest': 466, 'easili': 467, 'second': 468, 'debut': 469, 'odd': 470, 'frustrat': 471, 'element': 472, 'drag': 473, 'boy': 474, 'definit': 475, 'sensit': 476, 'must': 477, 'pull': 478, 'simpl': 479, 'question': 480, 'sort': 481, 'els': 482, 'version': 483, 'mark': 484, 'fairli': 485, 'uniqu': 486, 'otherwis': 487, 'huge': 488, 'bare': 489, 'develop': 490, 'de': 491, 'brilliant': 492, 'home': 493, 'recommend': 494, 'gag': 495, 'carri': 496, 'warmth': 497, 'magic': 498, 'middl': 499, 'certainli': 500, 'creepi': 501, 'particularli': 502, 'thrill': 503, 'wrong': 504, 'violenc': 505, 'stand': 506, 'lost': 507, 'event': 508, 'cheap': 509, 'engross': 510, 'soap': 511, 'episod': 512, 'depress': 513, 'equal': 514, 'thoroughli': 515, 'either': 516, 'fact': 517, 'damn': 518, 'memori': 519, 'sex': 520, 'sustain': 521, 'examin': 522, 'wait': 523, 'warm': 524, 'score': 525, 'rock': 526, 'manner': 527, 'realiz': 528, 'ambiti': 529, 'along': 530, 'open': 531, 'found': 532, 'wors': 533, 'explor': 534, 'thin': 535, 'got': 536, 'actress': 537, 'vision': 538, 'oldfashion': 539, 'unlik': 540, 'cool': 541, 'commun': 542, 'respect': 543, 'read': 544, 'wild': 545, 'next': 546, 'express': 547, 'delic': 548, 'occasion': 549, 'terribl': 550, 'mood': 551, 'unsettl': 552, 'admir': 553, 'fight': 554, 'abl': 555, 'observ': 556, 'pretenti': 557, 'worthi': 558, 'parent': 559, 'escap': 560, 'decent': 561, 'attent': 562, 'form': 563, 'chill': 564, 'marvel': 565, 'involv': 566, 'valu': 567, 'fire': 568, 'purpos': 569, 'none': 570, 'treat': 571, 'perfectli': 572, 'michael': 573, 'tast': 574, 'weird': 575, 'sincer': 576, 'figur': 577, 'dog': 578, 'standard': 579, 'pure': 580, 'celebr': 581, 'approach': 582, 'deep': 583, 'balanc': 584, 'close': 585, 'cut': 586, 'unfunni': 587, 'pleas': 588, 'undeni': 589, 'job': 590, 'journey': 591, 'tragic': 592, 'absurd': 593, 'deal': 594, 'portray': 595, 'adapt': 596, 'john': 597, 'endear': 598, 'realiti': 599, 'refresh': 600, 'name': 601, 'depth': 602, 'consider': 603, 'shallow': 604, 'rhythm': 605, 'desper': 606, 'manipul': 607, 'rememb': 608, 'neither': 609, 'provoc': 610, 'tear': 611, 'epic': 612, 'stylish': 613, 'edg': 614, 'struggl': 615, 'screenwrit': 616, 'follow': 617, 'larg': 618, 'writerdirector': 619, 'reward': 620, 'fear': 621, 'combin': 622, 'lose': 623, 'tension': 624, 'spiritu': 625, 'monster': 626, 'dri': 627, 'tediou': 628, 'road': 629, 'major': 630, 'mediocr': 631, 'truth': 632, 'tradit': 633, 'mere': 634, 'coupl': 635, 'masterpiec': 636, 'ridicul': 637, 'confus': 638, 'period': 639, 'spi': 640, 'appear': 641, 'deriv': 642, 'reach': 643, 'chanc': 644, 'add': 645, 'emerg': 646, 'shoot': 647, 'empti': 648, 'watchabl': 649, 'structur': 650, 'cinematographi': 651, 'hackney': 652, 'greatest': 653, 'storylin': 654, 'career': 655, 'share': 656, 'save': 657, 'stay': 658, 'accomplish': 659, 'stage': 660, 'remind': 661, 'frame': 662, 'highli': 663, 'craft': 664, 'superfici': 665, 'moviego': 666, 'cute': 667, 'faith': 668, 'difficult': 669, 'potenti': 670, 'includ': 671, 'loud': 672, 'sign': 673, 'convent': 674, 'utterli': 675, 'absolut': 676, 'goofi': 677, 'produc': 678, 'gift': 679, 'grand': 680, 'witti': 681, 'univers': 682, 'complic': 683, 'happi': 684, 'total': 685, 'endur': 686, 'break': 687, 'futur': 688, 'mostli': 689, 'releas': 690, 'scari': 691, 'sharp': 692, 'rise': 693, 'die': 694, 'throughout': 695, 'car': 696, 'scifi': 697, 'walk': 698, 'teen': 699, 'medit': 700, 'dare': 701, 'poorli': 702, 'given': 703, 'gone': 704, 'toward': 705, 'overcom': 706, 'sexual': 707, 'pass': 708, 'heartfelt': 709, 'step': 710, 'thank': 711, 'reson': 712, 'comingofag': 713, 'four': 714, 'talk': 715, 'annoy': 716, 'smile': 717, 'pointless': 718, 'appar': 719, 'oscar': 720, 'motion': 721, 'eleg': 722, 'shock': 723, 'mindless': 724, 'sophist': 725, 'weak': 726, 'disney': 727, 'horribl': 728, 'number': 729, 'alien': 730, 'subtl': 731, 'pay': 732, 'whether': 733, 'avoid': 734, 'incred': 735, 'target': 736, 'intim': 737, 'favor': 738, 'unexpect': 739, 'case': 740, 'issu': 741, 'poor': 742, 'conclus': 743, 'busi': 744, 'process': 745, 'date': 746, 'stereotyp': 747, 'abil': 748, 'ensembl': 749, 'spielberg': 750, 'contemporari': 751, 'fit': 752, 'sexi': 753, 'air': 754, 'collect': 755, 'urban': 756, 'across': 757, 'construct': 758, 'forget': 759, 'somewhat': 760, 'straight': 761, 'comfort': 762, 'exist': 763, 'told': 764, 'wish': 765, 'consid': 766, 'brain': 767, 'york': 768, 'meander': 769, 'notic': 770, 'singl': 771, 'joy': 772, 'hate': 773, 'suppos': 774, 'grip': 775, 'demand': 776, 'brutal': 777, 'result': 778, 'bite': 779, 'minor': 780, 'altern': 781, 'room': 782, 'troubl': 783, 'frequent': 784, 'night': 785, 'remak': 786, 'return': 787, 'base': 788, 'tribut': 789, 'suck': 790, 'femal': 791, 'design': 792, 'transcend': 793, 'trap': 794, 'tiresom': 795, 'someon': 796, 'slightli': 797, 'core': 798, 'unimagin': 799, 'stale': 800, 'convict': 801, 'loss': 802, 'pleasant': 803, 'uneven': 804, 'water': 805, 'plenti': 806, 'burn': 807, 'friend': 808, 'today': 809, 'class': 810, 'fulli': 811, 'evil': 812, 'opportun': 813, 'song': 814, 'wear': 815, 'worthwhil': 816, 'vivid': 817, 'robert': 818, 'posit': 819, 'failur': 820, 'amaz': 821, 'felt': 822, 'hole': 823, 'money': 824, 'authent': 825, 'parti': 826, 'funnier': 827, 'term': 828, 'steven': 829, 'aspect': 830, 'seek': 831, 'insult': 832, 'offens': 833, 'sloppi': 834, 'novel': 835, 'crowd': 836, 'accept': 837, 'poetri': 838, 'clear': 839, 'consist': 840, 'heartwarm': 841, 'apart': 842, 'embrac': 843, 'serious': 844, 'critic': 845, 'lame': 846, 'incoher': 847, 'devoid': 848, 'teenag': 849, 'clariti': 850, 'wise': 851, 'doubt': 852, 'fashion': 853, 'realist': 854, 'school': 855, 'among': 856, 'draw': 857, 'justic': 858, 'b': 859, 'limit': 860, 'decad': 861, 'compani': 862, 'refus': 863, 'rivet': 864, 'chase': 865, 'determin': 866, 'clearli': 867, 'quiet': 868, 'energet': 869, 'exactli': 870, 'sandler': 871, 'wildli': 872, 'funniest': 873, 'repetit': 874, 'pack': 875, 'dead': 876, 'devast': 877, 'extraordinari': 878, 'scream': 879, 'mesmer': 880, 'selfconsci': 881, 'substanc': 882, 'access': 883, 'realism': 884, 'routin': 885, 'absorb': 886, 'strain': 887, 'festiv': 888, 'atmospher': 889, 'countri': 890, 'reli': 891, 'captiv': 892, 'impact': 893, 'shame': 894, 'challeng': 895, 'root': 896, 'maintain': 897, 'bear': 898, 'chemistri': 899, 'sappi': 900, 'rush': 901, 'concern': 902, 'triumph': 903, 'spark': 904, 'load': 905, 'ago': 906, 'document': 907, 'state': 908, 'commerci': 909, 'dazzl': 910, 'writer': 911, 'suit': 912, 'alon': 913, 'ms': 914, 'damag': 915, 'vital': 916, 'bodi': 917, 'decept': 918, 'continu': 919, 'assur': 920, 'rank': 921, 'top': 922, 'nation': 923, 'improv': 924, 'yearold': 925, 'member': 926, 'fanci': 927, 'logic': 928, 'paint': 929, 'battl': 930, 'confid': 931, 'award': 932, 'twice': 933, 'answer': 934, 'ii': 935, 'ask': 936, 'plain': 937, 'lazi': 938, 'fare': 939, 'bother': 940, 'layer': 941, 'skin': 942, 'week': 943, 'forgett': 944, 'poetic': 945, 'trick': 946, 'sick': 947, 'glimps': 948, 'succe': 949, 'match': 950, 'roll': 951, 'unusu': 952, 'unnecessari': 953, 'movement': 954, 'america': 955, 'firstrat': 956, 'taken': 957, 'desir': 958, 'slapstick': 959, 'eloqu': 960, 'pop': 961, 'latest': 962, 'wellmad': 963, 'amateurish': 964, 'secret': 965, 'record': 966, 'throw': 967, 'hardli': 968, 'essenti': 969, 'rest': 970, 'grant': 971, 'courag': 972, 'british': 973, 'ripoff': 974, 'friendship': 975, 'pathet': 976, 'popcorn': 977, 'disguis': 978, 'demonstr': 979, 'spectacl': 980, 'metaphor': 981, 'shine': 982, 'revel': 983, 'typic': 984, 'previou': 985, 'protagonist': 986, 'catch': 987, 'sink': 988, 'treatment': 989, 'studio': 990, 'technic': 991, 'evoc': 992, 'render': 993, 'brother': 994, 'dreari': 995, 'yarn': 996, 'disast': 997, 'citi': 998, 'appreci': 999, 'downright': 1000, 'chan': 1001, 'aliv': 1002, 'awkward': 1003, 'hous': 1004, 'intent': 1005, 'gay': 1006, 'overal': 1007, 'sea': 1008, 'innov': 1009, 'motiv': 1010, 'behind': 1011, 'philosoph': 1012, 'comed': 1013, 'repres': 1014, 'refreshingli': 1015, 'transform': 1016, 'guess': 1017, 'tender': 1018, 'indi': 1019, 'villain': 1020, 'certain': 1021, 'sourc': 1022, 'support': 1023, 'eventu': 1024, 'recycl': 1025, 'suggest': 1026, 'brown': 1027, 'haunt': 1028, 'divers': 1029, 'allen': 1030, 'oddli': 1031, 'guilti': 1032, 'kill': 1033, 'murder': 1034, 'resist': 1035, 'embarrass': 1036, 'voic': 1037, 'inept': 1038, 'sensual': 1039, 'stun': 1040, 'deliveri': 1041, 'trip': 1042, 'superb': 1043, 'predecessor': 1044, 'credibl': 1045, 'franchis': 1046, 'fiction': 1047, 'exquisit': 1048, 'zone': 1049, 'bond': 1050, 'choic': 1051, 'lyric': 1052, 'servic': 1053, 'gun': 1054, 'blue': 1055, 'character': 1056, 'badli': 1057, 'measur': 1058, 'david': 1059, 'condit': 1060, 'crisp': 1061, 'mayb': 1062, 'colleg': 1063, 'speak': 1064, 'kick': 1065, 'vulgar': 1066, 'tortur': 1067, 'nuanc': 1068, 'lesson': 1069, 'insan': 1070, 'bullock': 1071, 'violent': 1072, 'pair': 1073, 'connect': 1074, 'fals': 1075, 'ident': 1076, 'although': 1077, 'obnoxi': 1078, 'other': 1079, 'green': 1080, 'ludicr': 1081, 'astonish': 1082, 'fake': 1083, 'listless': 1084, 'innoc': 1085, 'sight': 1086, 'behavior': 1087, 'artifici': 1088, 'integr': 1089, 'ignor': 1090, 'rais': 1091, 'caus': 1092, 'conflict': 1093, 'bright': 1094, 'lousi': 1095, 'sport': 1096, 'nasti': 1097, 'ponder': 1098, 'handl': 1099, 'strength': 1100, 'stop': 1101, 'cleverli': 1102, 'murphi': 1103, 'thoughtprovok': 1104, 'cartoon': 1105, 'crazi': 1106, 'banal': 1107, 'scratch': 1108, 'excess': 1109, 'adam': 1110, 'length': 1111, 'build': 1112, 'poignant': 1113, 'excus': 1114, 'variou': 1115, 'group': 1116, 'winner': 1117, 'grief': 1118, 'ground': 1119, 'matur': 1120, 'bizarr': 1121, 'quickli': 1122, 'fatal': 1123, 'sheer': 1124, 'glori': 1125, 'mainstream': 1126, 'pretend': 1127, 'precis': 1128, 'distinguish': 1129, 'shape': 1130, 'band': 1131, 'merit': 1132, 'capabl': 1133, 'central': 1134, 'irrit': 1135, 'space': 1136, 'cheesi': 1137, 'describ': 1138, 'raw': 1139, 'rel': 1140, 'imit': 1141, 'perspect': 1142, 'intric': 1143, 'viscer': 1144, 'unfold': 1145, 'depict': 1146, 'stock': 1147, 'breath': 1148, 'enorm': 1149, 'hell': 1150, 'victim': 1151, 'superior': 1152, 'subtleti': 1153, 'forgotten': 1154, 'clumsi': 1155, 'learn': 1156, 'aim': 1157, 'nonsens': 1158, 'charisma': 1159, 'beneath': 1160, 'requir': 1161, 'hip': 1162, 'push': 1163, 'liber': 1164, 'offbeat': 1165, 'distinct': 1166, 'heavi': 1167, 'televis': 1168, 'slap': 1169, 'front': 1170, 'crude': 1171, 'cruel': 1172, 'signific': 1173, 'flair': 1174, 'outrag': 1175, 'note': 1176, 'unpleas': 1177, 'choppi': 1178, 'persona': 1179, 'channel': 1180, 'spooki': 1181, 'selfindulg': 1182, 'idiot': 1183, 'machin': 1184, 'grossout': 1185, 'frank': 1186, 'season': 1187, 'intend': 1188, 'fast': 1189, 'five': 1190, 'sympathi': 1191, 'wind': 1192, 'slight': 1193, 'mention': 1194, 'exhilar': 1195, 'retread': 1196, 'drug': 1197, 'drown': 1198, 'th': 1199, 'laughter': 1200, 'check': 1201, 'endless': 1202, 'virtual': 1203, 'intox': 1204, 'william': 1205, 'enthusiast': 1206, 'mother': 1207, 'particular': 1208, 'budget': 1209, 'ye': 1210, 'profession': 1211, 'indian': 1212, 'street': 1213, 'distanc': 1214, 'feelgood': 1215, 'vibrant': 1216, 'jackson': 1217, 'ladi': 1218, 'georg': 1219, 'dread': 1220, 'trite': 1221, 'fantast': 1222, 'teacher': 1223, 'weight': 1224, 'uplift': 1225, 'utter': 1226, 'enter': 1227, 'quietli': 1228, 'modest': 1229, 'ideal': 1230, 'stretch': 1231, 'farc': 1232, 'obsess': 1233, 'noir': 1234, 'imax': 1235, 'affair': 1236, 'laughabl': 1237, 'elev': 1238, 'ambigu': 1239, 'horrifi': 1240, 'loos': 1241, 'team': 1242, 'endeavor': 1243, 'offic': 1244, 'folk': 1245, 'soundtrack': 1246, 'invit': 1247, 'crush': 1248, 'heartbreak': 1249, 'queen': 1250, 'industri': 1251, 'forgiv': 1252, 'grownup': 1253, 'linger': 1254, 'overwhelm': 1255, 'respons': 1256, 'refer': 1257, 'father': 1258, 'sum': 1259, 'upon': 1260, 'unconvinc': 1261, 'belli': 1262, 'cynic': 1263, 'stir': 1264, 'object': 1265, 'buoyant': 1266, 'favorit': 1267, 'irresist': 1268, 'steal': 1269, 'saw': 1270, 'washington': 1271, 'addit': 1272, 'theatric': 1273, 'beat': 1274, 'distract': 1275, 'red': 1276, 'themat': 1277, 'main': 1278, 'surviv': 1279, 'pretens': 1280, 'cohes': 1281, 'stylist': 1282, 'liter': 1283, 'accent': 1284, 'x': 1285, 'flashi': 1286, 'shake': 1287, 'spent': 1288, 'surround': 1289, 'pick': 1290, 'lowbudget': 1291, 'kiddi': 1292, 'display': 1293, 'inevit': 1294, 'vagu': 1295, 'vehicl': 1296, 'intern': 1297, 'string': 1298, 'niro': 1299, 'south': 1300, 'redund': 1301, 'finish': 1302, 'empathi': 1303, 'comput': 1304, 'ad': 1305, 'wed': 1306, 'era': 1307, 'gradual': 1308, 'blend': 1309, 'sitcom': 1310, 'god': 1311, 'type': 1312, 'destin': 1313, 'deadli': 1314, 'topic': 1315, 'punch': 1316, 'lie': 1317, 'succumb': 1318, 'older': 1319, 'heaven': 1320, 'necessari': 1321, 'drive': 1322, 'stunt': 1323, 'eat': 1324, 'unpredict': 1325, 'plod': 1326, 'slice': 1327, 'mayhem': 1328, 'receiv': 1329, 'hoffman': 1330, 'aspir': 1331, 'pervers': 1332, 'wannab': 1333, 'wholli': 1334, 'delici': 1335, 'danger': 1336, 'convey': 1337, 'king': 1338, 'danc': 1339, 'crap': 1340, 'enthusiasm': 1341, 'mildli': 1342, 'cop': 1343, 'pat': 1344, 'ring': 1345, 'graphic': 1346, 'onto': 1347, 'wife': 1348, 'directori': 1349, 'unfocus': 1350, 'cover': 1351, 'infus': 1352, 'nomin': 1353, 'howev': 1354, 'joyou': 1355, 'outstand': 1356, 'fat': 1357, 'christma': 1358, 'jolt': 1359, 'holiday': 1360, 'poem': 1361, 'ticket': 1362, 'lush': 1363, 'race': 1364, 'saturday': 1365, 'practic': 1366, 'resembl': 1367, 'gang': 1368, 'encourag': 1369, 'spin': 1370, 'melodramat': 1371, 'exampl': 1372, 'gangster': 1373, 'rehash': 1374, 'piti': 1375, 'muddl': 1376, 'digit': 1377, 'sour': 1378, 'margin': 1379, 'toss': 1380, 'wickedli': 1381, 'park': 1382, 'unfortun': 1383, 'somehow': 1384, 'deft': 1385, 'grandeur': 1386, 'spite': 1387, 'coher': 1388, 'smarter': 1389, 'stuck': 1390, 'preciou': 1391, 'technolog': 1392, 'list': 1393, 'disgust': 1394, 'rate': 1395, 'treasur': 1396, 'proceed': 1397, 'tough': 1398, 'blockbust': 1399, 'skip': 1400, 'landscap': 1401, 'ambit': 1402, 'content': 1403, 'price': 1404, 'reflect': 1405, 'arriv': 1406, 'seagal': 1407, 'sensat': 1408, 'handsom': 1409, 'pale': 1410, 'fate': 1411, 'wellcraft': 1412, 'wri': 1413, 'remot': 1414, 'tap': 1415, 'compass': 1416, 'dose': 1417, 'revelatori': 1418, 'trademark': 1419, 'sensibl': 1420, 'fierc': 1421, 'bog': 1422, 'pic': 1423, 'brought': 1424, 'hair': 1425, 'improvis': 1426, 'vapid': 1427, 'soderbergh': 1428, 'frighten': 1429, 'sell': 1430, 'immens': 1431, 'nich': 1432, 'charmer': 1433, 'moviemak': 1434, 'labor': 1435, 'dirti': 1436, 'late': 1437, 'killer': 1438, 'market': 1439, 'player': 1440, 'sand': 1441, 'report': 1442, 'search': 1443, 'warn': 1444, 'sketch': 1445, 'public': 1446, 'vampir': 1447, 'splendid': 1448, 'simplist': 1449, 'sparkl': 1450, 'phoni': 1451, 'inher': 1452, 'murki': 1453, 'vividli': 1454, 'encount': 1455, 'commit': 1456, 'abandon': 1457, 'unorigin': 1458, 'lawrenc': 1459, 'stoop': 1460, 'random': 1461, 'flavor': 1462, 'accur': 1463, 'averag': 1464, 'son': 1465, 'creation': 1466, 'harri': 1467, 'grab': 1468, 'flash': 1469, 'gem': 1470, 'giant': 1471, 'deftli': 1472, 'buy': 1473, 'food': 1474, 'bittersweet': 1475, 'poignanc': 1476, 'japanes': 1477, 'uninspir': 1478, 'lift': 1479, 'somewher': 1480, 'ordinari': 1481, 'resourc': 1482, 'witless': 1483, 'charismat': 1484, 'blade': 1485, 'uncomfort': 1486, 'area': 1487, 'bunch': 1488, 'count': 1489, 'territori': 1490, 'affirm': 1491, 'will': 1492, 'translat': 1493, 'footag': 1494, 'white': 1495, 'squar': 1496, 'surfac': 1497, 'dvd': 1498, 'factor': 1499, 'instantli': 1500, 'adolesc': 1501, 'resolut': 1502, 'startl': 1503, 'mixtur': 1504, 'onscreen': 1505, 'dismiss': 1506, 'essenc': 1507, 'said': 1508, 'richer': 1509, 'thumb': 1510, 'travel': 1511, 'profound': 1512, 'dish': 1513, 'cult': 1514, 'unbear': 1515, 'rambl': 1516, 'simultan': 1517, 'succeed': 1518, 'despair': 1519, 'distast': 1520, 'digniti': 1521, 'cross': 1522, 'breathtak': 1523, 'bold': 1524, 'path': 1525, 'honestli': 1526, 'choos': 1527, 'crass': 1528, 'whatev': 1529, 'meaning': 1530, 'immedi': 1531, 'suspect': 1532, 'deeper': 1533, 'soon': 1534, 'relev': 1535, 'faster': 1536, 'clueless': 1537, 'commentari': 1538, 'compet': 1539, 'peter': 1540, 'settl': 1541, 'thousand': 1542, 'scare': 1543, 'recogn': 1544, 'sing': 1545, 'knowledg': 1546, 'preachi': 1547, 'nowher': 1548, 'magnific': 1549, 'overthetop': 1550, 'grate': 1551, 'ironi': 1552, 'smug': 1553, 'bottom': 1554, 'fart': 1555, 'nerv': 1556, 'kevin': 1557, 'endlessli': 1558, 'ryan': 1559, 'drawn': 1560, 'sadli': 1561, 'baffl': 1562, 'devic': 1563, 'moor': 1564, 'increasingli': 1565, 'improb': 1566, 'angst': 1567, 'child': 1568, 'spectacular': 1569, 'soulless': 1570, 'sober': 1571, 'sane': 1572, 'terrifi': 1573, 'overli': 1574, 'sweetli': 1575, 'quick': 1576, 'wander': 1577, 'unforc': 1578, 'doze': 1579, 'indulg': 1580, 'nightmar': 1581, 'urg': 1582, 'lend': 1583, 'heavyhand': 1584, 'collaps': 1585, 'stick': 1586, 'phone': 1587, 'cheat': 1588, 'contribut': 1589, 'awe': 1590, 'broad': 1591, 'dragon': 1592, 'enthral': 1593, 'paperthin': 1594, 'polish': 1595, 'literari': 1596, 'pile': 1597, 'outsid': 1598, 'wow': 1599, 'bmovi': 1600, 'timeless': 1601, 'basic': 1602, 'jame': 1603, 'shapeless': 1604, 'spend': 1605, 'bitter': 1606, 'deni': 1607, 'wave': 1608, 'inform': 1609, 'kiss': 1610, 'patienc': 1611, 'fair': 1612, 'harrow': 1613, 'explos': 1614, 'relentlessli': 1615, 'cours': 1616, 'scorses': 1617, 'homag': 1618, 'scienc': 1619, 'sketchi': 1620, 'relief': 1621, 'earli': 1622, 'reallif': 1623, 'hoot': 1624, 'appal': 1625, 'popular': 1626, 'illumin': 1627, 'bigger': 1628, 'conceit': 1629, 'existenti': 1630, 'monti': 1631, 'replac': 1632, 'dynam': 1633, 'topnotch': 1634, 'squander': 1635, 'evok': 1636, 'meanspirit': 1637, 'italian': 1638, 'imperson': 1639, 'discov': 1640, 'local': 1641, 'sympathet': 1642, 'longer': 1643, 'third': 1644, 'uncompromis': 1645, 'hallmark': 1646, 'aggress': 1647, 'tini': 1648, 'friday': 1649, 'martin': 1650, 'eager': 1651, 'control': 1652, 'boast': 1653, 'instinct': 1654, 'undercut': 1655, 'witch': 1656, 'male': 1657, 'intellectu': 1658, 'locat': 1659, 'directtovideo': 1660, 'broken': 1661, 'whimsic': 1662, 'degre': 1663, 'maker': 1664, 'gritti': 1665, 'belong': 1666, 'flow': 1667, 'centuri': 1668, 'establish': 1669, 'presenc': 1670, 'expens': 1671, 'costum': 1672, 'conveni': 1673, 'fearless': 1674, 'window': 1675, 'snow': 1676, 'admit': 1677, 'honesti': 1678, 'flimsi': 1679, 'key': 1680, 'hiphop': 1681, 'beach': 1682, 'discoveri': 1683, 'ahead': 1684, 'aplomb': 1685, 'blast': 1686, 'percept': 1687, 'hastili': 1688, 'maudlin': 1689, 'extend': 1690, 'barbershop': 1691, 'sneak': 1692, 'iron': 1693, 'assassin': 1694, 'lightheart': 1695, 'morn': 1696, 'biggest': 1697, 'tremend': 1698, 'charg': 1699, 'bag': 1700, 'sceneri': 1701, 'chuckl': 1702, 'lee': 1703, 'leaden': 1704, 'creatur': 1705, 'astound': 1706, 'warrior': 1707, 'corni': 1708, 'cloy': 1709, 'imageri': 1710, 'belt': 1711, 'drop': 1712, 'heat': 1713, 'ingeni': 1714, 'hugh': 1715, 'lane': 1716, 'charmless': 1717, 'copi': 1718, 'potent': 1719, 'testament': 1720, 'store': 1721, 'benigni': 1722, 'juvenil': 1723, 'chilli': 1724, 'bone': 1725, 'box': 1726, 'unfaith': 1727, 'safe': 1728, 'spell': 1729, 'evid': 1730, 'nevertheless': 1731, 'varieti': 1732, 'center': 1733, 'dumbeddown': 1734, 'feat': 1735, 'verv': 1736, 'willi': 1737, 'popul': 1738, 'jar': 1739, 'overwrought': 1740, 'tom': 1741, 'breathtakingli': 1742, 'appropri': 1743, 'duti': 1744, 'herzog': 1745, 'buri': 1746, 'sublim': 1747, 'lifeless': 1748, 'racial': 1749, 'weav': 1750, 'splash': 1751, 'sweep': 1752, 'ode': 1753, 'free': 1754, 'wrap': 1755, 'quirk': 1756, 'genial': 1757, 'goodnatur': 1758, 'astonishingli': 1759, 'roger': 1760, 'sake': 1761, 'eccentr': 1762, 'splendor': 1763, 'reduc': 1764, 'exceedingli': 1765, 'tackl': 1766, 'narrat': 1767, 'smartli': 1768, 'implaus': 1769, 'particip': 1770, 'constant': 1771, 'profan': 1772, 'came': 1773, 'visit': 1774, 'clumsili': 1775, 'comparison': 1776, 'dub': 1777, 'spike': 1778, 'newcom': 1779, 'ruin': 1780, 'puzzl': 1781, 'spontan': 1782, 'surrend': 1783, 'cheer': 1784, 'heard': 1785, 'shelf': 1786, 'fuzzi': 1787, 'dozen': 1788, 'due': 1789, 'showcas': 1790, 'trifl': 1791, 'jason': 1792, 'suprem': 1793, 'middleag': 1794, 'setup': 1795, 'straightforward': 1796, 'spare': 1797, 'halfway': 1798, 'unfulfil': 1799, 'spot': 1800, 'privat': 1801, 'trash': 1802, 'wallac': 1803, 'mouth': 1804, 'shamelessli': 1805, 'earth': 1806, 'hot': 1807, 'effici': 1808, 'fece': 1809, 'polic': 1810, 'attitud': 1811, 'exot': 1812, 'rent': 1813, 'honor': 1814, 'blank': 1815, 'chri': 1816, 'separ': 1817, 'conjur': 1818, 'unintent': 1819, 'con': 1820, 'somber': 1821, 'proud': 1822, 'ear': 1823, 'tasti': 1824, 'younger': 1825, 'chaotic': 1826, 'unbeliev': 1827, 'concoct': 1828, 'gentli': 1829, 'reveng': 1830, 'notabl': 1831, 'dullest': 1832, 'eastwood': 1833, 'organ': 1834, 'heal': 1835, 'educ': 1836, 'characterist': 1837, 'spoof': 1838, 'wooden': 1839, 'weirdli': 1840, 'test': 1841, 'ill': 1842, 'cram': 1843, 'paper': 1844, 'buff': 1845, 'order': 1846, 'insist': 1847, 'childhood': 1848, 'updat': 1849, 'ghost': 1850, 'equival': 1851, 'tree': 1852, 'prais': 1853, 'soggi': 1854, 'pitch': 1855, 'talki': 1856, 'jone': 1857, 'sophomor': 1858, 'account': 1859, 'benefit': 1860, 'shyamalan': 1861, 'buck': 1862, 'erot': 1863, 'blood': 1864, 'appli': 1865, 'inexplic': 1866, 'fli': 1867, 'slack': 1868, 'land': 1869, 'aimless': 1870, 'inde': 1871, 'societi': 1872, 'regret': 1873, 'tie': 1874, 'analyz': 1875, 'achingli': 1876, 'earn': 1877, 'saccharin': 1878, 'dimwit': 1879, 'showtim': 1880, 'near': 1881, 'richli': 1882, 'rowdi': 1883, 'polanski': 1884, 'justifi': 1885, 'inan': 1886, 'incompet': 1887, 'whimsi': 1888, 'broomfield': 1889, 'greek': 1890, 'mental': 1891, 'intermitt': 1892, 'miracl': 1893, 'martha': 1894, 'pulpi': 1895, 'perhap': 1896, 'jim': 1897, 'sanctimoni': 1898, 'chines': 1899, 'toler': 1900, 'chees': 1901, 'behold': 1902, 'r': 1903, 'background': 1904, 'intoler': 1905, 'yaya': 1906, 'glorious': 1907, 'swing': 1908, 'disturb': 1909, 'artific': 1910, 'dawn': 1911, 'peculiar': 1912, 'unflinch': 1913, 'adequ': 1914, 'compar': 1915, 'lacklust': 1916, 'oper': 1917, 'tabl': 1918, 'uncanni': 1919, 'candi': 1920, 'within': 1921, 'afraid': 1922, 'held': 1923, 'woodi': 1924, 'guarante': 1925, 'capac': 1926, 'languag': 1927, 'blow': 1928, 'fish': 1929, 'quest': 1930, 'substanti': 1931, 'slip': 1932, 'hype': 1933, 'angel': 1934, 'stroke': 1935, 'controversi': 1936, 'junk': 1937, 'finger': 1938, 'inhabit': 1939, 'marriag': 1940, 'author': 1941, 'dash': 1942, 'photographi': 1943, 'sumptuou': 1944, 'mainli': 1945, 'barrel': 1946, 'kline': 1947, 'ador': 1948, 'scenario': 1949, 'slapdash': 1950, 'insipid': 1951, 'stomach': 1952, 'knew': 1953, 'went': 1954, 'freak': 1955, 'lover': 1956, 'deliber': 1957, 'kissing': 1958, 'revolut': 1959, 'spring': 1960, 'english': 1961, 'sarandon': 1962, 'redeem': 1963, 'subtli': 1964, 'conscious': 1965, 'somebodi': 1966, 'gasp': 1967, 'trailer': 1968, 'corner': 1969, 'transpar': 1970, 'slowli': 1971, 'smack': 1972, 'ach': 1973, 'uncommonli': 1974, 'sluggish': 1975, 'miseri': 1976, 'intimaci': 1977, 'rude': 1978, 'garbag': 1979, 'inconsist': 1980, 'verbal': 1981, 'iranian': 1982, 'contain': 1983, 'camp': 1984, 'current': 1985, 'proper': 1986, 'lump': 1987, 'overlong': 1988, 'breezi': 1989, 'adrenalin': 1990, 'parker': 1991, 'wound': 1992, 'clinic': 1993, 'surreal': 1994, 'lowkey': 1995, 'irrelev': 1996, 'franc': 1997, 'unexpectedli': 1998, 'davi': 1999, 'borrow': 2000}\n",
            "872\n"
          ]
        }
      ]
    },
    {
      "cell_type": "code",
      "source": [
        "def Padding(review_int, seq_len):\n",
        "    '''\n",
        "    Return features of review_ints, where each review is padded with 0's or truncated to the input seq_length.\n",
        "    '''\n",
        "    features = np.zeros((len(review_int), seq_len), dtype = int)\n",
        "    for i, review in enumerate(review_int):\n",
        "        if len(review) <= seq_len:\n",
        "            zeros = list(np.zeros(seq_len - len(review)))\n",
        "            new = zeros + review\n",
        "        else:\n",
        "            new = review[: seq_len]\n",
        "        features[i, :] = np.array(new)\n",
        "\n",
        "    return features"
      ],
      "metadata": {
        "id": "TGYXLoj_QKZC"
      },
      "execution_count": 54,
      "outputs": []
    },
    {
      "cell_type": "code",
      "source": [
        "import numpy as np\n",
        "max_token_len = 30\n",
        "features = Padding(reviews_int, max_token_len)\n",
        "features_test = Padding(reviews_int_test, max_token_len)\n",
        "print(features[0, :])\n",
        "print(len(features))\n",
        "print(len(features_test))"
      ],
      "metadata": {
        "colab": {
          "base_uri": "https://localhost:8080/"
        },
        "id": "hqxigbwRQe2e",
        "outputId": "435f8263-318f-4eb2-8169-bba169665867"
      },
      "execution_count": 55,
      "outputs": [
        {
          "output_type": "stream",
          "name": "stdout",
          "text": [
            "[  0   0   0   0   0   0   0   0   0   0   0   0   0   0   0   0   0   0\n",
            "   0   0   0   0   0   0   0   0   0  33 965 559]\n",
            "67349\n",
            "872\n"
          ]
        }
      ]
    },
    {
      "cell_type": "code",
      "source": [
        "from sklearn.model_selection import train_test_split\n",
        "\n",
        "X_train, X_valid, y_train, y_valid = train_test_split(features, df['sentiment'].to_numpy(),\n",
        "                                                        test_size=0.2, random_state=42,\n",
        "                                                        stratify=df['sentiment'])\n",
        "X_test = features_test\n",
        "y_test = df_test['sentiment'].to_numpy()"
      ],
      "metadata": {
        "id": "oSb6nyv2Qezm"
      },
      "execution_count": 56,
      "outputs": []
    },
    {
      "cell_type": "code",
      "source": [
        "print(X_train[:5])  # Xem 5 hàng đầu tiên của X_train\n",
        "print(y_train[:5])  # Xem 5 giá trị đầu tiên của y_train\n"
      ],
      "metadata": {
        "colab": {
          "base_uri": "https://localhost:8080/"
        },
        "id": "dHRyhuNqRrGD",
        "outputId": "05528b26-fd71-43b2-f42a-dee889f1596b"
      },
      "execution_count": 57,
      "outputs": [
        {
          "output_type": "stream",
          "name": "stdout",
          "text": [
            "[[   0    0    0    0    0    0    0    0    0    0    0    0    0    0\n",
            "     0    0    0    0    0    0    0    0    0    9   48  185    4  611\n",
            "   217    8]\n",
            " [   0    0    0    0    0    0    0    0    0    0    0    0    0    0\n",
            "     0    0    0    0    0    0    0    0    0    0    0    0    0    0\n",
            "     0 1280]\n",
            " [   0    0    0    0    0    0    0    0    0    0    0    0    0    0\n",
            "     0    0    0    0    0    0    0    0    0    0    0    0    0    0\n",
            "     0    0]\n",
            " [   0    0    0    0    0    0    0    0    0    0    0    0    0    0\n",
            "     0    0    0    0   63  467  118  439  350 1192   76  283   99 1372\n",
            "  1371 1434]\n",
            " [   0    0    0    0    0    0    0    0    0    0    0    0    0    0\n",
            "     0    0    0    0    0    0    0    0    0    0    0    0    0    0\n",
            "   167  599]]\n",
            "[1 0 0 1 0]\n"
          ]
        }
      ]
    },
    {
      "cell_type": "code",
      "source": [
        "from sklearn.preprocessing import LabelEncoder\n",
        "import numpy as np\n",
        "\n",
        "# Chuyển đổi y_train, y_test, y_valid thành số\n",
        "# ['negative', 'neutral', 'positive'] -> [0, 1, 2]\n",
        "label_encoder = LabelEncoder()\n",
        "y_train = label_encoder.fit_transform(y_train)\n",
        "y_valid = label_encoder.transform(y_valid)\n",
        "y_test = label_encoder.transform(y_test)"
      ],
      "metadata": {
        "id": "zoxFl7zOSDJ2"
      },
      "execution_count": 58,
      "outputs": []
    },
    {
      "cell_type": "code",
      "source": [
        "import torch\n",
        "from torch.utils.data import DataLoader, TensorDataset\n",
        "import torch.nn as nn\n",
        "# create tensor dataset\n",
        "train_data = TensorDataset(torch.from_numpy(X_train), torch.from_numpy(y_train))\n",
        "valid_data = TensorDataset(torch.from_numpy(X_valid), torch.from_numpy(y_valid))\n",
        "test_data = TensorDataset(torch.from_numpy(X_test), torch.from_numpy(y_test))\n",
        "\n",
        "# dataloaders\n",
        "batch_size = 64\n",
        "\n",
        "train_loader = DataLoader(train_data, shuffle=True, batch_size=batch_size)\n",
        "valid_loader = DataLoader(valid_data, shuffle=True, batch_size=batch_size)\n",
        "test_loader = DataLoader(test_data, shuffle=True, batch_size=batch_size)"
      ],
      "metadata": {
        "id": "VhtoZ3pPQew4"
      },
      "execution_count": 113,
      "outputs": []
    },
    {
      "cell_type": "markdown",
      "source": [
        "## Model"
      ],
      "metadata": {
        "id": "oFGhiNjyw6pY"
      }
    },
    {
      "cell_type": "markdown",
      "source": [
        "### Helper"
      ],
      "metadata": {
        "id": "wd2DJokWxsTe"
      }
    },
    {
      "cell_type": "code",
      "source": [
        "def set_seed(seed):\n",
        "    torch.manual_seed(seed)\n",
        "    torch.cuda.manual_seed(seed)\n",
        "    np.random.seed(seed)\n",
        "    random.seed(seed)\n",
        "    torch.backends.cudnn.deterministic = True\n",
        "    torch.backends.cudnn.benchmark = False\n",
        "\n",
        "def accuracy(predictions, labels):\n",
        "    _, preds = torch.max(predictions, 1)\n",
        "    correct = preds.eq(labels.view_as(preds)).sum()\n",
        "    acc = correct.float() / preds.shape[0]\n",
        "    return acc\n",
        "\n",
        "\n",
        "def calculate_accuracy(model, test_loader, device):\n",
        "    model.eval()  # Chuyển mô hình sang chế độ đánh giá (không tính gradient)\n",
        "\n",
        "    correct = 0\n",
        "    total = 0\n",
        "\n",
        "    with torch.no_grad():  # Tắt tính toán gradient để giảm bộ nhớ và tính toán\n",
        "        for inputs, labels in test_loader:\n",
        "            inputs, labels = inputs.to(device), labels.to(device)  # Đưa dữ liệu vào đúng thiết bị\n",
        "\n",
        "            # Khởi tạo trạng thái ẩn\n",
        "            hidden = model.init_hidden(inputs.size(0))\n",
        "            hidden = tuple([each.data for each in hidden])  # Đảm bảo trạng thái ẩn là tensor\n",
        "\n",
        "            # Dự đoán đầu ra từ mô hình\n",
        "            outputs, hidden = model(inputs, hidden)  # Truyền hidden vào mô hình\n",
        "\n",
        "            # Tính độ chính xác cho batch\n",
        "            _, predicted = torch.max(outputs, 1)\n",
        "            total += labels.size(0)\n",
        "            correct += (predicted == labels).sum().item()  # So sánh dự đoán và nhãn thực tế\n",
        "\n",
        "    accuracy = correct / total * 100  # Tính độ chính xác (%) của mô hình\n",
        "    return accuracy\n"
      ],
      "metadata": {
        "id": "bfyTlPmexyOt"
      },
      "execution_count": 93,
      "outputs": []
    },
    {
      "cell_type": "markdown",
      "source": [
        "#### Pretrain Embedding"
      ],
      "metadata": {
        "id": "VUV7m-MCxDDE"
      }
    },
    {
      "cell_type": "markdown",
      "source": [
        "##### GoogleNews-vectors-negative300-SLIM"
      ],
      "metadata": {
        "id": "HBZ4uwvx3tKT"
      }
    },
    {
      "cell_type": "code",
      "source": [
        "from gensim.models import KeyedVectors\n",
        "\n",
        "path_to_google_news = \"pre-trained/GoogleNews-vectors-negative300-SLIM.bin\"\n",
        "\n",
        "google_news_vectors = KeyedVectors.load_word2vec_format(path_to_google_news, binary=True)"
      ],
      "metadata": {
        "id": "bVhB8Us1xGwt"
      },
      "execution_count": 94,
      "outputs": []
    },
    {
      "cell_type": "code",
      "source": [
        "import numpy as np\n",
        "\n",
        "embedding_dim = 300  # GoogleNews vector size\n",
        "vocab_size = len(vocab_to_int) + 1\n",
        "\n",
        "# Khởi tạo ma trận embedding với giá trị ngẫu nhiên\n",
        "embedding_matrix = np.random.uniform(-0.01, 0.01, (vocab_size, embedding_dim))\n",
        "\n",
        "# Lấy embedding cho các từ trong từ điển của bạn\n",
        "for word, idx in vocab_to_int.items():\n",
        "    if word in google_news_vectors.key_to_index:\n",
        "        embedding_matrix[idx] = google_news_vectors[word]\n",
        "\n",
        "# Chuyển ma trận embedding thành tensor\n",
        "embedding_matrix = torch.tensor(embedding_matrix, dtype=torch.float32)"
      ],
      "metadata": {
        "id": "uFaeJVep4YRe"
      },
      "execution_count": 95,
      "outputs": []
    },
    {
      "cell_type": "markdown",
      "source": [
        "### LSTM"
      ],
      "metadata": {
        "id": "DwqTSKCQw9Fo"
      }
    },
    {
      "cell_type": "code",
      "source": [
        "class SentimentLSTM(nn.Module):\n",
        "    def __init__(self, vocab_size, output_size, embedding_dim, hidden_dim, n_layers, drop_prob=0.2):\n",
        "        super(SentimentLSTM, self).__init__()\n",
        "        self.output_size = output_size\n",
        "        self.n_layers = n_layers\n",
        "        self.hidden_dim = hidden_dim\n",
        "\n",
        "        self.embedding = nn.Embedding(vocab_size, embedding_dim)\n",
        "        self.lstm = nn.LSTM(embedding_dim, hidden_dim, n_layers,dropout=drop_prob, batch_first=True)\n",
        "\n",
        "        self.dropout = nn.Dropout(0.1)\n",
        "        self.fc = nn.Linear(hidden_dim, output_size)\n",
        "        self.softmax = nn.Softmax(dim=1)\n",
        "\n",
        "    def forward(self, x, hidden):\n",
        "        batch_size = x.size(0)\n",
        "        x = x.long()\n",
        "\n",
        "        embeds = self.embedding(x)\n",
        "        lstm_out, hidden = self.lstm(embeds, hidden)\n",
        "\n",
        "        lstm_out = lstm_out.contiguous().view(-1, self.hidden_dim)\n",
        "\n",
        "        out = self.dropout(lstm_out)\n",
        "        out = self.fc(out)\n",
        "\n",
        "        soft_out = self.softmax(out)\n",
        "        soft_out = soft_out.view(batch_size, -1, self.output_size)\n",
        "        soft_out = soft_out[:, -1]\n",
        "\n",
        "        return soft_out, hidden\n",
        "\n",
        "    def init_hidden(self, batch_size):\n",
        "        weight = next(self.parameters()).data\n",
        "        hidden = (weight.new(self.n_layers, batch_size, self.hidden_dim).zero_(),\n",
        "                  weight.new(self.n_layers, batch_size, self.hidden_dim).zero_())\n",
        "        return hidden"
      ],
      "metadata": {
        "id": "nmLNk_GcQem3"
      },
      "execution_count": 96,
      "outputs": []
    },
    {
      "cell_type": "code",
      "source": [
        "# Hyperparameters\n",
        "vocab_size = len(vocab_to_int) + 1\n",
        "output_size = 2  # 0, 1\n",
        "embedding_dim = 64\n",
        "hidden_dim = 256\n",
        "n_layers = 2\n",
        "model = SentimentLSTM(vocab_size, output_size, embedding_dim, hidden_dim, n_layers, drop_prob=0.4)\n",
        "print(model)"
      ],
      "metadata": {
        "colab": {
          "base_uri": "https://localhost:8080/"
        },
        "id": "zTv6J3-RIlzc",
        "outputId": "d0de9eb7-d5e3-4d66-9f48-d5e5904c2e79"
      },
      "execution_count": 97,
      "outputs": [
        {
          "output_type": "stream",
          "name": "stdout",
          "text": [
            "SentimentLSTM(\n",
            "  (embedding): Embedding(2001, 64)\n",
            "  (lstm): LSTM(64, 256, num_layers=2, batch_first=True, dropout=0.4)\n",
            "  (dropout): Dropout(p=0.1, inplace=False)\n",
            "  (fc): Linear(in_features=256, out_features=2, bias=True)\n",
            "  (softmax): Softmax(dim=1)\n",
            ")\n"
          ]
        }
      ]
    },
    {
      "cell_type": "code",
      "source": [
        "set_seed(42)\n",
        "model.to(device)\n",
        "\n",
        "epoch_tr_loss, epoch_vl_loss = [], []\n",
        "epoch_tr_acc, epoch_vl_acc = [], []\n",
        "\n",
        "# Hyperparameters\n",
        "epochs = 30\n",
        "lr = 0.001\n",
        "clip = 5  # gradient clipping\n",
        "\n",
        "criterion = nn.CrossEntropyLoss()\n",
        "optimizer = optim.Adam(model.parameters(), lr=lr)\n",
        "\n",
        "# Training loop\n",
        "for epoch in range(epochs):\n",
        "    train_losses = []\n",
        "    train_accs = []\n",
        "    model.train()\n",
        "\n",
        "    for inputs, labels in train_loader:\n",
        "        inputs, labels = inputs.to(device), labels.to(device)\n",
        "\n",
        "        # Khởi tạo trạng thái ẩn\n",
        "        h = model.init_hidden(inputs.size(0))\n",
        "        h = tuple([each.data for each in h])\n",
        "        model.zero_grad()\n",
        "\n",
        "        output, h = model(inputs, h)\n",
        "        loss = criterion(output, labels)\n",
        "        loss.backward()\n",
        "        nn.utils.clip_grad_norm_(model.parameters(), clip)\n",
        "        optimizer.step()\n",
        "\n",
        "        train_losses.append(loss.item())\n",
        "        train_accs.append(accuracy(output, labels).item())\n",
        "\n",
        "    val_losses = []\n",
        "    val_accs = []\n",
        "    model.eval()\n",
        "    with torch.no_grad():\n",
        "        for inputs, labels in valid_loader:\n",
        "            inputs, labels = inputs.to(device), labels.to(device)\n",
        "\n",
        "            # Khởi tạo trạng thái ẩn\n",
        "            val_h = model.init_hidden(inputs.size(0))\n",
        "            val_h = tuple([each.data for each in val_h])\n",
        "            output, val_h = model(inputs, val_h)\n",
        "            val_loss = criterion(output, labels)\n",
        "\n",
        "            val_losses.append(val_loss.item())\n",
        "            val_accs.append(accuracy(output, labels).item())\n",
        "\n",
        "    epoch_train_loss = np.mean(train_losses)\n",
        "    epoch_val_loss = np.mean(val_losses)\n",
        "    epoch_train_acc = np.mean(train_accs)\n",
        "    epoch_val_acc = np.mean(val_accs)\n",
        "\n",
        "    epoch_tr_loss.append(epoch_train_loss)\n",
        "    epoch_vl_loss.append(epoch_val_loss)\n",
        "    epoch_tr_acc.append(epoch_train_acc)\n",
        "    epoch_vl_acc.append(epoch_val_acc)\n",
        "\n",
        "    # Print training/validation statistics\n",
        "    print(f\"Epoch: {epoch+1}/{epochs}... \"\n",
        "          f\"Train Loss: {epoch_train_loss:.6f}... \"\n",
        "          f\"Val Loss: {epoch_val_loss:.6f}... \"\n",
        "          f\"Train Acc: {epoch_train_acc * 100:.2f}%... \"\n",
        "          f\"Val Acc: {epoch_val_acc * 100:.2f}%\")\n",
        "\n",
        "    torch.save(model.state_dict(), f\"weights/LSTM/weight_{epoch}.pth\")"
      ],
      "metadata": {
        "colab": {
          "base_uri": "https://localhost:8080/"
        },
        "id": "_mBAfOp0Q4RW",
        "outputId": "74c54f93-4eae-4a97-cd0e-b8510028ae6b"
      },
      "execution_count": 98,
      "outputs": [
        {
          "output_type": "stream",
          "name": "stdout",
          "text": [
            "Epoch: 1/30... Train Loss: 0.566802... Val Loss: 0.507082... Train Acc: 72.29%... Val Acc: 79.41%\n",
            "Epoch: 2/30... Train Loss: 0.482232... Val Loss: 0.476210... Train Acc: 82.08%... Val Acc: 82.77%\n",
            "Epoch: 3/30... Train Loss: 0.457333... Val Loss: 0.464463... Train Acc: 84.78%... Val Acc: 83.97%\n",
            "Epoch: 4/30... Train Loss: 0.444861... Val Loss: 0.460817... Train Acc: 86.11%... Val Acc: 84.46%\n",
            "Epoch: 5/30... Train Loss: 0.434667... Val Loss: 0.453946... Train Acc: 87.20%... Val Acc: 85.25%\n",
            "Epoch: 6/30... Train Loss: 0.428682... Val Loss: 0.447762... Train Acc: 87.79%... Val Acc: 85.83%\n",
            "Epoch: 7/30... Train Loss: 0.424314... Val Loss: 0.450001... Train Acc: 88.32%... Val Acc: 85.61%\n",
            "Epoch: 8/30... Train Loss: 0.420203... Val Loss: 0.443814... Train Acc: 88.70%... Val Acc: 86.29%\n",
            "Epoch: 9/30... Train Loss: 0.416495... Val Loss: 0.445297... Train Acc: 89.09%... Val Acc: 86.07%\n",
            "Epoch: 10/30... Train Loss: 0.415007... Val Loss: 0.442831... Train Acc: 89.19%... Val Acc: 86.36%\n",
            "Epoch: 11/30... Train Loss: 0.412499... Val Loss: 0.440666... Train Acc: 89.51%... Val Acc: 86.69%\n",
            "Epoch: 12/30... Train Loss: 0.411022... Val Loss: 0.439940... Train Acc: 89.66%... Val Acc: 86.61%\n",
            "Epoch: 13/30... Train Loss: 0.408814... Val Loss: 0.439913... Train Acc: 89.91%... Val Acc: 86.65%\n",
            "Epoch: 14/30... Train Loss: 0.408209... Val Loss: 0.441198... Train Acc: 89.96%... Val Acc: 86.52%\n",
            "Epoch: 15/30... Train Loss: 0.406510... Val Loss: 0.440410... Train Acc: 90.11%... Val Acc: 86.63%\n",
            "Epoch: 16/30... Train Loss: 0.404870... Val Loss: 0.437875... Train Acc: 90.30%... Val Acc: 86.98%\n",
            "Epoch: 17/30... Train Loss: 0.403696... Val Loss: 0.437789... Train Acc: 90.38%... Val Acc: 86.85%\n",
            "Epoch: 18/30... Train Loss: 0.403660... Val Loss: 0.436872... Train Acc: 90.40%... Val Acc: 86.98%\n",
            "Epoch: 19/30... Train Loss: 0.402040... Val Loss: 0.436511... Train Acc: 90.58%... Val Acc: 87.06%\n",
            "Epoch: 20/30... Train Loss: 0.401423... Val Loss: 0.435492... Train Acc: 90.61%... Val Acc: 87.19%\n",
            "Epoch: 21/30... Train Loss: 0.400611... Val Loss: 0.436447... Train Acc: 90.71%... Val Acc: 87.06%\n",
            "Epoch: 22/30... Train Loss: 0.400004... Val Loss: 0.436993... Train Acc: 90.77%... Val Acc: 86.99%\n",
            "Epoch: 23/30... Train Loss: 0.399487... Val Loss: 0.435018... Train Acc: 90.80%... Val Acc: 87.20%\n",
            "Epoch: 24/30... Train Loss: 0.398361... Val Loss: 0.436205... Train Acc: 90.95%... Val Acc: 87.13%\n",
            "Epoch: 25/30... Train Loss: 0.397655... Val Loss: 0.432688... Train Acc: 90.99%... Val Acc: 87.44%\n",
            "Epoch: 26/30... Train Loss: 0.397670... Val Loss: 0.434172... Train Acc: 91.00%... Val Acc: 87.31%\n",
            "Epoch: 27/30... Train Loss: 0.397083... Val Loss: 0.433248... Train Acc: 91.09%... Val Acc: 87.31%\n",
            "Epoch: 28/30... Train Loss: 0.396488... Val Loss: 0.434188... Train Acc: 91.12%... Val Acc: 87.29%\n",
            "Epoch: 29/30... Train Loss: 0.396809... Val Loss: 0.432328... Train Acc: 91.08%... Val Acc: 87.48%\n",
            "Epoch: 30/30... Train Loss: 0.396028... Val Loss: 0.432993... Train Acc: 91.18%... Val Acc: 87.34%\n"
          ]
        }
      ]
    },
    {
      "cell_type": "code",
      "source": [
        "fig = plt.figure(figsize=(10, 6))\n",
        "\n",
        "plt.subplot(1, 2, 1)\n",
        "plt.plot(epoch_tr_acc, label='Train Acc')\n",
        "plt.plot(epoch_vl_acc, label='Validation Acc')\n",
        "plt.title(\"Accuracy\")\n",
        "plt.legend()\n",
        "plt.grid()\n",
        "\n",
        "plt.subplot(1, 2, 2)\n",
        "plt.plot(epoch_tr_loss, label='Train loss')\n",
        "plt.plot(epoch_vl_loss, label='Validation loss')\n",
        "plt.title(\"Loss\")\n",
        "plt.legend()\n",
        "plt.grid()\n",
        "\n",
        "plt.show()"
      ],
      "metadata": {
        "id": "f1gz9DdNQ4Ou",
        "colab": {
          "base_uri": "https://localhost:8080/",
          "height": 530
        },
        "outputId": "9adb8376-f0ee-4b6e-914e-696b6da6ffc1"
      },
      "execution_count": 101,
      "outputs": [
        {
          "output_type": "display_data",
          "data": {
            "text/plain": [
              "<Figure size 1000x600 with 2 Axes>"
            ],
            "image/png": "[encoded data removed]"
          },
          "metadata": {}
        }
      ]
    },
    {
      "cell_type": "code",
      "source": [
        "# model.load_state_dict(torch.load('weights/LSTM/weight_{epoch}.pth'))"
      ],
      "metadata": {
        "id": "ZzeuzMKi4Az6"
      },
      "execution_count": 102,
      "outputs": []
    },
    {
      "cell_type": "code",
      "source": [
        "calculate_accuracy(model, test_loader, device)"
      ],
      "metadata": {
        "colab": {
          "base_uri": "https://localhost:8080/"
        },
        "id": "D23j_WtXtoRt",
        "outputId": "1c8dc574-2565-4ca0-bc57-ff4367441d5d"
      },
      "execution_count": 103,
      "outputs": [
        {
          "output_type": "execute_result",
          "data": {
            "text/plain": [
              "75.45871559633028"
            ]
          },
          "metadata": {},
          "execution_count": 103
        }
      ]
    },
    {
      "cell_type": "code",
      "source": [
        "def predict_text(text):\n",
        "        text = preprocess_text(text)\n",
        "        r = [[vocab_to_int[word] for word in text.split() if word in vocab_to_int]]\n",
        "        pad = Padding(r,30)\n",
        "        inputs = torch.tensor(pad).to(device)\n",
        "        batch_size = 1\n",
        "        h = model.init_hidden(batch_size)\n",
        "        h = tuple([each.data for each in h])\n",
        "        output, h = model(inputs, h)\n",
        "        return torch.argmax(output, dim=1).item()\n",
        "\n",
        "predict_text(\"i hate you\")"
      ],
      "metadata": {
        "colab": {
          "base_uri": "https://localhost:8080/"
        },
        "id": "5Fl8YqaisQgi",
        "outputId": "da5b9683-2c46-48f9-8868-2d7e2718650d"
      },
      "execution_count": 104,
      "outputs": [
        {
          "output_type": "execute_result",
          "data": {
            "text/plain": [
              "0"
            ]
          },
          "metadata": {},
          "execution_count": 104
        }
      ]
    },
    {
      "cell_type": "markdown",
      "source": [
        "### LSTM + Pre-trained Embedding"
      ],
      "metadata": {
        "id": "ddh6tm724o79"
      }
    },
    {
      "cell_type": "code",
      "source": [
        "class SentimentLSTM(nn.Module):\n",
        "    def __init__(self, vocab_size, output_size, embedding_dim, hidden_dim, n_layers, drop_prob=0.2):\n",
        "        super(SentimentLSTM, self).__init__()\n",
        "        self.output_size = output_size\n",
        "        self.n_layers = n_layers\n",
        "        self.hidden_dim = hidden_dim\n",
        "\n",
        "        self.embedding = nn.Embedding(vocab_size, embedding_dim)\n",
        "        self.lstm = nn.LSTM(embedding_dim, hidden_dim, n_layers,dropout=drop_prob, batch_first=True)\n",
        "\n",
        "        self.dropout = nn.Dropout(0.1)\n",
        "        self.fc = nn.Linear(hidden_dim, output_size)\n",
        "        self.softmax = nn.Softmax(dim=1)\n",
        "\n",
        "    def forward(self, x, hidden):\n",
        "        batch_size = x.size(0)\n",
        "        x = x.long()\n",
        "\n",
        "        embeds = self.embedding(x)\n",
        "        lstm_out, hidden = self.lstm(embeds, hidden)\n",
        "\n",
        "        lstm_out = lstm_out.contiguous().view(-1, self.hidden_dim)\n",
        "\n",
        "        out = self.dropout(lstm_out)\n",
        "        out = self.fc(out)\n",
        "\n",
        "        soft_out = self.softmax(out)\n",
        "\n",
        "        soft_out = soft_out.view(batch_size, -1, self.output_size)\n",
        "        soft_out = soft_out[:, -1]\n",
        "\n",
        "        return soft_out, hidden\n",
        "\n",
        "    def init_hidden(self, batch_size):\n",
        "        weight = next(self.parameters()).data\n",
        "        hidden = (weight.new(self.n_layers, batch_size, self.hidden_dim).zero_(),\n",
        "                  weight.new(self.n_layers, batch_size, self.hidden_dim).zero_())\n",
        "        return hidden"
      ],
      "metadata": {
        "id": "1W4c3mf-Q4JZ"
      },
      "execution_count": 105,
      "outputs": []
    },
    {
      "cell_type": "code",
      "source": [
        "# Hyperparameters\n",
        "vocab_size = len(vocab_to_int) + 1\n",
        "output_size = 3\n",
        "embedding_dim = 300\n",
        "hidden_dim = 128\n",
        "n_layers = 2\n",
        "model = SentimentLSTM(vocab_size, output_size, embedding_dim, hidden_dim, n_layers, drop_prob=0.3)\n",
        "model.embedding = nn.Embedding.from_pretrained(embedding_matrix, freeze=True)  # freeze=True để giữ nguyên trọng số\n",
        "print(model)"
      ],
      "metadata": {
        "id": "1PlM1XtKQ-z1",
        "colab": {
          "base_uri": "https://localhost:8080/"
        },
        "outputId": "64b0eb97-ff86-429e-de51-2ff44c7d7295"
      },
      "execution_count": 106,
      "outputs": [
        {
          "output_type": "stream",
          "name": "stdout",
          "text": [
            "SentimentLSTM(\n",
            "  (embedding): Embedding(2001, 300)\n",
            "  (lstm): LSTM(300, 128, num_layers=2, batch_first=True, dropout=0.3)\n",
            "  (dropout): Dropout(p=0.1, inplace=False)\n",
            "  (fc): Linear(in_features=128, out_features=3, bias=True)\n",
            "  (softmax): Softmax(dim=1)\n",
            ")\n"
          ]
        }
      ]
    },
    {
      "cell_type": "code",
      "source": [
        "set_seed(42)\n",
        "model.to(device)\n",
        "\n",
        "epoch_tr_loss, epoch_vl_loss = [], []\n",
        "epoch_tr_acc, epoch_vl_acc = [], []\n",
        "\n",
        "# Hyperparameters\n",
        "epochs = 50\n",
        "lr = 0.001\n",
        "clip = 5  # gradient clipping\n",
        "\n",
        "criterion = nn.CrossEntropyLoss()\n",
        "optimizer = optim.Adam(model.parameters(), lr=lr)\n",
        "\n",
        "# Training loop\n",
        "for epoch in range(epochs):\n",
        "    train_losses = []\n",
        "    train_accs = []\n",
        "    model.train()\n",
        "\n",
        "    for inputs, labels in train_loader:\n",
        "        inputs, labels = inputs.to(device), labels.to(device)\n",
        "\n",
        "        # Khởi tạo trạng thái ẩn\n",
        "        h = model.init_hidden(inputs.size(0))\n",
        "        h = tuple([each.data for each in h])\n",
        "        model.zero_grad()\n",
        "\n",
        "        output, h = model(inputs, h)\n",
        "        loss = criterion(output, labels)\n",
        "        loss.backward()\n",
        "        nn.utils.clip_grad_norm_(model.parameters(), clip)\n",
        "        optimizer.step()\n",
        "\n",
        "        train_losses.append(loss.item())\n",
        "        train_accs.append(accuracy(output, labels).item())\n",
        "\n",
        "    val_losses = []\n",
        "    val_accs = []\n",
        "    model.eval()\n",
        "    with torch.no_grad():\n",
        "        for inputs, labels in valid_loader:\n",
        "            inputs, labels = inputs.to(device), labels.to(device)\n",
        "\n",
        "            # Khởi tạo trạng thái ẩn\n",
        "            val_h = model.init_hidden(inputs.size(0))\n",
        "            val_h = tuple([each.data for each in val_h])\n",
        "            output, val_h = model(inputs, val_h)\n",
        "            val_loss = criterion(output, labels)\n",
        "\n",
        "            val_losses.append(val_loss.item())\n",
        "            val_accs.append(accuracy(output, labels).item())\n",
        "\n",
        "    epoch_train_loss = np.mean(train_losses)\n",
        "    epoch_val_loss = np.mean(val_losses)\n",
        "    epoch_train_acc = np.mean(train_accs)\n",
        "    epoch_val_acc = np.mean(val_accs)\n",
        "\n",
        "    epoch_tr_loss.append(epoch_train_loss)\n",
        "    epoch_vl_loss.append(epoch_val_loss)\n",
        "    epoch_tr_acc.append(epoch_train_acc)\n",
        "    epoch_vl_acc.append(epoch_val_acc)\n",
        "\n",
        "    # Print training/validation statistics\n",
        "    print(f\"Epoch: {epoch+1}/{epochs}... \"\n",
        "          f\"Train Loss: {epoch_train_loss:.6f}... \"\n",
        "          f\"Val Loss: {epoch_val_loss:.6f}... \"\n",
        "          f\"Train Acc: {epoch_train_acc * 100:.2f}%... \"\n",
        "          f\"Val Acc: {epoch_val_acc * 100:.2f}%\")\n",
        "\n",
        "    torch.save(model.state_dict(), f\"weights/LSTM_Pre-trained/weight_{epoch}.pth\")"
      ],
      "metadata": {
        "id": "eL_BnhrLQ-w2",
        "colab": {
          "base_uri": "https://localhost:8080/"
        },
        "outputId": "9a92d9a7-7f4e-4e23-e222-799254e023ee"
      },
      "execution_count": 107,
      "outputs": [
        {
          "output_type": "stream",
          "name": "stdout",
          "text": [
            "Epoch: 1/50... Train Loss: 0.856143... Val Loss: 0.808613... Train Acc: 67.12%... Val Acc: 72.55%\n",
            "Epoch: 2/50... Train Loss: 0.920260... Val Loss: 0.816975... Train Acc: 62.01%... Val Acc: 71.62%\n",
            "Epoch: 3/50... Train Loss: 0.792785... Val Loss: 0.789168... Train Acc: 74.60%... Val Acc: 74.87%\n",
            "Epoch: 4/50... Train Loss: 0.781182... Val Loss: 0.781490... Train Acc: 75.97%... Val Acc: 75.78%\n",
            "Epoch: 5/50... Train Loss: 0.770719... Val Loss: 0.772218... Train Acc: 77.07%... Val Acc: 76.90%\n",
            "Epoch: 6/50... Train Loss: 0.760224... Val Loss: 0.768794... Train Acc: 78.23%... Val Acc: 77.32%\n",
            "Epoch: 7/50... Train Loss: 0.752794... Val Loss: 0.760055... Train Acc: 79.11%... Val Acc: 78.38%\n",
            "Epoch: 8/50... Train Loss: 0.744704... Val Loss: 0.760228... Train Acc: 79.94%... Val Acc: 78.50%\n",
            "Epoch: 9/50... Train Loss: 0.738043... Val Loss: 0.753133... Train Acc: 80.58%... Val Acc: 79.23%\n",
            "Epoch: 10/50... Train Loss: 0.733780... Val Loss: 0.750273... Train Acc: 81.20%... Val Acc: 79.49%\n",
            "Epoch: 11/50... Train Loss: 0.730673... Val Loss: 0.746190... Train Acc: 81.44%... Val Acc: 80.00%\n",
            "Epoch: 12/50... Train Loss: 0.726278... Val Loss: 0.743364... Train Acc: 81.97%... Val Acc: 80.28%\n",
            "Epoch: 13/50... Train Loss: 0.723297... Val Loss: 0.737991... Train Acc: 82.28%... Val Acc: 80.96%\n",
            "Epoch: 14/50... Train Loss: 0.718726... Val Loss: 0.732837... Train Acc: 82.77%... Val Acc: 81.55%\n",
            "Epoch: 15/50... Train Loss: 0.714735... Val Loss: 0.733942... Train Acc: 83.20%... Val Acc: 81.33%\n",
            "Epoch: 16/50... Train Loss: 0.711723... Val Loss: 0.732281... Train Acc: 83.47%... Val Acc: 81.46%\n",
            "Epoch: 17/50... Train Loss: 0.710149... Val Loss: 0.729581... Train Acc: 83.67%... Val Acc: 81.75%\n",
            "Epoch: 18/50... Train Loss: 0.707369... Val Loss: 0.731417... Train Acc: 83.88%... Val Acc: 81.54%\n",
            "Epoch: 19/50... Train Loss: 0.706290... Val Loss: 0.726758... Train Acc: 84.09%... Val Acc: 82.04%\n",
            "Epoch: 20/50... Train Loss: 0.702701... Val Loss: 0.722453... Train Acc: 84.44%... Val Acc: 82.66%\n",
            "Epoch: 21/50... Train Loss: 0.700293... Val Loss: 0.722179... Train Acc: 84.66%... Val Acc: 82.50%\n",
            "Epoch: 22/50... Train Loss: 0.698529... Val Loss: 0.723568... Train Acc: 84.89%... Val Acc: 82.42%\n",
            "Epoch: 23/50... Train Loss: 0.696591... Val Loss: 0.718122... Train Acc: 85.15%... Val Acc: 82.95%\n",
            "Epoch: 24/50... Train Loss: 0.695795... Val Loss: 0.716035... Train Acc: 85.26%... Val Acc: 83.15%\n",
            "Epoch: 25/50... Train Loss: 0.693607... Val Loss: 0.716679... Train Acc: 85.33%... Val Acc: 83.04%\n",
            "Epoch: 26/50... Train Loss: 0.692324... Val Loss: 0.716705... Train Acc: 85.55%... Val Acc: 83.03%\n",
            "Epoch: 27/50... Train Loss: 0.692659... Val Loss: 0.717325... Train Acc: 85.46%... Val Acc: 83.10%\n",
            "Epoch: 28/50... Train Loss: 0.691298... Val Loss: 0.715482... Train Acc: 85.59%... Val Acc: 83.19%\n",
            "Epoch: 29/50... Train Loss: 0.689194... Val Loss: 0.715317... Train Acc: 85.86%... Val Acc: 83.15%\n",
            "Epoch: 30/50... Train Loss: 0.688491... Val Loss: 0.714121... Train Acc: 86.00%... Val Acc: 83.22%\n",
            "Epoch: 31/50... Train Loss: 0.686955... Val Loss: 0.711519... Train Acc: 86.08%... Val Acc: 83.59%\n",
            "Epoch: 32/50... Train Loss: 0.686735... Val Loss: 0.712467... Train Acc: 86.08%... Val Acc: 83.43%\n",
            "Epoch: 33/50... Train Loss: 0.685051... Val Loss: 0.710316... Train Acc: 86.28%... Val Acc: 83.69%\n",
            "Epoch: 34/50... Train Loss: 0.684299... Val Loss: 0.709534... Train Acc: 86.36%... Val Acc: 83.69%\n",
            "Epoch: 35/50... Train Loss: 0.683082... Val Loss: 0.713999... Train Acc: 86.53%... Val Acc: 83.27%\n",
            "Epoch: 36/50... Train Loss: 0.683168... Val Loss: 0.711593... Train Acc: 86.51%... Val Acc: 83.64%\n",
            "Epoch: 37/50... Train Loss: 0.682003... Val Loss: 0.710206... Train Acc: 86.54%... Val Acc: 83.76%\n",
            "Epoch: 38/50... Train Loss: 0.679494... Val Loss: 0.708851... Train Acc: 86.85%... Val Acc: 83.79%\n",
            "Epoch: 39/50... Train Loss: 0.678764... Val Loss: 0.709692... Train Acc: 86.98%... Val Acc: 83.68%\n",
            "Epoch: 40/50... Train Loss: 0.679240... Val Loss: 0.708302... Train Acc: 86.89%... Val Acc: 83.96%\n",
            "Epoch: 41/50... Train Loss: 0.678157... Val Loss: 0.709855... Train Acc: 87.03%... Val Acc: 83.79%\n",
            "Epoch: 42/50... Train Loss: 0.677469... Val Loss: 0.706202... Train Acc: 87.09%... Val Acc: 84.21%\n",
            "Epoch: 43/50... Train Loss: 0.677004... Val Loss: 0.705479... Train Acc: 87.13%... Val Acc: 84.19%\n",
            "Epoch: 44/50... Train Loss: 0.675617... Val Loss: 0.705027... Train Acc: 87.24%... Val Acc: 84.20%\n",
            "Epoch: 45/50... Train Loss: 0.675508... Val Loss: 0.704759... Train Acc: 87.26%... Val Acc: 84.29%\n",
            "Epoch: 46/50... Train Loss: 0.674196... Val Loss: 0.704160... Train Acc: 87.38%... Val Acc: 84.30%\n",
            "Epoch: 47/50... Train Loss: 0.674150... Val Loss: 0.703472... Train Acc: 87.42%... Val Acc: 84.37%\n",
            "Epoch: 48/50... Train Loss: 0.673408... Val Loss: 0.704472... Train Acc: 87.42%... Val Acc: 84.26%\n",
            "Epoch: 49/50... Train Loss: 0.673206... Val Loss: 0.702656... Train Acc: 87.46%... Val Acc: 84.41%\n",
            "Epoch: 50/50... Train Loss: 0.671548... Val Loss: 0.707310... Train Acc: 87.61%... Val Acc: 84.00%\n"
          ]
        }
      ]
    },
    {
      "cell_type": "code",
      "source": [
        "fig = plt.figure(figsize=(10, 6))\n",
        "\n",
        "plt.subplot(1, 2, 1)\n",
        "plt.plot(epoch_tr_acc, label='Train Acc')\n",
        "plt.plot(epoch_vl_acc, label='Validation Acc')\n",
        "plt.title(\"Accuracy\")\n",
        "plt.legend()\n",
        "plt.grid()\n",
        "\n",
        "plt.subplot(1, 2, 2)\n",
        "plt.plot(epoch_tr_loss, label='Train loss')\n",
        "plt.plot(epoch_vl_loss, label='Validation loss')\n",
        "plt.title(\"Loss\")\n",
        "plt.legend()\n",
        "plt.grid()\n",
        "\n",
        "plt.show()"
      ],
      "metadata": {
        "id": "rYiePGsgQ-uH",
        "colab": {
          "base_uri": "https://localhost:8080/",
          "height": 538
        },
        "outputId": "64b6bbfd-fa77-48fc-f244-15d5a6a9f5c5"
      },
      "execution_count": 109,
      "outputs": [
        {
          "output_type": "display_data",
          "data": {
            "text/plain": [
              "<Figure size 1000x600 with 2 Axes>"
            ],
            "image/png": "[encoded data removed]"
          },
          "metadata": {}
        }
      ]
    },
    {
      "cell_type": "code",
      "source": [
        "model.load_state_dict(torch.load('weights/LSTM_Pre-trained/weight_20.pth'))"
      ],
      "metadata": {
        "id": "TlSfGpjw3j_U"
      },
      "execution_count": 86,
      "outputs": []
    },
    {
      "cell_type": "code",
      "source": [
        "calculate_accuracy(model, test_loader, device)"
      ],
      "metadata": {
        "colab": {
          "base_uri": "https://localhost:8080/"
        },
        "id": "ggZSSB9M3j8R",
        "outputId": "38173294-b62e-4f1b-9942-1bc5fc1d3579"
      },
      "execution_count": 111,
      "outputs": [
        {
          "output_type": "execute_result",
          "data": {
            "text/plain": [
              "70.75688073394495"
            ]
          },
          "metadata": {},
          "execution_count": 111
        }
      ]
    },
    {
      "cell_type": "code",
      "source": [
        "def predict_text(text):\n",
        "        text = preprocess_text(text)\n",
        "        r = [[vocab_to_int[word] for word in text.split() if word in vocab_to_int]]\n",
        "        pad = Padding(r,30)\n",
        "        inputs = torch.tensor(pad).to(device)\n",
        "        batch_size = 1\n",
        "        h = model.init_hidden(batch_size)\n",
        "        h = tuple([each.data for each in h])\n",
        "        output, h = model(inputs, h)\n",
        "        return torch.argmax(output, dim=1).item()\n",
        "\n",
        "predict_text(\"i love you\")"
      ],
      "metadata": {
        "colab": {
          "base_uri": "https://localhost:8080/"
        },
        "id": "eR9b8s3C4xec",
        "outputId": "ac7dafd7-6a56-4fb5-8e69-9c961d70888c"
      },
      "execution_count": 112,
      "outputs": [
        {
          "output_type": "execute_result",
          "data": {
            "text/plain": [
              "1"
            ]
          },
          "metadata": {},
          "execution_count": 112
        }
      ]
    },
    {
      "cell_type": "markdown",
      "source": [
        "### Bidirectional LSTM"
      ],
      "metadata": {
        "id": "IYfGAKVW5-j7"
      }
    },
    {
      "cell_type": "code",
      "source": [
        "class SentimentLSTM(nn.Module):\n",
        "    def __init__(self, vocab_size, output_size, embedding_dim, hidden_dim, n_layers, drop_prob=0.2):\n",
        "        super(SentimentLSTM, self).__init__()\n",
        "        self.output_size = output_size\n",
        "        self.n_layers = n_layers\n",
        "        self.hidden_dim = hidden_dim\n",
        "\n",
        "        self.embedding = nn.Embedding(vocab_size, embedding_dim)\n",
        "        self.lstm = nn.LSTM(embedding_dim, hidden_dim, n_layers,dropout=drop_prob, batch_first=True, bidirectional=True)\n",
        "\n",
        "        self.dropout = nn.Dropout(0.1)\n",
        "        self.fc = nn.Linear(hidden_dim * 2, output_size)\n",
        "        self.softmax = nn.Softmax(dim=1)\n",
        "\n",
        "    def forward(self, x, hidden):\n",
        "        batch_size = x.size(0)\n",
        "        x = x.long()\n",
        "\n",
        "        embeds = self.embedding(x)\n",
        "        lstm_out, hidden = self.lstm(embeds, hidden)\n",
        "        lstm_out = lstm_out.contiguous().view(-1, self.hidden_dim * 2)\n",
        "\n",
        "        out = self.dropout(lstm_out)\n",
        "        out = self.fc(out)\n",
        "\n",
        "        soft_out = self.softmax(out)\n",
        "        soft_out = soft_out.view(batch_size, -1, self.output_size)\n",
        "        soft_out = soft_out[:, -1]\n",
        "\n",
        "        return soft_out, hidden\n",
        "\n",
        "    def init_hidden(self, batch_size):\n",
        "        weight = next(self.parameters()).data\n",
        "        hidden = (weight.new(self.n_layers * 2, batch_size, self.hidden_dim).zero_(),\n",
        "                  weight.new(self.n_layers * 2, batch_size, self.hidden_dim).zero_())\n",
        "        return hidden"
      ],
      "metadata": {
        "id": "kDV4Wzt5XTpU"
      },
      "execution_count": 127,
      "outputs": []
    },
    {
      "cell_type": "code",
      "source": [
        "# Hyperparameters\n",
        "vocab_size = len(vocab_to_int) + 1\n",
        "output_size = 3\n",
        "embedding_dim = 64\n",
        "hidden_dim = 128\n",
        "n_layers = 2\n",
        "model = SentimentLSTM(vocab_size, output_size, embedding_dim, hidden_dim, n_layers, drop_prob=0.5)\n",
        "print(model)"
      ],
      "metadata": {
        "colab": {
          "base_uri": "https://localhost:8080/"
        },
        "id": "s269d5PlXvdL",
        "outputId": "6787812a-23de-4e60-f452-6d9b1c3892c9"
      },
      "execution_count": 128,
      "outputs": [
        {
          "output_type": "stream",
          "name": "stdout",
          "text": [
            "SentimentLSTM(\n",
            "  (embedding): Embedding(2001, 64)\n",
            "  (lstm): LSTM(64, 128, num_layers=2, batch_first=True, dropout=0.5, bidirectional=True)\n",
            "  (dropout): Dropout(p=0.1, inplace=False)\n",
            "  (fc): Linear(in_features=256, out_features=3, bias=True)\n",
            "  (softmax): Softmax(dim=1)\n",
            ")\n"
          ]
        }
      ]
    },
    {
      "cell_type": "code",
      "source": [
        "set_seed(42)\n",
        "model.to(device)\n",
        "\n",
        "epoch_tr_loss, epoch_vl_loss = [], []\n",
        "epoch_tr_acc, epoch_vl_acc = [], []\n",
        "# Hyperparameters\n",
        "epochs = 30\n",
        "lr = 0.001\n",
        "clip = 5\n",
        "\n",
        "criterion = nn.CrossEntropyLoss()\n",
        "optimizer = optim.Adam(model.parameters(), lr=lr, weight_decay=1e-5)\n",
        "\n",
        "# Training loop\n",
        "for epoch in range(epochs):\n",
        "    train_losses = []\n",
        "    train_accs = []\n",
        "    model.train()\n",
        "\n",
        "    for inputs, labels in train_loader:\n",
        "        inputs, labels = inputs.to(device), labels.to(device)\n",
        "\n",
        "        # Khởi tạo trạng thái ẩn\n",
        "        h = model.init_hidden(inputs.size(0))\n",
        "        h = tuple([each.data for each in h])\n",
        "        model.zero_grad()\n",
        "\n",
        "        output, h = model(inputs, h)\n",
        "        loss = criterion(output, labels)\n",
        "        loss.backward()\n",
        "        nn.utils.clip_grad_norm_(model.parameters(), clip)\n",
        "        optimizer.step()\n",
        "\n",
        "        train_losses.append(loss.item())\n",
        "        train_accs.append(accuracy(output, labels).item())\n",
        "\n",
        "    val_losses = []\n",
        "    val_accs = []\n",
        "    model.eval()\n",
        "    with torch.no_grad():\n",
        "        for inputs, labels in valid_loader:\n",
        "            inputs, labels = inputs.to(device), labels.to(device)\n",
        "\n",
        "            # Khởi tạo trạng thái ẩn\n",
        "            val_h = model.init_hidden(inputs.size(0))\n",
        "            val_h = tuple([each.data for each in val_h])\n",
        "            output, val_h = model(inputs, val_h)\n",
        "            val_loss = criterion(output, labels)\n",
        "\n",
        "            val_losses.append(val_loss.item())\n",
        "            val_accs.append(accuracy(output, labels).item())\n",
        "\n",
        "    epoch_train_loss = np.mean(train_losses)\n",
        "    epoch_val_loss = np.mean(val_losses)\n",
        "    epoch_train_acc = np.mean(train_accs)\n",
        "    epoch_val_acc = np.mean(val_accs)\n",
        "\n",
        "    epoch_tr_loss.append(epoch_train_loss)\n",
        "    epoch_vl_loss.append(epoch_val_loss)\n",
        "    epoch_tr_acc.append(epoch_train_acc)\n",
        "    epoch_vl_acc.append(epoch_val_acc)\n",
        "\n",
        "    # Print training/validation statistics\n",
        "    print(f\"Epoch: {epoch+1}/{epochs}... \"\n",
        "          f\"Train Loss: {epoch_train_loss:.6f}... \"\n",
        "          f\"Val Loss: {epoch_val_loss:.6f}... \"\n",
        "          f\"Train Acc: {epoch_train_acc * 100:.2f}%... \"\n",
        "          f\"Val Acc: {epoch_val_acc * 100:.2f}%\")\n",
        "\n",
        "    torch.save(model.state_dict(), f\"weights/biLSTM/weight_{epoch}.pth\")"
      ],
      "metadata": {
        "colab": {
          "base_uri": "https://localhost:8080/"
        },
        "id": "o8zyq8zGXTmi",
        "outputId": "e054850e-d268-4a7f-efb7-b96c404dc536"
      },
      "execution_count": 129,
      "outputs": [
        {
          "output_type": "stream",
          "name": "stdout",
          "text": [
            "Epoch: 1/30... Train Loss: 0.852511... Val Loss: 0.780588... Train Acc: 68.08%... Val Acc: 76.28%\n",
            "Epoch: 2/30... Train Loss: 0.744016... Val Loss: 0.738286... Train Acc: 80.17%... Val Acc: 80.84%\n",
            "Epoch: 3/30... Train Loss: 0.719430... Val Loss: 0.722807... Train Acc: 82.69%... Val Acc: 82.38%\n",
            "Epoch: 4/30... Train Loss: 0.705926... Val Loss: 0.717837... Train Acc: 84.12%... Val Acc: 82.82%\n",
            "Epoch: 5/30... Train Loss: 0.698920... Val Loss: 0.713583... Train Acc: 84.83%... Val Acc: 83.25%\n",
            "Epoch: 6/30... Train Loss: 0.692029... Val Loss: 0.713535... Train Acc: 85.57%... Val Acc: 83.35%\n",
            "Epoch: 7/30... Train Loss: 0.688970... Val Loss: 0.708140... Train Acc: 85.88%... Val Acc: 83.92%\n",
            "Epoch: 8/30... Train Loss: 0.685146... Val Loss: 0.705538... Train Acc: 86.29%... Val Acc: 84.17%\n",
            "Epoch: 9/30... Train Loss: 0.682102... Val Loss: 0.705522... Train Acc: 86.62%... Val Acc: 84.18%\n",
            "Epoch: 10/30... Train Loss: 0.680143... Val Loss: 0.704596... Train Acc: 86.74%... Val Acc: 84.24%\n",
            "Epoch: 11/30... Train Loss: 0.678390... Val Loss: 0.704060... Train Acc: 86.96%... Val Acc: 84.38%\n",
            "Epoch: 12/30... Train Loss: 0.676111... Val Loss: 0.703822... Train Acc: 87.20%... Val Acc: 84.26%\n",
            "Epoch: 13/30... Train Loss: 0.674049... Val Loss: 0.700471... Train Acc: 87.41%... Val Acc: 84.66%\n",
            "Epoch: 14/30... Train Loss: 0.672616... Val Loss: 0.701561... Train Acc: 87.59%... Val Acc: 84.50%\n",
            "Epoch: 15/30... Train Loss: 0.670101... Val Loss: 0.697627... Train Acc: 87.79%... Val Acc: 84.96%\n",
            "Epoch: 16/30... Train Loss: 0.668608... Val Loss: 0.706783... Train Acc: 87.98%... Val Acc: 83.98%\n",
            "Epoch: 17/30... Train Loss: 0.668655... Val Loss: 0.700226... Train Acc: 87.96%... Val Acc: 84.73%\n",
            "Epoch: 18/30... Train Loss: 0.668508... Val Loss: 0.696449... Train Acc: 87.99%... Val Acc: 85.12%\n",
            "Epoch: 19/30... Train Loss: 0.667370... Val Loss: 0.698103... Train Acc: 88.08%... Val Acc: 84.99%\n",
            "Epoch: 20/30... Train Loss: 0.666444... Val Loss: 0.697009... Train Acc: 88.19%... Val Acc: 85.06%\n",
            "Epoch: 21/30... Train Loss: 0.665796... Val Loss: 0.693780... Train Acc: 88.26%... Val Acc: 85.38%\n",
            "Epoch: 22/30... Train Loss: 0.664375... Val Loss: 0.695181... Train Acc: 88.39%... Val Acc: 85.23%\n",
            "Epoch: 23/30... Train Loss: 0.662849... Val Loss: 0.696262... Train Acc: 88.59%... Val Acc: 85.17%\n",
            "Epoch: 24/30... Train Loss: 0.662400... Val Loss: 0.695164... Train Acc: 88.61%... Val Acc: 85.25%\n",
            "Epoch: 25/30... Train Loss: 0.662316... Val Loss: 0.695935... Train Acc: 88.64%... Val Acc: 85.15%\n",
            "Epoch: 26/30... Train Loss: 0.661354... Val Loss: 0.695009... Train Acc: 88.73%... Val Acc: 85.30%\n",
            "Epoch: 27/30... Train Loss: 0.661251... Val Loss: 0.691563... Train Acc: 88.71%... Val Acc: 85.64%\n",
            "Epoch: 28/30... Train Loss: 0.658927... Val Loss: 0.692052... Train Acc: 88.93%... Val Acc: 85.57%\n",
            "Epoch: 29/30... Train Loss: 0.658866... Val Loss: 0.693662... Train Acc: 88.95%... Val Acc: 85.40%\n",
            "Epoch: 30/30... Train Loss: 0.658727... Val Loss: 0.692930... Train Acc: 88.97%... Val Acc: 85.45%\n"
          ]
        }
      ]
    },
    {
      "cell_type": "code",
      "source": [
        "fig = plt.figure(figsize=(10, 6))\n",
        "\n",
        "plt.subplot(1, 2, 1)\n",
        "plt.plot(epoch_tr_acc, label='Train Acc')\n",
        "plt.plot(epoch_vl_acc, label='Validation Acc')\n",
        "plt.title(\"Accuracy\")\n",
        "plt.legend()\n",
        "plt.grid()\n",
        "\n",
        "plt.subplot(1, 2, 2)\n",
        "plt.plot(epoch_tr_loss, label='Train loss')\n",
        "plt.plot(epoch_vl_loss, label='Validation loss')\n",
        "plt.title(\"Loss\")\n",
        "plt.legend()\n",
        "plt.grid()\n",
        "\n",
        "plt.show()"
      ],
      "metadata": {
        "id": "4j_yE6F6XTjq",
        "colab": {
          "base_uri": "https://localhost:8080/",
          "height": 536
        },
        "outputId": "f4d7f83c-b6d9-453b-f280-6d1fb9dfdf14"
      },
      "execution_count": 130,
      "outputs": [
        {
          "output_type": "display_data",
          "data": {
            "text/plain": [
              "<Figure size 1000x600 with 2 Axes>"
            ],
            "image/png": "[encoded data removed]"
          },
          "metadata": {}
        }
      ]
    },
    {
      "cell_type": "code",
      "source": [
        "# model.load_state_dict(torch.load('weights/biLSTM/weight_20.pth'))"
      ],
      "metadata": {
        "id": "OpXyHCkO-HRy"
      },
      "execution_count": 131,
      "outputs": []
    },
    {
      "cell_type": "code",
      "source": [
        "calculate_accuracy(model, test_loader, device)"
      ],
      "metadata": {
        "colab": {
          "base_uri": "https://localhost:8080/"
        },
        "id": "DLHfeezr9aos",
        "outputId": "40eb47c7-ca74-4c2b-a1a0-547a38850759"
      },
      "execution_count": 132,
      "outputs": [
        {
          "output_type": "execute_result",
          "data": {
            "text/plain": [
              "75.3440366972477"
            ]
          },
          "metadata": {},
          "execution_count": 132
        }
      ]
    },
    {
      "cell_type": "code",
      "source": [
        "def predict_text(text):\n",
        "        text = preprocess_text(text)\n",
        "        r = [[vocab_to_int[word] for word in text.split() if word in vocab_to_int]]\n",
        "        pad = Padding(r,30)\n",
        "        inputs = torch.tensor(pad).to(device)\n",
        "        batch_size = 1\n",
        "        h = model.init_hidden(batch_size)\n",
        "        h = tuple([each.data for each in h])\n",
        "        output, h = model(inputs, h)\n",
        "        return torch.argmax(output, dim=1).item()\n",
        "\n",
        "predict_text(\"i love you\")"
      ],
      "metadata": {
        "colab": {
          "base_uri": "https://localhost:8080/"
        },
        "id": "ApIDUbo19al1",
        "outputId": "8d35445b-9c77-4f03-8866-ee612fa6482a"
      },
      "execution_count": 133,
      "outputs": [
        {
          "output_type": "execute_result",
          "data": {
            "text/plain": [
              "1"
            ]
          },
          "metadata": {},
          "execution_count": 133
        }
      ]
    },
    {
      "cell_type": "markdown",
      "source": [
        "### Bidirectional LSTM + Attension"
      ],
      "metadata": {
        "id": "oGWIYL1-6Dkr"
      }
    },
    {
      "cell_type": "code",
      "source": [
        "class AttentionLayer(nn.Module):\n",
        "    def __init__(self, hidden_dim):\n",
        "        super(AttentionLayer, self).__init__()\n",
        "        self.attention_weights = nn.Parameter(torch.randn(hidden_dim))\n",
        "\n",
        "    def forward(self, lstm_out):\n",
        "        attention_scores = torch.matmul(lstm_out, self.attention_weights)\n",
        "        attention_weights = torch.softmax(attention_scores, dim=1)\n",
        "        weighted_sum = torch.sum(attention_weights.unsqueeze(2) * lstm_out, dim=1)\n",
        "        return weighted_sum"
      ],
      "metadata": {
        "id": "RpnXD1PjfyUN"
      },
      "execution_count": 145,
      "outputs": []
    },
    {
      "cell_type": "code",
      "source": [
        "class SentimentLSTM(nn.Module):\n",
        "    def __init__(self, vocab_size, output_size, embedding_dim, hidden_dim, n_layers, drop_prob=0.2):\n",
        "        super(SentimentLSTM, self).__init__()\n",
        "        self.output_size = output_size\n",
        "        self.n_layers = n_layers\n",
        "        self.hidden_dim = hidden_dim\n",
        "\n",
        "        self.embedding = nn.Embedding(vocab_size, embedding_dim)\n",
        "        self.lstm = nn.LSTM(embedding_dim, hidden_dim, n_layers,dropout=drop_prob, batch_first=True, bidirectional=True)\n",
        "\n",
        "        self.attention = AttentionLayer(hidden_dim * 2)\n",
        "\n",
        "        self.dropout = nn.Dropout(0.1)\n",
        "        self.fc = nn.Linear(hidden_dim * 2, output_size)\n",
        "        self.softmax = nn.Softmax(dim=1)\n",
        "\n",
        "    def forward(self, x, hidden):\n",
        "        batch_size = x.size(0)\n",
        "        x = x.long()\n",
        "\n",
        "        embeds = self.embedding(x)\n",
        "        lstm_out, hidden = self.lstm(embeds, hidden)\n",
        "        lstm_out = self.attention(lstm_out)\n",
        "        lstm_out = lstm_out.contiguous().view(-1, self.hidden_dim * 2)\n",
        "\n",
        "        out = self.dropout(lstm_out)\n",
        "        out = self.fc(out)\n",
        "\n",
        "        soft_out = self.softmax(out)\n",
        "\n",
        "        soft_out = soft_out.view(batch_size, -1, self.output_size)\n",
        "        soft_out = soft_out[:, -1]\n",
        "\n",
        "        return soft_out, hidden\n",
        "\n",
        "    def init_hidden(self, batch_size):\n",
        "        weight = next(self.parameters()).data\n",
        "        hidden = (weight.new(self.n_layers * 2, batch_size, self.hidden_dim).zero_(),\n",
        "                  weight.new(self.n_layers * 2, batch_size, self.hidden_dim).zero_())\n",
        "        return hidden"
      ],
      "metadata": {
        "id": "hweDCIjhfD-7"
      },
      "execution_count": 146,
      "outputs": []
    },
    {
      "cell_type": "code",
      "source": [
        "# Hyperparameters\n",
        "vocab_size = len(vocab_to_int) + 1\n",
        "output_size = 3\n",
        "embedding_dim = 64\n",
        "hidden_dim = 128\n",
        "n_layers = 2\n",
        "model = SentimentLSTM(vocab_size, output_size, embedding_dim, hidden_dim, n_layers, drop_prob=0.5)\n",
        "print(model)"
      ],
      "metadata": {
        "colab": {
          "base_uri": "https://localhost:8080/"
        },
        "id": "95LJUFqffD78",
        "outputId": "a25418d6-f726-4fb6-825b-2249fece2409"
      },
      "execution_count": 147,
      "outputs": [
        {
          "output_type": "stream",
          "name": "stdout",
          "text": [
            "SentimentLSTM(\n",
            "  (embedding): Embedding(2001, 64)\n",
            "  (lstm): LSTM(64, 128, num_layers=2, batch_first=True, dropout=0.5, bidirectional=True)\n",
            "  (attention): AttentionLayer()\n",
            "  (dropout): Dropout(p=0.1, inplace=False)\n",
            "  (fc): Linear(in_features=256, out_features=3, bias=True)\n",
            "  (softmax): Softmax(dim=1)\n",
            ")\n"
          ]
        }
      ]
    },
    {
      "cell_type": "code",
      "source": [
        "set_seed(42)\n",
        "model.to(device)\n",
        "\n",
        "epoch_tr_loss, epoch_vl_loss = [], []\n",
        "epoch_tr_acc, epoch_vl_acc = [], []\n",
        "\n",
        "# Hyperparameters\n",
        "epochs = 30\n",
        "lr = 0.001\n",
        "clip = 5\n",
        "\n",
        "criterion = nn.CrossEntropyLoss()\n",
        "optimizer = optim.Adam(model.parameters(), lr=lr, weight_decay=1e-4)\n",
        "\n",
        "# Training loop\n",
        "for epoch in range(epochs):\n",
        "    train_losses = []\n",
        "    train_accs = []\n",
        "    model.train()\n",
        "\n",
        "    for inputs, labels in train_loader:\n",
        "        inputs, labels = inputs.to(device), labels.to(device)\n",
        "\n",
        "        # Khởi tạo trạng thái ẩn\n",
        "        h = model.init_hidden(inputs.size(0))\n",
        "        h = tuple([each.data for each in h])\n",
        "        model.zero_grad()\n",
        "\n",
        "        output, h = model(inputs, h)\n",
        "        loss = criterion(output, labels)\n",
        "        loss.backward()\n",
        "        nn.utils.clip_grad_norm_(model.parameters(), clip)\n",
        "        optimizer.step()\n",
        "\n",
        "        train_losses.append(loss.item())\n",
        "        train_accs.append(accuracy(output, labels).item())\n",
        "\n",
        "    val_losses = []\n",
        "    val_accs = []\n",
        "    model.eval()\n",
        "    with torch.no_grad():\n",
        "        for inputs, labels in valid_loader:\n",
        "            inputs, labels = inputs.to(device), labels.to(device)\n",
        "\n",
        "            # Khởi tạo trạng thái ẩn\n",
        "            val_h = model.init_hidden(inputs.size(0))\n",
        "            val_h = tuple([each.data for each in val_h])\n",
        "            output, val_h = model(inputs, val_h)\n",
        "            val_loss = criterion(output, labels)\n",
        "\n",
        "            val_losses.append(val_loss.item())\n",
        "            val_accs.append(accuracy(output, labels).item())\n",
        "\n",
        "    epoch_train_loss = np.mean(train_losses)\n",
        "    epoch_val_loss = np.mean(val_losses)\n",
        "    epoch_train_acc = np.mean(train_accs)\n",
        "    epoch_val_acc = np.mean(val_accs)\n",
        "\n",
        "    epoch_tr_loss.append(epoch_train_loss)\n",
        "    epoch_vl_loss.append(epoch_val_loss)\n",
        "    epoch_tr_acc.append(epoch_train_acc)\n",
        "    epoch_vl_acc.append(epoch_val_acc)\n",
        "\n",
        "    # Print training/validation statistics\n",
        "    print(f\"Epoch: {epoch+1}/{epochs}... \"\n",
        "          f\"Train Loss: {epoch_train_loss:.6f}... \"\n",
        "          f\"Val Loss: {epoch_val_loss:.6f}... \"\n",
        "          f\"Train Acc: {epoch_train_acc * 100:.2f}%... \"\n",
        "          f\"Val Acc: {epoch_val_acc * 100:.2f}%\")\n",
        "\n",
        "    torch.save(model.state_dict(), f\"weights/biLSTM_Attension/weight_{epoch}.pth\")\n"
      ],
      "metadata": {
        "colab": {
          "base_uri": "https://localhost:8080/"
        },
        "id": "_tNoDCKPfD3b",
        "outputId": "1e9a26dd-d967-4f3b-82e1-83117bad69ce"
      },
      "execution_count": 148,
      "outputs": [
        {
          "output_type": "stream",
          "name": "stdout",
          "text": [
            "Epoch: 1/30... Train Loss: 0.905814... Val Loss: 0.801634... Train Acc: 61.38%... Val Acc: 74.29%\n",
            "Epoch: 2/30... Train Loss: 0.764223... Val Loss: 0.740723... Train Acc: 77.84%... Val Acc: 80.43%\n",
            "Epoch: 3/30... Train Loss: 0.732081... Val Loss: 0.787066... Train Acc: 81.35%... Val Acc: 76.45%\n",
            "Epoch: 4/30... Train Loss: 0.723806... Val Loss: 0.722375... Train Acc: 82.23%... Val Acc: 82.38%\n",
            "Epoch: 5/30... Train Loss: 0.715998... Val Loss: 0.725156... Train Acc: 82.95%... Val Acc: 82.13%\n",
            "Epoch: 6/30... Train Loss: 0.712640... Val Loss: 0.716950... Train Acc: 83.39%... Val Acc: 82.94%\n",
            "Epoch: 7/30... Train Loss: 0.709589... Val Loss: 0.716548... Train Acc: 83.65%... Val Acc: 83.14%\n",
            "Epoch: 8/30... Train Loss: 0.707307... Val Loss: 0.718322... Train Acc: 83.89%... Val Acc: 82.79%\n",
            "Epoch: 9/30... Train Loss: 0.707397... Val Loss: 0.726979... Train Acc: 83.91%... Val Acc: 81.18%\n",
            "Epoch: 10/30... Train Loss: 0.704073... Val Loss: 0.718287... Train Acc: 84.30%... Val Acc: 82.91%\n",
            "Epoch: 11/30... Train Loss: 0.704828... Val Loss: 0.716210... Train Acc: 84.29%... Val Acc: 83.09%\n",
            "Epoch: 12/30... Train Loss: 0.700192... Val Loss: 0.718415... Train Acc: 84.66%... Val Acc: 82.89%\n",
            "Epoch: 13/30... Train Loss: 0.699898... Val Loss: 0.714363... Train Acc: 84.67%... Val Acc: 83.31%\n",
            "Epoch: 14/30... Train Loss: 0.699696... Val Loss: 0.718325... Train Acc: 84.77%... Val Acc: 83.26%\n",
            "Epoch: 15/30... Train Loss: 0.698814... Val Loss: 0.727590... Train Acc: 84.87%... Val Acc: 81.90%\n",
            "Epoch: 16/30... Train Loss: 0.699148... Val Loss: 0.717637... Train Acc: 84.86%... Val Acc: 82.97%\n",
            "Epoch: 17/30... Train Loss: 0.697101... Val Loss: 0.715255... Train Acc: 85.01%... Val Acc: 83.51%\n",
            "Epoch: 18/30... Train Loss: 0.696231... Val Loss: 0.715447... Train Acc: 85.14%... Val Acc: 82.50%\n",
            "Epoch: 19/30... Train Loss: 0.696162... Val Loss: 0.712522... Train Acc: 85.15%... Val Acc: 83.55%\n",
            "Epoch: 20/30... Train Loss: 0.692281... Val Loss: 0.709639... Train Acc: 85.55%... Val Acc: 83.85%\n",
            "Epoch: 21/30... Train Loss: 0.706922... Val Loss: 0.728920... Train Acc: 84.29%... Val Acc: 82.20%\n",
            "Epoch: 22/30... Train Loss: 0.707464... Val Loss: 0.713085... Train Acc: 84.01%... Val Acc: 83.62%\n",
            "Epoch: 23/30... Train Loss: 0.694696... Val Loss: 0.711652... Train Acc: 85.27%... Val Acc: 83.67%\n",
            "Epoch: 24/30... Train Loss: 0.692035... Val Loss: 0.709916... Train Acc: 85.47%... Val Acc: 83.79%\n",
            "Epoch: 25/30... Train Loss: 0.692690... Val Loss: 0.709176... Train Acc: 85.53%... Val Acc: 83.85%\n",
            "Epoch: 26/30... Train Loss: 0.695897... Val Loss: 0.712816... Train Acc: 85.24%... Val Acc: 83.55%\n",
            "Epoch: 27/30... Train Loss: 0.695976... Val Loss: 0.717277... Train Acc: 85.31%... Val Acc: 82.95%\n",
            "Epoch: 28/30... Train Loss: 0.691945... Val Loss: 0.716317... Train Acc: 85.56%... Val Acc: 83.11%\n",
            "Epoch: 29/30... Train Loss: 0.688765... Val Loss: 0.712410... Train Acc: 85.91%... Val Acc: 83.53%\n",
            "Epoch: 30/30... Train Loss: 0.685406... Val Loss: 0.709234... Train Acc: 86.27%... Val Acc: 83.74%\n"
          ]
        }
      ]
    },
    {
      "cell_type": "code",
      "source": [
        "fig = plt.figure(figsize=(10, 6))\n",
        "\n",
        "plt.subplot(1, 2, 1)\n",
        "plt.plot(epoch_tr_acc, label='Train Acc')\n",
        "plt.plot(epoch_vl_acc, label='Validation Acc')\n",
        "plt.title(\"Accuracy\")\n",
        "plt.legend()\n",
        "plt.grid()\n",
        "\n",
        "plt.subplot(1, 2, 2)\n",
        "plt.plot(epoch_tr_loss, label='Train loss')\n",
        "plt.plot(epoch_vl_loss, label='Validation loss')\n",
        "plt.title(\"Loss\")\n",
        "plt.legend()\n",
        "plt.grid()\n",
        "\n",
        "plt.show()"
      ],
      "metadata": {
        "id": "89l6PeFEfDyl",
        "colab": {
          "base_uri": "https://localhost:8080/",
          "height": 536
        },
        "outputId": "ac24b125-c37e-4c06-dc3d-b8a059a64eb3"
      },
      "execution_count": 150,
      "outputs": [
        {
          "output_type": "display_data",
          "data": {
            "text/plain": [
              "<Figure size 1000x600 with 2 Axes>"
            ],
            "image/png": "[encoded data removed]"
          },
          "metadata": {}
        }
      ]
    },
    {
      "cell_type": "code",
      "source": [
        "# model.load_state_dict(torch.load('weights/biLSTM_Attension/weight_{epoch}.pth'))"
      ],
      "metadata": {
        "id": "xqB7A-FF-cKs"
      },
      "execution_count": 151,
      "outputs": []
    },
    {
      "cell_type": "code",
      "source": [
        "calculate_accuracy(model, test_loader, device)"
      ],
      "metadata": {
        "colab": {
          "base_uri": "https://localhost:8080/"
        },
        "id": "YHKcX4HW-cFf",
        "outputId": "e6d8bf09-fd49-4568-b994-575a961a9ef2"
      },
      "execution_count": 152,
      "outputs": [
        {
          "output_type": "execute_result",
          "data": {
            "text/plain": [
              "75.0"
            ]
          },
          "metadata": {},
          "execution_count": 152
        }
      ]
    },
    {
      "cell_type": "code",
      "source": [
        "def predict_text(text):\n",
        "        text = preprocess_text(text)\n",
        "        r = [[vocab_to_int[word] for word in text.split() if word in vocab_to_int]]\n",
        "        pad = Padding(r,30)\n",
        "        inputs = torch.tensor(pad).to(device)\n",
        "        batch_size = 1\n",
        "        h = model.init_hidden(batch_size)\n",
        "        h = tuple([each.data for each in h])\n",
        "        output, h = model(inputs, h)\n",
        "        return torch.argmax(output, dim=1).item()\n",
        "\n",
        "predict_text(\"i love you\")"
      ],
      "metadata": {
        "colab": {
          "base_uri": "https://localhost:8080/"
        },
        "id": "bWM1cPZchA0N",
        "outputId": "51d38f42-e7ce-4a9a-974f-e3554f20aace"
      },
      "execution_count": 153,
      "outputs": [
        {
          "output_type": "execute_result",
          "data": {
            "text/plain": [
              "1"
            ]
          },
          "metadata": {},
          "execution_count": 153
        }
      ]
    },
    {
      "cell_type": "markdown",
      "source": [
        "### Bidirectional LSTM + Attension + Pre-trained Embedding"
      ],
      "metadata": {
        "id": "JNLcL4yb6VZ8"
      }
    },
    {
      "cell_type": "code",
      "source": [
        "class AttentionLayer(nn.Module):\n",
        "    def __init__(self, hidden_dim):\n",
        "        super(AttentionLayer, self).__init__()\n",
        "        self.attention_weights = nn.Parameter(torch.randn(hidden_dim))\n",
        "\n",
        "    def forward(self, lstm_out):\n",
        "        attention_scores = torch.matmul(lstm_out, self.attention_weights)\n",
        "        attention_weights = torch.softmax(attention_scores, dim=1)\n",
        "        weighted_sum = torch.sum(attention_weights.unsqueeze(2) * lstm_out, dim=1)\n",
        "        return weighted_sum"
      ],
      "metadata": {
        "id": "jrRX8ECUfDmj"
      },
      "execution_count": 154,
      "outputs": []
    },
    {
      "cell_type": "code",
      "source": [
        "class SentimentLSTM(nn.Module):\n",
        "    def __init__(self, vocab_size, output_size, embedding_dim, hidden_dim, n_layers, drop_prob=0.2):\n",
        "        super(SentimentLSTM, self).__init__()\n",
        "        self.output_size = output_size\n",
        "        self.n_layers = n_layers\n",
        "        self.hidden_dim = hidden_dim\n",
        "\n",
        "        self.embedding = nn.Embedding(vocab_size, embedding_dim)\n",
        "        self.lstm = nn.LSTM(embedding_dim, hidden_dim, n_layers,dropout=drop_prob, batch_first=True, bidirectional=True)\n",
        "\n",
        "        self.attention = AttentionLayer(hidden_dim * 2)\n",
        "\n",
        "        self.dropout = nn.Dropout(0.1)\n",
        "        self.fc = nn.Linear(hidden_dim * 2, output_size)\n",
        "        self.softmax = nn.Softmax(dim=1)\n",
        "\n",
        "    def forward(self, x, hidden):\n",
        "        batch_size = x.size(0)\n",
        "        x = x.long()\n",
        "\n",
        "        embeds = self.embedding(x)\n",
        "        lstm_out, hidden = self.lstm(embeds, hidden)\n",
        "        lstm_out = self.attention(lstm_out)\n",
        "        lstm_out = lstm_out.contiguous().view(-1, self.hidden_dim * 2)\n",
        "\n",
        "        out = self.dropout(lstm_out)\n",
        "        out = self.fc(out)\n",
        "\n",
        "        soft_out = self.softmax(out)\n",
        "\n",
        "        soft_out = soft_out.view(batch_size, -1, self.output_size)\n",
        "        soft_out = soft_out[:, -1]\n",
        "\n",
        "        return soft_out, hidden\n",
        "\n",
        "    def init_hidden(self, batch_size):\n",
        "        weight = next(self.parameters()).data\n",
        "        hidden = (weight.new(self.n_layers * 2, batch_size, self.hidden_dim).zero_(),\n",
        "                  weight.new(self.n_layers * 2, batch_size, self.hidden_dim).zero_())\n",
        "        return hidden"
      ],
      "metadata": {
        "id": "NJXBUsQKfDjE"
      },
      "execution_count": 155,
      "outputs": []
    },
    {
      "cell_type": "code",
      "source": [
        "# Hyperparameters\n",
        "vocab_size = len(vocab_to_int) + 1\n",
        "output_size = 3\n",
        "embedding_dim = 300\n",
        "hidden_dim = 128\n",
        "n_layers = 2\n",
        "model = SentimentLSTM(vocab_size, output_size, embedding_dim, hidden_dim, n_layers, drop_prob=0.5)\n",
        "model.embedding = nn.Embedding.from_pretrained(embedding_matrix, freeze=True)  # freeze=True để giữ nguyên trọng số\n",
        "print(model)"
      ],
      "metadata": {
        "colab": {
          "base_uri": "https://localhost:8080/"
        },
        "id": "E7TcFS1PT3-M",
        "outputId": "d87f1b60-114e-441e-a184-c93b3c489968"
      },
      "execution_count": 156,
      "outputs": [
        {
          "output_type": "stream",
          "name": "stdout",
          "text": [
            "SentimentLSTM(\n",
            "  (embedding): Embedding(2001, 300)\n",
            "  (lstm): LSTM(300, 128, num_layers=2, batch_first=True, dropout=0.5, bidirectional=True)\n",
            "  (attention): AttentionLayer()\n",
            "  (dropout): Dropout(p=0.1, inplace=False)\n",
            "  (fc): Linear(in_features=256, out_features=3, bias=True)\n",
            "  (softmax): Softmax(dim=1)\n",
            ")\n"
          ]
        }
      ]
    },
    {
      "cell_type": "code",
      "source": [
        "set_seed(42)\n",
        "model.to(device)\n",
        "\n",
        "epoch_tr_loss, epoch_vl_loss = [], []\n",
        "epoch_tr_acc, epoch_vl_acc = [], []\n",
        "\n",
        "# Hyperparameters\n",
        "epochs = 50\n",
        "lr = 0.001\n",
        "clip = 5\n",
        "\n",
        "criterion = nn.CrossEntropyLoss()\n",
        "optimizer = optim.Adam(model.parameters(), lr=lr)\n",
        "\n",
        "# Training loop\n",
        "for epoch in range(epochs):\n",
        "    train_losses = []\n",
        "    train_accs = []\n",
        "    model.train()\n",
        "\n",
        "    for inputs, labels in train_loader:\n",
        "        inputs, labels = inputs.to(device), labels.to(device)\n",
        "\n",
        "        # Khởi tạo trạng thái ẩn\n",
        "        h = model.init_hidden(inputs.size(0))\n",
        "        h = tuple([each.data for each in h])\n",
        "        model.zero_grad()\n",
        "\n",
        "        output, h = model(inputs, h)\n",
        "        loss = criterion(output, labels)\n",
        "        loss.backward()\n",
        "        nn.utils.clip_grad_norm_(model.parameters(), clip)\n",
        "        optimizer.step()\n",
        "\n",
        "        train_losses.append(loss.item())\n",
        "        train_accs.append(accuracy(output, labels).item())\n",
        "\n",
        "    val_losses = []\n",
        "    val_accs = []\n",
        "    model.eval()\n",
        "    with torch.no_grad():\n",
        "        for inputs, labels in valid_loader:\n",
        "            inputs, labels = inputs.to(device), labels.to(device)\n",
        "\n",
        "            # Khởi tạo trạng thái ẩn\n",
        "            val_h = model.init_hidden(inputs.size(0))\n",
        "            val_h = tuple([each.data for each in val_h])\n",
        "            output, val_h = model(inputs, val_h)\n",
        "            val_loss = criterion(output, labels)\n",
        "\n",
        "            val_losses.append(val_loss.item())\n",
        "            val_accs.append(accuracy(output, labels).item())\n",
        "\n",
        "    epoch_train_loss = np.mean(train_losses)\n",
        "    epoch_val_loss = np.mean(val_losses)\n",
        "    epoch_train_acc = np.mean(train_accs)\n",
        "    epoch_val_acc = np.mean(val_accs)\n",
        "\n",
        "    epoch_tr_loss.append(epoch_train_loss)\n",
        "    epoch_vl_loss.append(epoch_val_loss)\n",
        "    epoch_tr_acc.append(epoch_train_acc)\n",
        "    epoch_vl_acc.append(epoch_val_acc)\n",
        "\n",
        "    # Print training/validation statistics\n",
        "    print(f\"Epoch: {epoch+1}/{epochs}... \"\n",
        "          f\"Train Loss: {epoch_train_loss:.6f}... \"\n",
        "          f\"Val Loss: {epoch_val_loss:.6f}... \"\n",
        "          f\"Train Acc: {epoch_train_acc * 100:.2f}%... \"\n",
        "          f\"Val Acc: {epoch_val_acc * 100:.2f}%\")\n",
        "\n",
        "    torch.save(model.state_dict(), f\"weights/biLSTM_Attension_Pre-trained/weight_{epoch}.pth\")\n"
      ],
      "metadata": {
        "colab": {
          "base_uri": "https://localhost:8080/"
        },
        "id": "ynBZw5LcT7TC",
        "outputId": "85342a26-90f4-46f6-a51a-1cc31192253c"
      },
      "execution_count": 157,
      "outputs": [
        {
          "output_type": "stream",
          "name": "stdout",
          "text": [
            "Epoch: 1/50... Train Loss: 0.882454... Val Loss: 0.831032... Train Acc: 64.85%... Val Acc: 70.31%\n",
            "Epoch: 2/50... Train Loss: 0.835780... Val Loss: 0.846170... Train Acc: 69.95%... Val Acc: 70.35%\n",
            "Epoch: 3/50... Train Loss: 0.812670... Val Loss: 0.801919... Train Acc: 72.15%... Val Acc: 73.28%\n",
            "Epoch: 4/50... Train Loss: 0.797518... Val Loss: 0.793833... Train Acc: 73.99%... Val Acc: 74.39%\n",
            "Epoch: 5/50... Train Loss: 0.787670... Val Loss: 0.794137... Train Acc: 75.07%... Val Acc: 74.13%\n",
            "Epoch: 6/50... Train Loss: 0.783838... Val Loss: 0.783905... Train Acc: 75.55%... Val Acc: 75.44%\n",
            "Epoch: 7/50... Train Loss: 0.784573... Val Loss: 0.790856... Train Acc: 75.47%... Val Acc: 75.07%\n",
            "Epoch: 8/50... Train Loss: 0.800014... Val Loss: 0.790199... Train Acc: 74.24%... Val Acc: 75.08%\n",
            "Epoch: 9/50... Train Loss: 0.776393... Val Loss: 0.776038... Train Acc: 76.51%... Val Acc: 76.41%\n",
            "Epoch: 10/50... Train Loss: 0.767191... Val Loss: 0.774508... Train Acc: 77.49%... Val Acc: 76.51%\n",
            "Epoch: 11/50... Train Loss: 0.762007... Val Loss: 0.772875... Train Acc: 78.00%... Val Acc: 76.90%\n",
            "Epoch: 12/50... Train Loss: 0.758248... Val Loss: 0.767994... Train Acc: 78.39%... Val Acc: 77.31%\n",
            "Epoch: 13/50... Train Loss: 0.754328... Val Loss: 0.764284... Train Acc: 78.86%... Val Acc: 78.09%\n",
            "Epoch: 14/50... Train Loss: 0.749370... Val Loss: 0.759458... Train Acc: 79.39%... Val Acc: 78.48%\n",
            "Epoch: 15/50... Train Loss: 0.747358... Val Loss: 0.761092... Train Acc: 79.69%... Val Acc: 78.44%\n",
            "Epoch: 16/50... Train Loss: 0.745497... Val Loss: 0.759601... Train Acc: 79.90%... Val Acc: 78.52%\n",
            "Epoch: 17/50... Train Loss: 0.742109... Val Loss: 0.755552... Train Acc: 80.26%... Val Acc: 79.06%\n",
            "Epoch: 18/50... Train Loss: 0.737190... Val Loss: 0.749949... Train Acc: 80.83%... Val Acc: 79.60%\n",
            "Epoch: 19/50... Train Loss: 0.735656... Val Loss: 0.750296... Train Acc: 81.02%... Val Acc: 79.76%\n",
            "Epoch: 20/50... Train Loss: 0.732639... Val Loss: 0.750540... Train Acc: 81.33%... Val Acc: 79.46%\n",
            "Epoch: 21/50... Train Loss: 0.731213... Val Loss: 0.745138... Train Acc: 81.45%... Val Acc: 80.01%\n",
            "Epoch: 22/50... Train Loss: 0.726551... Val Loss: 0.742589... Train Acc: 81.95%... Val Acc: 80.50%\n",
            "Epoch: 23/50... Train Loss: 0.728451... Val Loss: 0.748225... Train Acc: 81.84%... Val Acc: 79.91%\n",
            "Epoch: 24/50... Train Loss: 0.727806... Val Loss: 0.747548... Train Acc: 81.87%... Val Acc: 79.91%\n",
            "Epoch: 25/50... Train Loss: 0.722779... Val Loss: 0.738249... Train Acc: 82.36%... Val Acc: 80.85%\n",
            "Epoch: 26/50... Train Loss: 0.720315... Val Loss: 0.739428... Train Acc: 82.57%... Val Acc: 80.65%\n",
            "Epoch: 27/50... Train Loss: 0.720336... Val Loss: 0.739385... Train Acc: 82.68%... Val Acc: 80.68%\n",
            "Epoch: 28/50... Train Loss: 0.717447... Val Loss: 0.735267... Train Acc: 82.93%... Val Acc: 81.12%\n",
            "Epoch: 29/50... Train Loss: 0.716989... Val Loss: 0.736937... Train Acc: 82.98%... Val Acc: 81.09%\n",
            "Epoch: 30/50... Train Loss: 0.713466... Val Loss: 0.732716... Train Acc: 83.39%... Val Acc: 81.38%\n",
            "Epoch: 31/50... Train Loss: 0.711705... Val Loss: 0.741614... Train Acc: 83.56%... Val Acc: 80.52%\n",
            "Epoch: 32/50... Train Loss: 0.712683... Val Loss: 0.734248... Train Acc: 83.42%... Val Acc: 81.09%\n",
            "Epoch: 33/50... Train Loss: 0.713291... Val Loss: 0.732208... Train Acc: 83.35%... Val Acc: 81.50%\n",
            "Epoch: 34/50... Train Loss: 0.716737... Val Loss: 0.739169... Train Acc: 83.07%... Val Acc: 80.52%\n",
            "Epoch: 35/50... Train Loss: 0.711412... Val Loss: 0.735034... Train Acc: 83.53%... Val Acc: 81.16%\n",
            "Epoch: 36/50... Train Loss: 0.713175... Val Loss: 0.731986... Train Acc: 83.42%... Val Acc: 81.47%\n",
            "Epoch: 37/50... Train Loss: 0.710109... Val Loss: 0.729835... Train Acc: 83.66%... Val Acc: 81.73%\n",
            "Epoch: 38/50... Train Loss: 0.709379... Val Loss: 0.732445... Train Acc: 83.89%... Val Acc: 81.56%\n",
            "Epoch: 39/50... Train Loss: 0.707636... Val Loss: 0.726938... Train Acc: 83.94%... Val Acc: 82.03%\n",
            "Epoch: 40/50... Train Loss: 0.704661... Val Loss: 0.727266... Train Acc: 84.24%... Val Acc: 82.04%\n",
            "Epoch: 41/50... Train Loss: 0.704213... Val Loss: 0.734595... Train Acc: 84.40%... Val Acc: 81.10%\n",
            "Epoch: 42/50... Train Loss: 0.703684... Val Loss: 0.727835... Train Acc: 84.35%... Val Acc: 81.89%\n",
            "Epoch: 43/50... Train Loss: 0.704452... Val Loss: 0.724225... Train Acc: 84.33%... Val Acc: 82.31%\n",
            "Epoch: 44/50... Train Loss: 0.700701... Val Loss: 0.729728... Train Acc: 84.72%... Val Acc: 81.73%\n",
            "Epoch: 45/50... Train Loss: 0.702021... Val Loss: 0.727024... Train Acc: 84.54%... Val Acc: 82.01%\n",
            "Epoch: 46/50... Train Loss: 0.700114... Val Loss: 0.723954... Train Acc: 84.71%... Val Acc: 82.35%\n",
            "Epoch: 47/50... Train Loss: 0.701389... Val Loss: 0.727660... Train Acc: 84.61%... Val Acc: 81.93%\n",
            "Epoch: 48/50... Train Loss: 0.701156... Val Loss: 0.738921... Train Acc: 84.66%... Val Acc: 80.80%\n",
            "Epoch: 49/50... Train Loss: 0.696461... Val Loss: 0.720815... Train Acc: 85.11%... Val Acc: 82.64%\n",
            "Epoch: 50/50... Train Loss: 0.696224... Val Loss: 0.720570... Train Acc: 85.14%... Val Acc: 82.68%\n"
          ]
        }
      ]
    },
    {
      "cell_type": "code",
      "source": [
        "fig = plt.figure(figsize=(10, 6))\n",
        "\n",
        "plt.subplot(1, 2, 1)\n",
        "plt.plot(epoch_tr_acc, label='Train Acc')\n",
        "plt.plot(epoch_vl_acc, label='Validation Acc')\n",
        "plt.title(\"Accuracy\")\n",
        "plt.legend()\n",
        "plt.grid()\n",
        "\n",
        "plt.subplot(1, 2, 2)\n",
        "plt.plot(epoch_tr_loss, label='Train loss')\n",
        "plt.plot(epoch_vl_loss, label='Validation loss')\n",
        "plt.title(\"Loss\")\n",
        "plt.legend()\n",
        "plt.grid()\n",
        "\n",
        "plt.show()"
      ],
      "metadata": {
        "colab": {
          "base_uri": "https://localhost:8080/",
          "height": 533
        },
        "id": "jMr7JoEdUvSm",
        "outputId": "9b0b4688-2fd7-4a4c-af7f-ff4bb091c01f"
      },
      "execution_count": 158,
      "outputs": [
        {
          "output_type": "display_data",
          "data": {
            "text/plain": [
              "<Figure size 1000x600 with 2 Axes>"
            ],
            "image/png": "[encoded data removed]"
          },
          "metadata": {}
        }
      ]
    },
    {
      "cell_type": "code",
      "source": [
        "# model.load_state_dict(torch.load('weights/biLSTM_Attension_Pre-trained/weight_{epoch}.pth'))"
      ],
      "metadata": {
        "id": "4N9jtYHmVlzB"
      },
      "execution_count": null,
      "outputs": []
    },
    {
      "cell_type": "code",
      "source": [
        "calculate_accuracy(model, test_loader, device)"
      ],
      "metadata": {
        "colab": {
          "base_uri": "https://localhost:8080/"
        },
        "id": "jymg-YPx-nLk",
        "outputId": "8dff190a-e275-4d3b-a898-861962663375"
      },
      "execution_count": 159,
      "outputs": [
        {
          "output_type": "execute_result",
          "data": {
            "text/plain": [
              "70.18348623853211"
            ]
          },
          "metadata": {},
          "execution_count": 159
        }
      ]
    },
    {
      "cell_type": "code",
      "source": [
        "def predict_text(text):\n",
        "        text = preprocess_text(text)\n",
        "        r = [[vocab_to_int[word] for word in text.split() if word in vocab_to_int]]\n",
        "        pad = Padding(r,30)\n",
        "        inputs = torch.tensor(pad).to(device)\n",
        "        batch_size = 1\n",
        "        h = model.init_hidden(batch_size)\n",
        "        h = tuple([each.data for each in h])\n",
        "        output, h = model(inputs, h)\n",
        "        return torch.argmax(output, dim=1).item()\n",
        "\n",
        "predict_text(\"i love you\")"
      ],
      "metadata": {
        "colab": {
          "base_uri": "https://localhost:8080/"
        },
        "id": "0Yo5JfKm-nIC",
        "outputId": "98888486-5cfe-4e3c-9b88-eb35710d954f"
      },
      "execution_count": 160,
      "outputs": [
        {
          "output_type": "execute_result",
          "data": {
            "text/plain": [
              "1"
            ]
          },
          "metadata": {},
          "execution_count": 160
        }
      ]
    },
    {
      "cell_type": "code",
      "source": [],
      "metadata": {
        "id": "HCqI83wZBU9U"
      },
      "execution_count": null,
      "outputs": []
    }
  ]
}